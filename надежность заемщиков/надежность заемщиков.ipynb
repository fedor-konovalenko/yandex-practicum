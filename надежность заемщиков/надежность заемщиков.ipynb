{
 "cells": [
  {
   "cell_type": "markdown",
   "id": "238ad2d8",
   "metadata": {
    "deletable": false,
    "editable": false,
    "id": "c81daeeb"
   },
   "source": [
    "# Исследование надежности заемщиков\n"
   ]
  },
  {
   "cell_type": "markdown",
   "id": "fad7a5b4",
   "metadata": {
    "deletable": false,
    "id": "827c20bf"
   },
   "source": [
    "Цель работы - исследование надежности заемщиков и влияния различных социальны аспектов на вероятность невозврата кредита\n"
   ]
  },
  {
   "cell_type": "markdown",
   "id": "c156c08c",
   "metadata": {
    "deletable": false,
    "id": "744d7639"
   },
   "source": [
    "## Загрузка и анализ данных"
   ]
  },
  {
   "cell_type": "code",
   "execution_count": 1,
   "id": "5ad5dbbe",
   "metadata": {
    "deletable": false,
    "id": "7bcf75c9"
   },
   "outputs": [],
   "source": [
    "import pandas as pd\n",
    "from functools import lru_cache\n",
    "from pymystem3 import Mystem\n",
    "m = Mystem()\n",
    "import seaborn as s\n",
    "\n",
    "try:\n",
    "    data = pd.read_csv('data.csv')\n",
    "except:\n",
    "    data = pd.read_csv('https://code.s3.yandex.net/datasets/data.csv')"
   ]
  },
  {
   "cell_type": "code",
   "execution_count": 2,
   "id": "3966f442",
   "metadata": {
    "deletable": false,
    "id": "2a7cab99",
    "outputId": "1a8f3ef2-d323-4ec2-ddf7-89670b5944c4"
   },
   "outputs": [
    {
     "data": {
      "text/html": [
       "<div>\n",
       "<style scoped>\n",
       "    .dataframe tbody tr th:only-of-type {\n",
       "        vertical-align: middle;\n",
       "    }\n",
       "\n",
       "    .dataframe tbody tr th {\n",
       "        vertical-align: top;\n",
       "    }\n",
       "\n",
       "    .dataframe thead th {\n",
       "        text-align: right;\n",
       "    }\n",
       "</style>\n",
       "<table border=\"1\" class=\"dataframe\">\n",
       "  <thead>\n",
       "    <tr style=\"text-align: right;\">\n",
       "      <th></th>\n",
       "      <th>children</th>\n",
       "      <th>days_employed</th>\n",
       "      <th>dob_years</th>\n",
       "      <th>education</th>\n",
       "      <th>education_id</th>\n",
       "      <th>family_status</th>\n",
       "      <th>family_status_id</th>\n",
       "      <th>gender</th>\n",
       "      <th>income_type</th>\n",
       "      <th>debt</th>\n",
       "      <th>total_income</th>\n",
       "      <th>purpose</th>\n",
       "    </tr>\n",
       "  </thead>\n",
       "  <tbody>\n",
       "    <tr>\n",
       "      <th>0</th>\n",
       "      <td>1</td>\n",
       "      <td>-8437.673028</td>\n",
       "      <td>42</td>\n",
       "      <td>высшее</td>\n",
       "      <td>0</td>\n",
       "      <td>женат / замужем</td>\n",
       "      <td>0</td>\n",
       "      <td>F</td>\n",
       "      <td>сотрудник</td>\n",
       "      <td>0</td>\n",
       "      <td>253875.639453</td>\n",
       "      <td>покупка жилья</td>\n",
       "    </tr>\n",
       "    <tr>\n",
       "      <th>1</th>\n",
       "      <td>1</td>\n",
       "      <td>-4024.803754</td>\n",
       "      <td>36</td>\n",
       "      <td>среднее</td>\n",
       "      <td>1</td>\n",
       "      <td>женат / замужем</td>\n",
       "      <td>0</td>\n",
       "      <td>F</td>\n",
       "      <td>сотрудник</td>\n",
       "      <td>0</td>\n",
       "      <td>112080.014102</td>\n",
       "      <td>приобретение автомобиля</td>\n",
       "    </tr>\n",
       "    <tr>\n",
       "      <th>2</th>\n",
       "      <td>0</td>\n",
       "      <td>-5623.422610</td>\n",
       "      <td>33</td>\n",
       "      <td>Среднее</td>\n",
       "      <td>1</td>\n",
       "      <td>женат / замужем</td>\n",
       "      <td>0</td>\n",
       "      <td>M</td>\n",
       "      <td>сотрудник</td>\n",
       "      <td>0</td>\n",
       "      <td>145885.952297</td>\n",
       "      <td>покупка жилья</td>\n",
       "    </tr>\n",
       "    <tr>\n",
       "      <th>3</th>\n",
       "      <td>3</td>\n",
       "      <td>-4124.747207</td>\n",
       "      <td>32</td>\n",
       "      <td>среднее</td>\n",
       "      <td>1</td>\n",
       "      <td>женат / замужем</td>\n",
       "      <td>0</td>\n",
       "      <td>M</td>\n",
       "      <td>сотрудник</td>\n",
       "      <td>0</td>\n",
       "      <td>267628.550329</td>\n",
       "      <td>дополнительное образование</td>\n",
       "    </tr>\n",
       "    <tr>\n",
       "      <th>4</th>\n",
       "      <td>0</td>\n",
       "      <td>340266.072047</td>\n",
       "      <td>53</td>\n",
       "      <td>среднее</td>\n",
       "      <td>1</td>\n",
       "      <td>гражданский брак</td>\n",
       "      <td>1</td>\n",
       "      <td>F</td>\n",
       "      <td>пенсионер</td>\n",
       "      <td>0</td>\n",
       "      <td>158616.077870</td>\n",
       "      <td>сыграть свадьбу</td>\n",
       "    </tr>\n",
       "  </tbody>\n",
       "</table>\n",
       "</div>"
      ],
      "text/plain": [
       "   children  days_employed  dob_years education  education_id  \\\n",
       "0         1   -8437.673028         42    высшее             0   \n",
       "1         1   -4024.803754         36   среднее             1   \n",
       "2         0   -5623.422610         33   Среднее             1   \n",
       "3         3   -4124.747207         32   среднее             1   \n",
       "4         0  340266.072047         53   среднее             1   \n",
       "\n",
       "      family_status  family_status_id gender income_type  debt   total_income  \\\n",
       "0   женат / замужем                 0      F   сотрудник     0  253875.639453   \n",
       "1   женат / замужем                 0      F   сотрудник     0  112080.014102   \n",
       "2   женат / замужем                 0      M   сотрудник     0  145885.952297   \n",
       "3   женат / замужем                 0      M   сотрудник     0  267628.550329   \n",
       "4  гражданский брак                 1      F   пенсионер     0  158616.077870   \n",
       "\n",
       "                      purpose  \n",
       "0               покупка жилья  \n",
       "1     приобретение автомобиля  \n",
       "2               покупка жилья  \n",
       "3  дополнительное образование  \n",
       "4             сыграть свадьбу  "
      ]
     },
     "execution_count": 2,
     "metadata": {},
     "output_type": "execute_result"
    }
   ],
   "source": [
    "data.head()"
   ]
  },
  {
   "cell_type": "code",
   "execution_count": 3,
   "id": "f5bf13f1",
   "metadata": {
    "deletable": false,
    "id": "2b757bca",
    "outputId": "15376089-8dad-46c9-b520-c05248d43158"
   },
   "outputs": [
    {
     "name": "stdout",
     "output_type": "stream",
     "text": [
      "<class 'pandas.core.frame.DataFrame'>\n",
      "RangeIndex: 21525 entries, 0 to 21524\n",
      "Data columns (total 12 columns):\n",
      " #   Column            Non-Null Count  Dtype  \n",
      "---  ------            --------------  -----  \n",
      " 0   children          21525 non-null  int64  \n",
      " 1   days_employed     19351 non-null  float64\n",
      " 2   dob_years         21525 non-null  int64  \n",
      " 3   education         21525 non-null  object \n",
      " 4   education_id      21525 non-null  int64  \n",
      " 5   family_status     21525 non-null  object \n",
      " 6   family_status_id  21525 non-null  int64  \n",
      " 7   gender            21525 non-null  object \n",
      " 8   income_type       21525 non-null  object \n",
      " 9   debt              21525 non-null  int64  \n",
      " 10  total_income      19351 non-null  float64\n",
      " 11  purpose           21525 non-null  object \n",
      "dtypes: float64(2), int64(5), object(5)\n",
      "memory usage: 2.0+ MB\n"
     ]
    }
   ],
   "source": [
    "data.info()"
   ]
  },
  {
   "cell_type": "markdown",
   "id": "27f9ffc9",
   "metadata": {
    "deletable": false,
    "editable": false,
    "id": "333ec665"
   },
   "source": [
    "## Предобработка данных"
   ]
  },
  {
   "cell_type": "markdown",
   "id": "b9925d2e",
   "metadata": {
    "deletable": false,
    "editable": false,
    "id": "02d92d53"
   },
   "source": [
    "### Удаление пропусков"
   ]
  },
  {
   "cell_type": "code",
   "execution_count": 4,
   "id": "ab138b4a",
   "metadata": {
    "deletable": false,
    "id": "7f9b2309",
    "outputId": "81f4d817-781c-465c-ed15-91ce4446810d"
   },
   "outputs": [
    {
     "data": {
      "text/plain": [
       "children               0\n",
       "days_employed       2174\n",
       "dob_years              0\n",
       "education              0\n",
       "education_id           0\n",
       "family_status          0\n",
       "family_status_id       0\n",
       "gender                 0\n",
       "income_type            0\n",
       "debt                   0\n",
       "total_income        2174\n",
       "purpose                0\n",
       "dtype: int64"
      ]
     },
     "execution_count": 4,
     "metadata": {},
     "output_type": "execute_result"
    }
   ],
   "source": [
    "data.isna().sum()"
   ]
  },
  {
   "cell_type": "markdown",
   "id": "231339f8",
   "metadata": {
    "id": "db86e27b"
   },
   "source": [
    "Пропуски в столбце с данными о доходах будут заполнены медианным значением для данной категории занятости"
   ]
  },
  {
   "cell_type": "code",
   "execution_count": 5,
   "id": "90172701",
   "metadata": {
    "deletable": false,
    "id": "42006a93"
   },
   "outputs": [],
   "source": [
    "for t in data['income_type'].unique():\n",
    "    data.loc[(data['income_type'] == t) & (data['total_income'].isna()), 'total_income'] = \\\n",
    "    data.loc[(data['income_type'] == t), 'total_income'].median()"
   ]
  },
  {
   "cell_type": "markdown",
   "id": "f61d8178",
   "metadata": {
    "deletable": false,
    "editable": false,
    "id": "89da5ece"
   },
   "source": [
    "### Обработка аномальных значений"
   ]
  },
  {
   "cell_type": "markdown",
   "id": "147b012b",
   "metadata": {
    "id": "57964554"
   },
   "source": [
    "Отрицательные значения в графе с днями стажа - вероятно, опечатка, заменены на положительные"
   ]
  },
  {
   "cell_type": "code",
   "execution_count": 6,
   "id": "f57e0571",
   "metadata": {
    "deletable": false,
    "id": "f6f055bf"
   },
   "outputs": [],
   "source": [
    "data['days_employed'] = data['days_employed'].abs()"
   ]
  },
  {
   "cell_type": "code",
   "execution_count": 7,
   "id": "512db56b",
   "metadata": {
    "deletable": false,
    "id": "85a5faf6",
    "outputId": "801ef80e-522b-4668-f34e-565af7432bcf"
   },
   "outputs": [
    {
     "data": {
      "text/plain": [
       "income_type\n",
       "безработный        366413.652744\n",
       "в декрете            3296.759962\n",
       "госслужащий          2689.368353\n",
       "компаньон            1547.382223\n",
       "пенсионер          365213.306266\n",
       "предприниматель       520.848083\n",
       "сотрудник            1574.202821\n",
       "студент               578.751554\n",
       "Name: days_employed, dtype: float64"
      ]
     },
     "execution_count": 7,
     "metadata": {},
     "output_type": "execute_result"
    }
   ],
   "source": [
    "data.groupby('income_type')['days_employed'].agg('median')"
   ]
  },
  {
   "cell_type": "markdown",
   "id": "c7bf21b0",
   "metadata": {
    "id": "d8a9f147"
   },
   "source": [
    "Обработка аномалий в столбце с количеством детей"
   ]
  },
  {
   "cell_type": "code",
   "execution_count": 8,
   "id": "2e30e9a2",
   "metadata": {
    "deletable": false,
    "id": "ef5056eb",
    "outputId": "6975b15c-7f95-4697-d16d-a0c79b657b03"
   },
   "outputs": [
    {
     "data": {
      "text/plain": [
       "array([ 1,  0,  3,  2, -1,  4, 20,  5], dtype=int64)"
      ]
     },
     "execution_count": 8,
     "metadata": {},
     "output_type": "execute_result"
    }
   ],
   "source": [
    "data['children'].unique()"
   ]
  },
  {
   "cell_type": "code",
   "execution_count": 9,
   "id": "6d5f250f",
   "metadata": {
    "deletable": false,
    "id": "3ff9801d"
   },
   "outputs": [],
   "source": [
    "data = data[(data['children'] != -1) & (data['children'] != 20)]"
   ]
  },
  {
   "cell_type": "code",
   "execution_count": 10,
   "id": "9cbcec99",
   "metadata": {
    "deletable": false,
    "id": "ad4fa8b7",
    "outputId": "b2097101-d49d-44d9-901b-32a65c9463d1"
   },
   "outputs": [
    {
     "data": {
      "text/plain": [
       "array([1, 0, 3, 2, 4, 5], dtype=int64)"
      ]
     },
     "execution_count": 10,
     "metadata": {},
     "output_type": "execute_result"
    }
   ],
   "source": [
    "data['children'].unique()"
   ]
  },
  {
   "cell_type": "markdown",
   "id": "b2819187",
   "metadata": {
    "id": "f4ea573f"
   },
   "source": [
    "заполнение пропусков в столбце `days_employed` медианными значениями для каждого типа занятости `income_type`"
   ]
  },
  {
   "cell_type": "code",
   "execution_count": 11,
   "id": "08bf5809",
   "metadata": {
    "deletable": false,
    "id": "af6b1a7e"
   },
   "outputs": [],
   "source": [
    "for t in data['income_type'].unique():\n",
    "    data.loc[(data['income_type'] == t) & (data['days_employed'].isna()), 'days_employed'] = \\\n",
    "    data.loc[(data['income_type'] == t), 'days_employed'].median()"
   ]
  },
  {
   "cell_type": "markdown",
   "id": "6d7025ad",
   "metadata": {
    "id": "2753f40d"
   },
   "source": [
    "Проверка отсутствия пропусков"
   ]
  },
  {
   "cell_type": "code",
   "execution_count": 12,
   "id": "f5de70a2",
   "metadata": {
    "deletable": false,
    "id": "55f78bc2",
    "outputId": "8da1e4e1-358e-4e87-98c9-f261bce0a7b2"
   },
   "outputs": [
    {
     "data": {
      "text/plain": [
       "children            0\n",
       "days_employed       0\n",
       "dob_years           0\n",
       "education           0\n",
       "education_id        0\n",
       "family_status       0\n",
       "family_status_id    0\n",
       "gender              0\n",
       "income_type         0\n",
       "debt                0\n",
       "total_income        0\n",
       "purpose             0\n",
       "dtype: int64"
      ]
     },
     "execution_count": 12,
     "metadata": {},
     "output_type": "execute_result"
    }
   ],
   "source": [
    "data.isna().sum()"
   ]
  },
  {
   "cell_type": "markdown",
   "id": "70b6fa5e",
   "metadata": {
    "deletable": false,
    "editable": false,
    "id": "ddc81e43"
   },
   "source": [
    "### Изменение типов данных"
   ]
  },
  {
   "cell_type": "code",
   "execution_count": 13,
   "id": "6292e217",
   "metadata": {
    "deletable": false,
    "id": "920b65ad"
   },
   "outputs": [],
   "source": [
    "data['total_income'] = data['total_income'].astype(int)"
   ]
  },
  {
   "cell_type": "markdown",
   "id": "e5a971a8",
   "metadata": {
    "deletable": false,
    "editable": false,
    "id": "80c420ba"
   },
   "source": [
    "### Обработка дубликатов"
   ]
  },
  {
   "cell_type": "code",
   "execution_count": 14,
   "id": "2b86c76e",
   "metadata": {
    "id": 999999
   },
   "outputs": [],
   "source": [
    "data['education'] = data['education'].str.lower()"
   ]
  },
  {
   "cell_type": "code",
   "execution_count": 15,
   "id": "6c9f7746",
   "metadata": {
    "deletable": false,
    "id": "3ee445e4",
    "outputId": "9684deba-1934-42d1-99e1-cda61740f822"
   },
   "outputs": [
    {
     "data": {
      "text/plain": [
       "71"
      ]
     },
     "execution_count": 15,
     "metadata": {},
     "output_type": "execute_result"
    }
   ],
   "source": [
    "data.duplicated().sum()"
   ]
  },
  {
   "cell_type": "code",
   "execution_count": 16,
   "id": "9bd6fc71",
   "metadata": {
    "deletable": false,
    "id": "8575fe05"
   },
   "outputs": [],
   "source": [
    "data = data.drop_duplicates()"
   ]
  },
  {
   "cell_type": "markdown",
   "id": "22836282",
   "metadata": {
    "deletable": false,
    "editable": false,
    "id": "9904cf55"
   },
   "source": [
    "### Категоризация данных"
   ]
  },
  {
   "cell_type": "markdown",
   "id": "f1863bd6",
   "metadata": {
    "id": "72fcc8a2"
   },
   "source": [
    "На основании диапазонов, указанных ниже, создан столбец `total_income_category` с категориями дохода:\n",
    "\n",
    "- 0–30000 — `'E'`;\n",
    "- 30001–50000 — `'D'`;\n",
    "- 50001–200000 — `'C'`;\n",
    "- 200001–1000000 — `'B'`;\n",
    "- 1000001 и выше — `'A'`."
   ]
  },
  {
   "cell_type": "code",
   "execution_count": 17,
   "id": "a4ef0f2c",
   "metadata": {
    "deletable": false,
    "id": "e1771346"
   },
   "outputs": [],
   "source": [
    "def categorize_income(income):\n",
    "    try:\n",
    "        if 0 <= income <= 30000:\n",
    "            return 'E'\n",
    "        elif 30001 <= income <= 50000:\n",
    "            return 'D'\n",
    "        elif 50001 <= income <= 200000:\n",
    "            return 'C'\n",
    "        elif 200001 <= income <= 1000000:\n",
    "            return 'B'\n",
    "        elif income >= 1000001:\n",
    "            return 'A'\n",
    "    except:\n",
    "        pass"
   ]
  },
  {
   "cell_type": "code",
   "execution_count": 18,
   "id": "75513ef5",
   "metadata": {
    "deletable": false,
    "id": "d5f3586d"
   },
   "outputs": [],
   "source": [
    "data['total_income_category'] = data['total_income'].apply(categorize_income)"
   ]
  },
  {
   "cell_type": "markdown",
   "id": "1cc4db73",
   "metadata": {
    "id": "dde49b5c"
   },
   "source": [
    "Уникальные цели взятия кредита для их последующей категоризации"
   ]
  },
  {
   "cell_type": "code",
   "execution_count": 19,
   "id": "298533d1",
   "metadata": {
    "deletable": false,
    "id": "f67ce9b3",
    "outputId": "673c12d9-7d7e-4ae0-9812-c622c89dd244"
   },
   "outputs": [
    {
     "data": {
      "text/plain": [
       "array(['покупка жилья', 'приобретение автомобиля',\n",
       "       'дополнительное образование', 'сыграть свадьбу',\n",
       "       'операции с жильем', 'образование', 'на проведение свадьбы',\n",
       "       'покупка жилья для семьи', 'покупка недвижимости',\n",
       "       'покупка коммерческой недвижимости', 'покупка жилой недвижимости',\n",
       "       'строительство собственной недвижимости', 'недвижимость',\n",
       "       'строительство недвижимости', 'на покупку подержанного автомобиля',\n",
       "       'на покупку своего автомобиля',\n",
       "       'операции с коммерческой недвижимостью',\n",
       "       'строительство жилой недвижимости', 'жилье',\n",
       "       'операции со своей недвижимостью', 'автомобили',\n",
       "       'заняться образованием', 'сделка с подержанным автомобилем',\n",
       "       'получение образования', 'автомобиль', 'свадьба',\n",
       "       'получение дополнительного образования', 'покупка своего жилья',\n",
       "       'операции с недвижимостью', 'получение высшего образования',\n",
       "       'свой автомобиль', 'сделка с автомобилем',\n",
       "       'профильное образование', 'высшее образование',\n",
       "       'покупка жилья для сдачи', 'на покупку автомобиля', 'ремонт жилью',\n",
       "       'заняться высшим образованием'], dtype=object)"
      ]
     },
     "execution_count": 19,
     "metadata": {},
     "output_type": "execute_result"
    }
   ],
   "source": [
    "data['purpose'].unique()"
   ]
  },
  {
   "cell_type": "markdown",
   "id": "9a888d2b",
   "metadata": {
    "id": "85d0aef0"
   },
   "source": [
    "Функция для категоризации цели кредита"
   ]
  },
  {
   "cell_type": "code",
   "execution_count": 20,
   "id": "da1f91df",
   "metadata": {
    "deletable": false,
    "id": "e149fab4"
   },
   "outputs": [],
   "source": [
    "@lru_cache(maxsize=50000)\n",
    "def categorize_purpose(string):\n",
    "    purp = m.lemmatize(string)\n",
    "    if 'автомобиль' in purp:\n",
    "        return('операции с автомобилем')\n",
    "    elif 'недвижимость' in purp or 'жилье' in purp:\n",
    "        return('операции с недвижимостью')\n",
    "    elif 'свадьба' in purp:\n",
    "        return('проведение свадьбы')\n",
    "    elif 'образование' in purp:\n",
    "        return('получение образования')\n",
    "    else:\n",
    "        return('unknown_category')"
   ]
  },
  {
   "cell_type": "code",
   "execution_count": 21,
   "id": "2975214c",
   "metadata": {
    "deletable": false,
    "id": "bf36e69b"
   },
   "outputs": [],
   "source": [
    "data['purpose_category'] = data['purpose'].apply(categorize_purpose)"
   ]
  },
  {
   "cell_type": "markdown",
   "id": "85931308",
   "metadata": {
    "id": "09b242bf"
   },
   "source": [
    "### Исследование данных"
   ]
  },
  {
   "cell_type": "markdown",
   "id": "6601800d",
   "metadata": {
    "id": "c5d66278"
   },
   "source": [
    "#### Есть ли зависимость между количеством детей и возвратом кредита в срок?"
   ]
  },
  {
   "cell_type": "code",
   "execution_count": 22,
   "id": "cf7e1153",
   "metadata": {
    "scrolled": true
   },
   "outputs": [
    {
     "name": "stdout",
     "output_type": "stream",
     "text": [
      "           debt       default_risk children\n",
      "          count   sum                      \n",
      "children                                   \n",
      "0         14091  1063     0.075438        0\n",
      "1          4808   444     0.092346        1\n",
      "2          2052   194     0.094542        2\n",
      "3           330    27     0.081818        3\n",
      "4            41     4     0.097561        4\n",
      "5             9     0     0.000000        5\n"
     ]
    }
   ],
   "source": [
    "data_grouped_children = data.groupby('children').agg({'debt':['count', 'sum']})\n",
    "data_grouped_children['default_risk'] = data_grouped_children['debt']['sum'] / data_grouped_children['debt']['count']\n",
    "\n",
    "#это только для построения графика\n",
    "data_grouped_children['children'] = data.sort_values(by='children')['children'].unique()\n",
    "print(data_grouped_children)"
   ]
  },
  {
   "cell_type": "code",
   "execution_count": 23,
   "id": "c1001cd2",
   "metadata": {},
   "outputs": [
    {
     "data": {
      "image/png": "[encoded data removed]",
      "text/plain": [
       "<Figure size 1170x827 with 1 Axes>"
      ]
     },
     "metadata": {},
     "output_type": "display_data"
    }
   ],
   "source": [
    "s.set(rc={'figure.figsize':(11.7,8.27)})\n",
    "s.barplot(x=data_grouped_children['children'], y=data_grouped_children['default_risk'], color='red');"
   ]
  },
  {
   "cell_type": "markdown",
   "id": "af4af380",
   "metadata": {
    "id": "3a6b99ec"
   },
   "source": [
    "1. Наличие детей увеличивает риск просрочки по кредиту приблизительно на 25%.\n",
    "2. Рост количества детей не влияет на риск просрочки по кредиту: результаты для заемщиков с 4 и 5 детьми не представительны, поскольку выборка крайне мала по сравнению с общей совокупностью заемщиков. Также представляется сомнительной гипотеза о том, что после третьего ребенка заемщики становятся более ответственными: доля таких заемщиков в общей совокупности около 1%, поэтому результат может также быть обусловен аномалиями.\n",
    "\n",
    "**Вывод:** \n",
    "Наличие 1 или 2 детей должно учитываться при расчете скоринга. Большее количество детей должно приниматься во внимание, но не должно использоваться при автоматическом расчете скоринга: решение по многодетным семьям должно приниматься индивидуально."
   ]
  },
  {
   "cell_type": "markdown",
   "id": "18f39304",
   "metadata": {
    "id": "97be82ca"
   },
   "source": [
    "####  Есть ли зависимость между семейным положением и возвратом кредита в срок?"
   ]
  },
  {
   "cell_type": "code",
   "execution_count": 24,
   "id": "a8cb9ef2",
   "metadata": {},
   "outputs": [
    {
     "name": "stdout",
     "output_type": "stream",
     "text": [
      "                        debt      default_risk\n",
      "                       count  sum             \n",
      "family_status                                 \n",
      "Не женат / не замужем   2796  273     0.097639\n",
      "в разводе               1189   84     0.070648\n",
      "вдовец / вдова           951   63     0.066246\n",
      "гражданский брак        4134  385     0.093130\n",
      "женат / замужем        12261  927     0.075606\n"
     ]
    }
   ],
   "source": [
    "data_grouped_family = data.groupby('family_status').agg({'debt':['count', 'sum']})\n",
    "data_grouped_family['default_risk'] = data_grouped_family['debt']['sum'] / data_grouped_family['debt']['count']\n",
    "print(data_grouped_family)"
   ]
  },
  {
   "cell_type": "markdown",
   "id": "e4dcfb54",
   "metadata": {},
   "source": [
    "Интересно, но выводы делать пока рано. Кажется, что разделение на группы \"не женат/не замужем\" и \"гражданский брак\" не вполне корректно. Если человек свои отношения с партнером не оформил официально, то на вопрос банка с равной вероятностью может быть дан как ответ \"не женат\", так и ответ \"гражданский брак\". Поэтому, кажется, надо объединить эти 2 категории и посмотреть на зависимость еще раз."
   ]
  },
  {
   "cell_type": "code",
   "execution_count": 26,
   "id": "bade52b3",
   "metadata": {},
   "outputs": [
    {
     "name": "stdout",
     "output_type": "stream",
     "text": [
      "Количество заемщиков в статусе женат / замужем - 12261 из них должников 927 -     7.6%\n",
      "Количество заемщиков в статусе гражданский брак - 4134 из них должников 385 -     9.3%\n",
      "Количество заемщиков в статусе вдовец / вдова - 951 из них должников 63 -     6.6%\n",
      "Количество заемщиков в статусе в разводе - 1189 из них должников 84 -     7.1%\n",
      "Количество заемщиков в статусе Не женат / не замужем - 2796 из них должников 273 -     9.8%\n"
     ]
    },
    {
     "data": {
      "image/png": "[encoded data removed]",
      "text/plain": [
       "<Figure size 1170x827 with 1 Axes>"
      ]
     },
     "metadata": {},
     "output_type": "display_data"
    }
   ],
   "source": [
    "percentage_m = []\n",
    "for status in data['family_status'].unique():\n",
    "    borrowers = data.loc[data[\"family_status\"] == status][\"family_status\"].count()\n",
    "    debtors = data.loc[(data[\"debt\"] == 1) & (data[\"family_status\"] == status)][\"debt\"].sum()\n",
    "    print(f'Количество заемщиков в статусе {status} - {borrowers} из них должников {debtors} - \\\n",
    "    {(debtors / borrowers):.01%}')\n",
    "    percentage_m.append(debtors / borrowers * 100)\n",
    "\n",
    "\n",
    "status_m = ['официальные отношения', 'неофициальные отношения', 'вдовец/вдова', 'в разводе']\n",
    "percentage_m[1] = 100 * data.loc[(data[\"debt\"] == 1) & ((data[\"family_status\"] == 'гражданский брак') \\\n",
    "    | (data[\"family_status\"] == 'Не женат / не замужем'))][\"debt\"].sum() / \\\n",
    "    data.loc[(data[\"family_status\"] == 'гражданский брак') | (data[\"family_status\"] == 'Не женат / не замужем')][\"family_status\"].count()\n",
    "percentage_m.pop()\n",
    "\n",
    "s.set(rc={'figure.figsize':(11.7,8.27)})\n",
    "s.barplot(x = status_m, y = percentage_m, color='blue');"
   ]
  },
  {
   "cell_type": "markdown",
   "id": "ac6c6072",
   "metadata": {
    "deletable": false,
    "id": "1cef7837"
   },
   "source": [
    "**Вывод:** \n",
    "Что же, первоначальная гипотеза, основанная на стереотипах, что штамп в паспорте означает повышенную ответственность, подтвердилась. **Отсутствие официальных отношений (в настоящем или в прошлом) повышает риск невозврата кредита в срок.**\n",
    "Что же касается вдовцов и вдов, то стоит вспомнить, что общее их количество менее 5% от всей выборки. Поэтому для вывода \"*серьезное травмирующее переживание в прошлом повышает ответственность*\" недостаточно данных."
   ]
  },
  {
   "cell_type": "markdown",
   "id": "e319b2e2",
   "metadata": {
    "id": "1e8b2fca"
   },
   "source": [
    "#### Есть ли зависимость между уровнем дохода и возвратом кредита в срок?"
   ]
  },
  {
   "cell_type": "code",
   "execution_count": 27,
   "id": "5550d082",
   "metadata": {
    "deletable": false,
    "id": "cd7e3720"
   },
   "outputs": [
    {
     "data": {
      "text/plain": [
       "array(['B', 'C', 'D', 'E', 'A'], dtype=object)"
      ]
     },
     "execution_count": 27,
     "metadata": {},
     "output_type": "execute_result"
    }
   ],
   "source": [
    "data['total_income_category'].unique()"
   ]
  },
  {
   "cell_type": "code",
   "execution_count": 28,
   "id": "d252ec19",
   "metadata": {},
   "outputs": [
    {
     "name": "stdout",
     "output_type": "stream",
     "text": [
      "                        debt       default_risk\n",
      "                       count   sum             \n",
      "total_income_category                          \n",
      "A                         25     2     0.080000\n",
      "B                       5014   354     0.070602\n",
      "C                      15921  1353     0.084982\n",
      "D                        349    21     0.060172\n",
      "E                         22     2     0.090909\n"
     ]
    }
   ],
   "source": [
    "data_grouped_income = data.groupby('total_income_category').agg({'debt':['count', 'sum']})\n",
    "data_grouped_income['default_risk'] = data_grouped_income['debt']['sum'] / data_grouped_income['debt']['count']\n",
    "print(data_grouped_income)"
   ]
  },
  {
   "cell_type": "markdown",
   "id": "486eab59",
   "metadata": {
    "deletable": false,
    "id": "e8593def"
   },
   "source": [
    "**Вывод:** \n",
    "Неплохо так, да?\n",
    "По этим данным вообще сложно что-то сказать, кроме того, что риск невозврата кредита, независимо от уровня дохода, составляет около 7-8%. Слишком малы все категории заемщиков, кроме B и C. Однако, есть предположение, что надо рассматривать этот вопрос в комплексе с целью займа, а значит, и с размером кредита. Проверим. "
   ]
  },
  {
   "cell_type": "markdown",
   "id": "b349b75d",
   "metadata": {
    "id": "99ecbd1f"
   },
   "source": [
    "#### Как разные цели кредита влияют на его возврат в срок?"
   ]
  },
  {
   "cell_type": "code",
   "execution_count": 29,
   "id": "ef0ae9ea",
   "metadata": {},
   "outputs": [
    {
     "name": "stdout",
     "output_type": "stream",
     "text": [
      "                           debt      default_risk\n",
      "                          count  sum             \n",
      "purpose_category                                 \n",
      "операции с автомобилем     4279  400     0.093480\n",
      "операции с недвижимостью  10751  780     0.072551\n",
      "получение образования      3988  369     0.092528\n",
      "проведение свадьбы         2313  183     0.079118\n"
     ]
    }
   ],
   "source": [
    "data_grouped_purpose = data.groupby('purpose_category').agg({'debt':['count', 'sum']})\n",
    "data_grouped_purpose['default_risk'] = data_grouped_purpose['debt']['sum'] / data_grouped_purpose['debt']['count']\n",
    "print(data_grouped_purpose)"
   ]
  },
  {
   "cell_type": "markdown",
   "id": "196c90b5",
   "metadata": {},
   "source": [
    "Пока что подтверждается предположение, что **жилищные кредиты более безопасны с точки зрения возврата в срок**. Однако, попробуем разделить категории по ожидаемой величине кредита. Так, свадьбы попадут в категорию \"малые кредиты\", автомобиль и образование - \"средние\", недвижимость - \"крупные\"."
   ]
  },
  {
   "cell_type": "code",
   "execution_count": 30,
   "id": "f60ca3f0",
   "metadata": {},
   "outputs": [
    {
     "data": {
      "text/html": [
       "<div>\n",
       "<style scoped>\n",
       "    .dataframe tbody tr th:only-of-type {\n",
       "        vertical-align: middle;\n",
       "    }\n",
       "\n",
       "    .dataframe tbody tr th {\n",
       "        vertical-align: top;\n",
       "    }\n",
       "\n",
       "    .dataframe thead th {\n",
       "        text-align: right;\n",
       "    }\n",
       "</style>\n",
       "<table border=\"1\" class=\"dataframe\">\n",
       "  <thead>\n",
       "    <tr style=\"text-align: right;\">\n",
       "      <th></th>\n",
       "      <th>income_class</th>\n",
       "      <th>purpose_class</th>\n",
       "      <th>debt</th>\n",
       "      <th>relative_debt</th>\n",
       "    </tr>\n",
       "  </thead>\n",
       "  <tbody>\n",
       "    <tr>\n",
       "      <th>0</th>\n",
       "      <td>0.9</td>\n",
       "      <td>2.0</td>\n",
       "      <td>0</td>\n",
       "      <td>0.45</td>\n",
       "    </tr>\n",
       "    <tr>\n",
       "      <th>1</th>\n",
       "      <td>0.8</td>\n",
       "      <td>1.0</td>\n",
       "      <td>0</td>\n",
       "      <td>0.80</td>\n",
       "    </tr>\n",
       "    <tr>\n",
       "      <th>2</th>\n",
       "      <td>0.8</td>\n",
       "      <td>2.0</td>\n",
       "      <td>0</td>\n",
       "      <td>0.40</td>\n",
       "    </tr>\n",
       "    <tr>\n",
       "      <th>3</th>\n",
       "      <td>0.9</td>\n",
       "      <td>1.0</td>\n",
       "      <td>0</td>\n",
       "      <td>0.90</td>\n",
       "    </tr>\n",
       "    <tr>\n",
       "      <th>4</th>\n",
       "      <td>0.8</td>\n",
       "      <td>1.5</td>\n",
       "      <td>0</td>\n",
       "      <td>0.53</td>\n",
       "    </tr>\n",
       "  </tbody>\n",
       "</table>\n",
       "</div>"
      ],
      "text/plain": [
       "   income_class  purpose_class  debt  relative_debt\n",
       "0           0.9            2.0     0           0.45\n",
       "1           0.8            1.0     0           0.80\n",
       "2           0.8            2.0     0           0.40\n",
       "3           0.9            1.0     0           0.90\n",
       "4           0.8            1.5     0           0.53"
      ]
     },
     "execution_count": 30,
     "metadata": {},
     "output_type": "execute_result"
    }
   ],
   "source": [
    "def categorize_size(purpose):\n",
    "    if purpose == 'операции с недвижимостью':\n",
    "        return(2)\n",
    "    elif purpose == 'проведение свадьбы':\n",
    "        return(1.5)\n",
    "    else:\n",
    "        return(1)\n",
    "data['category_size'] = data['purpose_category'].apply(categorize_size)\n",
    "\n",
    "\n",
    "#преобразуем класс дохода в число:\n",
    "\n",
    "def income_class(income):\n",
    "    return 1 - (ord(income) - ord('A')) * .1\n",
    "\n",
    "# И соберем из размера категории, класса дохода и наличия просрочки по кредиту новый датафрейм\n",
    "\n",
    "data_1 = pd.DataFrame({\"income_class\" : data['total_income_category'].apply(income_class),\n",
    "                      \"purpose_class\" : data['category_size'],\n",
    "                      \"debt\" : data['debt']})\n",
    "\n",
    "#относительная величина кредита\n",
    "data_1['relative_debt'] = round(data_1['income_class'] / data_1['purpose_class'], 2)\n",
    "        \n",
    "data_1.head()"
   ]
  },
  {
   "cell_type": "code",
   "execution_count": 31,
   "id": "460a21f6",
   "metadata": {},
   "outputs": [
    {
     "data": {
      "image/png": "[encoded data removed]",
      "text/plain": [
       "<Figure size 1170x827 with 1 Axes>"
      ]
     },
     "metadata": {},
     "output_type": "display_data"
    }
   ],
   "source": [
    "# И визуализируем\n",
    "debts = []\n",
    "for rel in data_1['relative_debt'].unique():\n",
    "    debts.append(data_1.loc[(data_1[\"debt\"] == 1) & (data_1[\"relative_debt\"] == rel)][\"debt\"].sum())\n",
    "\n",
    "s.set(rc={'figure.figsize':(11.7,8.27)})\n",
    "s.barplot(x=data_1['relative_debt'].unique(), y=debts);"
   ]
  },
  {
   "cell_type": "markdown",
   "id": "ddbd3db4",
   "metadata": {
    "deletable": false,
    "id": "b4bb2ce6"
   },
   "source": [
    "**Вывод:** \n",
    "Видно, что наиболее часто люди допускают просрочки по кредитам следующих типов:\n",
    "- Кредит с большой относительно дохода суммой (вероятная причина - проблемы с платежеспособностью)\n",
    "- Кредит с малой относительно дохода суммой (вероятная причина - безответственное отношение)"
   ]
  },
  {
   "cell_type": "markdown",
   "id": "92ee7b85",
   "metadata": {
    "id": "09c3ac4c"
   },
   "source": [
    "#### Возможные причины появления пропусков в исходных данных."
   ]
  },
  {
   "cell_type": "markdown",
   "id": "b0eced0e",
   "metadata": {
    "deletable": false,
    "id": "9da2ceda"
   },
   "source": [
    "Безусловно, можно было бы списать пропуски на технические причины или человеческий фактор при заполнении данных. Однако, если посмотреть, что пропуски есть только в столбцах \"доход\" и \"количество дней трудового стажа\", при этом, пропусков и там, и там одинаковое количество, можно с большой долей уверенности сказать, что это люди, имеющие такой источник дохода, **подтвердить который они или не могут, или не хотят**"
   ]
  },
  {
   "cell_type": "code",
   "execution_count": 33,
   "id": "57d0b58d",
   "metadata": {},
   "outputs": [
    {
     "data": {
      "text/plain": [
       "income_type\n",
       "госслужащий         147\n",
       "компаньон           508\n",
       "пенсионер           413\n",
       "предприниматель       1\n",
       "сотрудник          1105\n",
       "Name: income_type, dtype: int64"
      ]
     },
     "execution_count": 33,
     "metadata": {},
     "output_type": "execute_result"
    }
   ],
   "source": [
    "#чтобы проверить эту гипотезу - вернемся к исходному датасету и посмотрим, у каких категорий людей пропущены стаж и доход\n",
    "data_missed = pd.read_csv('data.csv')\n",
    "data_missed = data_missed.loc[(data_missed['total_income'].isna()) & (data_missed['days_employed'].isna())]\n",
    "data_missed.groupby('income_type')['income_type'].count()"
   ]
  },
  {
   "cell_type": "markdown",
   "id": "6a639618",
   "metadata": {
    "id": "7b0487d6"
   },
   "source": [
    "#### Обоснование, почему заполнить пропуски медианным значением — лучшее решение для количественных переменных."
   ]
  },
  {
   "cell_type": "markdown",
   "id": "f5efac43",
   "metadata": {
    "deletable": false,
    "id": "7ecf2b8e"
   },
   "source": [
    "В данном случае - заполнить пропуски медианным значением не самая хорошая идея, поскольку, вероятнее всего, возникновение пропусков не случайно. То есть за пропущенными значениями мог скрываться как очень большой неофициальный доход, так и очень малый. А пропуски составляли, на минуточку, 10% от выборки, так что, на распределение заемщиков по категориям дохода это могло повлиять заметно. Другой вопрос, что **заполнение медианным значением лучшее из всех возможных, потому что остальные еще хуже.** Так, заполнение средним арифметическим исказило бы выборку, поскольку среднее арифметическое очень чувствительно к выбросам значений, а заполнить модой - означало быть раздуть категорию \"среднего класса\" до размеров почти что всей выборки."
   ]
  },
  {
   "cell_type": "markdown",
   "id": "9d8cae83",
   "metadata": {
    "id": "6db5255a"
   },
   "source": [
    "## Общий вывод."
   ]
  },
  {
   "cell_type": "markdown",
   "id": "0a9528a7",
   "metadata": {
    "deletable": false,
    "id": "bad65432"
   },
   "source": [
    "\n",
    "<b>Методика исследования</b>\n",
    "    \n",
    "В ходе исследования для оценки влияния различных жизненных обстоятельств заемщика на риск просрочки платежей по кредиту определялась доля заемщиков с просрочкой среди всех заемщиков выбранной категории.\n",
    "    \n",
    "<b>Основные результаты<b>\n",
    "\n",
    "\n",
    "1. Наличие 1-2 детей в семье повышает приблизительно на 25% риск просрочки по кредиту.\n",
    "2. К многодетным семьям нужен индивидуальный подход.\n",
    "3. Наличие официально зарегистрированных отношений снижает риск просрочки по кредиту.\n",
    "4. Уровень дохода практически не влияет на просрочки по кредиту.\n",
    "5. Кредиты на жилье люди выплачивают аккуратнее и допускают меньше просрочек.\n",
    "6. Люди допускают просрочки либо по большим, либо по малым относительно своего дохода кредитам.\n",
    "7. Заполнение пропусков медианным значением может быть не лучшей идеей, если пропуски не случайны. Как возможный вариант - исключить такие строки из датасета, рассматривать исходный и модифицированный датасет как различные, а затем сравнить.\n",
    "8. Кто я такой, чтобы делать выводы про 147 госслужащих, которые постеснялись сообщать свой доход... ;)"
   ]
  }
 ],
 "metadata": {
  "ExecuteTimeLog": [
   {
    "duration": 498,
    "start_time": "2023-01-24T17:32:44.207Z"
   },
   {
    "duration": 19,
    "start_time": "2023-01-24T17:32:47.209Z"
   },
   {
    "duration": 13,
    "start_time": "2023-01-24T17:32:53.318Z"
   },
   {
    "duration": 9,
    "start_time": "2023-01-24T17:32:57.067Z"
   },
   {
    "duration": 32,
    "start_time": "2023-01-24T17:33:04.468Z"
   },
   {
    "duration": 3,
    "start_time": "2023-01-24T17:33:07.682Z"
   },
   {
    "duration": 8,
    "start_time": "2023-01-24T17:33:22.340Z"
   },
   {
    "duration": 4,
    "start_time": "2023-01-24T17:33:27.317Z"
   },
   {
    "duration": 6,
    "start_time": "2023-01-24T17:33:36.143Z"
   },
   {
    "duration": 4,
    "start_time": "2023-01-24T17:33:37.526Z"
   },
   {
    "duration": 29,
    "start_time": "2023-01-24T17:33:47.889Z"
   },
   {
    "duration": 8,
    "start_time": "2023-01-24T17:33:48.739Z"
   },
   {
    "duration": 4,
    "start_time": "2023-01-24T17:33:53.817Z"
   },
   {
    "duration": 11,
    "start_time": "2023-01-24T17:33:55.518Z"
   },
   {
    "duration": 18,
    "start_time": "2023-01-24T17:34:06.969Z"
   },
   {
    "duration": 15,
    "start_time": "2023-01-24T17:34:07.440Z"
   },
   {
    "duration": 3,
    "start_time": "2023-01-24T17:34:11.679Z"
   },
   {
    "duration": 9,
    "start_time": "2023-01-24T17:34:12.116Z"
   },
   {
    "duration": 6,
    "start_time": "2023-01-24T17:34:13.814Z"
   },
   {
    "duration": 67,
    "start_time": "2023-01-24T17:39:51.545Z"
   },
   {
    "duration": 3,
    "start_time": "2023-01-24T17:40:16.737Z"
   },
   {
    "duration": 3295,
    "start_time": "2023-01-24T17:40:18.420Z"
   },
   {
    "duration": 46,
    "start_time": "2023-01-24T17:48:21.553Z"
   },
   {
    "duration": 48,
    "start_time": "2023-01-24T17:48:37.407Z"
   },
   {
    "duration": 39,
    "start_time": "2023-01-24T17:49:12.330Z"
   },
   {
    "duration": 11,
    "start_time": "2023-01-24T17:49:55.008Z"
   },
   {
    "duration": 97,
    "start_time": "2023-01-24T17:50:14.982Z"
   },
   {
    "duration": 13,
    "start_time": "2023-01-24T17:50:15.815Z"
   },
   {
    "duration": 14,
    "start_time": "2023-01-24T17:50:16.892Z"
   },
   {
    "duration": 9,
    "start_time": "2023-01-24T17:50:18.821Z"
   },
   {
    "duration": 34,
    "start_time": "2023-01-24T17:50:19.680Z"
   },
   {
    "duration": 3,
    "start_time": "2023-01-24T17:50:21.021Z"
   },
   {
    "duration": 8,
    "start_time": "2023-01-24T17:50:21.910Z"
   },
   {
    "duration": 4,
    "start_time": "2023-01-24T17:50:23.207Z"
   },
   {
    "duration": 5,
    "start_time": "2023-01-24T17:50:24.063Z"
   },
   {
    "duration": 4,
    "start_time": "2023-01-24T17:50:24.996Z"
   },
   {
    "duration": 30,
    "start_time": "2023-01-24T17:50:26.508Z"
   },
   {
    "duration": 13,
    "start_time": "2023-01-24T17:50:27.452Z"
   },
   {
    "duration": 3,
    "start_time": "2023-01-24T17:50:28.986Z"
   },
   {
    "duration": 13,
    "start_time": "2023-01-24T17:50:30.539Z"
   },
   {
    "duration": 18,
    "start_time": "2023-01-24T17:50:31.497Z"
   },
   {
    "duration": 19,
    "start_time": "2023-01-24T17:50:31.957Z"
   },
   {
    "duration": 4,
    "start_time": "2023-01-24T17:50:33.392Z"
   },
   {
    "duration": 8,
    "start_time": "2023-01-24T17:50:33.890Z"
   },
   {
    "duration": 6,
    "start_time": "2023-01-24T17:50:35.104Z"
   },
   {
    "duration": 5,
    "start_time": "2023-01-24T17:50:36.642Z"
   },
   {
    "duration": 3584,
    "start_time": "2023-01-24T17:50:37.764Z"
   },
   {
    "duration": 16,
    "start_time": "2023-01-24T17:50:43.019Z"
   },
   {
    "duration": 12,
    "start_time": "2023-01-24T17:52:07.020Z"
   },
   {
    "duration": 21,
    "start_time": "2023-01-24T17:53:09.430Z"
   },
   {
    "duration": 18,
    "start_time": "2023-01-24T17:53:40.475Z"
   },
   {
    "duration": 17,
    "start_time": "2023-01-24T17:54:42.284Z"
   },
   {
    "duration": 18,
    "start_time": "2023-01-24T17:54:49.294Z"
   },
   {
    "duration": 18,
    "start_time": "2023-01-24T17:54:58.863Z"
   },
   {
    "duration": 17,
    "start_time": "2023-01-24T17:55:15.423Z"
   },
   {
    "duration": 46,
    "start_time": "2023-01-24T18:03:23.203Z"
   },
   {
    "duration": 47,
    "start_time": "2023-01-24T18:03:36.008Z"
   },
   {
    "duration": 48,
    "start_time": "2023-01-24T18:03:47.780Z"
   },
   {
    "duration": 19,
    "start_time": "2023-01-24T18:06:02.990Z"
   },
   {
    "duration": 73,
    "start_time": "2023-01-24T18:06:08.739Z"
   },
   {
    "duration": 18,
    "start_time": "2023-01-24T18:06:33.871Z"
   },
   {
    "duration": 17,
    "start_time": "2023-01-24T18:06:44.568Z"
   },
   {
    "duration": 18,
    "start_time": "2023-01-24T18:07:37.963Z"
   },
   {
    "duration": 18,
    "start_time": "2023-01-24T18:07:48.165Z"
   },
   {
    "duration": 19,
    "start_time": "2023-01-24T18:17:23.428Z"
   },
   {
    "duration": 18,
    "start_time": "2023-01-24T18:17:30.141Z"
   },
   {
    "duration": 1025,
    "start_time": "2023-01-24T18:17:49.352Z"
   },
   {
    "duration": 14,
    "start_time": "2023-01-24T18:18:02.171Z"
   },
   {
    "duration": 10,
    "start_time": "2023-01-24T18:18:04.563Z"
   },
   {
    "duration": 29,
    "start_time": "2023-01-24T18:18:05.479Z"
   },
   {
    "duration": 3,
    "start_time": "2023-01-24T18:18:06.772Z"
   },
   {
    "duration": 9,
    "start_time": "2023-01-24T18:18:07.534Z"
   },
   {
    "duration": 4,
    "start_time": "2023-01-24T18:18:08.767Z"
   },
   {
    "duration": 9,
    "start_time": "2023-01-24T18:18:09.551Z"
   },
   {
    "duration": 5,
    "start_time": "2023-01-24T18:18:10.365Z"
   },
   {
    "duration": 28,
    "start_time": "2023-01-24T18:18:11.473Z"
   },
   {
    "duration": 8,
    "start_time": "2023-01-24T18:18:12.206Z"
   },
   {
    "duration": 3,
    "start_time": "2023-01-24T18:18:13.384Z"
   },
   {
    "duration": 10,
    "start_time": "2023-01-24T18:18:14.632Z"
   },
   {
    "duration": 19,
    "start_time": "2023-01-24T18:18:15.359Z"
   },
   {
    "duration": 16,
    "start_time": "2023-01-24T18:18:15.759Z"
   },
   {
    "duration": 4,
    "start_time": "2023-01-24T18:18:16.982Z"
   },
   {
    "duration": 8,
    "start_time": "2023-01-24T18:18:17.452Z"
   },
   {
    "duration": 5,
    "start_time": "2023-01-24T18:18:18.360Z"
   },
   {
    "duration": 4,
    "start_time": "2023-01-24T18:18:19.433Z"
   },
   {
    "duration": 3452,
    "start_time": "2023-01-24T18:18:20.068Z"
   },
   {
    "duration": 23,
    "start_time": "2023-01-24T18:18:23.870Z"
   },
   {
    "duration": 145,
    "start_time": "2023-01-24T18:19:07.386Z"
   },
   {
    "duration": 109,
    "start_time": "2023-01-24T18:22:50.203Z"
   },
   {
    "duration": 149,
    "start_time": "2023-01-24T18:28:27.258Z"
   },
   {
    "duration": 83,
    "start_time": "2023-01-24T18:28:39.722Z"
   },
   {
    "duration": 14,
    "start_time": "2023-01-24T18:28:39.807Z"
   },
   {
    "duration": 18,
    "start_time": "2023-01-24T18:28:39.822Z"
   },
   {
    "duration": 11,
    "start_time": "2023-01-24T18:28:39.842Z"
   },
   {
    "duration": 48,
    "start_time": "2023-01-24T18:28:39.855Z"
   },
   {
    "duration": 3,
    "start_time": "2023-01-24T18:28:39.905Z"
   },
   {
    "duration": 12,
    "start_time": "2023-01-24T18:28:39.909Z"
   },
   {
    "duration": 4,
    "start_time": "2023-01-24T18:28:39.937Z"
   },
   {
    "duration": 6,
    "start_time": "2023-01-24T18:28:39.942Z"
   },
   {
    "duration": 3,
    "start_time": "2023-01-24T18:28:39.951Z"
   },
   {
    "duration": 30,
    "start_time": "2023-01-24T18:28:39.956Z"
   },
   {
    "duration": 8,
    "start_time": "2023-01-24T18:28:39.987Z"
   },
   {
    "duration": 22,
    "start_time": "2023-01-24T18:28:39.997Z"
   },
   {
    "duration": 37,
    "start_time": "2023-01-24T18:28:40.020Z"
   },
   {
    "duration": 31,
    "start_time": "2023-01-24T18:28:40.059Z"
   },
   {
    "duration": 30,
    "start_time": "2023-01-24T18:28:40.091Z"
   },
   {
    "duration": 6,
    "start_time": "2023-01-24T18:28:40.122Z"
   },
   {
    "duration": 32,
    "start_time": "2023-01-24T18:28:40.129Z"
   },
   {
    "duration": 10,
    "start_time": "2023-01-24T18:28:40.162Z"
   },
   {
    "duration": 15,
    "start_time": "2023-01-24T18:28:40.173Z"
   },
   {
    "duration": 3096,
    "start_time": "2023-01-24T18:28:40.189Z"
   },
   {
    "duration": 134,
    "start_time": "2023-01-24T18:28:43.287Z"
   },
   {
    "duration": 0,
    "start_time": "2023-01-24T18:28:43.422Z"
   },
   {
    "duration": 0,
    "start_time": "2023-01-24T18:28:43.423Z"
   },
   {
    "duration": 0,
    "start_time": "2023-01-24T18:28:43.424Z"
   },
   {
    "duration": 123,
    "start_time": "2023-01-24T18:29:36.102Z"
   },
   {
    "duration": 85,
    "start_time": "2023-01-24T18:29:43.979Z"
   },
   {
    "duration": 64,
    "start_time": "2023-01-24T18:29:48.132Z"
   },
   {
    "duration": 14,
    "start_time": "2023-01-24T18:29:48.198Z"
   },
   {
    "duration": 39,
    "start_time": "2023-01-24T18:29:48.213Z"
   },
   {
    "duration": 15,
    "start_time": "2023-01-24T18:29:48.255Z"
   },
   {
    "duration": 41,
    "start_time": "2023-01-24T18:29:48.272Z"
   },
   {
    "duration": 4,
    "start_time": "2023-01-24T18:29:48.314Z"
   },
   {
    "duration": 23,
    "start_time": "2023-01-24T18:29:48.338Z"
   },
   {
    "duration": 9,
    "start_time": "2023-01-24T18:29:48.362Z"
   },
   {
    "duration": 11,
    "start_time": "2023-01-24T18:29:48.372Z"
   },
   {
    "duration": 4,
    "start_time": "2023-01-24T18:29:48.385Z"
   },
   {
    "duration": 29,
    "start_time": "2023-01-24T18:29:48.390Z"
   },
   {
    "duration": 21,
    "start_time": "2023-01-24T18:29:48.420Z"
   },
   {
    "duration": 5,
    "start_time": "2023-01-24T18:29:48.443Z"
   },
   {
    "duration": 21,
    "start_time": "2023-01-24T18:29:48.451Z"
   },
   {
    "duration": 16,
    "start_time": "2023-01-24T18:29:48.473Z"
   },
   {
    "duration": 16,
    "start_time": "2023-01-24T18:29:48.490Z"
   },
   {
    "duration": 3,
    "start_time": "2023-01-24T18:29:48.507Z"
   },
   {
    "duration": 33,
    "start_time": "2023-01-24T18:29:48.512Z"
   },
   {
    "duration": 5,
    "start_time": "2023-01-24T18:29:48.547Z"
   },
   {
    "duration": 8,
    "start_time": "2023-01-24T18:29:48.555Z"
   },
   {
    "duration": 3449,
    "start_time": "2023-01-24T18:29:48.564Z"
   },
   {
    "duration": 168,
    "start_time": "2023-01-24T18:29:52.015Z"
   },
   {
    "duration": 2,
    "start_time": "2023-01-24T18:29:52.184Z"
   },
   {
    "duration": 19,
    "start_time": "2023-01-24T18:29:52.188Z"
   },
   {
    "duration": 33,
    "start_time": "2023-01-24T18:29:52.208Z"
   },
   {
    "duration": 11,
    "start_time": "2023-01-24T18:33:51.424Z"
   },
   {
    "duration": 21,
    "start_time": "2023-01-24T18:33:59.320Z"
   },
   {
    "duration": 12,
    "start_time": "2023-01-24T18:34:10.512Z"
   },
   {
    "duration": 147,
    "start_time": "2023-01-24T18:34:22.061Z"
   },
   {
    "duration": 8,
    "start_time": "2023-01-24T18:34:31.548Z"
   },
   {
    "duration": 218,
    "start_time": "2023-01-24T18:34:37.036Z"
   },
   {
    "duration": 5,
    "start_time": "2023-01-24T18:51:17.500Z"
   },
   {
    "duration": 119,
    "start_time": "2023-01-24T18:52:26.778Z"
   },
   {
    "duration": 136,
    "start_time": "2023-01-24T18:57:45.501Z"
   },
   {
    "duration": 4,
    "start_time": "2023-01-24T19:02:30.088Z"
   },
   {
    "duration": 119,
    "start_time": "2023-01-24T19:02:58.118Z"
   },
   {
    "duration": 12,
    "start_time": "2023-01-24T19:15:52.863Z"
   },
   {
    "duration": 138,
    "start_time": "2023-01-24T19:16:00.631Z"
   },
   {
    "duration": 22,
    "start_time": "2023-01-24T19:16:07.006Z"
   },
   {
    "duration": 11,
    "start_time": "2023-01-24T19:16:16.005Z"
   },
   {
    "duration": 12,
    "start_time": "2023-01-24T19:16:41.532Z"
   },
   {
    "duration": 14,
    "start_time": "2023-01-24T19:16:52.626Z"
   },
   {
    "duration": 14,
    "start_time": "2023-01-24T19:17:26.999Z"
   },
   {
    "duration": 8,
    "start_time": "2023-01-24T19:18:06.133Z"
   },
   {
    "duration": 153,
    "start_time": "2023-01-24T19:18:12.039Z"
   },
   {
    "duration": 5,
    "start_time": "2023-01-24T19:18:16.793Z"
   },
   {
    "duration": 21,
    "start_time": "2023-01-24T19:18:37.194Z"
   },
   {
    "duration": 172,
    "start_time": "2023-01-24T19:19:43.822Z"
   },
   {
    "duration": 9,
    "start_time": "2023-01-24T19:19:47.409Z"
   },
   {
    "duration": 14,
    "start_time": "2023-01-24T19:19:52.719Z"
   },
   {
    "duration": 8,
    "start_time": "2023-01-24T19:20:38.943Z"
   },
   {
    "duration": 8,
    "start_time": "2023-01-24T19:20:54.412Z"
   },
   {
    "duration": 20,
    "start_time": "2023-01-24T19:22:23.369Z"
   },
   {
    "duration": 16,
    "start_time": "2023-01-24T19:22:30.527Z"
   },
   {
    "duration": 14,
    "start_time": "2023-01-24T19:24:23.454Z"
   },
   {
    "duration": 17,
    "start_time": "2023-01-24T19:25:12.776Z"
   },
   {
    "duration": 107,
    "start_time": "2023-01-24T19:28:28.278Z"
   },
   {
    "duration": 15,
    "start_time": "2023-01-24T19:28:28.387Z"
   },
   {
    "duration": 25,
    "start_time": "2023-01-24T19:28:28.404Z"
   },
   {
    "duration": 34,
    "start_time": "2023-01-24T19:28:28.431Z"
   },
   {
    "duration": 49,
    "start_time": "2023-01-24T19:28:28.466Z"
   },
   {
    "duration": 3,
    "start_time": "2023-01-24T19:28:28.517Z"
   },
   {
    "duration": 41,
    "start_time": "2023-01-24T19:28:28.521Z"
   },
   {
    "duration": 9,
    "start_time": "2023-01-24T19:28:28.564Z"
   },
   {
    "duration": 22,
    "start_time": "2023-01-24T19:28:28.575Z"
   },
   {
    "duration": 8,
    "start_time": "2023-01-24T19:28:28.600Z"
   },
   {
    "duration": 56,
    "start_time": "2023-01-24T19:28:28.610Z"
   },
   {
    "duration": 9,
    "start_time": "2023-01-24T19:28:28.668Z"
   },
   {
    "duration": 15,
    "start_time": "2023-01-24T19:28:28.678Z"
   },
   {
    "duration": 24,
    "start_time": "2023-01-24T19:28:28.695Z"
   },
   {
    "duration": 49,
    "start_time": "2023-01-24T19:28:28.720Z"
   },
   {
    "duration": 17,
    "start_time": "2023-01-24T19:28:28.771Z"
   },
   {
    "duration": 4,
    "start_time": "2023-01-24T19:28:28.789Z"
   },
   {
    "duration": 32,
    "start_time": "2023-01-24T19:28:28.794Z"
   },
   {
    "duration": 10,
    "start_time": "2023-01-24T19:28:28.828Z"
   },
   {
    "duration": 38,
    "start_time": "2023-01-24T19:28:28.839Z"
   },
   {
    "duration": 3518,
    "start_time": "2023-01-24T19:28:28.879Z"
   },
   {
    "duration": 165,
    "start_time": "2023-01-24T19:28:32.400Z"
   },
   {
    "duration": 172,
    "start_time": "2023-01-24T19:28:32.567Z"
   },
   {
    "duration": 17,
    "start_time": "2023-01-24T19:28:32.741Z"
   },
   {
    "duration": 7,
    "start_time": "2023-01-24T19:28:32.760Z"
   },
   {
    "duration": 12,
    "start_time": "2023-01-24T19:28:32.769Z"
   },
   {
    "duration": 35,
    "start_time": "2023-01-24T19:28:52.680Z"
   },
   {
    "duration": 13,
    "start_time": "2023-01-24T19:34:11.685Z"
   },
   {
    "duration": 17,
    "start_time": "2023-01-24T19:34:18.727Z"
   },
   {
    "duration": 14,
    "start_time": "2023-01-24T19:34:21.778Z"
   },
   {
    "duration": 148,
    "start_time": "2023-01-24T19:36:28.140Z"
   },
   {
    "duration": 15,
    "start_time": "2023-01-24T19:36:32.132Z"
   },
   {
    "duration": 27,
    "start_time": "2023-01-24T19:36:39.752Z"
   },
   {
    "duration": 184,
    "start_time": "2023-01-24T19:37:02.333Z"
   },
   {
    "duration": 23,
    "start_time": "2023-01-24T19:37:06.029Z"
   },
   {
    "duration": 146,
    "start_time": "2023-01-24T19:37:38.703Z"
   },
   {
    "duration": 210,
    "start_time": "2023-01-24T19:37:42.579Z"
   },
   {
    "duration": 27,
    "start_time": "2023-01-24T19:42:08.788Z"
   },
   {
    "duration": 138,
    "start_time": "2023-01-24T19:42:11.670Z"
   },
   {
    "duration": 142,
    "start_time": "2023-01-24T19:42:12.464Z"
   },
   {
    "duration": 4,
    "start_time": "2023-01-24T20:01:38.182Z"
   },
   {
    "duration": 4,
    "start_time": "2023-01-24T20:01:56.378Z"
   },
   {
    "duration": 5,
    "start_time": "2023-01-24T20:09:51.990Z"
   },
   {
    "duration": 25,
    "start_time": "2023-01-24T20:12:54.982Z"
   },
   {
    "duration": 5,
    "start_time": "2023-01-24T21:12:32.851Z"
   },
   {
    "duration": 581,
    "start_time": "2023-01-24T21:12:41.580Z"
   },
   {
    "duration": 5,
    "start_time": "2023-01-24T21:12:52.270Z"
   },
   {
    "duration": 21,
    "start_time": "2023-01-24T21:13:19.315Z"
   },
   {
    "duration": 1600,
    "start_time": "2023-01-24T21:13:30.426Z"
   },
   {
    "duration": 4,
    "start_time": "2023-01-24T21:14:19.539Z"
   },
   {
    "duration": 2,
    "start_time": "2023-01-24T21:14:31.390Z"
   },
   {
    "duration": 17,
    "start_time": "2023-01-24T21:14:50.171Z"
   },
   {
    "duration": 7,
    "start_time": "2023-01-24T21:15:37.920Z"
   },
   {
    "duration": 22,
    "start_time": "2023-01-24T21:18:51.044Z"
   },
   {
    "duration": 47,
    "start_time": "2023-01-24T21:21:38.597Z"
   },
   {
    "duration": 7,
    "start_time": "2023-01-24T21:28:02.078Z"
   },
   {
    "duration": 8,
    "start_time": "2023-01-24T21:34:45.386Z"
   },
   {
    "duration": 13,
    "start_time": "2023-01-24T21:34:56.838Z"
   },
   {
    "duration": 2,
    "start_time": "2023-01-24T21:35:59.123Z"
   },
   {
    "duration": 15,
    "start_time": "2023-01-24T21:37:11.823Z"
   },
   {
    "duration": 10,
    "start_time": "2023-01-24T21:40:22.263Z"
   },
   {
    "duration": 10,
    "start_time": "2023-01-24T21:40:36.807Z"
   },
   {
    "duration": 16,
    "start_time": "2023-01-24T21:41:26.712Z"
   },
   {
    "duration": 15,
    "start_time": "2023-01-24T21:43:16.453Z"
   },
   {
    "duration": 16,
    "start_time": "2023-01-24T21:44:12.290Z"
   },
   {
    "duration": 16,
    "start_time": "2023-01-24T21:44:28.428Z"
   },
   {
    "duration": 16,
    "start_time": "2023-01-24T21:44:36.265Z"
   },
   {
    "duration": 17,
    "start_time": "2023-01-24T21:44:54.899Z"
   },
   {
    "duration": 17,
    "start_time": "2023-01-24T21:46:07.099Z"
   },
   {
    "duration": 19,
    "start_time": "2023-01-24T21:46:22.693Z"
   },
   {
    "duration": 19,
    "start_time": "2023-01-24T21:46:45.538Z"
   },
   {
    "duration": 17,
    "start_time": "2023-01-24T21:47:11.523Z"
   },
   {
    "duration": 21,
    "start_time": "2023-01-24T21:47:25.717Z"
   },
   {
    "duration": 18,
    "start_time": "2023-01-24T21:48:06.309Z"
   },
   {
    "duration": 18,
    "start_time": "2023-01-24T21:48:47.398Z"
   },
   {
    "duration": 29,
    "start_time": "2023-01-24T21:50:38.337Z"
   },
   {
    "duration": 25,
    "start_time": "2023-01-24T21:51:23.535Z"
   },
   {
    "duration": 402,
    "start_time": "2023-01-24T21:51:40.147Z"
   },
   {
    "duration": 29,
    "start_time": "2023-01-24T21:54:48.971Z"
   },
   {
    "duration": 24,
    "start_time": "2023-01-24T21:55:01.164Z"
   },
   {
    "duration": 402,
    "start_time": "2023-01-24T21:56:29.539Z"
   },
   {
    "duration": 108,
    "start_time": "2023-01-24T21:57:21.220Z"
   },
   {
    "duration": 420,
    "start_time": "2023-01-24T21:57:39.137Z"
   },
   {
    "duration": 410,
    "start_time": "2023-01-24T21:58:36.110Z"
   },
   {
    "duration": 5,
    "start_time": "2023-01-24T21:59:49.041Z"
   },
   {
    "duration": 34,
    "start_time": "2023-01-24T21:59:58.590Z"
   },
   {
    "duration": 414,
    "start_time": "2023-01-24T22:00:09.896Z"
   },
   {
    "duration": 41,
    "start_time": "2023-01-24T22:01:25.334Z"
   },
   {
    "duration": 24,
    "start_time": "2023-01-24T22:03:45.714Z"
   },
   {
    "duration": 424,
    "start_time": "2023-01-24T22:04:06.498Z"
   },
   {
    "duration": 397,
    "start_time": "2023-01-24T22:04:12.444Z"
   },
   {
    "duration": 22,
    "start_time": "2023-01-24T22:04:49.278Z"
   },
   {
    "duration": 456,
    "start_time": "2023-01-24T22:04:53.051Z"
   },
   {
    "duration": 386,
    "start_time": "2023-01-24T22:05:18.317Z"
   },
   {
    "duration": 364,
    "start_time": "2023-01-24T22:05:30.976Z"
   },
   {
    "duration": 13,
    "start_time": "2023-01-24T22:07:36.891Z"
   },
   {
    "duration": 2,
    "start_time": "2023-01-24T22:13:33.337Z"
   },
   {
    "duration": 22,
    "start_time": "2023-01-24T22:15:15.990Z"
   },
   {
    "duration": 329,
    "start_time": "2023-01-24T22:15:32.662Z"
   },
   {
    "duration": 731,
    "start_time": "2023-01-24T22:16:34.689Z"
   },
   {
    "duration": 505,
    "start_time": "2023-01-24T22:16:47.146Z"
   },
   {
    "duration": 15,
    "start_time": "2023-01-24T22:17:20.899Z"
   },
   {
    "duration": 381,
    "start_time": "2023-01-24T22:17:26.974Z"
   },
   {
    "duration": 364,
    "start_time": "2023-01-24T22:17:36.855Z"
   },
   {
    "duration": 24,
    "start_time": "2023-01-24T22:23:18.109Z"
   },
   {
    "duration": 10,
    "start_time": "2023-01-24T22:23:28.118Z"
   },
   {
    "duration": 407,
    "start_time": "2023-01-24T22:23:34.992Z"
   },
   {
    "duration": 24,
    "start_time": "2023-01-24T22:24:05.662Z"
   },
   {
    "duration": 25,
    "start_time": "2023-01-24T22:24:21.978Z"
   },
   {
    "duration": 30,
    "start_time": "2023-01-24T22:25:11.602Z"
   },
   {
    "duration": 387,
    "start_time": "2023-01-24T22:25:24.418Z"
   },
   {
    "duration": 29,
    "start_time": "2023-01-24T22:27:16.632Z"
   },
   {
    "duration": 23,
    "start_time": "2023-01-24T22:28:14.414Z"
   },
   {
    "duration": 23,
    "start_time": "2023-01-24T22:29:10.653Z"
   },
   {
    "duration": 347,
    "start_time": "2023-01-24T22:29:19.133Z"
   },
   {
    "duration": 18,
    "start_time": "2023-01-24T22:29:38.746Z"
   },
   {
    "duration": 253,
    "start_time": "2023-01-24T22:29:41.497Z"
   },
   {
    "duration": 23,
    "start_time": "2023-01-24T22:30:00.490Z"
   },
   {
    "duration": 24,
    "start_time": "2023-01-24T22:30:08.507Z"
   },
   {
    "duration": 24,
    "start_time": "2023-01-24T22:30:21.560Z"
   },
   {
    "duration": 22,
    "start_time": "2023-01-24T22:34:15.750Z"
   },
   {
    "duration": 390,
    "start_time": "2023-01-24T22:34:23.037Z"
   },
   {
    "duration": 53,
    "start_time": "2023-01-24T22:36:00.729Z"
   },
   {
    "duration": 570,
    "start_time": "2023-01-24T22:36:26.556Z"
   },
   {
    "duration": 6789,
    "start_time": "2023-01-24T22:36:35.056Z"
   },
   {
    "duration": 779,
    "start_time": "2023-01-24T22:47:06.900Z"
   },
   {
    "duration": 23,
    "start_time": "2023-01-24T22:47:29.672Z"
   },
   {
    "duration": 24,
    "start_time": "2023-01-24T22:48:08.652Z"
   },
   {
    "duration": 17,
    "start_time": "2023-01-24T22:50:08.507Z"
   },
   {
    "duration": 165,
    "start_time": "2023-01-24T22:51:54.268Z"
   },
   {
    "duration": 210,
    "start_time": "2023-01-24T22:52:25.825Z"
   },
   {
    "duration": 164,
    "start_time": "2023-01-24T22:52:33.425Z"
   },
   {
    "duration": 228,
    "start_time": "2023-01-24T22:55:11.555Z"
   },
   {
    "duration": 23,
    "start_time": "2023-01-24T22:56:12.468Z"
   },
   {
    "duration": 215,
    "start_time": "2023-01-24T22:56:30.065Z"
   },
   {
    "duration": 27,
    "start_time": "2023-01-24T22:56:49.785Z"
   },
   {
    "duration": 196,
    "start_time": "2023-01-24T22:56:52.956Z"
   },
   {
    "duration": 25,
    "start_time": "2023-01-24T22:57:56.801Z"
   },
   {
    "duration": 172,
    "start_time": "2023-01-24T22:58:18.878Z"
   },
   {
    "duration": 293,
    "start_time": "2023-01-24T22:58:28.117Z"
   },
   {
    "duration": 125,
    "start_time": "2023-01-24T22:58:36.477Z"
   },
   {
    "duration": 4,
    "start_time": "2023-01-24T22:58:46.082Z"
   },
   {
    "duration": 25,
    "start_time": "2023-01-24T22:58:48.817Z"
   },
   {
    "duration": 7,
    "start_time": "2023-01-24T22:58:54.379Z"
   },
   {
    "duration": 22,
    "start_time": "2023-01-24T22:58:57.091Z"
   },
   {
    "duration": 26,
    "start_time": "2023-01-24T22:59:00.099Z"
   },
   {
    "duration": 210,
    "start_time": "2023-01-24T22:59:03.644Z"
   },
   {
    "duration": 86,
    "start_time": "2023-01-24T23:15:07.109Z"
   },
   {
    "duration": 75,
    "start_time": "2023-01-24T23:15:46.437Z"
   },
   {
    "duration": 33,
    "start_time": "2023-01-24T23:16:32.575Z"
   },
   {
    "duration": 70,
    "start_time": "2023-01-24T23:16:42.194Z"
   },
   {
    "duration": 71,
    "start_time": "2023-01-24T23:16:48.072Z"
   },
   {
    "duration": 14,
    "start_time": "2023-01-24T23:16:48.144Z"
   },
   {
    "duration": 16,
    "start_time": "2023-01-24T23:16:48.159Z"
   },
   {
    "duration": 7,
    "start_time": "2023-01-24T23:16:48.177Z"
   },
   {
    "duration": 28,
    "start_time": "2023-01-24T23:16:48.185Z"
   },
   {
    "duration": 3,
    "start_time": "2023-01-24T23:16:48.215Z"
   },
   {
    "duration": 7,
    "start_time": "2023-01-24T23:16:48.237Z"
   },
   {
    "duration": 4,
    "start_time": "2023-01-24T23:16:48.245Z"
   },
   {
    "duration": 7,
    "start_time": "2023-01-24T23:16:48.250Z"
   },
   {
    "duration": 8,
    "start_time": "2023-01-24T23:16:48.259Z"
   },
   {
    "duration": 29,
    "start_time": "2023-01-24T23:16:48.268Z"
   },
   {
    "duration": 38,
    "start_time": "2023-01-24T23:16:48.299Z"
   },
   {
    "duration": 3,
    "start_time": "2023-01-24T23:16:48.339Z"
   },
   {
    "duration": 12,
    "start_time": "2023-01-24T23:16:48.344Z"
   },
   {
    "duration": 16,
    "start_time": "2023-01-24T23:16:48.358Z"
   },
   {
    "duration": 14,
    "start_time": "2023-01-24T23:16:48.376Z"
   },
   {
    "duration": 2,
    "start_time": "2023-01-24T23:16:48.392Z"
   },
   {
    "duration": 13,
    "start_time": "2023-01-24T23:16:48.395Z"
   },
   {
    "duration": 28,
    "start_time": "2023-01-24T23:16:48.409Z"
   },
   {
    "duration": 4,
    "start_time": "2023-01-24T23:16:48.438Z"
   },
   {
    "duration": 3002,
    "start_time": "2023-01-24T23:16:48.443Z"
   },
   {
    "duration": 161,
    "start_time": "2023-01-24T23:16:51.447Z"
   },
   {
    "duration": 161,
    "start_time": "2023-01-24T23:16:51.609Z"
   },
   {
    "duration": 135,
    "start_time": "2023-01-24T23:16:51.772Z"
   },
   {
    "duration": 4,
    "start_time": "2023-01-24T23:16:51.909Z"
   },
   {
    "duration": 36,
    "start_time": "2023-01-24T23:16:51.915Z"
   },
   {
    "duration": 8,
    "start_time": "2023-01-24T23:16:51.952Z"
   },
   {
    "duration": 21,
    "start_time": "2023-01-24T23:16:51.961Z"
   },
   {
    "duration": 25,
    "start_time": "2023-01-24T23:16:51.983Z"
   },
   {
    "duration": 219,
    "start_time": "2023-01-24T23:16:52.009Z"
   },
   {
    "duration": 84,
    "start_time": "2023-01-24T23:16:52.230Z"
   },
   {
    "duration": 80,
    "start_time": "2023-01-24T23:17:19.156Z"
   },
   {
    "duration": 70,
    "start_time": "2023-01-24T23:17:33.048Z"
   },
   {
    "duration": 77,
    "start_time": "2023-01-24T23:17:42.526Z"
   },
   {
    "duration": 72,
    "start_time": "2023-01-24T23:18:08.016Z"
   },
   {
    "duration": 75,
    "start_time": "2023-01-24T23:18:21.710Z"
   },
   {
    "duration": 80,
    "start_time": "2023-01-24T23:19:16.793Z"
   },
   {
    "duration": 77,
    "start_time": "2023-01-24T23:22:08.184Z"
   },
   {
    "duration": 74,
    "start_time": "2023-01-24T23:22:24.513Z"
   },
   {
    "duration": 74,
    "start_time": "2023-01-24T23:22:42.026Z"
   },
   {
    "duration": 72,
    "start_time": "2023-01-24T23:26:08.168Z"
   },
   {
    "duration": 73,
    "start_time": "2023-01-24T23:36:55.469Z"
   },
   {
    "duration": 93,
    "start_time": "2023-01-24T23:37:51.273Z"
   },
   {
    "duration": 14,
    "start_time": "2023-01-24T23:37:51.368Z"
   },
   {
    "duration": 14,
    "start_time": "2023-01-24T23:37:51.383Z"
   },
   {
    "duration": 7,
    "start_time": "2023-01-24T23:37:51.399Z"
   },
   {
    "duration": 47,
    "start_time": "2023-01-24T23:37:51.408Z"
   },
   {
    "duration": 3,
    "start_time": "2023-01-24T23:37:51.457Z"
   },
   {
    "duration": 9,
    "start_time": "2023-01-24T23:37:51.461Z"
   },
   {
    "duration": 3,
    "start_time": "2023-01-24T23:37:51.472Z"
   },
   {
    "duration": 7,
    "start_time": "2023-01-24T23:37:51.477Z"
   },
   {
    "duration": 4,
    "start_time": "2023-01-24T23:37:51.486Z"
   },
   {
    "duration": 50,
    "start_time": "2023-01-24T23:37:51.491Z"
   },
   {
    "duration": 8,
    "start_time": "2023-01-24T23:37:51.542Z"
   },
   {
    "duration": 4,
    "start_time": "2023-01-24T23:37:51.551Z"
   },
   {
    "duration": 11,
    "start_time": "2023-01-24T23:37:51.556Z"
   },
   {
    "duration": 17,
    "start_time": "2023-01-24T23:37:51.569Z"
   },
   {
    "duration": 14,
    "start_time": "2023-01-24T23:37:51.587Z"
   },
   {
    "duration": 3,
    "start_time": "2023-01-24T23:37:51.602Z"
   },
   {
    "duration": 33,
    "start_time": "2023-01-24T23:37:51.607Z"
   },
   {
    "duration": 6,
    "start_time": "2023-01-24T23:37:51.641Z"
   },
   {
    "duration": 3,
    "start_time": "2023-01-24T23:37:51.649Z"
   },
   {
    "duration": 3053,
    "start_time": "2023-01-24T23:37:51.654Z"
   },
   {
    "duration": 164,
    "start_time": "2023-01-24T23:37:54.709Z"
   },
   {
    "duration": 156,
    "start_time": "2023-01-24T23:37:54.875Z"
   },
   {
    "duration": 130,
    "start_time": "2023-01-24T23:37:55.032Z"
   },
   {
    "duration": 5,
    "start_time": "2023-01-24T23:37:55.163Z"
   },
   {
    "duration": 38,
    "start_time": "2023-01-24T23:37:55.169Z"
   },
   {
    "duration": 10,
    "start_time": "2023-01-24T23:37:55.209Z"
   },
   {
    "duration": 35,
    "start_time": "2023-01-24T23:37:55.222Z"
   },
   {
    "duration": 31,
    "start_time": "2023-01-24T23:37:55.259Z"
   },
   {
    "duration": 206,
    "start_time": "2023-01-24T23:37:55.291Z"
   },
   {
    "duration": 75,
    "start_time": "2023-01-24T23:37:55.499Z"
   },
   {
    "duration": 25,
    "start_time": "2023-01-24T23:40:08.020Z"
   },
   {
    "duration": 1388,
    "start_time": "2023-01-25T18:18:39.170Z"
   },
   {
    "duration": 28,
    "start_time": "2023-01-25T18:18:40.561Z"
   },
   {
    "duration": 26,
    "start_time": "2023-01-25T18:18:40.593Z"
   },
   {
    "duration": 14,
    "start_time": "2023-01-25T18:18:40.622Z"
   },
   {
    "duration": 56,
    "start_time": "2023-01-25T18:18:40.638Z"
   },
   {
    "duration": 4,
    "start_time": "2023-01-25T18:18:40.695Z"
   },
   {
    "duration": 21,
    "start_time": "2023-01-25T18:18:40.701Z"
   },
   {
    "duration": 15,
    "start_time": "2023-01-25T18:18:40.724Z"
   },
   {
    "duration": 15,
    "start_time": "2023-01-25T18:18:40.741Z"
   },
   {
    "duration": 18,
    "start_time": "2023-01-25T18:18:40.758Z"
   },
   {
    "duration": 42,
    "start_time": "2023-01-25T18:18:40.778Z"
   },
   {
    "duration": 12,
    "start_time": "2023-01-25T18:18:40.821Z"
   },
   {
    "duration": 16,
    "start_time": "2023-01-25T18:18:40.836Z"
   },
   {
    "duration": 24,
    "start_time": "2023-01-25T18:18:40.854Z"
   },
   {
    "duration": 23,
    "start_time": "2023-01-25T18:18:40.883Z"
   },
   {
    "duration": 19,
    "start_time": "2023-01-25T18:18:40.908Z"
   },
   {
    "duration": 3,
    "start_time": "2023-01-25T18:18:40.930Z"
   },
   {
    "duration": 22,
    "start_time": "2023-01-25T18:18:40.936Z"
   },
   {
    "duration": 28,
    "start_time": "2023-01-25T18:18:40.961Z"
   },
   {
    "duration": 6,
    "start_time": "2023-01-25T18:18:40.991Z"
   },
   {
    "duration": 4614,
    "start_time": "2023-01-25T18:18:40.999Z"
   },
   {
    "duration": 235,
    "start_time": "2023-01-25T18:18:45.616Z"
   },
   {
    "duration": 243,
    "start_time": "2023-01-25T18:18:45.853Z"
   },
   {
    "duration": 171,
    "start_time": "2023-01-25T18:18:46.097Z"
   },
   {
    "duration": 6,
    "start_time": "2023-01-25T18:18:46.269Z"
   },
   {
    "duration": 40,
    "start_time": "2023-01-25T18:18:46.285Z"
   },
   {
    "duration": 12,
    "start_time": "2023-01-25T18:18:46.327Z"
   },
   {
    "duration": 79,
    "start_time": "2023-01-25T18:18:46.341Z"
   },
   {
    "duration": 103,
    "start_time": "2023-01-25T18:18:46.423Z"
   },
   {
    "duration": 790,
    "start_time": "2023-01-25T18:18:46.529Z"
   },
   {
    "duration": 179,
    "start_time": "2023-01-25T18:18:47.321Z"
   },
   {
    "duration": 1468,
    "start_time": "2023-01-27T16:22:22.527Z"
   },
   {
    "duration": 21,
    "start_time": "2023-01-27T16:22:26.178Z"
   },
   {
    "duration": 71,
    "start_time": "2023-01-27T16:22:35.002Z"
   },
   {
    "duration": 17,
    "start_time": "2023-01-27T16:22:35.076Z"
   },
   {
    "duration": 22,
    "start_time": "2023-01-27T16:22:35.094Z"
   },
   {
    "duration": 10,
    "start_time": "2023-01-27T16:22:35.119Z"
   },
   {
    "duration": 61,
    "start_time": "2023-01-27T16:22:35.131Z"
   },
   {
    "duration": 3,
    "start_time": "2023-01-27T16:22:35.193Z"
   },
   {
    "duration": 9,
    "start_time": "2023-01-27T16:22:35.198Z"
   },
   {
    "duration": 5,
    "start_time": "2023-01-27T16:22:35.208Z"
   },
   {
    "duration": 8,
    "start_time": "2023-01-27T16:22:35.214Z"
   },
   {
    "duration": 4,
    "start_time": "2023-01-27T16:22:35.224Z"
   },
   {
    "duration": 38,
    "start_time": "2023-01-27T16:22:35.260Z"
   },
   {
    "duration": 11,
    "start_time": "2023-01-27T16:22:35.300Z"
   },
   {
    "duration": 16,
    "start_time": "2023-01-27T16:22:35.314Z"
   },
   {
    "duration": 15,
    "start_time": "2023-01-27T16:22:35.332Z"
   },
   {
    "duration": 32,
    "start_time": "2023-01-27T16:22:35.348Z"
   },
   {
    "duration": 19,
    "start_time": "2023-01-27T16:22:35.381Z"
   },
   {
    "duration": 4,
    "start_time": "2023-01-27T16:22:35.401Z"
   },
   {
    "duration": 15,
    "start_time": "2023-01-27T16:22:35.406Z"
   },
   {
    "duration": 12,
    "start_time": "2023-01-27T16:22:35.422Z"
   },
   {
    "duration": 26,
    "start_time": "2023-01-27T16:22:35.435Z"
   },
   {
    "duration": 3399,
    "start_time": "2023-01-27T16:22:35.462Z"
   },
   {
    "duration": 185,
    "start_time": "2023-01-27T16:22:38.863Z"
   },
   {
    "duration": 192,
    "start_time": "2023-01-27T16:22:39.050Z"
   },
   {
    "duration": 160,
    "start_time": "2023-01-27T16:22:39.244Z"
   },
   {
    "duration": 6,
    "start_time": "2023-01-27T16:22:39.405Z"
   },
   {
    "duration": 56,
    "start_time": "2023-01-27T16:22:39.413Z"
   },
   {
    "duration": 9,
    "start_time": "2023-01-27T16:22:39.471Z"
   },
   {
    "duration": 26,
    "start_time": "2023-01-27T16:22:39.484Z"
   },
   {
    "duration": 57,
    "start_time": "2023-01-27T16:22:39.512Z"
   },
   {
    "duration": 253,
    "start_time": "2023-01-27T16:22:39.573Z"
   },
   {
    "duration": 80,
    "start_time": "2023-01-27T16:22:39.828Z"
   },
   {
    "duration": 51,
    "start_time": "2023-01-28T12:24:47.436Z"
   },
   {
    "duration": 1639,
    "start_time": "2023-01-28T12:24:52.404Z"
   },
   {
    "duration": 27,
    "start_time": "2023-01-28T12:24:54.045Z"
   },
   {
    "duration": 25,
    "start_time": "2023-01-28T12:24:54.074Z"
   },
   {
    "duration": 16,
    "start_time": "2023-01-28T12:24:54.102Z"
   },
   {
    "duration": 76,
    "start_time": "2023-01-28T12:24:54.120Z"
   },
   {
    "duration": 5,
    "start_time": "2023-01-28T12:24:54.198Z"
   },
   {
    "duration": 16,
    "start_time": "2023-01-28T12:24:54.205Z"
   },
   {
    "duration": 12,
    "start_time": "2023-01-28T12:24:54.224Z"
   },
   {
    "duration": 24,
    "start_time": "2023-01-28T12:24:54.238Z"
   },
   {
    "duration": 16,
    "start_time": "2023-01-28T12:24:54.266Z"
   },
   {
    "duration": 70,
    "start_time": "2023-01-28T12:24:54.284Z"
   },
   {
    "duration": 13,
    "start_time": "2023-01-28T12:24:54.356Z"
   },
   {
    "duration": 22,
    "start_time": "2023-01-28T12:24:54.371Z"
   },
   {
    "duration": 15,
    "start_time": "2023-01-28T12:24:54.395Z"
   },
   {
    "duration": 26,
    "start_time": "2023-01-28T12:24:54.412Z"
   },
   {
    "duration": 44,
    "start_time": "2023-01-28T12:24:54.440Z"
   },
   {
    "duration": 5,
    "start_time": "2023-01-28T12:24:54.486Z"
   },
   {
    "duration": 18,
    "start_time": "2023-01-28T12:24:54.494Z"
   },
   {
    "duration": 17,
    "start_time": "2023-01-28T12:24:54.514Z"
   },
   {
    "duration": 8,
    "start_time": "2023-01-28T12:24:54.533Z"
   },
   {
    "duration": 4817,
    "start_time": "2023-01-28T12:24:54.543Z"
   },
   {
    "duration": 282,
    "start_time": "2023-01-28T12:24:59.363Z"
   },
   {
    "duration": 10,
    "start_time": "2023-01-28T12:24:59.647Z"
   },
   {
    "duration": 329,
    "start_time": "2023-01-28T12:24:59.659Z"
   },
   {
    "duration": 211,
    "start_time": "2023-01-28T12:24:59.992Z"
   },
   {
    "duration": 6,
    "start_time": "2023-01-28T12:25:00.205Z"
   },
   {
    "duration": 59,
    "start_time": "2023-01-28T12:25:00.213Z"
   },
   {
    "duration": 22,
    "start_time": "2023-01-28T12:25:00.284Z"
   },
   {
    "duration": 38,
    "start_time": "2023-01-28T12:25:00.308Z"
   },
   {
    "duration": 93,
    "start_time": "2023-01-28T12:25:00.349Z"
   },
   {
    "duration": 356,
    "start_time": "2023-01-28T12:25:00.445Z"
   },
   {
    "duration": 92,
    "start_time": "2023-01-28T12:25:00.803Z"
   },
   {
    "duration": 5,
    "start_time": "2023-01-28T12:26:45.069Z"
   },
   {
    "duration": 7,
    "start_time": "2023-01-28T12:26:50.942Z"
   },
   {
    "duration": 12,
    "start_time": "2023-01-28T12:31:30.816Z"
   },
   {
    "duration": 12,
    "start_time": "2023-01-28T12:31:49.137Z"
   },
   {
    "duration": 42,
    "start_time": "2023-01-28T12:33:19.954Z"
   },
   {
    "duration": 15,
    "start_time": "2023-01-28T12:33:24.898Z"
   },
   {
    "duration": 20,
    "start_time": "2023-01-28T12:34:46.537Z"
   },
   {
    "duration": 726,
    "start_time": "2023-01-28T12:37:06.816Z"
   },
   {
    "duration": 23,
    "start_time": "2023-01-28T12:38:11.533Z"
   },
   {
    "duration": 740,
    "start_time": "2023-01-28T12:39:07.050Z"
   },
   {
    "duration": 792,
    "start_time": "2023-01-28T12:39:19.052Z"
   },
   {
    "duration": 21,
    "start_time": "2023-01-28T12:39:53.359Z"
   },
   {
    "duration": 185,
    "start_time": "2023-01-28T12:40:08.985Z"
   },
   {
    "duration": 202,
    "start_time": "2023-01-28T12:40:59.383Z"
   },
   {
    "duration": 13,
    "start_time": "2023-01-28T12:41:20.634Z"
   },
   {
    "duration": 134,
    "start_time": "2023-01-28T12:43:37.676Z"
   },
   {
    "duration": 179,
    "start_time": "2023-01-28T12:43:45.710Z"
   },
   {
    "duration": 53,
    "start_time": "2023-01-28T12:44:04.918Z"
   },
   {
    "duration": 20,
    "start_time": "2023-01-28T12:44:30.265Z"
   },
   {
    "duration": 48,
    "start_time": "2023-01-28T12:46:45.674Z"
   },
   {
    "duration": 16,
    "start_time": "2023-01-28T12:46:50.183Z"
   },
   {
    "duration": 17,
    "start_time": "2023-01-28T12:47:26.298Z"
   },
   {
    "duration": 204,
    "start_time": "2023-01-28T12:47:51.146Z"
   },
   {
    "duration": 17,
    "start_time": "2023-01-28T12:48:43.999Z"
   },
   {
    "duration": 20,
    "start_time": "2023-01-28T12:50:27.483Z"
   },
   {
    "duration": 14,
    "start_time": "2023-01-28T12:51:53.689Z"
   },
   {
    "duration": 1622,
    "start_time": "2023-01-29T16:55:05.923Z"
   },
   {
    "duration": 24,
    "start_time": "2023-01-29T16:55:07.547Z"
   },
   {
    "duration": 17,
    "start_time": "2023-01-29T16:55:07.573Z"
   },
   {
    "duration": 11,
    "start_time": "2023-01-29T16:55:07.593Z"
   },
   {
    "duration": 61,
    "start_time": "2023-01-29T16:55:07.606Z"
   },
   {
    "duration": 4,
    "start_time": "2023-01-29T16:55:07.669Z"
   },
   {
    "duration": 27,
    "start_time": "2023-01-29T16:55:07.674Z"
   },
   {
    "duration": 29,
    "start_time": "2023-01-29T16:55:07.703Z"
   },
   {
    "duration": 24,
    "start_time": "2023-01-29T16:55:07.734Z"
   },
   {
    "duration": 29,
    "start_time": "2023-01-29T16:55:07.761Z"
   },
   {
    "duration": 53,
    "start_time": "2023-01-29T16:55:07.792Z"
   },
   {
    "duration": 12,
    "start_time": "2023-01-29T16:55:07.847Z"
   },
   {
    "duration": 17,
    "start_time": "2023-01-29T16:55:07.861Z"
   },
   {
    "duration": 36,
    "start_time": "2023-01-29T16:55:07.880Z"
   },
   {
    "duration": 50,
    "start_time": "2023-01-29T16:55:07.918Z"
   },
   {
    "duration": 20,
    "start_time": "2023-01-29T16:55:07.970Z"
   },
   {
    "duration": 23,
    "start_time": "2023-01-29T16:55:07.992Z"
   },
   {
    "duration": 38,
    "start_time": "2023-01-29T16:55:08.018Z"
   },
   {
    "duration": 16,
    "start_time": "2023-01-29T16:55:08.058Z"
   },
   {
    "duration": 5,
    "start_time": "2023-01-29T16:55:08.075Z"
   },
   {
    "duration": 4126,
    "start_time": "2023-01-29T16:55:08.081Z"
   },
   {
    "duration": 224,
    "start_time": "2023-01-29T16:55:12.209Z"
   },
   {
    "duration": 22,
    "start_time": "2023-01-29T16:55:12.434Z"
   },
   {
    "duration": 202,
    "start_time": "2023-01-29T16:55:12.458Z"
   },
   {
    "duration": 204,
    "start_time": "2023-01-29T16:55:12.662Z"
   },
   {
    "duration": 13,
    "start_time": "2023-01-29T16:55:12.868Z"
   },
   {
    "duration": 185,
    "start_time": "2023-01-29T16:55:12.882Z"
   },
   {
    "duration": 6,
    "start_time": "2023-01-29T16:55:13.070Z"
   },
   {
    "duration": 82,
    "start_time": "2023-01-29T16:55:13.078Z"
   },
   {
    "duration": 14,
    "start_time": "2023-01-29T16:55:13.162Z"
   },
   {
    "duration": 66,
    "start_time": "2023-01-29T16:55:13.177Z"
   },
   {
    "duration": 51,
    "start_time": "2023-01-29T16:55:13.245Z"
   },
   {
    "duration": 14,
    "start_time": "2023-01-29T16:55:13.298Z"
   },
   {
    "duration": 56,
    "start_time": "2023-01-29T16:55:13.314Z"
   },
   {
    "duration": 277,
    "start_time": "2023-01-29T16:55:13.372Z"
   },
   {
    "duration": 76,
    "start_time": "2023-01-29T16:55:13.651Z"
   }
  ],
  "colab": {
   "name": "dpp_template_part2.ipynb",
   "provenance": []
  },
  "kernelspec": {
   "display_name": "Python 3 (ipykernel)",
   "language": "python",
   "name": "python3"
  },
  "language_info": {
   "codemirror_mode": {
    "name": "ipython",
    "version": 3
   },
   "file_extension": ".py",
   "mimetype": "text/x-python",
   "name": "python",
   "nbconvert_exporter": "python",
   "pygments_lexer": "ipython3",
   "version": "3.10.9"
  },
  "toc": {
   "base_numbering": 1,
   "nav_menu": {},
   "number_sections": true,
   "sideBar": true,
   "skip_h1_title": true,
   "title_cell": "Table of Contents",
   "title_sidebar": "Contents",
   "toc_cell": false,
   "toc_position": {
    "height": "calc(100% - 180px)",
    "left": "10px",
    "top": "150px",
    "width": "268.6px"
   },
   "toc_section_display": true,
   "toc_window_display": true
  },
  "varInspector": {
   "cols": {
    "lenName": 16,
    "lenType": 16,
    "lenVar": 40
   },
   "kernels_config": {
    "python": {
     "delete_cmd_postfix": "",
     "delete_cmd_prefix": "del ",
     "library": "var_list.py",
     "varRefreshCmd": "print(var_dic_list())"
    },
    "r": {
     "delete_cmd_postfix": ") ",
     "delete_cmd_prefix": "rm(",
     "library": "var_list.r",
     "varRefreshCmd": "cat(var_dic_list()) "
    }
   },
   "types_to_exclude": [
    "module",
    "function",
    "builtin_function_or_method",
    "instance",
    "_Feature"
   ],
   "window_display": false
  }
 },
 "nbformat": 4,
 "nbformat_minor": 5
}

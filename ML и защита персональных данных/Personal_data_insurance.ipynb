{
 "cells": [
  {
   "cell_type": "markdown",
   "metadata": {},
   "source": [
    "# Защита персональных данных клиентов"
   ]
  },
  {
   "cell_type": "markdown",
   "metadata": {},
   "source": [
    "Требуется защитить данные клиентов страховой компании. Необходимо предложить и обосновать метод преобразования данных, чтобы по ним было сложно восстановить персональную информацию.\n",
    "\n",
    "Нужно защитить данные, чтобы при преобразовании качество моделей машинного обучения не ухудшилось. "
   ]
  },
  {
   "cell_type": "markdown",
   "metadata": {},
   "source": [
    "## Загрузка данных"
   ]
  },
  {
   "cell_type": "markdown",
   "metadata": {},
   "source": [
    "### Импорт библиотек"
   ]
  },
  {
   "cell_type": "code",
   "execution_count": 1,
   "metadata": {
    "scrolled": true
   },
   "outputs": [
    {
     "name": "stdout",
     "output_type": "stream",
     "text": [
      "Requirement already satisfied: pip in c:\\users\\miair\\anaconda3\\lib\\site-packages (23.2.1)\n"
     ]
    },
    {
     "name": "stderr",
     "output_type": "stream",
     "text": [
      "WARNING: Ignoring invalid distribution -pencv-python (c:\\users\\miair\\anaconda3\\lib\\site-packages)\n",
      "WARNING: Ignoring invalid distribution -pencv-python (c:\\users\\miair\\anaconda3\\lib\\site-packages)\n"
     ]
    },
    {
     "name": "stdout",
     "output_type": "stream",
     "text": [
      "Requirement already satisfied: Pillow in c:\\users\\miair\\anaconda3\\lib\\site-packages (10.0.0)\n"
     ]
    },
    {
     "name": "stderr",
     "output_type": "stream",
     "text": [
      "WARNING: Ignoring invalid distribution -pencv-python (c:\\users\\miair\\anaconda3\\lib\\site-packages)\n",
      "WARNING: Ignoring invalid distribution -pencv-python (c:\\users\\miair\\anaconda3\\lib\\site-packages)\n"
     ]
    },
    {
     "name": "stdout",
     "output_type": "stream",
     "text": [
      "Requirement already satisfied: ydata-profiling[notebook] in c:\\users\\miair\\anaconda3\\lib\\site-packages (4.3.2)\n",
      "Requirement already satisfied: scipy<1.11,>=1.4.1 in c:\\users\\miair\\anaconda3\\lib\\site-packages (from ydata-profiling[notebook]) (1.9.3)\n",
      "Requirement already satisfied: pandas!=1.4.0,<2.1,>1.1 in c:\\users\\miair\\anaconda3\\lib\\site-packages (from ydata-profiling[notebook]) (1.5.3)\n",
      "Requirement already satisfied: matplotlib<4,>=3.2 in c:\\users\\miair\\anaconda3\\lib\\site-packages (from ydata-profiling[notebook]) (3.6.2)\n",
      "Requirement already satisfied: pydantic<2,>=1.8.1 in c:\\users\\miair\\anaconda3\\lib\\site-packages (from ydata-profiling[notebook]) (1.10.12)\n",
      "Requirement already satisfied: PyYAML<6.1,>=5.0.0 in c:\\users\\miair\\anaconda3\\lib\\site-packages (from ydata-profiling[notebook]) (6.0)\n",
      "Requirement already satisfied: jinja2<3.2,>=2.11.1 in c:\\users\\miair\\anaconda3\\lib\\site-packages (from ydata-profiling[notebook]) (3.1.2)\n",
      "Requirement already satisfied: visions[type_image_path]==0.7.5 in c:\\users\\miair\\anaconda3\\lib\\site-packages (from ydata-profiling[notebook]) (0.7.5)\n",
      "Requirement already satisfied: numpy<1.24,>=1.16.0 in c:\\users\\miair\\anaconda3\\lib\\site-packages (from ydata-profiling[notebook]) (1.23.5)\n",
      "Requirement already satisfied: htmlmin==0.1.12 in c:\\users\\miair\\anaconda3\\lib\\site-packages (from ydata-profiling[notebook]) (0.1.12)\n",
      "Requirement already satisfied: phik<0.13,>=0.11.1 in c:\\users\\miair\\anaconda3\\lib\\site-packages (from ydata-profiling[notebook]) (0.12.3)\n",
      "Requirement already satisfied: requests<3,>=2.24.0 in c:\\users\\miair\\anaconda3\\lib\\site-packages (from ydata-profiling[notebook]) (2.28.1)\n",
      "Requirement already satisfied: tqdm<5,>=4.48.2 in c:\\users\\miair\\anaconda3\\lib\\site-packages (from ydata-profiling[notebook]) (4.64.1)\n",
      "Requirement already satisfied: seaborn<0.13,>=0.10.1 in c:\\users\\miair\\anaconda3\\lib\\site-packages (from ydata-profiling[notebook]) (0.12.2)\n",
      "Requirement already satisfied: multimethod<2,>=1.4 in c:\\users\\miair\\anaconda3\\lib\\site-packages (from ydata-profiling[notebook]) (1.5)\n",
      "Requirement already satisfied: statsmodels<1,>=0.13.2 in c:\\users\\miair\\anaconda3\\lib\\site-packages (from ydata-profiling[notebook]) (0.13.5)\n",
      "Requirement already satisfied: typeguard<3,>=2.13.2 in c:\\users\\miair\\anaconda3\\lib\\site-packages (from ydata-profiling[notebook]) (2.13.3)\n",
      "Requirement already satisfied: imagehash==4.3.1 in c:\\users\\miair\\anaconda3\\lib\\site-packages (from ydata-profiling[notebook]) (4.3.1)\n",
      "Requirement already satisfied: wordcloud>=1.9.1 in c:\\users\\miair\\anaconda3\\lib\\site-packages (from ydata-profiling[notebook]) (1.9.2)\n",
      "Requirement already satisfied: dacite>=1.8 in c:\\users\\miair\\anaconda3\\lib\\site-packages (from ydata-profiling[notebook]) (1.8.1)\n",
      "Requirement already satisfied: jupyter-client>=5.3.4 in c:\\users\\miair\\anaconda3\\lib\\site-packages (from ydata-profiling[notebook]) (7.3.4)\n",
      "Requirement already satisfied: jupyter-core>=4.6.3 in c:\\users\\miair\\anaconda3\\lib\\site-packages (from ydata-profiling[notebook]) (5.2.0)\n",
      "Requirement already satisfied: ipywidgets>=7.5.1 in c:\\users\\miair\\anaconda3\\lib\\site-packages (from ydata-profiling[notebook]) (7.6.5)\n",
      "Requirement already satisfied: pillow in c:\\users\\miair\\anaconda3\\lib\\site-packages (from imagehash==4.3.1->ydata-profiling[notebook]) (10.0.0)\n",
      "Requirement already satisfied: PyWavelets in c:\\users\\miair\\anaconda3\\lib\\site-packages (from imagehash==4.3.1->ydata-profiling[notebook]) (1.4.1)\n",
      "Requirement already satisfied: attrs>=19.3.0 in c:\\users\\miair\\anaconda3\\lib\\site-packages (from visions[type_image_path]==0.7.5->ydata-profiling[notebook]) (22.1.0)\n",
      "Requirement already satisfied: networkx>=2.4 in c:\\users\\miair\\anaconda3\\lib\\site-packages (from visions[type_image_path]==0.7.5->ydata-profiling[notebook]) (2.8.4)\n",
      "Requirement already satisfied: tangled-up-in-unicode>=0.0.4 in c:\\users\\miair\\anaconda3\\lib\\site-packages (from visions[type_image_path]==0.7.5->ydata-profiling[notebook]) (0.2.0)\n",
      "Requirement already satisfied: ipykernel>=4.5.1 in c:\\users\\miair\\anaconda3\\lib\\site-packages (from ipywidgets>=7.5.1->ydata-profiling[notebook]) (6.19.2)\n",
      "Requirement already satisfied: ipython-genutils~=0.2.0 in c:\\users\\miair\\anaconda3\\lib\\site-packages (from ipywidgets>=7.5.1->ydata-profiling[notebook]) (0.2.0)\n",
      "Requirement already satisfied: traitlets>=4.3.1 in c:\\users\\miair\\anaconda3\\lib\\site-packages (from ipywidgets>=7.5.1->ydata-profiling[notebook]) (5.7.1)\n",
      "Requirement already satisfied: nbformat>=4.2.0 in c:\\users\\miair\\anaconda3\\lib\\site-packages (from ipywidgets>=7.5.1->ydata-profiling[notebook]) (5.7.0)\n",
      "Requirement already satisfied: widgetsnbextension~=3.5.0 in c:\\users\\miair\\anaconda3\\lib\\site-packages (from ipywidgets>=7.5.1->ydata-profiling[notebook]) (3.5.2)\n",
      "Requirement already satisfied: ipython>=4.0.0 in c:\\users\\miair\\anaconda3\\lib\\site-packages (from ipywidgets>=7.5.1->ydata-profiling[notebook]) (8.10.0)\n",
      "Requirement already satisfied: jupyterlab-widgets>=1.0.0 in c:\\users\\miair\\anaconda3\\lib\\site-packages (from ipywidgets>=7.5.1->ydata-profiling[notebook]) (1.0.0)\n",
      "Requirement already satisfied: MarkupSafe>=2.0 in c:\\users\\miair\\anaconda3\\lib\\site-packages (from jinja2<3.2,>=2.11.1->ydata-profiling[notebook]) (2.1.1)\n",
      "Requirement already satisfied: entrypoints in c:\\users\\miair\\anaconda3\\lib\\site-packages (from jupyter-client>=5.3.4->ydata-profiling[notebook]) (0.4)\n",
      "Requirement already satisfied: nest-asyncio>=1.5.4 in c:\\users\\miair\\anaconda3\\lib\\site-packages (from jupyter-client>=5.3.4->ydata-profiling[notebook]) (1.5.6)\n",
      "Requirement already satisfied: python-dateutil>=2.8.2 in c:\\users\\miair\\anaconda3\\lib\\site-packages (from jupyter-client>=5.3.4->ydata-profiling[notebook]) (2.8.2)\n",
      "Requirement already satisfied: pyzmq>=23.0 in c:\\users\\miair\\anaconda3\\lib\\site-packages (from jupyter-client>=5.3.4->ydata-profiling[notebook]) (23.2.0)\n",
      "Requirement already satisfied: tornado>=6.0 in c:\\users\\miair\\anaconda3\\lib\\site-packages (from jupyter-client>=5.3.4->ydata-profiling[notebook]) (6.1)\n",
      "Requirement already satisfied: platformdirs>=2.5 in c:\\users\\miair\\anaconda3\\lib\\site-packages (from jupyter-core>=4.6.3->ydata-profiling[notebook]) (2.5.2)\n",
      "Requirement already satisfied: pywin32>=1.0 in c:\\users\\miair\\anaconda3\\lib\\site-packages (from jupyter-core>=4.6.3->ydata-profiling[notebook]) (305.1)\n",
      "Requirement already satisfied: contourpy>=1.0.1 in c:\\users\\miair\\anaconda3\\lib\\site-packages (from matplotlib<4,>=3.2->ydata-profiling[notebook]) (1.0.5)\n",
      "Requirement already satisfied: cycler>=0.10 in c:\\users\\miair\\anaconda3\\lib\\site-packages (from matplotlib<4,>=3.2->ydata-profiling[notebook]) (0.11.0)\n",
      "Requirement already satisfied: fonttools>=4.22.0 in c:\\users\\miair\\anaconda3\\lib\\site-packages (from matplotlib<4,>=3.2->ydata-profiling[notebook]) (4.25.0)\n",
      "Requirement already satisfied: kiwisolver>=1.0.1 in c:\\users\\miair\\anaconda3\\lib\\site-packages (from matplotlib<4,>=3.2->ydata-profiling[notebook]) (1.4.4)\n",
      "Requirement already satisfied: packaging>=20.0 in c:\\users\\miair\\anaconda3\\lib\\site-packages (from matplotlib<4,>=3.2->ydata-profiling[notebook]) (22.0)\n",
      "Requirement already satisfied: pyparsing>=2.2.1 in c:\\users\\miair\\anaconda3\\lib\\site-packages (from matplotlib<4,>=3.2->ydata-profiling[notebook]) (3.0.9)\n",
      "Requirement already satisfied: pytz>=2020.1 in c:\\users\\miair\\anaconda3\\lib\\site-packages (from pandas!=1.4.0,<2.1,>1.1->ydata-profiling[notebook]) (2022.7)\n",
      "Requirement already satisfied: joblib>=0.14.1 in c:\\users\\miair\\anaconda3\\lib\\site-packages (from phik<0.13,>=0.11.1->ydata-profiling[notebook]) (1.1.1)\n",
      "Requirement already satisfied: typing-extensions>=4.2.0 in c:\\users\\miair\\anaconda3\\lib\\site-packages (from pydantic<2,>=1.8.1->ydata-profiling[notebook]) (4.7.1)\n",
      "Requirement already satisfied: charset-normalizer<3,>=2 in c:\\users\\miair\\anaconda3\\lib\\site-packages (from requests<3,>=2.24.0->ydata-profiling[notebook]) (2.0.4)\n",
      "Requirement already satisfied: idna<4,>=2.5 in c:\\users\\miair\\anaconda3\\lib\\site-packages (from requests<3,>=2.24.0->ydata-profiling[notebook]) (3.4)\n",
      "Requirement already satisfied: urllib3<1.27,>=1.21.1 in c:\\users\\miair\\anaconda3\\lib\\site-packages (from requests<3,>=2.24.0->ydata-profiling[notebook]) (1.26.14)\n",
      "Requirement already satisfied: certifi>=2017.4.17 in c:\\users\\miair\\anaconda3\\lib\\site-packages (from requests<3,>=2.24.0->ydata-profiling[notebook]) (2023.5.7)\n",
      "Requirement already satisfied: patsy>=0.5.2 in c:\\users\\miair\\anaconda3\\lib\\site-packages (from statsmodels<1,>=0.13.2->ydata-profiling[notebook]) (0.5.3)\n",
      "Requirement already satisfied: colorama in c:\\users\\miair\\anaconda3\\lib\\site-packages (from tqdm<5,>=4.48.2->ydata-profiling[notebook]) (0.4.6)\n",
      "Requirement already satisfied: comm>=0.1.1 in c:\\users\\miair\\anaconda3\\lib\\site-packages (from ipykernel>=4.5.1->ipywidgets>=7.5.1->ydata-profiling[notebook]) (0.1.2)\n",
      "Requirement already satisfied: debugpy>=1.0 in c:\\users\\miair\\anaconda3\\lib\\site-packages (from ipykernel>=4.5.1->ipywidgets>=7.5.1->ydata-profiling[notebook]) (1.5.1)\n",
      "Requirement already satisfied: matplotlib-inline>=0.1 in c:\\users\\miair\\anaconda3\\lib\\site-packages (from ipykernel>=4.5.1->ipywidgets>=7.5.1->ydata-profiling[notebook]) (0.1.6)\n",
      "Requirement already satisfied: psutil in c:\\users\\miair\\anaconda3\\lib\\site-packages (from ipykernel>=4.5.1->ipywidgets>=7.5.1->ydata-profiling[notebook]) (5.9.0)\n",
      "Requirement already satisfied: backcall in c:\\users\\miair\\anaconda3\\lib\\site-packages (from ipython>=4.0.0->ipywidgets>=7.5.1->ydata-profiling[notebook]) (0.2.0)\n",
      "Requirement already satisfied: decorator in c:\\users\\miair\\anaconda3\\lib\\site-packages (from ipython>=4.0.0->ipywidgets>=7.5.1->ydata-profiling[notebook]) (5.1.1)\n",
      "Requirement already satisfied: jedi>=0.16 in c:\\users\\miair\\anaconda3\\lib\\site-packages (from ipython>=4.0.0->ipywidgets>=7.5.1->ydata-profiling[notebook]) (0.18.1)\n",
      "Requirement already satisfied: pickleshare in c:\\users\\miair\\anaconda3\\lib\\site-packages (from ipython>=4.0.0->ipywidgets>=7.5.1->ydata-profiling[notebook]) (0.7.5)\n",
      "Requirement already satisfied: prompt-toolkit<3.1.0,>=3.0.30 in c:\\users\\miair\\anaconda3\\lib\\site-packages (from ipython>=4.0.0->ipywidgets>=7.5.1->ydata-profiling[notebook]) (3.0.36)\n",
      "Requirement already satisfied: pygments>=2.4.0 in c:\\users\\miair\\anaconda3\\lib\\site-packages (from ipython>=4.0.0->ipywidgets>=7.5.1->ydata-profiling[notebook]) (2.15.1)\n",
      "Requirement already satisfied: stack-data in c:\\users\\miair\\anaconda3\\lib\\site-packages (from ipython>=4.0.0->ipywidgets>=7.5.1->ydata-profiling[notebook]) (0.2.0)\n",
      "Requirement already satisfied: fastjsonschema in c:\\users\\miair\\anaconda3\\lib\\site-packages (from nbformat>=4.2.0->ipywidgets>=7.5.1->ydata-profiling[notebook]) (2.16.2)\n",
      "Requirement already satisfied: jsonschema>=2.6 in c:\\users\\miair\\anaconda3\\lib\\site-packages (from nbformat>=4.2.0->ipywidgets>=7.5.1->ydata-profiling[notebook]) (4.17.3)\n",
      "Requirement already satisfied: six in c:\\users\\miair\\anaconda3\\lib\\site-packages (from patsy>=0.5.2->statsmodels<1,>=0.13.2->ydata-profiling[notebook]) (1.16.0)\n",
      "Requirement already satisfied: notebook>=4.4.1 in c:\\users\\miair\\anaconda3\\lib\\site-packages (from widgetsnbextension~=3.5.0->ipywidgets>=7.5.1->ydata-profiling[notebook]) (6.5.2)\n",
      "Requirement already satisfied: parso<0.9.0,>=0.8.0 in c:\\users\\miair\\anaconda3\\lib\\site-packages (from jedi>=0.16->ipython>=4.0.0->ipywidgets>=7.5.1->ydata-profiling[notebook]) (0.8.3)\n",
      "Requirement already satisfied: pyrsistent!=0.17.0,!=0.17.1,!=0.17.2,>=0.14.0 in c:\\users\\miair\\anaconda3\\lib\\site-packages (from jsonschema>=2.6->nbformat>=4.2.0->ipywidgets>=7.5.1->ydata-profiling[notebook]) (0.18.0)\n",
      "Requirement already satisfied: argon2-cffi in c:\\users\\miair\\anaconda3\\lib\\site-packages (from notebook>=4.4.1->widgetsnbextension~=3.5.0->ipywidgets>=7.5.1->ydata-profiling[notebook]) (21.3.0)\n",
      "Requirement already satisfied: nbconvert>=5 in c:\\users\\miair\\anaconda3\\lib\\site-packages (from notebook>=4.4.1->widgetsnbextension~=3.5.0->ipywidgets>=7.5.1->ydata-profiling[notebook]) (6.5.4)\n",
      "Requirement already satisfied: Send2Trash>=1.8.0 in c:\\users\\miair\\anaconda3\\lib\\site-packages (from notebook>=4.4.1->widgetsnbextension~=3.5.0->ipywidgets>=7.5.1->ydata-profiling[notebook]) (1.8.0)\n",
      "Requirement already satisfied: terminado>=0.8.3 in c:\\users\\miair\\anaconda3\\lib\\site-packages (from notebook>=4.4.1->widgetsnbextension~=3.5.0->ipywidgets>=7.5.1->ydata-profiling[notebook]) (0.17.1)\n",
      "Requirement already satisfied: prometheus-client in c:\\users\\miair\\anaconda3\\lib\\site-packages (from notebook>=4.4.1->widgetsnbextension~=3.5.0->ipywidgets>=7.5.1->ydata-profiling[notebook]) (0.14.1)\n",
      "Requirement already satisfied: nbclassic>=0.4.7 in c:\\users\\miair\\anaconda3\\lib\\site-packages (from notebook>=4.4.1->widgetsnbextension~=3.5.0->ipywidgets>=7.5.1->ydata-profiling[notebook]) (0.5.2)\n",
      "Requirement already satisfied: wcwidth in c:\\users\\miair\\anaconda3\\lib\\site-packages (from prompt-toolkit<3.1.0,>=3.0.30->ipython>=4.0.0->ipywidgets>=7.5.1->ydata-profiling[notebook]) (0.2.5)\n",
      "Requirement already satisfied: executing in c:\\users\\miair\\anaconda3\\lib\\site-packages (from stack-data->ipython>=4.0.0->ipywidgets>=7.5.1->ydata-profiling[notebook]) (0.8.3)\n",
      "Requirement already satisfied: asttokens in c:\\users\\miair\\anaconda3\\lib\\site-packages (from stack-data->ipython>=4.0.0->ipywidgets>=7.5.1->ydata-profiling[notebook]) (2.0.5)\n",
      "Requirement already satisfied: pure-eval in c:\\users\\miair\\anaconda3\\lib\\site-packages (from stack-data->ipython>=4.0.0->ipywidgets>=7.5.1->ydata-profiling[notebook]) (0.2.2)\n",
      "Requirement already satisfied: jupyter-server>=1.8 in c:\\users\\miair\\anaconda3\\lib\\site-packages (from nbclassic>=0.4.7->notebook>=4.4.1->widgetsnbextension~=3.5.0->ipywidgets>=7.5.1->ydata-profiling[notebook]) (1.23.4)\n",
      "Requirement already satisfied: notebook-shim>=0.1.0 in c:\\users\\miair\\anaconda3\\lib\\site-packages (from nbclassic>=0.4.7->notebook>=4.4.1->widgetsnbextension~=3.5.0->ipywidgets>=7.5.1->ydata-profiling[notebook]) (0.2.2)\n",
      "Requirement already satisfied: lxml in c:\\users\\miair\\anaconda3\\lib\\site-packages (from nbconvert>=5->notebook>=4.4.1->widgetsnbextension~=3.5.0->ipywidgets>=7.5.1->ydata-profiling[notebook]) (4.9.1)\n",
      "Requirement already satisfied: beautifulsoup4 in c:\\users\\miair\\anaconda3\\lib\\site-packages (from nbconvert>=5->notebook>=4.4.1->widgetsnbextension~=3.5.0->ipywidgets>=7.5.1->ydata-profiling[notebook]) (4.11.1)\n",
      "Requirement already satisfied: bleach in c:\\users\\miair\\anaconda3\\lib\\site-packages (from nbconvert>=5->notebook>=4.4.1->widgetsnbextension~=3.5.0->ipywidgets>=7.5.1->ydata-profiling[notebook]) (4.1.0)\n",
      "Requirement already satisfied: defusedxml in c:\\users\\miair\\anaconda3\\lib\\site-packages (from nbconvert>=5->notebook>=4.4.1->widgetsnbextension~=3.5.0->ipywidgets>=7.5.1->ydata-profiling[notebook]) (0.7.1)\n",
      "Requirement already satisfied: jupyterlab-pygments in c:\\users\\miair\\anaconda3\\lib\\site-packages (from nbconvert>=5->notebook>=4.4.1->widgetsnbextension~=3.5.0->ipywidgets>=7.5.1->ydata-profiling[notebook]) (0.1.2)\n",
      "Requirement already satisfied: mistune<2,>=0.8.1 in c:\\users\\miair\\anaconda3\\lib\\site-packages (from nbconvert>=5->notebook>=4.4.1->widgetsnbextension~=3.5.0->ipywidgets>=7.5.1->ydata-profiling[notebook]) (0.8.4)\n",
      "Requirement already satisfied: nbclient>=0.5.0 in c:\\users\\miair\\anaconda3\\lib\\site-packages (from nbconvert>=5->notebook>=4.4.1->widgetsnbextension~=3.5.0->ipywidgets>=7.5.1->ydata-profiling[notebook]) (0.5.13)\n",
      "Requirement already satisfied: pandocfilters>=1.4.1 in c:\\users\\miair\\anaconda3\\lib\\site-packages (from nbconvert>=5->notebook>=4.4.1->widgetsnbextension~=3.5.0->ipywidgets>=7.5.1->ydata-profiling[notebook]) (1.5.0)\n",
      "Requirement already satisfied: tinycss2 in c:\\users\\miair\\anaconda3\\lib\\site-packages (from nbconvert>=5->notebook>=4.4.1->widgetsnbextension~=3.5.0->ipywidgets>=7.5.1->ydata-profiling[notebook]) (1.2.1)\n",
      "Requirement already satisfied: pywinpty>=1.1.0 in c:\\users\\miair\\anaconda3\\lib\\site-packages (from terminado>=0.8.3->notebook>=4.4.1->widgetsnbextension~=3.5.0->ipywidgets>=7.5.1->ydata-profiling[notebook]) (2.0.10)\n",
      "Requirement already satisfied: argon2-cffi-bindings in c:\\users\\miair\\anaconda3\\lib\\site-packages (from argon2-cffi->notebook>=4.4.1->widgetsnbextension~=3.5.0->ipywidgets>=7.5.1->ydata-profiling[notebook]) (21.2.0)\n",
      "Requirement already satisfied: anyio<4,>=3.1.0 in c:\\users\\miair\\anaconda3\\lib\\site-packages (from jupyter-server>=1.8->nbclassic>=0.4.7->notebook>=4.4.1->widgetsnbextension~=3.5.0->ipywidgets>=7.5.1->ydata-profiling[notebook]) (3.7.1)\n",
      "Requirement already satisfied: websocket-client in c:\\users\\miair\\anaconda3\\lib\\site-packages (from jupyter-server>=1.8->nbclassic>=0.4.7->notebook>=4.4.1->widgetsnbextension~=3.5.0->ipywidgets>=7.5.1->ydata-profiling[notebook]) (0.58.0)\n",
      "Requirement already satisfied: cffi>=1.0.1 in c:\\users\\miair\\anaconda3\\lib\\site-packages (from argon2-cffi-bindings->argon2-cffi->notebook>=4.4.1->widgetsnbextension~=3.5.0->ipywidgets>=7.5.1->ydata-profiling[notebook]) (1.15.1)\n",
      "Requirement already satisfied: soupsieve>1.2 in c:\\users\\miair\\anaconda3\\lib\\site-packages (from beautifulsoup4->nbconvert>=5->notebook>=4.4.1->widgetsnbextension~=3.5.0->ipywidgets>=7.5.1->ydata-profiling[notebook]) (2.3.2.post1)\n",
      "Requirement already satisfied: webencodings in c:\\users\\miair\\anaconda3\\lib\\site-packages (from bleach->nbconvert>=5->notebook>=4.4.1->widgetsnbextension~=3.5.0->ipywidgets>=7.5.1->ydata-profiling[notebook]) (0.5.1)\n",
      "Requirement already satisfied: sniffio>=1.1 in c:\\users\\miair\\anaconda3\\lib\\site-packages (from anyio<4,>=3.1.0->jupyter-server>=1.8->nbclassic>=0.4.7->notebook>=4.4.1->widgetsnbextension~=3.5.0->ipywidgets>=7.5.1->ydata-profiling[notebook]) (1.3.0)\n",
      "Requirement already satisfied: exceptiongroup in c:\\users\\miair\\anaconda3\\lib\\site-packages (from anyio<4,>=3.1.0->jupyter-server>=1.8->nbclassic>=0.4.7->notebook>=4.4.1->widgetsnbextension~=3.5.0->ipywidgets>=7.5.1->ydata-profiling[notebook]) (1.1.2)\n",
      "Requirement already satisfied: pycparser in c:\\users\\miair\\anaconda3\\lib\\site-packages (from cffi>=1.0.1->argon2-cffi-bindings->argon2-cffi->notebook>=4.4.1->widgetsnbextension~=3.5.0->ipywidgets>=7.5.1->ydata-profiling[notebook]) (2.21)\n"
     ]
    },
    {
     "name": "stderr",
     "output_type": "stream",
     "text": [
      "WARNING: Ignoring invalid distribution -pencv-python (c:\\users\\miair\\anaconda3\\lib\\site-packages)\n",
      "WARNING: Ignoring invalid distribution -pencv-python (c:\\users\\miair\\anaconda3\\lib\\site-packages)\n",
      "Enabling notebook extension jupyter-js-widgets/extension...\n",
      "      - Validating: ok\n"
     ]
    }
   ],
   "source": [
    "import pandas as pd\n",
    "pd.options.mode.chained_assignment = None\n",
    "pd.set_option('display.max_columns', None)\n",
    "\n",
    "from sklearn.linear_model import LinearRegression\n",
    "from sklearn.preprocessing import StandardScaler\n",
    "from sklearn.model_selection import cross_val_score\n",
    "from sklearn.metrics import r2_score\n",
    "\n",
    "import numpy as np\n",
    "from matplotlib import pyplot as plt\n",
    "\n",
    "import sys\n",
    "!{sys.executable} -m pip install --upgrade pip\n",
    "!{sys.executable} -m pip install --upgrade Pillow\n",
    "!{sys.executable} -m pip install -U ydata-profiling[notebook]\n",
    "!jupyter nbextension enable --py widgetsnbextension\n",
    "\n",
    "from ydata_profiling import ProfileReport"
   ]
  },
  {
   "cell_type": "markdown",
   "metadata": {},
   "source": [
    "### Первичный анализ данных"
   ]
  },
  {
   "cell_type": "code",
   "execution_count": 2,
   "metadata": {},
   "outputs": [],
   "source": [
    "df = pd.read_csv('insurance.csv')"
   ]
  },
  {
   "cell_type": "code",
   "execution_count": 5,
   "metadata": {},
   "outputs": [
    {
     "data": {
      "application/vnd.jupyter.widget-view+json": {
       "model_id": "ff96fb02e8fa4691a24a63d0ddd87cda",
       "version_major": 2,
       "version_minor": 0
      },
      "text/plain": [
       "Summarize dataset:   0%|          | 0/5 [00:00<?, ?it/s]"
      ]
     },
     "metadata": {},
     "output_type": "display_data"
    },
    {
     "data": {
      "application/vnd.jupyter.widget-view+json": {
       "model_id": "6866a959712a4f11878fb4c033f3e8da",
       "version_major": 2,
       "version_minor": 0
      },
      "text/plain": [
       "Generate report structure:   0%|          | 0/1 [00:00<?, ?it/s]"
      ]
     },
     "metadata": {},
     "output_type": "display_data"
    },
    {
     "data": {
      "application/vnd.jupyter.widget-view+json": {
       "model_id": "",
       "version_major": 2,
       "version_minor": 0
      },
      "text/plain": [
       "Render widgets:   0%|          | 0/1 [00:00<?, ?it/s]"
      ]
     },
     "metadata": {},
     "output_type": "display_data"
    },
    {
     "data": {
      "text/html": [
       "<div>\n",
       "<style scoped>\n",
       "    .dataframe tbody tr th:only-of-type {\n",
       "        vertical-align: middle;\n",
       "    }\n",
       "\n",
       "    .dataframe tbody tr th {\n",
       "        vertical-align: top;\n",
       "    }\n",
       "\n",
       "    .dataframe thead th {\n",
       "        text-align: right;\n",
       "    }\n",
       "</style>\n",
       "<table border=\"1\" class=\"dataframe\">\n",
       "  <thead>\n",
       "    <tr style=\"text-align: right;\">\n",
       "      <th></th>\n",
       "      <th>Пол</th>\n",
       "      <th>Возраст</th>\n",
       "      <th>Зарплата</th>\n",
       "      <th>Члены семьи</th>\n",
       "      <th>Страховые выплаты</th>\n",
       "    </tr>\n",
       "  </thead>\n",
       "  <tbody>\n",
       "    <tr>\n",
       "      <th>4990</th>\n",
       "      <td>0</td>\n",
       "      <td>22.0</td>\n",
       "      <td>56800.0</td>\n",
       "      <td>1</td>\n",
       "      <td>0</td>\n",
       "    </tr>\n",
       "    <tr>\n",
       "      <th>4991</th>\n",
       "      <td>0</td>\n",
       "      <td>21.0</td>\n",
       "      <td>38300.0</td>\n",
       "      <td>3</td>\n",
       "      <td>0</td>\n",
       "    </tr>\n",
       "    <tr>\n",
       "      <th>4992</th>\n",
       "      <td>0</td>\n",
       "      <td>45.0</td>\n",
       "      <td>54600.0</td>\n",
       "      <td>0</td>\n",
       "      <td>1</td>\n",
       "    </tr>\n",
       "    <tr>\n",
       "      <th>4993</th>\n",
       "      <td>1</td>\n",
       "      <td>32.0</td>\n",
       "      <td>36000.0</td>\n",
       "      <td>1</td>\n",
       "      <td>0</td>\n",
       "    </tr>\n",
       "    <tr>\n",
       "      <th>4994</th>\n",
       "      <td>1</td>\n",
       "      <td>26.0</td>\n",
       "      <td>51400.0</td>\n",
       "      <td>0</td>\n",
       "      <td>0</td>\n",
       "    </tr>\n",
       "    <tr>\n",
       "      <th>4995</th>\n",
       "      <td>0</td>\n",
       "      <td>28.0</td>\n",
       "      <td>35700.0</td>\n",
       "      <td>2</td>\n",
       "      <td>0</td>\n",
       "    </tr>\n",
       "    <tr>\n",
       "      <th>4996</th>\n",
       "      <td>0</td>\n",
       "      <td>34.0</td>\n",
       "      <td>52400.0</td>\n",
       "      <td>1</td>\n",
       "      <td>0</td>\n",
       "    </tr>\n",
       "    <tr>\n",
       "      <th>4997</th>\n",
       "      <td>0</td>\n",
       "      <td>20.0</td>\n",
       "      <td>33900.0</td>\n",
       "      <td>2</td>\n",
       "      <td>0</td>\n",
       "    </tr>\n",
       "    <tr>\n",
       "      <th>4998</th>\n",
       "      <td>1</td>\n",
       "      <td>22.0</td>\n",
       "      <td>32700.0</td>\n",
       "      <td>3</td>\n",
       "      <td>0</td>\n",
       "    </tr>\n",
       "    <tr>\n",
       "      <th>4999</th>\n",
       "      <td>1</td>\n",
       "      <td>28.0</td>\n",
       "      <td>40600.0</td>\n",
       "      <td>1</td>\n",
       "      <td>0</td>\n",
       "    </tr>\n",
       "  </tbody>\n",
       "</table>\n",
       "</div>"
      ],
      "text/plain": [
       "      Пол  Возраст  Зарплата  Члены семьи  Страховые выплаты\n",
       "4990    0     22.0   56800.0            1                  0\n",
       "4991    0     21.0   38300.0            3                  0\n",
       "4992    0     45.0   54600.0            0                  1\n",
       "4993    1     32.0   36000.0            1                  0\n",
       "4994    1     26.0   51400.0            0                  0\n",
       "4995    0     28.0   35700.0            2                  0\n",
       "4996    0     34.0   52400.0            1                  0\n",
       "4997    0     20.0   33900.0            2                  0\n",
       "4998    1     22.0   32700.0            3                  0\n",
       "4999    1     28.0   40600.0            1                  0"
      ]
     },
     "metadata": {},
     "output_type": "display_data"
    },
    {
     "data": {
      "application/vnd.jupyter.widget-view+json": {
       "model_id": "f155a30dcdd6477daebd624937c21d9b",
       "version_major": 2,
       "version_minor": 0
      },
      "text/plain": [
       "VBox(children=(Tab(children=(Tab(children=(GridBox(children=(VBox(children=(GridspecLayout(children=(HTML(valu…"
      ]
     },
     "metadata": {},
     "output_type": "display_data"
    }
   ],
   "source": [
    "profile = ProfileReport(df, title=\"Insurance\")\n",
    "profile.to_widgets()"
   ]
  },
  {
   "cell_type": "markdown",
   "metadata": {},
   "source": [
    "### Выводы по анализу данных\n",
    "\n",
    "- датасет на удивление пристойный. Пропусков нет, дубликатов менее 3%. Дубликаты удалю.\n",
    "- распределение зарпаты похоже на нормальное, что логично.\n",
    "- распределение количества членов семьи понятное. Больших семей меньше. \n",
    "- распределение возраста также объяснимо. Видно плато наиболее активного периода жизни 25-40 лет. Пик 18-летних также не является аномалией, поскольку именно с наступлением совершеннолетия люди получают право оформить страховку, а значит, при одинаковых потребностях, 18-летних клиентов будет больше, чем 19-летних\n",
    "- положительная корреляция между страховыми выплатами за период 5 лет и возрастом, вероятно, объясняется тем, что с возрастом обычно появляется больше имущества, которое имеет смысл страховать"
   ]
  },
  {
   "cell_type": "code",
   "execution_count": 6,
   "metadata": {},
   "outputs": [
    {
     "data": {
      "text/plain": [
       "153"
      ]
     },
     "execution_count": 6,
     "metadata": {},
     "output_type": "execute_result"
    }
   ],
   "source": [
    "df.duplicated().sum()"
   ]
  },
  {
   "cell_type": "code",
   "execution_count": 7,
   "metadata": {},
   "outputs": [
    {
     "data": {
      "text/html": [
       "<div>\n",
       "<style scoped>\n",
       "    .dataframe tbody tr th:only-of-type {\n",
       "        vertical-align: middle;\n",
       "    }\n",
       "\n",
       "    .dataframe tbody tr th {\n",
       "        vertical-align: top;\n",
       "    }\n",
       "\n",
       "    .dataframe thead th {\n",
       "        text-align: right;\n",
       "    }\n",
       "</style>\n",
       "<table border=\"1\" class=\"dataframe\">\n",
       "  <thead>\n",
       "    <tr style=\"text-align: right;\">\n",
       "      <th></th>\n",
       "      <th>Пол</th>\n",
       "      <th>Возраст</th>\n",
       "      <th>Зарплата</th>\n",
       "      <th>Члены семьи</th>\n",
       "      <th>Страховые выплаты</th>\n",
       "    </tr>\n",
       "  </thead>\n",
       "  <tbody>\n",
       "    <tr>\n",
       "      <th>281</th>\n",
       "      <td>1</td>\n",
       "      <td>39.0</td>\n",
       "      <td>48100.0</td>\n",
       "      <td>1</td>\n",
       "      <td>0</td>\n",
       "    </tr>\n",
       "    <tr>\n",
       "      <th>488</th>\n",
       "      <td>1</td>\n",
       "      <td>24.0</td>\n",
       "      <td>32900.0</td>\n",
       "      <td>1</td>\n",
       "      <td>0</td>\n",
       "    </tr>\n",
       "    <tr>\n",
       "      <th>513</th>\n",
       "      <td>0</td>\n",
       "      <td>31.0</td>\n",
       "      <td>37400.0</td>\n",
       "      <td>2</td>\n",
       "      <td>0</td>\n",
       "    </tr>\n",
       "    <tr>\n",
       "      <th>718</th>\n",
       "      <td>1</td>\n",
       "      <td>22.0</td>\n",
       "      <td>32600.0</td>\n",
       "      <td>1</td>\n",
       "      <td>0</td>\n",
       "    </tr>\n",
       "    <tr>\n",
       "      <th>785</th>\n",
       "      <td>0</td>\n",
       "      <td>20.0</td>\n",
       "      <td>35800.0</td>\n",
       "      <td>0</td>\n",
       "      <td>0</td>\n",
       "    </tr>\n",
       "  </tbody>\n",
       "</table>\n",
       "</div>"
      ],
      "text/plain": [
       "     Пол  Возраст  Зарплата  Члены семьи  Страховые выплаты\n",
       "281    1     39.0   48100.0            1                  0\n",
       "488    1     24.0   32900.0            1                  0\n",
       "513    0     31.0   37400.0            2                  0\n",
       "718    1     22.0   32600.0            1                  0\n",
       "785    0     20.0   35800.0            0                  0"
      ]
     },
     "execution_count": 7,
     "metadata": {},
     "output_type": "execute_result"
    }
   ],
   "source": [
    "df[df.duplicated()].head()"
   ]
  },
  {
   "cell_type": "markdown",
   "metadata": {},
   "source": [
    "### Удаление дубликатов"
   ]
  },
  {
   "cell_type": "code",
   "execution_count": 8,
   "metadata": {},
   "outputs": [],
   "source": [
    "df = df.drop_duplicates().reset_index(drop=True)"
   ]
  },
  {
   "cell_type": "markdown",
   "metadata": {},
   "source": [
    "### Подготовка данных"
   ]
  },
  {
   "cell_type": "code",
   "execution_count": 9,
   "metadata": {},
   "outputs": [],
   "source": [
    "features = df.drop('Страховые выплаты', axis=1)\n",
    "target = df['Страховые выплаты']"
   ]
  },
  {
   "cell_type": "markdown",
   "metadata": {},
   "source": [
    "## Защита данных\n",
    "\n",
    "Предлагается для защиты персональных данных изменять матрицу признаков таким образом, чтобы затруднить интерпретацию записанных в ней данных"
   ]
  },
  {
   "cell_type": "markdown",
   "metadata": {},
   "source": [
    "### Доказательство"
   ]
  },
  {
   "cell_type": "markdown",
   "metadata": {},
   "source": [
    "При обучении вектор весов для признаков находятся по следующей формуле:\n",
    "\n",
    "$$\n",
    "w = (X^T X)^{-1} X^T y\n",
    "$$\n",
    "\n",
    "После чего решается задача минимизации среднего квадратичного отклонения между таргетом $y$ и произведением \n",
    "\n",
    "$$a=Xw$$"
   ]
  },
  {
   "cell_type": "markdown",
   "metadata": {},
   "source": [
    "Обозначения:\n",
    "\n",
    "- $X$ — матрица признаков\n",
    "\n",
    "- $y$ — вектор целевого признака\n",
    "\n",
    "- $w$ — вектор весов линейной регрессии\n",
    "\n",
    "- $P$ — матрица, на которую будут умножаться признаки. По условию задачи (и, как видно из формулы для $w$) матрица должна быть обратимая. То есть матрица $P$ имеет обратную матрицу $P^{-1}$, такую что $P \\cdot P^{-1} = E$, где  $E$ - единичная матрица. Это значит, что она квадратная размера ($X.shape[1] \\times X.shape[1]$) (чтобы быть совместимой с матрицей $X$) и невырожденная ($detA \\ne 0$)\n",
    "\n",
    "- $c=X.shape[1]$ - число столбцов матрицы $X$\n",
    "\n",
    "- $r=X.shape[0]$ - число строк матрицы $X$\n",
    "\n",
    "Размерности матриц:\n",
    "\n",
    "- $X - r \\times c$\n",
    "- $P - c \\times c$\n",
    "- $X^{T} - c \\times r$\n",
    "- $P^{T} - c \\times c$\n",
    "\n",
    "Свойства матриц, которые буду использовать:\n",
    "\n",
    "- $(AB)^{T}=B^{T}A^{T}$ - транспонированное произведение матриц равно произведению транспонированных матриц, взятых в обратном порядке\n",
    "- $(AB)^{-1}=B^{-1}A^{-1}$ - обратное произведение **обратимых(!)** матриц равно произведению обратных матриц, взятых в обратном порядке\n",
    "\n",
    "**Докажем, что если умножить матрицу $X$ на квадратную обратимую матрицу $P$, то значение $a$ не изменится, то есть**\n",
    "\n",
    "$X'w'=Xw$,\n",
    "\n",
    "где \n",
    "\n",
    "$X'=XP$, \n",
    "\n",
    "$w'=(X'^{T}X')^{-1}X'^{T}y$\n",
    "\n",
    "$w'=((XP)^{T}(XP))^{-1}(XP)^{T}y = (P^{T}X^{T}XP)^{-1}P^{T}X^{T}y = ((P^{T}) \\cdot (X^{T}XP))^{-1}P^{T}X^{T}y$\n",
    "\n",
    "Заметим, что матрицы $P^{T}$ и $X^{T}XP$ квадратные с размерностью $c \\times c$, а значит можно воспользоваться свойством обратного произведения матриц:\n",
    "\n",
    "$w' = (X^{T}XP)^{-1}(P^{T})^{-1}P^{T}X^{T}y = (X^{T}XP)^{-1}EX^{T}y = (X^{T}XP)^{-1}X^{T}y$\n",
    "\n",
    "Матрицы $P$ и $X^{T}X$ также квадратные с размерностью $c \\times c$, снова воспользуемся свойством обратного произведения матриц:\n",
    "\n",
    "$w' = P^{-1}(X^{T}X)^{-1}X^{T}y$\n",
    "\n",
    "Легко видеть, что\n",
    "\n",
    "$X'w' = XPw' = XPP^{-1}(X^{T}X)^{-1}X^{T}y = XE(X^{T}X)^{-1}X^{T}y = X(X^{T}X)^{-1}X^{T}y = Xw$\n",
    "\n",
    "**Что и требовалось доказать**"
   ]
  },
  {
   "cell_type": "markdown",
   "metadata": {},
   "source": [
    "### Вывод\n",
    "\n",
    "**Доказано, что для линейной регрессии умножение матрицы признаков на любую обратимую матрицу на результат предсказаний не влияет**"
   ]
  },
  {
   "cell_type": "markdown",
   "metadata": {},
   "source": [
    "## Алгоритм преобразования\n",
    "\n",
    "В задании сказано: \"Разработайте такой метод преобразования данных, чтобы по ним было сложно восстановить персональную информацию\". При этом, что такое \"сложно\", насколько сложно и т.д. не говорится. Поэтому в качестве алгоритмов преобразования будут рассмотрены:\n",
    "\n",
    "- масштабирование признаков стандартным способом (как пример защиты просто от любопытного взора) :)\n",
    "- умножение матрицы признаков на генерируемую по ключу случайную обратимую матрицу"
   ]
  },
  {
   "cell_type": "markdown",
   "metadata": {},
   "source": [
    "### Алгоритм\n",
    "\n",
    "- задается ключ - состояние генератора случайных чисел\n",
    "- генерируется случайная двумерная квадратная матрица, совместимая с матрицей признаков, при этом в цикле добавлена проверка, что матрица невырожденная. Понятно, что вероятность получить вырожденную матрицу, мягко скажем, невысока, но подстраховаться надо. "
   ]
  },
  {
   "cell_type": "code",
   "execution_count": 10,
   "metadata": {},
   "outputs": [
    {
     "name": "stdout",
     "output_type": "stream",
     "text": [
      "Ключ - состояние генератора случайных чисел - 1984\n"
     ]
    }
   ],
   "source": [
    "det_m = 0\n",
    "state = 1983\n",
    "while det_m == 0:\n",
    "    state += 1\n",
    "    KEY = np.random.default_rng(state)\n",
    "    M = KEY.random((features.shape[1], features.shape[1]))\n",
    "    det_m = np.linalg.det(M)\n",
    "    \n",
    "KEY = np.random.default_rng(state)\n",
    "p = M\n",
    "print(f'Ключ - состояние генератора случайных чисел - {state}')"
   ]
  },
  {
   "cell_type": "code",
   "execution_count": 11,
   "metadata": {},
   "outputs": [],
   "source": [
    "KEY = np.random.default_rng(state)\n",
    "m = KEY.integers(1, 100)\n",
    "value = np.ones(features.shape[1])\n",
    "p_diag = np.diagflat(value) * m\n",
    "#print(p_diag)"
   ]
  },
  {
   "cell_type": "markdown",
   "metadata": {},
   "source": [
    "### Обоснование\n",
    "\n",
    "Как было показано выше, умножение матрицы признаков на обратнимую матрицу правомерно. А запоминание состояния генератора случайных чисел позволит не только зашифровать, но и расшифровать данные"
   ]
  },
  {
   "cell_type": "markdown",
   "metadata": {},
   "source": [
    "## Проверка алгоритма"
   ]
  },
  {
   "cell_type": "markdown",
   "metadata": {},
   "source": [
    "**Проверка будет производиться методом расчета среднего значения метрики R2 после кросс-валидации.**\n",
    "\n",
    "**Число блоков принято равным 5**"
   ]
  },
  {
   "cell_type": "markdown",
   "metadata": {},
   "source": [
    "### Исходные признаки"
   ]
  },
  {
   "cell_type": "code",
   "execution_count": 12,
   "metadata": {},
   "outputs": [
    {
     "name": "stdout",
     "output_type": "stream",
     "text": [
      "MEAN R2_SCORE DEFAULT =  0.43\n"
     ]
    }
   ],
   "source": [
    "print('MEAN R2_SCORE DEFAULT = ', round(cross_val_score(LinearRegression(), features, target, scoring='r2', cv=5).mean(),2))"
   ]
  },
  {
   "cell_type": "markdown",
   "metadata": {},
   "source": [
    "### Масштабированные признаки"
   ]
  },
  {
   "cell_type": "code",
   "execution_count": 13,
   "metadata": {},
   "outputs": [
    {
     "name": "stdout",
     "output_type": "stream",
     "text": [
      "MEAN R2_SCORE SCALED =  0.43\n"
     ]
    }
   ],
   "source": [
    "scaler = StandardScaler()\n",
    "features_scaled = scaler.fit_transform(features)\n",
    "print('MEAN R2_SCORE SCALED = ', round(cross_val_score(LinearRegression(), \\\n",
    "                                    features_scaled, target, scoring='r2', cv=5).mean(),2))"
   ]
  },
  {
   "cell_type": "markdown",
   "metadata": {},
   "source": [
    "### Зашифрованные признаки"
   ]
  },
  {
   "cell_type": "markdown",
   "metadata": {},
   "source": [
    "Исходные признаки. Запомним их такими. "
   ]
  },
  {
   "cell_type": "code",
   "execution_count": 14,
   "metadata": {},
   "outputs": [
    {
     "data": {
      "text/html": [
       "<div>\n",
       "<style scoped>\n",
       "    .dataframe tbody tr th:only-of-type {\n",
       "        vertical-align: middle;\n",
       "    }\n",
       "\n",
       "    .dataframe tbody tr th {\n",
       "        vertical-align: top;\n",
       "    }\n",
       "\n",
       "    .dataframe thead th {\n",
       "        text-align: right;\n",
       "    }\n",
       "</style>\n",
       "<table border=\"1\" class=\"dataframe\">\n",
       "  <thead>\n",
       "    <tr style=\"text-align: right;\">\n",
       "      <th></th>\n",
       "      <th>Пол</th>\n",
       "      <th>Возраст</th>\n",
       "      <th>Зарплата</th>\n",
       "      <th>Члены семьи</th>\n",
       "    </tr>\n",
       "  </thead>\n",
       "  <tbody>\n",
       "    <tr>\n",
       "      <th>0</th>\n",
       "      <td>1</td>\n",
       "      <td>41.0</td>\n",
       "      <td>49600.0</td>\n",
       "      <td>1</td>\n",
       "    </tr>\n",
       "    <tr>\n",
       "      <th>1</th>\n",
       "      <td>0</td>\n",
       "      <td>46.0</td>\n",
       "      <td>38000.0</td>\n",
       "      <td>1</td>\n",
       "    </tr>\n",
       "    <tr>\n",
       "      <th>2</th>\n",
       "      <td>0</td>\n",
       "      <td>29.0</td>\n",
       "      <td>21000.0</td>\n",
       "      <td>0</td>\n",
       "    </tr>\n",
       "    <tr>\n",
       "      <th>3</th>\n",
       "      <td>0</td>\n",
       "      <td>21.0</td>\n",
       "      <td>41700.0</td>\n",
       "      <td>2</td>\n",
       "    </tr>\n",
       "    <tr>\n",
       "      <th>4</th>\n",
       "      <td>1</td>\n",
       "      <td>28.0</td>\n",
       "      <td>26100.0</td>\n",
       "      <td>0</td>\n",
       "    </tr>\n",
       "  </tbody>\n",
       "</table>\n",
       "</div>"
      ],
      "text/plain": [
       "   Пол  Возраст  Зарплата  Члены семьи\n",
       "0    1     41.0   49600.0            1\n",
       "1    0     46.0   38000.0            1\n",
       "2    0     29.0   21000.0            0\n",
       "3    0     21.0   41700.0            2\n",
       "4    1     28.0   26100.0            0"
      ]
     },
     "execution_count": 14,
     "metadata": {},
     "output_type": "execute_result"
    }
   ],
   "source": [
    "features.head()"
   ]
  },
  {
   "cell_type": "code",
   "execution_count": 15,
   "metadata": {},
   "outputs": [],
   "source": [
    "features_pr = features.values @ p"
   ]
  },
  {
   "cell_type": "code",
   "execution_count": 16,
   "metadata": {},
   "outputs": [
    {
     "data": {
      "text/html": [
       "<div>\n",
       "<style scoped>\n",
       "    .dataframe tbody tr th:only-of-type {\n",
       "        vertical-align: middle;\n",
       "    }\n",
       "\n",
       "    .dataframe tbody tr th {\n",
       "        vertical-align: top;\n",
       "    }\n",
       "\n",
       "    .dataframe thead th {\n",
       "        text-align: right;\n",
       "    }\n",
       "</style>\n",
       "<table border=\"1\" class=\"dataframe\">\n",
       "  <thead>\n",
       "    <tr style=\"text-align: right;\">\n",
       "      <th></th>\n",
       "      <th>Пол</th>\n",
       "      <th>Возраст</th>\n",
       "      <th>Зарплата</th>\n",
       "      <th>Члены семьи</th>\n",
       "    </tr>\n",
       "  </thead>\n",
       "  <tbody>\n",
       "    <tr>\n",
       "      <th>0</th>\n",
       "      <td>6264.808870</td>\n",
       "      <td>31899.698802</td>\n",
       "      <td>7653.347995</td>\n",
       "      <td>38516.349956</td>\n",
       "    </tr>\n",
       "    <tr>\n",
       "      <th>1</th>\n",
       "      <td>4807.040851</td>\n",
       "      <td>24447.436557</td>\n",
       "      <td>5873.870068</td>\n",
       "      <td>29511.838353</td>\n",
       "    </tr>\n",
       "    <tr>\n",
       "      <th>2</th>\n",
       "      <td>2657.832061</td>\n",
       "      <td>13512.414244</td>\n",
       "      <td>3248.538073</td>\n",
       "      <td>16309.487368</td>\n",
       "    </tr>\n",
       "    <tr>\n",
       "      <th>3</th>\n",
       "      <td>5261.076678</td>\n",
       "      <td>26811.388412</td>\n",
       "      <td>6424.100977</td>\n",
       "      <td>32379.653318</td>\n",
       "    </tr>\n",
       "    <tr>\n",
       "      <th>4</th>\n",
       "      <td>3299.460274</td>\n",
       "      <td>16789.514638</td>\n",
       "      <td>4032.231044</td>\n",
       "      <td>20268.676154</td>\n",
       "    </tr>\n",
       "  </tbody>\n",
       "</table>\n",
       "</div>"
      ],
      "text/plain": [
       "           Пол       Возраст     Зарплата   Члены семьи\n",
       "0  6264.808870  31899.698802  7653.347995  38516.349956\n",
       "1  4807.040851  24447.436557  5873.870068  29511.838353\n",
       "2  2657.832061  13512.414244  3248.538073  16309.487368\n",
       "3  5261.076678  26811.388412  6424.100977  32379.653318\n",
       "4  3299.460274  16789.514638  4032.231044  20268.676154"
      ]
     },
     "execution_count": 16,
     "metadata": {},
     "output_type": "execute_result"
    }
   ],
   "source": [
    "pd.DataFrame(features_pr, columns=features.columns).head()"
   ]
  },
  {
   "cell_type": "markdown",
   "metadata": {},
   "source": [
    "Так, зашифровать получилось. \n",
    "\n",
    "Попробуем расшифровать"
   ]
  },
  {
   "cell_type": "code",
   "execution_count": 17,
   "metadata": {},
   "outputs": [
    {
     "data": {
      "text/html": [
       "<div>\n",
       "<style scoped>\n",
       "    .dataframe tbody tr th:only-of-type {\n",
       "        vertical-align: middle;\n",
       "    }\n",
       "\n",
       "    .dataframe tbody tr th {\n",
       "        vertical-align: top;\n",
       "    }\n",
       "\n",
       "    .dataframe thead th {\n",
       "        text-align: right;\n",
       "    }\n",
       "</style>\n",
       "<table border=\"1\" class=\"dataframe\">\n",
       "  <thead>\n",
       "    <tr style=\"text-align: right;\">\n",
       "      <th></th>\n",
       "      <th>Пол</th>\n",
       "      <th>Возраст</th>\n",
       "      <th>Зарплата</th>\n",
       "      <th>Члены семьи</th>\n",
       "    </tr>\n",
       "  </thead>\n",
       "  <tbody>\n",
       "    <tr>\n",
       "      <th>0</th>\n",
       "      <td>1.000000e+00</td>\n",
       "      <td>41.0</td>\n",
       "      <td>49600.0</td>\n",
       "      <td>1.000000e+00</td>\n",
       "    </tr>\n",
       "    <tr>\n",
       "      <th>1</th>\n",
       "      <td>-1.364242e-12</td>\n",
       "      <td>46.0</td>\n",
       "      <td>38000.0</td>\n",
       "      <td>1.000000e+00</td>\n",
       "    </tr>\n",
       "    <tr>\n",
       "      <th>2</th>\n",
       "      <td>0.000000e+00</td>\n",
       "      <td>29.0</td>\n",
       "      <td>21000.0</td>\n",
       "      <td>-9.094947e-13</td>\n",
       "    </tr>\n",
       "    <tr>\n",
       "      <th>3</th>\n",
       "      <td>3.183231e-12</td>\n",
       "      <td>21.0</td>\n",
       "      <td>41700.0</td>\n",
       "      <td>2.000000e+00</td>\n",
       "    </tr>\n",
       "    <tr>\n",
       "      <th>4</th>\n",
       "      <td>1.000000e+00</td>\n",
       "      <td>28.0</td>\n",
       "      <td>26100.0</td>\n",
       "      <td>-1.818989e-12</td>\n",
       "    </tr>\n",
       "  </tbody>\n",
       "</table>\n",
       "</div>"
      ],
      "text/plain": [
       "            Пол  Возраст  Зарплата   Члены семьи\n",
       "0  1.000000e+00     41.0   49600.0  1.000000e+00\n",
       "1 -1.364242e-12     46.0   38000.0  1.000000e+00\n",
       "2  0.000000e+00     29.0   21000.0 -9.094947e-13\n",
       "3  3.183231e-12     21.0   41700.0  2.000000e+00\n",
       "4  1.000000e+00     28.0   26100.0 -1.818989e-12"
      ]
     },
     "execution_count": 17,
     "metadata": {},
     "output_type": "execute_result"
    }
   ],
   "source": [
    "KEY = np.random.default_rng(state)\n",
    "p1 = np.linalg.inv(KEY.random((features.shape[1], features.shape[1])))\n",
    "pd.DataFrame(features_pr @ p1, columns=features.columns).head()"
   ]
  },
  {
   "cell_type": "markdown",
   "metadata": {},
   "source": [
    "Нууууу, данным типа int немного поплохело, что неудивительно. Но если округлить и вернуть им их родной тип, все вернется, как было"
   ]
  },
  {
   "cell_type": "code",
   "execution_count": 18,
   "metadata": {},
   "outputs": [
    {
     "name": "stdout",
     "output_type": "stream",
     "text": [
      "MEAN R2_SCORE PROTECTED =  0.43\n"
     ]
    }
   ],
   "source": [
    "print('MEAN R2_SCORE PROTECTED = ', round(cross_val_score(LinearRegression(), \\\n",
    "                                            features_pr, target, scoring='r2', cv=5).mean(),2))"
   ]
  },
  {
   "cell_type": "markdown",
   "metadata": {},
   "source": [
    "### Зашифрованные с помощью диагональной или треугольной матрицы признаки"
   ]
  },
  {
   "cell_type": "code",
   "execution_count": 19,
   "metadata": {},
   "outputs": [],
   "source": [
    "features_pr_diag = features.values @ p_diag"
   ]
  },
  {
   "cell_type": "code",
   "execution_count": 20,
   "metadata": {},
   "outputs": [
    {
     "data": {
      "text/html": [
       "<div>\n",
       "<style scoped>\n",
       "    .dataframe tbody tr th:only-of-type {\n",
       "        vertical-align: middle;\n",
       "    }\n",
       "\n",
       "    .dataframe tbody tr th {\n",
       "        vertical-align: top;\n",
       "    }\n",
       "\n",
       "    .dataframe thead th {\n",
       "        text-align: right;\n",
       "    }\n",
       "</style>\n",
       "<table border=\"1\" class=\"dataframe\">\n",
       "  <thead>\n",
       "    <tr style=\"text-align: right;\">\n",
       "      <th></th>\n",
       "      <th>Пол</th>\n",
       "      <th>Возраст</th>\n",
       "      <th>Зарплата</th>\n",
       "      <th>Члены семьи</th>\n",
       "    </tr>\n",
       "  </thead>\n",
       "  <tbody>\n",
       "    <tr>\n",
       "      <th>0</th>\n",
       "      <td>25.0</td>\n",
       "      <td>1025.0</td>\n",
       "      <td>1240000.0</td>\n",
       "      <td>25.0</td>\n",
       "    </tr>\n",
       "    <tr>\n",
       "      <th>1</th>\n",
       "      <td>0.0</td>\n",
       "      <td>1150.0</td>\n",
       "      <td>950000.0</td>\n",
       "      <td>25.0</td>\n",
       "    </tr>\n",
       "    <tr>\n",
       "      <th>2</th>\n",
       "      <td>0.0</td>\n",
       "      <td>725.0</td>\n",
       "      <td>525000.0</td>\n",
       "      <td>0.0</td>\n",
       "    </tr>\n",
       "    <tr>\n",
       "      <th>3</th>\n",
       "      <td>0.0</td>\n",
       "      <td>525.0</td>\n",
       "      <td>1042500.0</td>\n",
       "      <td>50.0</td>\n",
       "    </tr>\n",
       "    <tr>\n",
       "      <th>4</th>\n",
       "      <td>25.0</td>\n",
       "      <td>700.0</td>\n",
       "      <td>652500.0</td>\n",
       "      <td>0.0</td>\n",
       "    </tr>\n",
       "  </tbody>\n",
       "</table>\n",
       "</div>"
      ],
      "text/plain": [
       "    Пол  Возраст   Зарплата  Члены семьи\n",
       "0  25.0   1025.0  1240000.0         25.0\n",
       "1   0.0   1150.0   950000.0         25.0\n",
       "2   0.0    725.0   525000.0          0.0\n",
       "3   0.0    525.0  1042500.0         50.0\n",
       "4  25.0    700.0   652500.0          0.0"
      ]
     },
     "execution_count": 20,
     "metadata": {},
     "output_type": "execute_result"
    }
   ],
   "source": [
    "pd.DataFrame(features_pr_diag, columns=features.columns).head()"
   ]
  },
  {
   "cell_type": "markdown",
   "metadata": {},
   "source": [
    "Так себе зашифровал, честно говоря:)\n",
    "    \n",
    "Возьму лучше треугольную, умноженную на случайное число"
   ]
  },
  {
   "cell_type": "code",
   "execution_count": 21,
   "metadata": {},
   "outputs": [],
   "source": [
    "KEY = np.random.default_rng(state)\n",
    "m = KEY.integers(1, 100)\n",
    "p_tri = np.tri(features.shape[1], dtype=int) * m\n",
    "#print(p_tri)"
   ]
  },
  {
   "cell_type": "code",
   "execution_count": 22,
   "metadata": {},
   "outputs": [],
   "source": [
    "features_pr_tri = features.values @ p_tri"
   ]
  },
  {
   "cell_type": "code",
   "execution_count": 23,
   "metadata": {},
   "outputs": [
    {
     "data": {
      "text/html": [
       "<div>\n",
       "<style scoped>\n",
       "    .dataframe tbody tr th:only-of-type {\n",
       "        vertical-align: middle;\n",
       "    }\n",
       "\n",
       "    .dataframe tbody tr th {\n",
       "        vertical-align: top;\n",
       "    }\n",
       "\n",
       "    .dataframe thead th {\n",
       "        text-align: right;\n",
       "    }\n",
       "</style>\n",
       "<table border=\"1\" class=\"dataframe\">\n",
       "  <thead>\n",
       "    <tr style=\"text-align: right;\">\n",
       "      <th></th>\n",
       "      <th>Пол</th>\n",
       "      <th>Возраст</th>\n",
       "      <th>Зарплата</th>\n",
       "      <th>Члены семьи</th>\n",
       "    </tr>\n",
       "  </thead>\n",
       "  <tbody>\n",
       "    <tr>\n",
       "      <th>0</th>\n",
       "      <td>1241075.0</td>\n",
       "      <td>1241050.0</td>\n",
       "      <td>1240025.0</td>\n",
       "      <td>25.0</td>\n",
       "    </tr>\n",
       "    <tr>\n",
       "      <th>1</th>\n",
       "      <td>951175.0</td>\n",
       "      <td>951175.0</td>\n",
       "      <td>950025.0</td>\n",
       "      <td>25.0</td>\n",
       "    </tr>\n",
       "    <tr>\n",
       "      <th>2</th>\n",
       "      <td>525725.0</td>\n",
       "      <td>525725.0</td>\n",
       "      <td>525000.0</td>\n",
       "      <td>0.0</td>\n",
       "    </tr>\n",
       "    <tr>\n",
       "      <th>3</th>\n",
       "      <td>1043075.0</td>\n",
       "      <td>1043075.0</td>\n",
       "      <td>1042550.0</td>\n",
       "      <td>50.0</td>\n",
       "    </tr>\n",
       "    <tr>\n",
       "      <th>4</th>\n",
       "      <td>653225.0</td>\n",
       "      <td>653200.0</td>\n",
       "      <td>652500.0</td>\n",
       "      <td>0.0</td>\n",
       "    </tr>\n",
       "  </tbody>\n",
       "</table>\n",
       "</div>"
      ],
      "text/plain": [
       "         Пол    Возраст   Зарплата  Члены семьи\n",
       "0  1241075.0  1241050.0  1240025.0         25.0\n",
       "1   951175.0   951175.0   950025.0         25.0\n",
       "2   525725.0   525725.0   525000.0          0.0\n",
       "3  1043075.0  1043075.0  1042550.0         50.0\n",
       "4   653225.0   653200.0   652500.0          0.0"
      ]
     },
     "execution_count": 23,
     "metadata": {},
     "output_type": "execute_result"
    }
   ],
   "source": [
    "pd.DataFrame(features_pr_tri, columns=features.columns).head()"
   ]
  },
  {
   "cell_type": "code",
   "execution_count": 24,
   "metadata": {},
   "outputs": [
    {
     "name": "stdout",
     "output_type": "stream",
     "text": [
      "MEAN R2_SCORE PROTECTED =  0.43\n"
     ]
    }
   ],
   "source": [
    "print('MEAN R2_SCORE PROTECTED = ', round(cross_val_score(LinearRegression(), \\\n",
    "                                            features_pr_tri, target, scoring='r2', cv=5).mean(),2))"
   ]
  },
  {
   "cell_type": "markdown",
   "metadata": {},
   "source": [
    "## Выводы по проекту\n",
    "\n",
    "**В ходе работы было выполнено:**\n",
    "\n",
    "- предварительный анализ и подготовка данных\n",
    "- доказательство правомерности домножения матрицы признаков на любую обратимую матрицу для моделей линейной регрессии\n",
    "- исследование и сравнение результатов кросс-валидации для модели линейной регресии для различных матриц признаков: исходной, отмасштабированной и зашифрованной (двумя способами)\n",
    "- для всех вариантов получено значение R2_SCORE = 0,43 (Так себе результат, честно говоря). Зато одинаковый для всех. И это главное в данном случае"
   ]
  }
 ],
 "metadata": {
  "ExecuteTimeLog": [
   {
    "duration": 490,
    "start_time": "2023-05-13T13:33:03.273Z"
   },
   {
    "duration": 17034,
    "start_time": "2023-05-13T13:33:53.463Z"
   },
   {
    "duration": 90,
    "start_time": "2023-05-13T13:34:45.411Z"
   },
   {
    "duration": 14,
    "start_time": "2023-05-13T13:34:55.585Z"
   },
   {
    "duration": 17633,
    "start_time": "2023-05-13T13:42:21.082Z"
   },
   {
    "duration": 15,
    "start_time": "2023-05-13T14:11:00.501Z"
   },
   {
    "duration": 8,
    "start_time": "2023-05-13T14:22:08.503Z"
   },
   {
    "duration": 7,
    "start_time": "2023-05-13T14:22:16.775Z"
   },
   {
    "duration": 6,
    "start_time": "2023-05-13T14:27:11.354Z"
   },
   {
    "duration": 20569,
    "start_time": "2023-05-13T19:34:33.906Z"
   },
   {
    "duration": 117,
    "start_time": "2023-05-13T19:34:54.478Z"
   },
   {
    "duration": 17380,
    "start_time": "2023-05-13T19:34:54.597Z"
   },
   {
    "duration": 6,
    "start_time": "2023-05-13T19:35:11.979Z"
   },
   {
    "duration": 15,
    "start_time": "2023-05-13T20:33:13.004Z"
   },
   {
    "duration": 11,
    "start_time": "2023-05-13T20:33:24.289Z"
   },
   {
    "duration": 4,
    "start_time": "2023-05-13T20:33:31.117Z"
   },
   {
    "duration": 178,
    "start_time": "2023-05-13T20:38:33.043Z"
   },
   {
    "duration": 3194,
    "start_time": "2023-05-13T20:38:38.839Z"
   },
   {
    "duration": 18,
    "start_time": "2023-05-13T20:38:49.680Z"
   },
   {
    "duration": 23,
    "start_time": "2023-05-13T20:40:13.131Z"
   },
   {
    "duration": 27,
    "start_time": "2023-05-13T20:41:48.455Z"
   },
   {
    "duration": 20,
    "start_time": "2023-05-13T20:43:21.174Z"
   },
   {
    "duration": 200,
    "start_time": "2023-05-13T20:43:35.251Z"
   },
   {
    "duration": 27,
    "start_time": "2023-05-13T20:43:56.280Z"
   },
   {
    "duration": 18,
    "start_time": "2023-05-13T20:44:17.052Z"
   },
   {
    "duration": 28,
    "start_time": "2023-05-13T20:44:39.520Z"
   },
   {
    "duration": 27,
    "start_time": "2023-05-13T20:44:48.419Z"
   },
   {
    "duration": 52,
    "start_time": "2023-05-13T20:45:01.431Z"
   },
   {
    "duration": 46,
    "start_time": "2023-05-13T20:45:46.967Z"
   },
   {
    "duration": 40,
    "start_time": "2023-05-13T20:46:15.541Z"
   },
   {
    "duration": 4,
    "start_time": "2023-05-13T20:51:07.932Z"
   },
   {
    "duration": 4,
    "start_time": "2023-05-13T20:51:19.646Z"
   },
   {
    "duration": 6,
    "start_time": "2023-05-13T20:51:29.453Z"
   },
   {
    "duration": 4,
    "start_time": "2023-05-13T20:51:34.808Z"
   },
   {
    "duration": 29,
    "start_time": "2023-05-13T20:51:35.618Z"
   },
   {
    "duration": 4,
    "start_time": "2023-05-13T20:51:37.712Z"
   },
   {
    "duration": 6,
    "start_time": "2023-05-13T20:53:03.950Z"
   },
   {
    "duration": 11,
    "start_time": "2023-05-13T20:56:02.830Z"
   },
   {
    "duration": 7,
    "start_time": "2023-05-13T20:57:13.536Z"
   },
   {
    "duration": 6,
    "start_time": "2023-05-13T20:57:16.614Z"
   },
   {
    "duration": 8,
    "start_time": "2023-05-13T20:57:19.178Z"
   },
   {
    "duration": 12,
    "start_time": "2023-05-13T20:57:21.371Z"
   },
   {
    "duration": 5,
    "start_time": "2023-05-13T20:57:24.736Z"
   },
   {
    "duration": 5,
    "start_time": "2023-05-13T20:57:27.240Z"
   },
   {
    "duration": 16,
    "start_time": "2023-05-13T20:58:02.363Z"
   },
   {
    "duration": 11,
    "start_time": "2023-05-13T20:58:15.316Z"
   },
   {
    "duration": 12,
    "start_time": "2023-05-13T21:18:49.636Z"
   },
   {
    "duration": 233,
    "start_time": "2023-05-13T21:19:19.213Z"
   },
   {
    "duration": 5,
    "start_time": "2023-05-13T21:19:46.409Z"
   },
   {
    "duration": 15,
    "start_time": "2023-05-13T21:19:50.361Z"
   },
   {
    "duration": 5,
    "start_time": "2023-05-13T21:19:50.991Z"
   },
   {
    "duration": 4,
    "start_time": "2023-05-13T21:19:52.980Z"
   },
   {
    "duration": 5,
    "start_time": "2023-05-13T21:19:55.540Z"
   },
   {
    "duration": 5,
    "start_time": "2023-05-13T21:19:57.283Z"
   },
   {
    "duration": 5,
    "start_time": "2023-05-13T21:19:58.983Z"
   },
   {
    "duration": 5,
    "start_time": "2023-05-13T21:20:03.582Z"
   },
   {
    "duration": 5,
    "start_time": "2023-05-13T21:20:05.308Z"
   },
   {
    "duration": 12,
    "start_time": "2023-05-13T21:28:31.632Z"
   },
   {
    "duration": 13,
    "start_time": "2023-05-13T21:28:37.479Z"
   },
   {
    "duration": 12,
    "start_time": "2023-05-13T21:29:26.574Z"
   },
   {
    "duration": 16,
    "start_time": "2023-05-13T21:30:23.092Z"
   },
   {
    "duration": 6,
    "start_time": "2023-05-13T21:31:05.589Z"
   },
   {
    "duration": 16,
    "start_time": "2023-05-13T21:31:19.672Z"
   },
   {
    "duration": 8,
    "start_time": "2023-05-13T21:31:34.735Z"
   },
   {
    "duration": 12,
    "start_time": "2023-05-13T21:31:42.043Z"
   },
   {
    "duration": 17,
    "start_time": "2023-05-13T21:32:15.237Z"
   },
   {
    "duration": 3,
    "start_time": "2023-05-13T21:37:30.376Z"
   },
   {
    "duration": 3,
    "start_time": "2023-05-13T21:38:14.123Z"
   },
   {
    "duration": 4,
    "start_time": "2023-05-13T21:38:23.689Z"
   },
   {
    "duration": 13,
    "start_time": "2023-05-13T21:38:40.793Z"
   },
   {
    "duration": 5,
    "start_time": "2023-05-13T21:38:44.799Z"
   },
   {
    "duration": 14,
    "start_time": "2023-05-13T21:39:08.410Z"
   },
   {
    "duration": 13,
    "start_time": "2023-05-13T21:41:16.915Z"
   },
   {
    "duration": 11,
    "start_time": "2023-05-13T21:41:31.801Z"
   },
   {
    "duration": 4,
    "start_time": "2023-05-13T21:47:46.913Z"
   },
   {
    "duration": 14,
    "start_time": "2023-05-13T21:48:04.076Z"
   },
   {
    "duration": 13,
    "start_time": "2023-05-13T21:48:19.820Z"
   },
   {
    "duration": 14,
    "start_time": "2023-05-13T21:48:26.587Z"
   },
   {
    "duration": 16,
    "start_time": "2023-05-13T21:48:37.386Z"
   },
   {
    "duration": 169,
    "start_time": "2023-05-13T21:51:37.881Z"
   },
   {
    "duration": 135,
    "start_time": "2023-05-13T22:42:04.292Z"
   },
   {
    "duration": 27,
    "start_time": "2023-05-13T22:42:09.192Z"
   },
   {
    "duration": 6,
    "start_time": "2023-05-13T22:42:10.492Z"
   },
   {
    "duration": 20,
    "start_time": "2023-05-13T22:42:10.860Z"
   },
   {
    "duration": 12,
    "start_time": "2023-05-13T22:42:15.515Z"
   },
   {
    "duration": 5,
    "start_time": "2023-05-13T22:42:41.801Z"
   },
   {
    "duration": 5,
    "start_time": "2023-05-13T22:42:56.299Z"
   },
   {
    "duration": 4,
    "start_time": "2023-05-13T22:43:01.274Z"
   },
   {
    "duration": 14,
    "start_time": "2023-05-13T22:43:02.463Z"
   },
   {
    "duration": 16,
    "start_time": "2023-05-13T22:43:07.904Z"
   },
   {
    "duration": 20,
    "start_time": "2023-05-13T22:43:12.816Z"
   },
   {
    "duration": 12,
    "start_time": "2023-05-13T23:24:23.382Z"
   },
   {
    "duration": 6,
    "start_time": "2023-05-13T23:24:30.354Z"
   },
   {
    "duration": 10,
    "start_time": "2023-05-13T23:26:35.351Z"
   },
   {
    "duration": 5,
    "start_time": "2023-05-13T23:27:49.714Z"
   },
   {
    "duration": 4,
    "start_time": "2023-05-13T23:28:27.887Z"
   },
   {
    "duration": 4,
    "start_time": "2023-05-13T23:29:01.421Z"
   },
   {
    "duration": 27,
    "start_time": "2023-05-13T23:31:47.206Z"
   },
   {
    "duration": 24,
    "start_time": "2023-05-13T23:32:35.741Z"
   },
   {
    "duration": 5,
    "start_time": "2023-05-13T23:33:53.175Z"
   },
   {
    "duration": 3,
    "start_time": "2023-05-13T23:34:29.114Z"
   },
   {
    "duration": 12,
    "start_time": "2023-05-13T23:34:43.805Z"
   },
   {
    "duration": 8,
    "start_time": "2023-05-13T23:34:52.211Z"
   },
   {
    "duration": 13,
    "start_time": "2023-05-13T23:36:42.384Z"
   },
   {
    "duration": 11,
    "start_time": "2023-05-13T23:36:50.404Z"
   },
   {
    "duration": 9,
    "start_time": "2023-05-13T23:37:25.088Z"
   },
   {
    "duration": 7,
    "start_time": "2023-05-13T23:37:49.510Z"
   },
   {
    "duration": 21,
    "start_time": "2023-05-13T23:38:09.753Z"
   },
   {
    "duration": 8,
    "start_time": "2023-05-13T23:38:15.809Z"
   },
   {
    "duration": 2,
    "start_time": "2023-05-13T23:38:16.437Z"
   },
   {
    "duration": 9,
    "start_time": "2023-05-13T23:38:17.334Z"
   },
   {
    "duration": 11,
    "start_time": "2023-05-13T23:38:21.577Z"
   },
   {
    "duration": 5,
    "start_time": "2023-05-13T23:38:53.853Z"
   },
   {
    "duration": 4,
    "start_time": "2023-05-13T23:39:05.391Z"
   },
   {
    "duration": 12,
    "start_time": "2023-05-13T23:39:35.465Z"
   },
   {
    "duration": 3,
    "start_time": "2023-05-13T23:39:36.743Z"
   },
   {
    "duration": 8,
    "start_time": "2023-05-13T23:39:37.300Z"
   },
   {
    "duration": 11,
    "start_time": "2023-05-13T23:39:41.132Z"
   },
   {
    "duration": 12,
    "start_time": "2023-05-13T23:40:56.737Z"
   },
   {
    "duration": 11,
    "start_time": "2023-05-13T23:41:08.916Z"
   },
   {
    "duration": 4,
    "start_time": "2023-05-13T23:41:21.814Z"
   },
   {
    "duration": 15,
    "start_time": "2023-05-13T23:45:01.426Z"
   },
   {
    "duration": 66,
    "start_time": "2023-05-13T23:50:15.316Z"
   },
   {
    "duration": 19,
    "start_time": "2023-05-13T23:50:20.086Z"
   },
   {
    "duration": 28,
    "start_time": "2023-05-13T23:50:23.871Z"
   },
   {
    "duration": 5081,
    "start_time": "2023-05-13T23:52:15.643Z"
   },
   {
    "duration": 27,
    "start_time": "2023-05-13T23:52:20.725Z"
   },
   {
    "duration": 15635,
    "start_time": "2023-05-13T23:52:20.755Z"
   },
   {
    "duration": 5,
    "start_time": "2023-05-13T23:52:36.393Z"
   },
   {
    "duration": 5,
    "start_time": "2023-05-13T23:52:36.451Z"
   },
   {
    "duration": 17,
    "start_time": "2023-05-13T23:52:36.458Z"
   },
   {
    "duration": 175,
    "start_time": "2023-05-13T23:52:36.476Z"
   },
   {
    "duration": 20,
    "start_time": "2023-05-13T23:52:36.653Z"
   },
   {
    "duration": 78,
    "start_time": "2023-05-13T23:52:36.675Z"
   },
   {
    "duration": 4,
    "start_time": "2023-05-13T23:52:36.755Z"
   },
   {
    "duration": 14,
    "start_time": "2023-05-13T23:52:36.761Z"
   },
   {
    "duration": 77,
    "start_time": "2023-05-13T23:52:36.777Z"
   },
   {
    "duration": 97,
    "start_time": "2023-05-13T23:52:36.856Z"
   },
   {
    "duration": 5050,
    "start_time": "2023-05-13T23:55:37.747Z"
   },
   {
    "duration": 26,
    "start_time": "2023-05-13T23:55:42.799Z"
   },
   {
    "duration": 15924,
    "start_time": "2023-05-13T23:55:42.826Z"
   },
   {
    "duration": 7,
    "start_time": "2023-05-13T23:55:58.752Z"
   },
   {
    "duration": 4,
    "start_time": "2023-05-13T23:55:58.761Z"
   },
   {
    "duration": 13,
    "start_time": "2023-05-13T23:55:58.766Z"
   },
   {
    "duration": 178,
    "start_time": "2023-05-13T23:55:58.780Z"
   },
   {
    "duration": 93,
    "start_time": "2023-05-13T23:55:58.962Z"
   },
   {
    "duration": 11,
    "start_time": "2023-05-13T23:55:59.057Z"
   },
   {
    "duration": 4,
    "start_time": "2023-05-13T23:55:59.075Z"
   },
   {
    "duration": 79,
    "start_time": "2023-05-13T23:55:59.081Z"
   },
   {
    "duration": 88,
    "start_time": "2023-05-13T23:55:59.162Z"
   },
   {
    "duration": 103,
    "start_time": "2023-05-13T23:55:59.252Z"
   },
   {
    "duration": 4402,
    "start_time": "2023-05-14T17:08:35.233Z"
   },
   {
    "duration": 31,
    "start_time": "2023-05-14T17:08:39.638Z"
   },
   {
    "duration": 15566,
    "start_time": "2023-05-14T17:08:39.671Z"
   },
   {
    "duration": 7,
    "start_time": "2023-05-14T17:08:55.239Z"
   },
   {
    "duration": 6,
    "start_time": "2023-05-14T17:08:55.248Z"
   },
   {
    "duration": 14,
    "start_time": "2023-05-14T17:08:55.256Z"
   },
   {
    "duration": 254,
    "start_time": "2023-05-14T17:08:55.272Z"
   },
   {
    "duration": 27,
    "start_time": "2023-05-14T17:08:55.528Z"
   },
   {
    "duration": 10,
    "start_time": "2023-05-14T17:08:55.557Z"
   },
   {
    "duration": 57,
    "start_time": "2023-05-14T17:08:55.569Z"
   },
   {
    "duration": 14,
    "start_time": "2023-05-14T17:08:55.628Z"
   },
   {
    "duration": 83,
    "start_time": "2023-05-14T17:08:55.644Z"
   },
   {
    "duration": 105,
    "start_time": "2023-05-14T17:08:55.729Z"
   },
   {
    "duration": 18106,
    "start_time": "2023-05-14T17:54:50.147Z"
   },
   {
    "duration": 82,
    "start_time": "2023-05-14T17:55:12.154Z"
   },
   {
    "duration": 15738,
    "start_time": "2023-05-14T17:55:13.529Z"
   },
   {
    "duration": 6,
    "start_time": "2023-05-14T17:57:01.116Z"
   },
   {
    "duration": 7,
    "start_time": "2023-05-14T17:58:43.072Z"
   },
   {
    "duration": 9,
    "start_time": "2023-05-14T18:00:26.148Z"
   },
   {
    "duration": 10,
    "start_time": "2023-05-14T18:00:48.129Z"
   },
   {
    "duration": 9,
    "start_time": "2023-05-14T18:00:53.257Z"
   },
   {
    "duration": 158,
    "start_time": "2023-05-14T18:01:10.107Z"
   },
   {
    "duration": 5,
    "start_time": "2023-05-14T18:01:19.268Z"
   },
   {
    "duration": 9,
    "start_time": "2023-05-14T18:01:24.618Z"
   },
   {
    "duration": 8,
    "start_time": "2023-05-14T18:02:01.559Z"
   },
   {
    "duration": 6,
    "start_time": "2023-05-14T18:02:08.987Z"
   },
   {
    "duration": 6,
    "start_time": "2023-05-14T18:02:12.769Z"
   },
   {
    "duration": 6,
    "start_time": "2023-05-14T18:02:13.538Z"
   },
   {
    "duration": 4,
    "start_time": "2023-05-14T18:02:14.399Z"
   },
   {
    "duration": 4,
    "start_time": "2023-05-14T18:03:20.572Z"
   },
   {
    "duration": 170,
    "start_time": "2023-05-14T18:03:24.687Z"
   },
   {
    "duration": 20,
    "start_time": "2023-05-14T18:03:28.517Z"
   },
   {
    "duration": 10,
    "start_time": "2023-05-14T18:03:46.889Z"
   },
   {
    "duration": 3,
    "start_time": "2023-05-14T18:03:49.248Z"
   },
   {
    "duration": 9,
    "start_time": "2023-05-14T18:03:49.798Z"
   },
   {
    "duration": 15,
    "start_time": "2023-05-14T18:03:52.398Z"
   },
   {
    "duration": 16,
    "start_time": "2023-05-14T18:03:57.669Z"
   },
   {
    "duration": 17753,
    "start_time": "2023-05-15T10:09:38.245Z"
   },
   {
    "duration": 97,
    "start_time": "2023-05-15T10:09:59.379Z"
   },
   {
    "duration": 15412,
    "start_time": "2023-05-15T10:10:00.119Z"
   },
   {
    "duration": 6,
    "start_time": "2023-05-15T10:10:21.143Z"
   },
   {
    "duration": 6,
    "start_time": "2023-05-15T10:10:22.426Z"
   },
   {
    "duration": 5,
    "start_time": "2023-05-15T10:10:23.603Z"
   },
   {
    "duration": 168,
    "start_time": "2023-05-15T10:34:51.254Z"
   },
   {
    "duration": 5,
    "start_time": "2023-05-15T10:34:54.123Z"
   },
   {
    "duration": 14,
    "start_time": "2023-05-15T10:34:54.989Z"
   },
   {
    "duration": 11,
    "start_time": "2023-05-15T10:35:29.386Z"
   },
   {
    "duration": 3,
    "start_time": "2023-05-15T10:36:06.839Z"
   },
   {
    "duration": 4,
    "start_time": "2023-05-15T10:36:13.140Z"
   },
   {
    "duration": 3,
    "start_time": "2023-05-15T10:36:14.834Z"
   },
   {
    "duration": 4,
    "start_time": "2023-05-15T10:36:18.599Z"
   },
   {
    "duration": 3,
    "start_time": "2023-05-15T10:36:20.234Z"
   },
   {
    "duration": 3,
    "start_time": "2023-05-15T10:36:33.598Z"
   },
   {
    "duration": 145,
    "start_time": "2023-05-15T10:37:10.822Z"
   },
   {
    "duration": 3,
    "start_time": "2023-05-15T10:37:17.069Z"
   },
   {
    "duration": 6,
    "start_time": "2023-05-15T10:37:24.583Z"
   },
   {
    "duration": 4,
    "start_time": "2023-05-15T10:37:34.753Z"
   },
   {
    "duration": 22,
    "start_time": "2023-05-15T10:37:39.104Z"
   },
   {
    "duration": 4,
    "start_time": "2023-05-15T10:38:05.803Z"
   },
   {
    "duration": 12,
    "start_time": "2023-05-15T10:39:11.459Z"
   },
   {
    "duration": 4,
    "start_time": "2023-05-15T10:39:15.270Z"
   },
   {
    "duration": 13,
    "start_time": "2023-05-15T10:39:25.829Z"
   },
   {
    "duration": 4,
    "start_time": "2023-05-15T10:39:34.875Z"
   },
   {
    "duration": 4,
    "start_time": "2023-05-15T10:39:40.740Z"
   },
   {
    "duration": 3,
    "start_time": "2023-05-15T10:39:55.344Z"
   },
   {
    "duration": 5,
    "start_time": "2023-05-15T10:40:14.025Z"
   },
   {
    "duration": 12,
    "start_time": "2023-05-15T10:40:16.111Z"
   },
   {
    "duration": 5,
    "start_time": "2023-05-15T10:40:17.040Z"
   },
   {
    "duration": 5,
    "start_time": "2023-05-15T10:40:17.970Z"
   },
   {
    "duration": 6,
    "start_time": "2023-05-15T10:40:18.839Z"
   },
   {
    "duration": 5,
    "start_time": "2023-05-15T10:40:23.954Z"
   },
   {
    "duration": 3,
    "start_time": "2023-05-15T10:41:49.521Z"
   },
   {
    "duration": 11,
    "start_time": "2023-05-15T10:42:04.680Z"
   },
   {
    "duration": 13,
    "start_time": "2023-05-15T10:51:23.433Z"
   },
   {
    "duration": 5,
    "start_time": "2023-05-15T10:51:28.683Z"
   },
   {
    "duration": 4,
    "start_time": "2023-05-15T10:51:35.016Z"
   },
   {
    "duration": 13,
    "start_time": "2023-05-15T10:52:37.143Z"
   },
   {
    "duration": 4,
    "start_time": "2023-05-15T10:52:39.573Z"
   },
   {
    "duration": 9,
    "start_time": "2023-05-15T10:52:40.263Z"
   },
   {
    "duration": 19,
    "start_time": "2023-05-15T10:53:02.178Z"
   },
   {
    "duration": 12,
    "start_time": "2023-05-15T11:41:09.358Z"
   },
   {
    "duration": 13,
    "start_time": "2023-05-15T11:41:26.339Z"
   },
   {
    "duration": 5252,
    "start_time": "2023-05-15T17:28:07.012Z"
   },
   {
    "duration": 88,
    "start_time": "2023-05-15T17:28:12.265Z"
   },
   {
    "duration": 14132,
    "start_time": "2023-05-15T17:28:12.354Z"
   },
   {
    "duration": 21,
    "start_time": "2023-05-15T17:28:26.488Z"
   },
   {
    "duration": 5,
    "start_time": "2023-05-15T17:28:26.511Z"
   },
   {
    "duration": 5,
    "start_time": "2023-05-15T17:28:26.517Z"
   },
   {
    "duration": 8,
    "start_time": "2023-05-15T17:28:26.523Z"
   },
   {
    "duration": 8,
    "start_time": "2023-05-15T17:28:26.532Z"
   },
   {
    "duration": 167,
    "start_time": "2023-05-15T17:28:26.542Z"
   },
   {
    "duration": 18,
    "start_time": "2023-05-15T17:28:26.711Z"
   },
   {
    "duration": 7,
    "start_time": "2023-05-15T17:28:26.730Z"
   },
   {
    "duration": 6,
    "start_time": "2023-05-15T17:28:26.739Z"
   },
   {
    "duration": 61,
    "start_time": "2023-05-15T17:28:26.746Z"
   },
   {
    "duration": 10,
    "start_time": "2023-05-15T17:28:26.809Z"
   },
   {
    "duration": 85,
    "start_time": "2023-05-15T17:28:26.821Z"
   },
   {
    "duration": 3,
    "start_time": "2023-05-15T17:28:26.908Z"
   },
   {
    "duration": 13,
    "start_time": "2023-05-15T17:28:26.912Z"
   },
   {
    "duration": 85,
    "start_time": "2023-05-15T17:28:26.926Z"
   },
   {
    "duration": 10,
    "start_time": "2023-05-15T17:28:27.012Z"
   },
   {
    "duration": 13,
    "start_time": "2023-05-15T17:28:27.023Z"
   },
   {
    "duration": 16,
    "start_time": "2023-05-15T17:28:27.038Z"
   },
   {
    "duration": 7,
    "start_time": "2023-05-15T17:29:21.529Z"
   },
   {
    "duration": 9,
    "start_time": "2023-05-15T17:29:45.515Z"
   },
   {
    "duration": 156,
    "start_time": "2023-05-15T17:30:14.840Z"
   },
   {
    "duration": 43,
    "start_time": "2023-05-15T17:30:37.746Z"
   },
   {
    "duration": 9,
    "start_time": "2023-05-15T17:30:41.448Z"
   },
   {
    "duration": 8,
    "start_time": "2023-05-15T17:30:48.741Z"
   },
   {
    "duration": 7,
    "start_time": "2023-05-15T17:32:02.865Z"
   },
   {
    "duration": 28,
    "start_time": "2023-05-15T17:33:34.144Z"
   },
   {
    "duration": 13495,
    "start_time": "2023-05-15T17:33:34.644Z"
   },
   {
    "duration": 6,
    "start_time": "2023-05-15T17:33:53.617Z"
   },
   {
    "duration": 13,
    "start_time": "2023-05-15T17:33:54.378Z"
   },
   {
    "duration": 10,
    "start_time": "2023-05-15T17:34:18.395Z"
   },
   {
    "duration": 10,
    "start_time": "2023-05-15T17:36:15.319Z"
   },
   {
    "duration": 11,
    "start_time": "2023-05-15T17:37:20.748Z"
   },
   {
    "duration": 16,
    "start_time": "2023-05-15T17:38:02.598Z"
   },
   {
    "duration": 10,
    "start_time": "2023-05-15T17:38:13.309Z"
   },
   {
    "duration": 4763,
    "start_time": "2023-05-15T17:39:57.472Z"
   },
   {
    "duration": 29,
    "start_time": "2023-05-15T17:40:02.237Z"
   },
   {
    "duration": 14169,
    "start_time": "2023-05-15T17:40:02.269Z"
   },
   {
    "duration": 6,
    "start_time": "2023-05-15T17:40:16.440Z"
   },
   {
    "duration": 12,
    "start_time": "2023-05-15T17:40:16.448Z"
   },
   {
    "duration": 5,
    "start_time": "2023-05-15T17:40:16.462Z"
   },
   {
    "duration": 9,
    "start_time": "2023-05-15T17:40:16.469Z"
   },
   {
    "duration": 10,
    "start_time": "2023-05-15T17:40:16.479Z"
   },
   {
    "duration": 3,
    "start_time": "2023-05-15T17:40:16.507Z"
   },
   {
    "duration": 105,
    "start_time": "2023-05-15T17:40:16.511Z"
   },
   {
    "duration": 104,
    "start_time": "2023-05-15T17:40:16.618Z"
   },
   {
    "duration": 7,
    "start_time": "2023-05-15T17:40:16.724Z"
   },
   {
    "duration": 3,
    "start_time": "2023-05-15T17:40:16.733Z"
   },
   {
    "duration": 8,
    "start_time": "2023-05-15T17:40:16.738Z"
   },
   {
    "duration": 12,
    "start_time": "2023-05-15T17:40:16.748Z"
   },
   {
    "duration": 19,
    "start_time": "2023-05-15T17:40:16.806Z"
   },
   {
    "duration": 3,
    "start_time": "2023-05-15T17:40:16.906Z"
   },
   {
    "duration": 15,
    "start_time": "2023-05-15T17:40:16.910Z"
   },
   {
    "duration": 12,
    "start_time": "2023-05-15T17:40:16.927Z"
   },
   {
    "duration": 13,
    "start_time": "2023-05-15T17:40:16.940Z"
   },
   {
    "duration": 29,
    "start_time": "2023-05-15T17:40:16.954Z"
   },
   {
    "duration": 20,
    "start_time": "2023-05-15T17:40:16.984Z"
   },
   {
    "duration": 19809,
    "start_time": "2023-05-15T21:19:31.187Z"
   },
   {
    "duration": 77,
    "start_time": "2023-05-15T21:19:53.513Z"
   },
   {
    "duration": 19312,
    "start_time": "2023-05-15T21:19:56.220Z"
   },
   {
    "duration": 13,
    "start_time": "2023-05-15T21:20:55.023Z"
   },
   {
    "duration": 17,
    "start_time": "2023-05-15T21:20:55.419Z"
   },
   {
    "duration": 11,
    "start_time": "2023-05-15T21:20:56.625Z"
   },
   {
    "duration": 4,
    "start_time": "2023-05-15T21:20:57.661Z"
   },
   {
    "duration": 5,
    "start_time": "2023-05-15T21:22:22.359Z"
   },
   {
    "duration": 4,
    "start_time": "2023-05-15T21:22:23.828Z"
   },
   {
    "duration": 71,
    "start_time": "2023-05-15T21:22:28.975Z"
   },
   {
    "duration": 19,
    "start_time": "2023-05-15T21:22:30.274Z"
   },
   {
    "duration": 10,
    "start_time": "2023-05-15T21:22:31.782Z"
   },
   {
    "duration": 11,
    "start_time": "2023-05-15T21:22:33.219Z"
   },
   {
    "duration": 11,
    "start_time": "2023-05-15T21:22:33.710Z"
   },
   {
    "duration": 31,
    "start_time": "2023-05-15T21:22:35.587Z"
   },
   {
    "duration": 30,
    "start_time": "2023-05-15T21:22:37.284Z"
   },
   {
    "duration": 3,
    "start_time": "2023-05-15T21:22:38.852Z"
   },
   {
    "duration": 14,
    "start_time": "2023-05-15T21:22:39.424Z"
   },
   {
    "duration": 12,
    "start_time": "2023-05-15T21:22:49.993Z"
   },
   {
    "duration": 7,
    "start_time": "2023-05-15T21:22:51.020Z"
   },
   {
    "duration": 10,
    "start_time": "2023-05-15T21:22:51.872Z"
   },
   {
    "duration": 18,
    "start_time": "2023-05-15T21:22:54.767Z"
   }
  ],
  "kernelspec": {
   "display_name": "Python 3 (ipykernel)",
   "language": "python",
   "name": "python3"
  },
  "language_info": {
   "codemirror_mode": {
    "name": "ipython",
    "version": 3
   },
   "file_extension": ".py",
   "mimetype": "text/x-python",
   "name": "python",
   "nbconvert_exporter": "python",
   "pygments_lexer": "ipython3",
   "version": "3.10.9"
  },
  "toc": {
   "base_numbering": 1,
   "nav_menu": {},
   "number_sections": true,
   "sideBar": true,
   "skip_h1_title": true,
   "title_cell": "Содержание",
   "title_sidebar": "Contents",
   "toc_cell": true,
   "toc_position": {},
   "toc_section_display": true,
   "toc_window_display": true
  },
  "varInspector": {
   "cols": {
    "lenName": 16,
    "lenType": 16,
    "lenVar": 40
   },
   "kernels_config": {
    "python": {
     "delete_cmd_postfix": "",
     "delete_cmd_prefix": "del ",
     "library": "var_list.py",
     "varRefreshCmd": "print(var_dic_list())"
    },
    "r": {
     "delete_cmd_postfix": ") ",
     "delete_cmd_prefix": "rm(",
     "library": "var_list.r",
     "varRefreshCmd": "cat(var_dic_list()) "
    }
   },
   "types_to_exclude": [
    "module",
    "function",
    "builtin_function_or_method",
    "instance",
    "_Feature"
   ],
   "window_display": false
  }
 },
 "nbformat": 4,
 "nbformat_minor": 2
}

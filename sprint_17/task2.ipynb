{
 "cells": [
  {
   "cell_type": "code",
   "execution_count": 3,
   "id": "a023ba37",
   "metadata": {},
   "outputs": [],
   "source": [
    "from tensorflow.keras.datasets import fashion_mnist\n",
    "from tensorflow.keras.layers import Conv2D, Flatten, Dense, AvgPool2D\n",
    "from tensorflow.keras.models import Sequential\n",
    "from tensorflow.keras.optimizers import Adam\n",
    "\n",
    "import numpy as np\n",
    "optimizer = Adam(learning_rate=.005)\n",
    "from matplotlib import pyplot as plt"
   ]
  },
  {
   "cell_type": "code",
   "execution_count": 2,
   "id": "dd5f293a",
   "metadata": {},
   "outputs": [],
   "source": [
    "def load_train(path):\n",
    "    features_train = np.load(path + 'train_features.npy')\n",
    "    target_train = np.load(path + 'train_target.npy')\n",
    "    features_train = features_train.reshape(-1, 28, 28, 1) / 255.0\n",
    "    return features_train, target_train "
   ]
  },
  {
   "cell_type": "code",
   "execution_count": 8,
   "id": "98346f51",
   "metadata": {},
   "outputs": [],
   "source": [
    "def create_model(input_shape):\n",
    "    model = Sequential()\n",
    "    model = Sequential()\n",
    "    model.add(Conv2D(filters=6, kernel_size=(5, 5), padding='same',\n",
    "                 activation=\"relu\", input_shape=(28, 28, 1)))\n",
    "    model.add(AvgPool2D(pool_size=(2, 2)))\n",
    "    model.add(Conv2D(filters=16, kernel_size=(5, 5), padding='valid',\n",
    "                 activation=\"relu\"))\n",
    "    model.add(AvgPool2D(pool_size=(2, 2))) \n",
    "    model.add(Flatten())\n",
    "\n",
    "    model.add(Dense(units=120, activation='relu'))\n",
    "    model.add(Dense(units=84, activation='relu'))\n",
    "    model.add(Dense(units=10, activation='softmax'))\n",
    "    model.compile(optimizer=optimizer, loss='sparse_categorical_crossentropy',\n",
    "                  metrics=['acc'])\n",
    "\n",
    "    return model "
   ]
  },
  {
   "cell_type": "code",
   "execution_count": 4,
   "id": "d0137ada",
   "metadata": {},
   "outputs": [],
   "source": [
    "def train_model(model, train_data, test_data, batch_size=32, epochs=5,\n",
    "               steps_per_epoch=None, validation_steps=None):\n",
    "\n",
    "    features_train, target_train = train_data\n",
    "    features_test, target_test = test_data\n",
    "    model.fit(features_train, target_train, \n",
    "              validation_data=(features_test, target_test),\n",
    "              batch_size=batch_size, epochs=epochs,\n",
    "              steps_per_epoch=steps_per_epoch,\n",
    "              validation_steps=validation_steps,\n",
    "              verbose=2, shuffle=True)\n",
    "\n",
    "    return model "
   ]
  }
 ],
 "metadata": {
  "kernelspec": {
   "display_name": "Python 3 (ipykernel)",
   "language": "python",
   "name": "python3"
  },
  "language_info": {
   "codemirror_mode": {
    "name": "ipython",
    "version": 3
   },
   "file_extension": ".py",
   "mimetype": "text/x-python",
   "name": "python",
   "nbconvert_exporter": "python",
   "pygments_lexer": "ipython3",
   "version": "3.10.9"
  }
 },
 "nbformat": 4,
 "nbformat_minor": 5
}

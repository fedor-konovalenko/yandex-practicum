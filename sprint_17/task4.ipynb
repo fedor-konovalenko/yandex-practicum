{
 "cells": [
  {
   "cell_type": "code",
   "execution_count": null,
   "id": "fcc0569a",
   "metadata": {},
   "outputs": [],
   "source": [
    "from tensorflow.keras.layers import Conv2D, Flatten, Dense, AvgPool2D, GlobalAveragePooling2D\n",
    "from tensorflow.keras.models import Sequential\n",
    "from tensorflow.keras.optimizers import Adam\n",
    "from tensorflow.keras.preprocessing.image import ImageDataGenerator\n",
    "from tensorflow.keras.applications.resnet50 import ResNet50\n",
    " \n",
    " \n",
    "def load_train(path):\n",
    "    datagen = ImageDataGenerator(rescale=1./255)\n",
    "    train_datagen_flow = datagen.flow_from_directory(\n",
    "    path,\n",
    "    target_size=(150, 150),\n",
    "    batch_size=16,\n",
    "    class_mode='sparse',\n",
    "    subset='training',\n",
    "    seed=12345)\n",
    "    \n",
    "    return train_datagen_flow \n",
    " \n",
    " \n",
    "def create_model(input_shape):\n",
    " \n",
    "    optimizer = Adam(lr=0.0001)\n",
    "    backbone = ResNet50(input_shape=(150, 150, 3),\n",
    "                    weights='/datasets/keras_models/resnet50_weights_tf_dim_ordering_tf_kernels_notop.h5',\n",
    "                    include_top=False)\n",
    "    model = Sequential()\n",
    "    model.add(backbone)\n",
    "    model.add(GlobalAveragePooling2D())\n",
    "    model.add(Dense(12, activation='softmax'))\n",
    "    model.compile(loss='sparse_categorical_crossentropy', optimizer=optimizer, metrics=['acc'])\n",
    "    #print(model.summary)\n",
    "    return model\n",
    " \n",
    " \n",
    "def train_model(model, train_data, test_data, batch_size=None, epochs=5,\n",
    "                steps_per_epoch=None, validation_steps=None):\n",
    " \n",
    "    model.fit(train_data,\n",
    "              validation_data=test_data,\n",
    "              epochs=epochs,\n",
    "              batch_size=batch_size,\n",
    "              steps_per_epoch=len(train_data),\n",
    "              validation_steps=len(test_data),\n",
    "              verbose=2)\n",
    " \n",
    "    return model"
   ]
  }
 ],
 "metadata": {
  "kernelspec": {
   "display_name": "Python 3 (ipykernel)",
   "language": "python",
   "name": "python3"
  },
  "language_info": {
   "codemirror_mode": {
    "name": "ipython",
    "version": 3
   },
   "file_extension": ".py",
   "mimetype": "text/x-python",
   "name": "python",
   "nbconvert_exporter": "python",
   "pygments_lexer": "ipython3",
   "version": "3.10.9"
  },
  "toc": {
   "base_numbering": 1,
   "nav_menu": {},
   "number_sections": true,
   "sideBar": true,
   "skip_h1_title": false,
   "title_cell": "Table of Contents",
   "title_sidebar": "Contents",
   "toc_cell": false,
   "toc_position": {},
   "toc_section_display": true,
   "toc_window_display": false
  },
  "varInspector": {
   "cols": {
    "lenName": 16,
    "lenType": 16,
    "lenVar": 40
   },
   "kernels_config": {
    "python": {
     "delete_cmd_postfix": "",
     "delete_cmd_prefix": "del ",
     "library": "var_list.py",
     "varRefreshCmd": "print(var_dic_list())"
    },
    "r": {
     "delete_cmd_postfix": ") ",
     "delete_cmd_prefix": "rm(",
     "library": "var_list.r",
     "varRefreshCmd": "cat(var_dic_list()) "
    }
   },
   "types_to_exclude": [
    "module",
    "function",
    "builtin_function_or_method",
    "instance",
    "_Feature"
   ],
   "window_display": false
  }
 },
 "nbformat": 4,
 "nbformat_minor": 5
}

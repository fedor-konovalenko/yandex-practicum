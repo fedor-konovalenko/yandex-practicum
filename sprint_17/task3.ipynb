{
 "cells": [
  {
   "cell_type": "code",
   "execution_count": 3,
   "id": "a023ba37",
   "metadata": {},
   "outputs": [],
   "source": [
    "from tensorflow.keras.layers import Conv2D, Flatten, Dense, AvgPool2D\n",
    "from tensorflow.keras.models import Sequential\n",
    "from tensorflow.keras.optimizers import Adam\n",
    "from tensorflow.keras.preprocessing.image import ImageDataGenerator\n",
    "import numpy as np\n",
    "optimizer = Adam(learning_rate=.002)\n",
    "from matplotlib import pyplot as plt"
   ]
  },
  {
   "cell_type": "code",
   "execution_count": null,
   "id": "928b4839",
   "metadata": {},
   "outputs": [],
   "source": [
    "def load_train(path):\n",
    "    datagen = ImageDataGenerator(rescale=1./255)\n",
    "    train_datagen_flow = datagen.flow_from_directory(\n",
    "    path,\n",
    "    target_size=(150, 150),\n",
    "    batch_size=16,\n",
    "    class_mode='sparse',\n",
    "    subset='training',\n",
    "    seed=12345)\n",
    "    \n",
    "    return train_datagen_flow "
   ]
  },
  {
   "cell_type": "code",
   "execution_count": 8,
   "id": "98346f51",
   "metadata": {},
   "outputs": [],
   "source": [
    "def create_model(input_shape):    \n",
    "    model = Sequential()\n",
    "    model.add(Conv2D(filters=6,\n",
    "                 kernel_size=(3, 3),\n",
    "                 activation='relu',\n",
    "                 input_shape=(input_shape)))\n",
    "    model.add(AvgPool2D(pool_size=(2, 2)))\n",
    "    model.add(Flatten())\n",
    "    model.add(Dense(units=12, activation='softmax'))\n",
    "    model.compile(loss='sparse_categorical_crossentropy', \n",
    "              optimizer='adam', metrics=['acc'])\n",
    "    return model "
   ]
  },
  {
   "cell_type": "code",
   "execution_count": 4,
   "id": "d0137ada",
   "metadata": {},
   "outputs": [],
   "source": [
    "def train_model(model, train_data, test_data, batch_size=None, epochs=5,\n",
    "                steps_per_epoch=None, validation_steps=None):\n",
    "    model.fit(train_data,\n",
    "              validation_data=test_data,\n",
    "              batch_size=batch_size, epochs=epochs,\n",
    "              steps_per_epoch=steps_per_epoch,\n",
    "              validation_steps=validation_steps,\n",
    "              verbose=2)\n",
    "    return model"
   ]
  }
 ],
 "metadata": {
  "kernelspec": {
   "display_name": "Python 3 (ipykernel)",
   "language": "python",
   "name": "python3"
  },
  "language_info": {
   "codemirror_mode": {
    "name": "ipython",
    "version": 3
   },
   "file_extension": ".py",
   "mimetype": "text/x-python",
   "name": "python",
   "nbconvert_exporter": "python",
   "pygments_lexer": "ipython3",
   "version": "3.10.9"
  }
 },
 "nbformat": 4,
 "nbformat_minor": 5
}

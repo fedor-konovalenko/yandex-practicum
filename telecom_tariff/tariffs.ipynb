{
 "cells": [
  {
   "cell_type": "markdown",
   "metadata": {},
   "source": [
    "# Рекомендация тарифов"
   ]
  },
  {
   "cell_type": "markdown",
   "metadata": {},
   "source": [
    "Исходные данные -  данные о поведении клиентов, которые перешли на новые тарифы сотового оператора. Нужно построить модель для задачи классификации, которая выберет подходящий тариф для нового клиента.\n",
    "\n",
    "Целевая метрика -  *accuracy* не менее 0.75."
   ]
  },
  {
   "cell_type": "code",
   "execution_count": 1,
   "metadata": {},
   "outputs": [],
   "source": [
    "import pandas as pd\n",
    "from sklearn.tree import DecisionTreeClassifier\n",
    "from sklearn.linear_model import LogisticRegression \n",
    "from sklearn.ensemble import RandomForestClassifier\n",
    "from sklearn.metrics import accuracy_score\n",
    "from sklearn.model_selection import train_test_split\n",
    "import joblib\n",
    "import numpy as np\n",
    "from matplotlib import pyplot as plt\n",
    "from sklearn.model_selection import GridSearchCV"
   ]
  },
  {
   "cell_type": "markdown",
   "metadata": {},
   "source": [
    "## Предварительный анализ данных"
   ]
  },
  {
   "cell_type": "code",
   "execution_count": 2,
   "metadata": {},
   "outputs": [],
   "source": [
    "df = pd.read_csv('users_behavior.csv')"
   ]
  },
  {
   "cell_type": "code",
   "execution_count": 3,
   "metadata": {},
   "outputs": [
    {
     "name": "stdout",
     "output_type": "stream",
     "text": [
      "<class 'pandas.core.frame.DataFrame'>\n",
      "RangeIndex: 3214 entries, 0 to 3213\n",
      "Data columns (total 5 columns):\n",
      " #   Column    Non-Null Count  Dtype  \n",
      "---  ------    --------------  -----  \n",
      " 0   calls     3214 non-null   float64\n",
      " 1   minutes   3214 non-null   float64\n",
      " 2   messages  3214 non-null   float64\n",
      " 3   mb_used   3214 non-null   float64\n",
      " 4   is_ultra  3214 non-null   int64  \n",
      "dtypes: float64(4), int64(1)\n",
      "memory usage: 125.7 KB\n"
     ]
    }
   ],
   "source": [
    "df.info()"
   ]
  },
  {
   "cell_type": "code",
   "execution_count": 4,
   "metadata": {
    "scrolled": true
   },
   "outputs": [
    {
     "data": {
      "text/html": [
       "<div>\n",
       "<style scoped>\n",
       "    .dataframe tbody tr th:only-of-type {\n",
       "        vertical-align: middle;\n",
       "    }\n",
       "\n",
       "    .dataframe tbody tr th {\n",
       "        vertical-align: top;\n",
       "    }\n",
       "\n",
       "    .dataframe thead th {\n",
       "        text-align: right;\n",
       "    }\n",
       "</style>\n",
       "<table border=\"1\" class=\"dataframe\">\n",
       "  <thead>\n",
       "    <tr style=\"text-align: right;\">\n",
       "      <th></th>\n",
       "      <th>calls</th>\n",
       "      <th>minutes</th>\n",
       "      <th>messages</th>\n",
       "      <th>mb_used</th>\n",
       "      <th>is_ultra</th>\n",
       "    </tr>\n",
       "  </thead>\n",
       "  <tbody>\n",
       "    <tr>\n",
       "      <th>0</th>\n",
       "      <td>40.0</td>\n",
       "      <td>311.90</td>\n",
       "      <td>83.0</td>\n",
       "      <td>19915.42</td>\n",
       "      <td>0</td>\n",
       "    </tr>\n",
       "    <tr>\n",
       "      <th>1</th>\n",
       "      <td>85.0</td>\n",
       "      <td>516.75</td>\n",
       "      <td>56.0</td>\n",
       "      <td>22696.96</td>\n",
       "      <td>0</td>\n",
       "    </tr>\n",
       "    <tr>\n",
       "      <th>2</th>\n",
       "      <td>77.0</td>\n",
       "      <td>467.66</td>\n",
       "      <td>86.0</td>\n",
       "      <td>21060.45</td>\n",
       "      <td>0</td>\n",
       "    </tr>\n",
       "    <tr>\n",
       "      <th>3</th>\n",
       "      <td>106.0</td>\n",
       "      <td>745.53</td>\n",
       "      <td>81.0</td>\n",
       "      <td>8437.39</td>\n",
       "      <td>1</td>\n",
       "    </tr>\n",
       "    <tr>\n",
       "      <th>4</th>\n",
       "      <td>66.0</td>\n",
       "      <td>418.74</td>\n",
       "      <td>1.0</td>\n",
       "      <td>14502.75</td>\n",
       "      <td>0</td>\n",
       "    </tr>\n",
       "  </tbody>\n",
       "</table>\n",
       "</div>"
      ],
      "text/plain": [
       "   calls  minutes  messages   mb_used  is_ultra\n",
       "0   40.0   311.90      83.0  19915.42         0\n",
       "1   85.0   516.75      56.0  22696.96         0\n",
       "2   77.0   467.66      86.0  21060.45         0\n",
       "3  106.0   745.53      81.0   8437.39         1\n",
       "4   66.0   418.74       1.0  14502.75         0"
      ]
     },
     "execution_count": 4,
     "metadata": {},
     "output_type": "execute_result"
    }
   ],
   "source": [
    "df.head()"
   ]
  },
  {
   "cell_type": "markdown",
   "metadata": {},
   "source": [
    "## Деление данных на выборки"
   ]
  },
  {
   "cell_type": "markdown",
   "metadata": {},
   "source": [
    "**Разбиение данных на выборки**\n",
    "\n",
    "| Выборка      | Доля от общего количества данных, % |\n",
    "| ----------- | ----------- |\n",
    "| Обучающая (train)     | 60       |\n",
    "| Валидационная (valid)   | 20        |\n",
    "| Тестовая (test)   | 20        |\n",
    "\n",
    "Сперва отделим тестовую выборку, потом оставшиеся данные поделим на обучающую и валидационную"
   ]
  },
  {
   "cell_type": "code",
   "execution_count": 5,
   "metadata": {},
   "outputs": [],
   "source": [
    "df_1, df_test = train_test_split(df, test_size=0.2, random_state=20032022)\n",
    "df_train, df_valid = train_test_split(df_1, test_size=.25, random_state=20032022)\n",
    "#print(df_train.shape, df_test.shape, df_valid.shape, df_1.shape)"
   ]
  },
  {
   "cell_type": "code",
   "execution_count": 6,
   "metadata": {},
   "outputs": [],
   "source": [
    "features_train = df_train.drop(['is_ultra'], axis=1)\n",
    "target_train = df_train['is_ultra']\n",
    "\n",
    "features_valid = df_valid.drop(['is_ultra'], axis=1)\n",
    "target_valid = df_valid['is_ultra']\n",
    "\n",
    "features_test = df_test.drop(['is_ultra'], axis=1)\n",
    "target_test = df_test['is_ultra']"
   ]
  },
  {
   "cell_type": "code",
   "execution_count": 7,
   "metadata": {},
   "outputs": [
    {
     "name": "stdout",
     "output_type": "stream",
     "text": [
      "Размер обучающей выборки - 1928 - 60% от первоначального датасета\n",
      "Размер валидационной выборки - 643 - 20% от первоначального датасета\n",
      "Размер тестовой выборки - 643 - 20% от первоначального датасета\n"
     ]
    }
   ],
   "source": [
    "print(f'Размер обучающей выборки - {df_train.shape[0]} - {df_train.shape[0] / df.shape[0]:.0%} от первоначального датасета')\n",
    "print(f'Размер валидационной выборки - {df_valid.shape[0]} - {df_valid.shape[0] / df.shape[0]:.0%} от первоначального датасета')\n",
    "print(f'Размер тестовой выборки - {df_test.shape[0]} - {df_test.shape[0] / df.shape[0]:.0%} от первоначального датасета')"
   ]
  },
  {
   "cell_type": "markdown",
   "metadata": {},
   "source": [
    "## Исследование моделей"
   ]
  },
  {
   "cell_type": "markdown",
   "metadata": {},
   "source": [
    "### План исследования\n",
    "\n",
    "Поскольку поставлена задача предсказания категориального признака (подойдет пользователю тариф или не подойдет) то рассматриваться будут модели-классификаторы:\n",
    "- решающее дерево\n",
    "- случайный лес\n",
    "- логистическая регрессия\n",
    "\n",
    "Варьироваться будут следующие параметры:\n",
    "- максимальная глубина дерева (для решающего дерева и случайного леса)\n",
    "- способ выбора признака: лучший или случайный (для решающего дерева)\n",
    "- максимальное количество деревьев (для случайного леса)\n",
    "- критерий принятия решения: Джини или энтропийный (для решающего дерева и случайного леса)\n",
    "- количество итераций (для логистического регрессора)\n",
    "- тип решателя: lbfgs или liblinear (для логистического регрессора)\n",
    "\n",
    "\n",
    "*Примечание 1:*\n",
    "\n",
    "*Вроде бы, энтропийный критерий лучше применять, если целевая дискретная переменная случайна. В нашем случае это скорее не так. Также, встречалась информация, что нет никаких четких правил для выбора критерия, нужно пробовать. Что же, буду пробовать*\n",
    "\n",
    "*Примечание 2*\n",
    "\n",
    "*liblinear в дополнение к дефолтному я взял потому что [в документации пишут](https://scikit-learn.org/stable/modules/generated/sklearn.linear_model.LogisticRegression.html), что он хорош для маленьких датасетов. Посмотрим, хорош ли. Заодно интересно сравнить методы между собой, [ведь один использует линейную аппроксимацию, а второй - квадратичную.](https://stackoverflow.com/questions/38640109/logistic-regression-python-solvers-definitions/52388406#52388406)*"
   ]
  },
  {
   "cell_type": "markdown",
   "metadata": {},
   "source": [
    "### Решающее дерево"
   ]
  },
  {
   "cell_type": "code",
   "execution_count": 8,
   "metadata": {},
   "outputs": [
    {
     "data": {
      "image/png": "[encoded data removed]",
      "text/plain": [
       "<Figure size 640x480 with 1 Axes>"
      ]
     },
     "metadata": {},
     "output_type": "display_data"
    },
    {
     "data": {
      "image/png": "[encoded data removed]",
      "text/plain": [
       "<Figure size 640x480 with 1 Axes>"
      ]
     },
     "metadata": {},
     "output_type": "display_data"
    },
    {
     "name": "stdout",
     "output_type": "stream",
     "text": [
      "\n",
      " Лучший результат 0.792 у решающего дерева с глубиной 5, критерием gini и способом выбора признака random\n"
     ]
    }
   ],
   "source": [
    "crit_list = ['gini', 'entropy']\n",
    "splitter_list=['best', 'random']\n",
    "best_model = None\n",
    "best_result = 0\n",
    "best_depth = 0\n",
    "best_crit = ''\n",
    "\n",
    "for s in splitter_list:\n",
    "    for c in crit_list:\n",
    "        result_graph = []\n",
    "        depth = []\n",
    "        for d in range(1, 21):\n",
    "            model = DecisionTreeClassifier(random_state=20032022, max_depth = d, criterion=c, splitter=s) \n",
    "            model.fit(features_train, target_train)\n",
    "            predictions = model.predict(features_valid)\n",
    "            result = accuracy_score(target_valid, predictions)\n",
    "            result_graph.append(result)\n",
    "            depth.append(d)\n",
    "            if result > best_result:\n",
    "                best_model = model\n",
    "                best_result = result\n",
    "                best_depth = d\n",
    "                best_crit = c\n",
    "                best_split = s\n",
    "        plt.plot(depth, result_graph, label=c, marker='o')\n",
    "    plt.legend()\n",
    "    plt.grid(True)\n",
    "    plt.xlabel('tree_depth')\n",
    "    plt.title('accuracy '+'(splitter = '+s+')')\n",
    "    plt.show()\n",
    "    \n",
    "joblib.dump(best_model, 'best_tree.joblib')\n",
    "print('\\n', f'Лучший результат {round(best_result, 3)} у решающего дерева с глубиной {best_depth}, критерием {best_crit} \\\n",
    "и способом выбора признака {best_split}')"
   ]
  },
  {
   "cell_type": "markdown",
   "metadata": {},
   "source": [
    "### Случайный лес"
   ]
  },
  {
   "cell_type": "code",
   "execution_count": 9,
   "metadata": {},
   "outputs": [
    {
     "name": "stdout",
     "output_type": "stream",
     "text": [
      "{'criterion': 'entropy', 'max_depth': 9, 'min_samples_leaf': 2, 'n_estimators': 9, 'random_state': 20032022}\n",
      "Лучший результат - 0.798\n"
     ]
    }
   ],
   "source": [
    "classifier = RandomForestClassifier()\n",
    "parameters = { 'n_estimators': range (2, 11),\n",
    "              'max_depth': range (1, 11),\n",
    "              'min_samples_leaf': range (1,5),\n",
    "              'criterion': ['gini', 'entropy'],\n",
    "             'random_state': [20032022]}\n",
    "grid = GridSearchCV(classifier, parameters)\n",
    "grid.fit(features_train, target_train)\n",
    "best_parameters = grid.best_params_\n",
    "joblib.dump(grid.best_estimator_, 'best_forest1.joblib')\n",
    "print(best_parameters)\n",
    "print(f'Лучший результат - {round(accuracy_score(target_valid, grid.predict(features_valid)),3)}')"
   ]
  },
  {
   "cell_type": "code",
   "execution_count": 10,
   "metadata": {},
   "outputs": [
    {
     "data": {
      "text/plain": [
       "['best_forest.joblib']"
      ]
     },
     "execution_count": 10,
     "metadata": {},
     "output_type": "execute_result"
    }
   ],
   "source": [
    "best_forest = RandomForestClassifier(**best_parameters)\n",
    "joblib.dump(best_forest, 'best_forest.joblib')"
   ]
  },
  {
   "cell_type": "markdown",
   "metadata": {},
   "source": [
    "### Логистический регрессор"
   ]
  },
  {
   "cell_type": "code",
   "execution_count": 11,
   "metadata": {},
   "outputs": [
    {
     "name": "stdout",
     "output_type": "stream",
     "text": [
      "\n",
      " Лучший результат 0.733 у логистического регрессора с решателем lbfgs и числом итераций 100\n"
     ]
    }
   ],
   "source": [
    "solver_list = ['lbfgs', 'liblinear']\n",
    "\n",
    "best_model = None\n",
    "best_result = 0\n",
    "best_iter = 0\n",
    "best_solver = ''\n",
    "\n",
    "for s in solver_list:\n",
    "    for i in range (100, 1100, 100):\n",
    "        model = LogisticRegression(random_state=20032022, solver=s, max_iter=i)\n",
    "        model.fit(features_train, target_train)\n",
    "        predictions = model.predict(features_valid)\n",
    "        result = accuracy_score(target_valid, predictions)\n",
    "        if result > best_result:\n",
    "            best_model = model\n",
    "            best_result = result\n",
    "            best_solver = s\n",
    "            best_iter = i\n",
    "        #print(f'Solver {s}, iterations {i} - accuracy {result}')\n",
    "joblib.dump(best_model, 'best_log.joblib')\n",
    "print('\\n', f'Лучший результат {round(best_result, 3)} у логистического регрессора с решателем {best_solver} \\\n",
    "и числом итераций {best_iter}')"
   ]
  },
  {
   "cell_type": "markdown",
   "metadata": {},
   "source": [
    "### Вывод\n",
    "\n",
    "**Получается, что лучшая из моделей - это случайный лес из 9 деревьев с глубиной 3 и критерием Джини**.\n",
    "\n",
    "- Точность в порядке убывания: Случайный лес->Решающее дерево->Логистический регрессор\n",
    "- Деревья с большей глубиной более склонны к переобучению. \n",
    "- В логистическом регрессоре метод с квадратичной аппроксимацией более точен, чем с линейной\n",
    "- Лучшие модели с одиночным деревом и случайным лесом по точности различаются незначительно (1-2%)\n",
    "\n",
    "Проверим теперь лучшую из моделей на тестовой выборке."
   ]
  },
  {
   "cell_type": "markdown",
   "metadata": {},
   "source": [
    "## Проверка лучшей модели на тестовой выборке"
   ]
  },
  {
   "cell_type": "code",
   "execution_count": 12,
   "metadata": {},
   "outputs": [
    {
     "name": "stdout",
     "output_type": "stream",
     "text": [
      "0.7978227060653188\n"
     ]
    }
   ],
   "source": [
    "model = joblib.load('best_forest1.joblib') \n",
    "model.fit(features_train, target_train)\n",
    "predictions = model.predict(features_test)\n",
    "result = accuracy_score(target_test, predictions)\n",
    "print(result)"
   ]
  },
  {
   "cell_type": "markdown",
   "metadata": {},
   "source": [
    "### Вывод\n",
    "Поставленная цель (accuracy >= 0,75) достигнута"
   ]
  },
  {
   "cell_type": "markdown",
   "metadata": {},
   "source": [
    "## Проверка модели на адекватность"
   ]
  },
  {
   "cell_type": "markdown",
   "metadata": {},
   "source": [
    "Посмотрим на баланс значений в таргете"
   ]
  },
  {
   "cell_type": "code",
   "execution_count": 13,
   "metadata": {},
   "outputs": [
    {
     "name": "stdout",
     "output_type": "stream",
     "text": [
      "Значений \"1\" - 30% от общего числа значений\n"
     ]
    }
   ],
   "source": [
    "print(f'Значений \"1\" - {target_test.sum() / target_test.shape[0]:.0%} от общего числа значений')"
   ]
  },
  {
   "cell_type": "markdown",
   "metadata": {},
   "source": [
    "Предположим, я решил угадывать тариф пользователя. То есть, теперь переменная predictions будет заполнена случайными значениями либо 0, либо 1. Рассчитаем accuracy для тестовой выборки. Несколько раз.\n",
    "\n",
    "А потом посмотрим, что будет, если вместо всех предсказаний всегда выдавать \"0\" или \"1\""
   ]
  },
  {
   "cell_type": "code",
   "execution_count": 14,
   "metadata": {},
   "outputs": [
    {
     "data": {
      "image/png": "[encoded data removed]",
      "text/plain": [
       "<Figure size 640x480 with 1 Axes>"
      ]
     },
     "metadata": {},
     "output_type": "display_data"
    }
   ],
   "source": [
    "acc_rand = []\n",
    "acc_0 = []\n",
    "acc_1 = []\n",
    "for i in range(100):\n",
    "    predictions_rand = np.random.randint(2, size=df_test.shape[0])\n",
    "    acc_rand.append(accuracy_score(target_test, predictions_rand))\n",
    "    acc_0.append(accuracy_score(target_test, [0] * df_test.shape[0]))\n",
    "    acc_1.append(accuracy_score(target_test, [1] * df_test.shape[0]))\n",
    "    i += 1\n",
    "plt.plot(acc_rand, label='random')\n",
    "plt.plot(acc_0, label='all_0')\n",
    "plt.plot(acc_1, label='all_1')\n",
    "plt.xlabel('count')\n",
    "plt.title('accuracy')\n",
    "plt.legend()\n",
    "plt.show()\n"
   ]
  },
  {
   "cell_type": "markdown",
   "metadata": {},
   "source": [
    "\n",
    "\n",
    "### Вывод\n",
    "\n",
    "Выбранная модель по точности не уступает случайному угадыванию или повторению одного и того же ответа. "
   ]
  }
 ],
 "metadata": {
  "ExecuteTimeLog": [
   {
    "duration": 1060,
    "start_time": "2023-03-20T11:03:44.384Z"
   },
   {
    "duration": 130,
    "start_time": "2023-03-20T11:04:26.248Z"
   },
   {
    "duration": 13,
    "start_time": "2023-03-20T11:04:39.362Z"
   },
   {
    "duration": 19,
    "start_time": "2023-03-20T11:04:56.303Z"
   },
   {
    "duration": 92,
    "start_time": "2023-03-20T11:13:17.731Z"
   },
   {
    "duration": 8,
    "start_time": "2023-03-20T11:13:47.386Z"
   },
   {
    "duration": 8,
    "start_time": "2023-03-20T11:17:42.774Z"
   },
   {
    "duration": 14,
    "start_time": "2023-03-20T11:18:16.245Z"
   },
   {
    "duration": 8,
    "start_time": "2023-03-20T11:18:27.183Z"
   },
   {
    "duration": 6,
    "start_time": "2023-03-20T11:18:51.643Z"
   },
   {
    "duration": 9,
    "start_time": "2023-03-20T11:19:55.635Z"
   },
   {
    "duration": 7,
    "start_time": "2023-03-20T11:20:52.035Z"
   },
   {
    "duration": 6,
    "start_time": "2023-03-20T11:21:21.564Z"
   },
   {
    "duration": 5,
    "start_time": "2023-03-20T11:46:46.915Z"
   },
   {
    "duration": 1100,
    "start_time": "2023-03-20T15:21:22.150Z"
   },
   {
    "duration": 119,
    "start_time": "2023-03-20T15:30:26.211Z"
   },
   {
    "duration": 12,
    "start_time": "2023-03-20T15:30:53.806Z"
   },
   {
    "duration": 3,
    "start_time": "2023-03-20T15:30:59.942Z"
   },
   {
    "duration": 81,
    "start_time": "2023-03-20T15:31:00.777Z"
   },
   {
    "duration": 19,
    "start_time": "2023-03-20T15:31:01.586Z"
   },
   {
    "duration": 16,
    "start_time": "2023-03-20T15:31:02.047Z"
   },
   {
    "duration": 12,
    "start_time": "2023-03-20T15:31:04.297Z"
   },
   {
    "duration": 7,
    "start_time": "2023-03-20T15:31:04.954Z"
   },
   {
    "duration": 18,
    "start_time": "2023-03-20T15:31:08.982Z"
   },
   {
    "duration": 55,
    "start_time": "2023-03-20T15:31:25.082Z"
   },
   {
    "duration": 69,
    "start_time": "2023-03-20T15:31:53.855Z"
   },
   {
    "duration": 1106,
    "start_time": "2023-03-21T07:03:10.064Z"
   },
   {
    "duration": 73,
    "start_time": "2023-03-21T07:03:12.610Z"
   },
   {
    "duration": 11,
    "start_time": "2023-03-21T07:03:13.156Z"
   },
   {
    "duration": 16,
    "start_time": "2023-03-21T07:03:14.345Z"
   },
   {
    "duration": 7,
    "start_time": "2023-03-21T07:03:16.300Z"
   },
   {
    "duration": 5,
    "start_time": "2023-03-21T07:03:16.842Z"
   },
   {
    "duration": 61,
    "start_time": "2023-03-21T07:03:39.852Z"
   },
   {
    "duration": 74,
    "start_time": "2023-03-21T07:04:41.291Z"
   },
   {
    "duration": 58,
    "start_time": "2023-03-21T07:09:13.417Z"
   },
   {
    "duration": 1220,
    "start_time": "2023-03-21T18:39:36.573Z"
   },
   {
    "duration": 143,
    "start_time": "2023-03-21T18:39:37.797Z"
   },
   {
    "duration": 13,
    "start_time": "2023-03-21T18:39:37.942Z"
   },
   {
    "duration": 25,
    "start_time": "2023-03-21T18:39:37.956Z"
   },
   {
    "duration": 9,
    "start_time": "2023-03-21T18:39:37.984Z"
   },
   {
    "duration": 16,
    "start_time": "2023-03-21T18:39:37.995Z"
   },
   {
    "duration": 72,
    "start_time": "2023-03-21T18:39:38.015Z"
   },
   {
    "duration": 97,
    "start_time": "2023-03-21T18:50:49.579Z"
   },
   {
    "duration": 130,
    "start_time": "2023-03-21T18:50:58.979Z"
   },
   {
    "duration": 1335,
    "start_time": "2023-03-21T18:51:17.192Z"
   },
   {
    "duration": 3,
    "start_time": "2023-03-21T18:56:59.191Z"
   },
   {
    "duration": 1210,
    "start_time": "2023-03-21T18:59:16.612Z"
   },
   {
    "duration": 373,
    "start_time": "2023-03-21T19:05:00.930Z"
   },
   {
    "duration": 1253,
    "start_time": "2023-03-21T19:05:17.539Z"
   },
   {
    "duration": 404,
    "start_time": "2023-03-21T19:05:26.325Z"
   },
   {
    "duration": 400,
    "start_time": "2023-03-21T19:05:42.282Z"
   },
   {
    "duration": 31,
    "start_time": "2023-03-21T19:10:03.619Z"
   },
   {
    "duration": 29,
    "start_time": "2023-03-21T19:10:17.319Z"
   },
   {
    "duration": 1184,
    "start_time": "2023-03-21T19:22:06.300Z"
   },
   {
    "duration": 386,
    "start_time": "2023-03-21T19:22:09.107Z"
   },
   {
    "duration": 30,
    "start_time": "2023-03-21T19:22:12.333Z"
   },
   {
    "duration": 83,
    "start_time": "2023-03-21T19:28:45.678Z"
   },
   {
    "duration": 3,
    "start_time": "2023-03-21T19:29:34.431Z"
   },
   {
    "duration": 71,
    "start_time": "2023-03-21T19:29:40.079Z"
   },
   {
    "duration": 3,
    "start_time": "2023-03-21T19:30:59.606Z"
   },
   {
    "duration": 173,
    "start_time": "2023-03-21T19:31:06.877Z"
   },
   {
    "duration": 490,
    "start_time": "2023-03-21T19:31:34.026Z"
   },
   {
    "duration": 453,
    "start_time": "2023-03-21T19:31:41.979Z"
   },
   {
    "duration": 1252,
    "start_time": "2023-03-21T19:31:58.347Z"
   },
   {
    "duration": 60,
    "start_time": "2023-03-21T19:33:22.478Z"
   },
   {
    "duration": 4,
    "start_time": "2023-03-21T19:54:21.795Z"
   },
   {
    "duration": 11,
    "start_time": "2023-03-21T19:59:45.280Z"
   },
   {
    "duration": 5,
    "start_time": "2023-03-21T19:59:53.904Z"
   },
   {
    "duration": 7,
    "start_time": "2023-03-21T20:00:12.680Z"
   },
   {
    "duration": 8,
    "start_time": "2023-03-21T20:00:20.442Z"
   },
   {
    "duration": 5,
    "start_time": "2023-03-21T20:28:49.572Z"
   },
   {
    "duration": 6,
    "start_time": "2023-03-21T20:29:14.080Z"
   },
   {
    "duration": 5,
    "start_time": "2023-03-21T20:29:46.057Z"
   },
   {
    "duration": 7,
    "start_time": "2023-03-21T20:29:50.598Z"
   },
   {
    "duration": 31,
    "start_time": "2023-03-21T20:38:51.756Z"
   },
   {
    "duration": 71,
    "start_time": "2023-03-21T20:39:12.376Z"
   },
   {
    "duration": 36,
    "start_time": "2023-03-21T20:39:25.825Z"
   },
   {
    "duration": 352,
    "start_time": "2023-03-21T20:40:50.697Z"
   },
   {
    "duration": 178,
    "start_time": "2023-03-21T20:41:04.040Z"
   },
   {
    "duration": 162,
    "start_time": "2023-03-21T20:44:31.524Z"
   },
   {
    "duration": 141,
    "start_time": "2023-03-21T20:44:45.956Z"
   },
   {
    "duration": 218,
    "start_time": "2023-03-21T20:44:58.723Z"
   },
   {
    "duration": 136,
    "start_time": "2023-03-21T20:45:08.608Z"
   },
   {
    "duration": 139,
    "start_time": "2023-03-21T20:45:22.122Z"
   },
   {
    "duration": 140,
    "start_time": "2023-03-21T20:46:02.688Z"
   },
   {
    "duration": 71,
    "start_time": "2023-03-21T20:46:13.489Z"
   },
   {
    "duration": 138,
    "start_time": "2023-03-21T20:46:26.689Z"
   },
   {
    "duration": 148,
    "start_time": "2023-03-21T20:46:44.292Z"
   },
   {
    "duration": 162,
    "start_time": "2023-03-21T20:46:53.512Z"
   },
   {
    "duration": 35,
    "start_time": "2023-03-21T20:49:48.430Z"
   },
   {
    "duration": 147,
    "start_time": "2023-03-21T20:50:21.971Z"
   },
   {
    "duration": 150,
    "start_time": "2023-03-21T20:50:54.031Z"
   },
   {
    "duration": 165,
    "start_time": "2023-03-21T20:51:02.529Z"
   },
   {
    "duration": 194,
    "start_time": "2023-03-21T20:51:10.398Z"
   },
   {
    "duration": 148,
    "start_time": "2023-03-21T20:51:17.390Z"
   },
   {
    "duration": 150,
    "start_time": "2023-03-21T20:51:21.381Z"
   },
   {
    "duration": 174,
    "start_time": "2023-03-21T20:55:01.917Z"
   },
   {
    "duration": 147,
    "start_time": "2023-03-21T20:55:18.039Z"
   },
   {
    "duration": 239,
    "start_time": "2023-03-21T20:55:35.473Z"
   },
   {
    "duration": 4,
    "start_time": "2023-03-21T20:57:13.770Z"
   },
   {
    "duration": 31,
    "start_time": "2023-03-21T20:57:14.838Z"
   },
   {
    "duration": 12,
    "start_time": "2023-03-21T20:57:15.330Z"
   },
   {
    "duration": 11,
    "start_time": "2023-03-21T20:57:17.771Z"
   },
   {
    "duration": 6,
    "start_time": "2023-03-21T20:57:29.900Z"
   },
   {
    "duration": 6,
    "start_time": "2023-03-21T20:57:32.283Z"
   },
   {
    "duration": 147,
    "start_time": "2023-03-21T21:00:24.598Z"
   },
   {
    "duration": 1225,
    "start_time": "2023-03-21T21:00:42.344Z"
   },
   {
    "duration": 448,
    "start_time": "2023-03-21T21:00:55.126Z"
   },
   {
    "duration": 62,
    "start_time": "2023-03-21T21:01:25.078Z"
   },
   {
    "duration": 145,
    "start_time": "2023-03-21T21:01:39.578Z"
   },
   {
    "duration": 1679,
    "start_time": "2023-03-22T20:00:25.573Z"
   },
   {
    "duration": 170,
    "start_time": "2023-03-22T20:00:28.351Z"
   },
   {
    "duration": 13,
    "start_time": "2023-03-22T20:00:29.004Z"
   },
   {
    "duration": 28,
    "start_time": "2023-03-22T20:00:31.717Z"
   },
   {
    "duration": 7,
    "start_time": "2023-03-22T20:00:34.976Z"
   },
   {
    "duration": 7,
    "start_time": "2023-03-22T20:00:36.918Z"
   },
   {
    "duration": 4,
    "start_time": "2023-03-22T20:00:37.653Z"
   },
   {
    "duration": 4,
    "start_time": "2023-03-22T20:03:59.637Z"
   },
   {
    "duration": 11,
    "start_time": "2023-03-22T20:05:10.320Z"
   },
   {
    "duration": 1875,
    "start_time": "2023-03-23T07:56:05.479Z"
   },
   {
    "duration": 134,
    "start_time": "2023-03-23T07:56:07.357Z"
   },
   {
    "duration": 16,
    "start_time": "2023-03-23T07:56:08.339Z"
   },
   {
    "duration": 17,
    "start_time": "2023-03-23T07:56:09.255Z"
   },
   {
    "duration": 8,
    "start_time": "2023-03-23T07:56:11.421Z"
   },
   {
    "duration": 9,
    "start_time": "2023-03-23T07:56:12.031Z"
   },
   {
    "duration": 5,
    "start_time": "2023-03-23T07:56:12.706Z"
   },
   {
    "duration": 118,
    "start_time": "2023-03-23T07:56:17.613Z"
   },
   {
    "duration": 1416,
    "start_time": "2023-03-23T15:38:36.279Z"
   },
   {
    "duration": 77,
    "start_time": "2023-03-23T15:38:37.697Z"
   },
   {
    "duration": 13,
    "start_time": "2023-03-23T15:38:37.776Z"
   },
   {
    "duration": 15,
    "start_time": "2023-03-23T15:38:39.581Z"
   },
   {
    "duration": 7,
    "start_time": "2023-03-23T15:38:45.650Z"
   },
   {
    "duration": 6,
    "start_time": "2023-03-23T15:38:46.013Z"
   },
   {
    "duration": 4,
    "start_time": "2023-03-23T15:38:46.679Z"
   },
   {
    "duration": 170,
    "start_time": "2023-03-23T15:42:44.950Z"
   },
   {
    "duration": 162,
    "start_time": "2023-03-23T15:42:53.861Z"
   },
   {
    "duration": 148,
    "start_time": "2023-03-23T15:45:58.580Z"
   },
   {
    "duration": 167,
    "start_time": "2023-03-23T15:46:06.977Z"
   },
   {
    "duration": 173,
    "start_time": "2023-03-23T15:46:24.539Z"
   },
   {
    "duration": 215,
    "start_time": "2023-03-23T15:47:23.805Z"
   },
   {
    "duration": 176,
    "start_time": "2023-03-23T15:47:30.426Z"
   },
   {
    "duration": 109,
    "start_time": "2023-03-23T15:50:08.664Z"
   },
   {
    "duration": 118,
    "start_time": "2023-03-23T15:52:24.175Z"
   },
   {
    "duration": 232,
    "start_time": "2023-03-23T15:52:39.278Z"
   },
   {
    "duration": 137,
    "start_time": "2023-03-23T15:53:03.063Z"
   },
   {
    "duration": 247,
    "start_time": "2023-03-23T15:53:12.807Z"
   },
   {
    "duration": 336,
    "start_time": "2023-03-23T15:53:22.946Z"
   },
   {
    "duration": 241,
    "start_time": "2023-03-23T15:54:19.437Z"
   },
   {
    "duration": 132,
    "start_time": "2023-03-23T15:54:33.943Z"
   },
   {
    "duration": 236,
    "start_time": "2023-03-23T15:56:09.675Z"
   },
   {
    "duration": 241,
    "start_time": "2023-03-23T15:56:54.908Z"
   },
   {
    "duration": 250,
    "start_time": "2023-03-23T15:57:10.835Z"
   },
   {
    "duration": 360,
    "start_time": "2023-03-23T15:58:10.578Z"
   },
   {
    "duration": 213,
    "start_time": "2023-03-23T15:58:21.696Z"
   },
   {
    "duration": 266,
    "start_time": "2023-03-23T15:58:31.151Z"
   },
   {
    "duration": 215,
    "start_time": "2023-03-23T15:58:58.468Z"
   },
   {
    "duration": 216,
    "start_time": "2023-03-23T16:00:33.897Z"
   },
   {
    "duration": 46,
    "start_time": "2023-03-23T16:00:52.627Z"
   },
   {
    "duration": 174,
    "start_time": "2023-03-23T16:00:56.859Z"
   },
   {
    "duration": 190,
    "start_time": "2023-03-23T16:01:05.577Z"
   },
   {
    "duration": 230,
    "start_time": "2023-03-23T16:01:21.860Z"
   },
   {
    "duration": 218,
    "start_time": "2023-03-23T16:02:22.152Z"
   },
   {
    "duration": 227,
    "start_time": "2023-03-23T16:02:39.049Z"
   },
   {
    "duration": 161,
    "start_time": "2023-03-23T16:03:47.105Z"
   },
   {
    "duration": 370,
    "start_time": "2023-03-23T16:03:55.399Z"
   },
   {
    "duration": 206,
    "start_time": "2023-03-23T16:05:38.571Z"
   },
   {
    "duration": 169,
    "start_time": "2023-03-23T16:05:47.243Z"
   },
   {
    "duration": 172,
    "start_time": "2023-03-23T16:05:50.808Z"
   },
   {
    "duration": 46,
    "start_time": "2023-03-23T16:05:59.086Z"
   },
   {
    "duration": 65,
    "start_time": "2023-03-23T16:06:10.551Z"
   },
   {
    "duration": 322,
    "start_time": "2023-03-23T16:06:17.916Z"
   },
   {
    "duration": 78,
    "start_time": "2023-03-23T16:21:51.495Z"
   },
   {
    "duration": 171,
    "start_time": "2023-03-23T16:22:24.043Z"
   },
   {
    "duration": 167,
    "start_time": "2023-03-23T16:22:32.735Z"
   },
   {
    "duration": 316,
    "start_time": "2023-03-23T16:24:14.184Z"
   },
   {
    "duration": 294,
    "start_time": "2023-03-23T16:24:29.938Z"
   },
   {
    "duration": 290,
    "start_time": "2023-03-23T16:24:36.639Z"
   },
   {
    "duration": 329,
    "start_time": "2023-03-23T16:24:43.419Z"
   },
   {
    "duration": 324,
    "start_time": "2023-03-23T16:28:13.713Z"
   },
   {
    "duration": 377,
    "start_time": "2023-03-23T16:28:20.233Z"
   },
   {
    "duration": 407,
    "start_time": "2023-03-23T16:28:36.047Z"
   },
   {
    "duration": 578,
    "start_time": "2023-03-23T16:44:50.670Z"
   },
   {
    "duration": 49,
    "start_time": "2023-03-23T16:46:58.801Z"
   },
   {
    "duration": 555,
    "start_time": "2023-03-23T16:47:07.035Z"
   },
   {
    "duration": 558,
    "start_time": "2023-03-23T16:47:15.719Z"
   },
   {
    "duration": 557,
    "start_time": "2023-03-23T16:47:24.935Z"
   },
   {
    "duration": 582,
    "start_time": "2023-03-23T16:53:36.222Z"
   },
   {
    "duration": 472,
    "start_time": "2023-03-23T16:55:18.980Z"
   },
   {
    "duration": 565,
    "start_time": "2023-03-23T16:56:22.936Z"
   },
   {
    "duration": 968,
    "start_time": "2023-03-23T16:56:29.899Z"
   },
   {
    "duration": 3,
    "start_time": "2023-03-23T16:57:15.144Z"
   },
   {
    "duration": 188501,
    "start_time": "2023-03-23T17:07:03.515Z"
   },
   {
    "duration": 81005,
    "start_time": "2023-03-23T17:10:39.659Z"
   },
   {
    "duration": 66706,
    "start_time": "2023-03-23T17:15:15.879Z"
   },
   {
    "duration": 66046,
    "start_time": "2023-03-23T17:17:39.088Z"
   },
   {
    "duration": 64999,
    "start_time": "2023-03-23T17:20:27.248Z"
   },
   {
    "duration": 65069,
    "start_time": "2023-03-23T17:22:43.096Z"
   },
   {
    "duration": 395,
    "start_time": "2023-03-23T17:25:18.804Z"
   },
   {
    "duration": 39,
    "start_time": "2023-03-23T17:26:27.708Z"
   },
   {
    "duration": 39,
    "start_time": "2023-03-23T17:26:40.253Z"
   },
   {
    "duration": 7,
    "start_time": "2023-03-23T17:26:46.738Z"
   },
   {
    "duration": 65601,
    "start_time": "2023-03-23T17:28:24.281Z"
   },
   {
    "duration": 97,
    "start_time": "2023-03-23T17:33:08.241Z"
   },
   {
    "duration": 65031,
    "start_time": "2023-03-23T17:34:47.489Z"
   },
   {
    "duration": 64927,
    "start_time": "2023-03-23T17:36:07.540Z"
   },
   {
    "duration": 46,
    "start_time": "2023-03-23T17:39:01.009Z"
   },
   {
    "duration": 12,
    "start_time": "2023-03-23T18:32:19.044Z"
   },
   {
    "duration": 66573,
    "start_time": "2023-03-23T18:32:35.692Z"
   },
   {
    "duration": 46,
    "start_time": "2023-03-23T18:37:58.642Z"
   },
   {
    "duration": 45,
    "start_time": "2023-03-23T18:38:10.064Z"
   },
   {
    "duration": 40,
    "start_time": "2023-03-23T18:38:22.812Z"
   },
   {
    "duration": 11,
    "start_time": "2023-03-23T18:38:43.048Z"
   },
   {
    "duration": 3,
    "start_time": "2023-03-23T18:39:51.175Z"
   },
   {
    "duration": 14,
    "start_time": "2023-03-23T18:40:17.766Z"
   },
   {
    "duration": 49,
    "start_time": "2023-03-23T18:49:51.500Z"
   },
   {
    "duration": 78,
    "start_time": "2023-03-23T18:56:43.749Z"
   },
   {
    "duration": 44,
    "start_time": "2023-03-23T18:57:14.027Z"
   },
   {
    "duration": 47,
    "start_time": "2023-03-23T18:57:17.994Z"
   },
   {
    "duration": 158,
    "start_time": "2023-03-23T18:57:24.165Z"
   },
   {
    "duration": 126,
    "start_time": "2023-03-23T18:57:45.340Z"
   },
   {
    "duration": 143,
    "start_time": "2023-03-23T18:57:53.883Z"
   },
   {
    "duration": 132,
    "start_time": "2023-03-23T20:18:06.437Z"
   },
   {
    "duration": 5,
    "start_time": "2023-03-23T20:21:28.632Z"
   },
   {
    "duration": 3,
    "start_time": "2023-03-23T20:23:17.908Z"
   },
   {
    "duration": 3,
    "start_time": "2023-03-23T20:23:38.848Z"
   },
   {
    "duration": 139,
    "start_time": "2023-03-23T20:28:15.418Z"
   },
   {
    "duration": 152,
    "start_time": "2023-03-23T20:28:28.963Z"
   },
   {
    "duration": 140,
    "start_time": "2023-03-23T20:28:33.704Z"
   },
   {
    "duration": 227,
    "start_time": "2023-03-23T20:28:36.716Z"
   },
   {
    "duration": 138,
    "start_time": "2023-03-23T20:28:39.313Z"
   },
   {
    "duration": 138,
    "start_time": "2023-03-23T20:29:15.396Z"
   },
   {
    "duration": 46,
    "start_time": "2023-03-23T20:32:37.532Z"
   },
   {
    "duration": 15,
    "start_time": "2023-03-23T20:32:50.700Z"
   },
   {
    "duration": 203,
    "start_time": "2023-03-23T20:33:41.608Z"
   },
   {
    "duration": 208,
    "start_time": "2023-03-23T20:33:58.900Z"
   },
   {
    "duration": 308,
    "start_time": "2023-03-23T20:34:20.244Z"
   },
   {
    "duration": 64,
    "start_time": "2023-03-23T20:50:52.491Z"
   },
   {
    "duration": 405,
    "start_time": "2023-03-23T20:50:53.750Z"
   },
   {
    "duration": 59,
    "start_time": "2023-03-23T20:50:55.528Z"
   },
   {
    "duration": 3,
    "start_time": "2023-03-23T20:51:01.544Z"
   },
   {
    "duration": 230,
    "start_time": "2023-03-23T20:51:03.095Z"
   }
  ],
  "kernelspec": {
   "display_name": "Python 3 (ipykernel)",
   "language": "python",
   "name": "python3"
  },
  "language_info": {
   "codemirror_mode": {
    "name": "ipython",
    "version": 3
   },
   "file_extension": ".py",
   "mimetype": "text/x-python",
   "name": "python",
   "nbconvert_exporter": "python",
   "pygments_lexer": "ipython3",
   "version": "3.10.9"
  },
  "toc": {
   "base_numbering": 1,
   "nav_menu": {},
   "number_sections": true,
   "sideBar": true,
   "skip_h1_title": true,
   "title_cell": "Table of Contents",
   "title_sidebar": "Contents",
   "toc_cell": false,
   "toc_position": {},
   "toc_section_display": true,
   "toc_window_display": true
  },
  "varInspector": {
   "cols": {
    "lenName": 16,
    "lenType": 16,
    "lenVar": 40
   },
   "kernels_config": {
    "python": {
     "delete_cmd_postfix": "",
     "delete_cmd_prefix": "del ",
     "library": "var_list.py",
     "varRefreshCmd": "print(var_dic_list())"
    },
    "r": {
     "delete_cmd_postfix": ") ",
     "delete_cmd_prefix": "rm(",
     "library": "var_list.r",
     "varRefreshCmd": "cat(var_dic_list()) "
    }
   },
   "types_to_exclude": [
    "module",
    "function",
    "builtin_function_or_method",
    "instance",
    "_Feature"
   ],
   "window_display": false
  }
 },
 "nbformat": 4,
 "nbformat_minor": 2
}

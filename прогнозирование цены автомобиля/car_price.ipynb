{
 "cells": [
  {
   "cell_type": "markdown",
   "metadata": {},
   "source": [
    "# Определение стоимости автомобилей"
   ]
  },
  {
   "cell_type": "markdown",
   "metadata": {},
   "source": [
    "На основании исторических данных: технические характеристики, комплектации и цены автомобилей нужно построить модель для определения стоимости автомобиля. \n",
    "\n",
    "Заказчику важны:\n",
    "\n",
    "- качество предсказания;\n",
    "- скорость предсказания;\n",
    "- время обучения."
   ]
  },
  {
   "cell_type": "markdown",
   "metadata": {},
   "source": [
    "## Подготовка данных"
   ]
  },
  {
   "cell_type": "markdown",
   "metadata": {},
   "source": [
    "### Установка пакетов"
   ]
  },
  {
   "cell_type": "code",
   "execution_count": 1,
   "metadata": {},
   "outputs": [
    {
     "name": "stdout",
     "output_type": "stream",
     "text": [
      "Requirement already satisfied: lightgbm in c:\\users\\miair\\anaconda3\\lib\\site-packages (4.0.0)"
     ]
    },
    {
     "name": "stderr",
     "output_type": "stream",
     "text": [
      "WARNING: Ignoring invalid distribution -pencv-python (c:\\users\\miair\\anaconda3\\lib\\site-packages)\n",
      "WARNING: Ignoring invalid distribution -pencv-python (c:\\users\\miair\\anaconda3\\lib\\site-packages)\n"
     ]
    },
    {
     "name": "stdout",
     "output_type": "stream",
     "text": [
      "\n",
      "Requirement already satisfied: numpy in c:\\users\\miair\\anaconda3\\lib\\site-packages (from lightgbm) (1.23.5)\n",
      "Requirement already satisfied: scipy in c:\\users\\miair\\anaconda3\\lib\\site-packages (from lightgbm) (1.9.3)\n",
      "Requirement already satisfied: category_encoders in c:\\users\\miair\\anaconda3\\lib\\site-packages (2.6.1)\n",
      "Requirement already satisfied: numpy>=1.14.0 in c:\\users\\miair\\anaconda3\\lib\\site-packages (from category_encoders) (1.23.5)\n",
      "Requirement already satisfied: scikit-learn>=0.20.0 in c:\\users\\miair\\anaconda3\\lib\\site-packages (from category_encoders) (1.2.1)\n",
      "Requirement already satisfied: scipy>=1.0.0 in c:\\users\\miair\\anaconda3\\lib\\site-packages (from category_encoders) (1.9.3)\n",
      "Requirement already satisfied: statsmodels>=0.9.0 in c:\\users\\miair\\anaconda3\\lib\\site-packages (from category_encoders) (0.13.5)\n",
      "Requirement already satisfied: pandas>=1.0.5 in c:\\users\\miair\\anaconda3\\lib\\site-packages (from category_encoders) (1.5.3)\n",
      "Requirement already satisfied: patsy>=0.5.1 in c:\\users\\miair\\anaconda3\\lib\\site-packages (from category_encoders) (0.5.3)\n",
      "Requirement already satisfied: python-dateutil>=2.8.1 in c:\\users\\miair\\anaconda3\\lib\\site-packages (from pandas>=1.0.5->category_encoders) (2.8.2)\n",
      "Requirement already satisfied: pytz>=2020.1 in c:\\users\\miair\\anaconda3\\lib\\site-packages (from pandas>=1.0.5->category_encoders) (2022.7)\n",
      "Requirement already satisfied: six in c:\\users\\miair\\anaconda3\\lib\\site-packages (from patsy>=0.5.1->category_encoders) (1.16.0)\n",
      "Requirement already satisfied: joblib>=1.1.1 in c:\\users\\miair\\anaconda3\\lib\\site-packages (from scikit-learn>=0.20.0->category_encoders) (1.1.1)\n",
      "Requirement already satisfied: threadpoolctl>=2.0.0 in c:\\users\\miair\\anaconda3\\lib\\site-packages (from scikit-learn>=0.20.0->category_encoders) (2.2.0)\n",
      "Requirement already satisfied: packaging>=21.3 in c:\\users\\miair\\anaconda3\\lib\\site-packages (from statsmodels>=0.9.0->category_encoders) (22.0)\n"
     ]
    },
    {
     "name": "stderr",
     "output_type": "stream",
     "text": [
      "WARNING: Ignoring invalid distribution -pencv-python (c:\\users\\miair\\anaconda3\\lib\\site-packages)\n",
      "WARNING: Ignoring invalid distribution -pencv-python (c:\\users\\miair\\anaconda3\\lib\\site-packages)\n"
     ]
    }
   ],
   "source": [
    "import sys\n",
    "\n",
    "#!{sys.executable} -m pip install --upgrade pip\n",
    "#!{sys.executable} -m pip install --upgrade Pillow\n",
    "#!{sys.executable} -m pip install -U ydata-profiling[notebook]\n",
    "#!jupyter nbextension enable --py widgetsnbextension\n",
    "!{sys.executable} -m pip install lightgbm\n",
    "!{sys.executable} -m pip install category_encoders"
   ]
  },
  {
   "cell_type": "markdown",
   "metadata": {},
   "source": [
    "### Импорт библиотек"
   ]
  },
  {
   "cell_type": "code",
   "execution_count": 2,
   "metadata": {},
   "outputs": [],
   "source": [
    "import time\n",
    "import numpy as np\n",
    "import matplotlib.pyplot as plt\n",
    "import joblib\n",
    "\n",
    "import pandas as pd\n",
    "import lightgbm as lgb\n",
    "import category_encoders as ce\n",
    "\n",
    "from sklearn.preprocessing import LabelEncoder\n",
    "from sklearn.preprocessing import StandardScaler\n",
    "from sklearn.model_selection import train_test_split\n",
    "from sklearn.model_selection import cross_val_score\n",
    "from sklearn.model_selection import GridSearchCV\n",
    "from sklearn.linear_model import LinearRegression\n",
    "from sklearn.ensemble import RandomForestRegressor\n",
    "from sklearn.dummy import DummyRegressor\n",
    "from sklearn.metrics import mean_squared_error\n",
    "\n",
    "from catboost import CatBoostRegressor\n",
    "\n",
    "#from ydata_profiling import ProfileReport"
   ]
  },
  {
   "cell_type": "code",
   "execution_count": 3,
   "metadata": {},
   "outputs": [],
   "source": [
    "pd.options.mode.chained_assignment = None\n",
    "pd.set_option('display.max_columns', None)"
   ]
  },
  {
   "cell_type": "markdown",
   "metadata": {},
   "source": [
    "### Загрузка и предобработка данных"
   ]
  },
  {
   "cell_type": "markdown",
   "metadata": {},
   "source": [
    "#### Первичный анализ данных"
   ]
  },
  {
   "cell_type": "code",
   "execution_count": 4,
   "metadata": {},
   "outputs": [],
   "source": [
    "df = pd.read_csv('autos.csv')"
   ]
  },
  {
   "cell_type": "code",
   "execution_count": 5,
   "metadata": {},
   "outputs": [
    {
     "data": {
      "text/html": [
       "<div>\n",
       "<style scoped>\n",
       "    .dataframe tbody tr th:only-of-type {\n",
       "        vertical-align: middle;\n",
       "    }\n",
       "\n",
       "    .dataframe tbody tr th {\n",
       "        vertical-align: top;\n",
       "    }\n",
       "\n",
       "    .dataframe thead th {\n",
       "        text-align: right;\n",
       "    }\n",
       "</style>\n",
       "<table border=\"1\" class=\"dataframe\">\n",
       "  <thead>\n",
       "    <tr style=\"text-align: right;\">\n",
       "      <th></th>\n",
       "      <th>DateCrawled</th>\n",
       "      <th>Price</th>\n",
       "      <th>VehicleType</th>\n",
       "      <th>RegistrationYear</th>\n",
       "      <th>Gearbox</th>\n",
       "      <th>Power</th>\n",
       "      <th>Model</th>\n",
       "      <th>Kilometer</th>\n",
       "      <th>RegistrationMonth</th>\n",
       "      <th>FuelType</th>\n",
       "      <th>Brand</th>\n",
       "      <th>Repaired</th>\n",
       "      <th>DateCreated</th>\n",
       "      <th>NumberOfPictures</th>\n",
       "      <th>PostalCode</th>\n",
       "      <th>LastSeen</th>\n",
       "    </tr>\n",
       "  </thead>\n",
       "  <tbody>\n",
       "    <tr>\n",
       "      <th>0</th>\n",
       "      <td>2016-03-24 11:52:17</td>\n",
       "      <td>480</td>\n",
       "      <td>NaN</td>\n",
       "      <td>1993</td>\n",
       "      <td>manual</td>\n",
       "      <td>0</td>\n",
       "      <td>golf</td>\n",
       "      <td>150000</td>\n",
       "      <td>0</td>\n",
       "      <td>petrol</td>\n",
       "      <td>volkswagen</td>\n",
       "      <td>NaN</td>\n",
       "      <td>2016-03-24 00:00:00</td>\n",
       "      <td>0</td>\n",
       "      <td>70435</td>\n",
       "      <td>2016-04-07 03:16:57</td>\n",
       "    </tr>\n",
       "    <tr>\n",
       "      <th>1</th>\n",
       "      <td>2016-03-24 10:58:45</td>\n",
       "      <td>18300</td>\n",
       "      <td>coupe</td>\n",
       "      <td>2011</td>\n",
       "      <td>manual</td>\n",
       "      <td>190</td>\n",
       "      <td>NaN</td>\n",
       "      <td>125000</td>\n",
       "      <td>5</td>\n",
       "      <td>gasoline</td>\n",
       "      <td>audi</td>\n",
       "      <td>yes</td>\n",
       "      <td>2016-03-24 00:00:00</td>\n",
       "      <td>0</td>\n",
       "      <td>66954</td>\n",
       "      <td>2016-04-07 01:46:50</td>\n",
       "    </tr>\n",
       "    <tr>\n",
       "      <th>2</th>\n",
       "      <td>2016-03-14 12:52:21</td>\n",
       "      <td>9800</td>\n",
       "      <td>suv</td>\n",
       "      <td>2004</td>\n",
       "      <td>auto</td>\n",
       "      <td>163</td>\n",
       "      <td>grand</td>\n",
       "      <td>125000</td>\n",
       "      <td>8</td>\n",
       "      <td>gasoline</td>\n",
       "      <td>jeep</td>\n",
       "      <td>NaN</td>\n",
       "      <td>2016-03-14 00:00:00</td>\n",
       "      <td>0</td>\n",
       "      <td>90480</td>\n",
       "      <td>2016-04-05 12:47:46</td>\n",
       "    </tr>\n",
       "    <tr>\n",
       "      <th>3</th>\n",
       "      <td>2016-03-17 16:54:04</td>\n",
       "      <td>1500</td>\n",
       "      <td>small</td>\n",
       "      <td>2001</td>\n",
       "      <td>manual</td>\n",
       "      <td>75</td>\n",
       "      <td>golf</td>\n",
       "      <td>150000</td>\n",
       "      <td>6</td>\n",
       "      <td>petrol</td>\n",
       "      <td>volkswagen</td>\n",
       "      <td>no</td>\n",
       "      <td>2016-03-17 00:00:00</td>\n",
       "      <td>0</td>\n",
       "      <td>91074</td>\n",
       "      <td>2016-03-17 17:40:17</td>\n",
       "    </tr>\n",
       "    <tr>\n",
       "      <th>4</th>\n",
       "      <td>2016-03-31 17:25:20</td>\n",
       "      <td>3600</td>\n",
       "      <td>small</td>\n",
       "      <td>2008</td>\n",
       "      <td>manual</td>\n",
       "      <td>69</td>\n",
       "      <td>fabia</td>\n",
       "      <td>90000</td>\n",
       "      <td>7</td>\n",
       "      <td>gasoline</td>\n",
       "      <td>skoda</td>\n",
       "      <td>no</td>\n",
       "      <td>2016-03-31 00:00:00</td>\n",
       "      <td>0</td>\n",
       "      <td>60437</td>\n",
       "      <td>2016-04-06 10:17:21</td>\n",
       "    </tr>\n",
       "  </tbody>\n",
       "</table>\n",
       "</div>"
      ],
      "text/plain": [
       "           DateCrawled  Price VehicleType  RegistrationYear Gearbox  Power  \\\n",
       "0  2016-03-24 11:52:17    480         NaN              1993  manual      0   \n",
       "1  2016-03-24 10:58:45  18300       coupe              2011  manual    190   \n",
       "2  2016-03-14 12:52:21   9800         suv              2004    auto    163   \n",
       "3  2016-03-17 16:54:04   1500       small              2001  manual     75   \n",
       "4  2016-03-31 17:25:20   3600       small              2008  manual     69   \n",
       "\n",
       "   Model  Kilometer  RegistrationMonth  FuelType       Brand Repaired  \\\n",
       "0   golf     150000                  0    petrol  volkswagen      NaN   \n",
       "1    NaN     125000                  5  gasoline        audi      yes   \n",
       "2  grand     125000                  8  gasoline        jeep      NaN   \n",
       "3   golf     150000                  6    petrol  volkswagen       no   \n",
       "4  fabia      90000                  7  gasoline       skoda       no   \n",
       "\n",
       "           DateCreated  NumberOfPictures  PostalCode             LastSeen  \n",
       "0  2016-03-24 00:00:00                 0       70435  2016-04-07 03:16:57  \n",
       "1  2016-03-24 00:00:00                 0       66954  2016-04-07 01:46:50  \n",
       "2  2016-03-14 00:00:00                 0       90480  2016-04-05 12:47:46  \n",
       "3  2016-03-17 00:00:00                 0       91074  2016-03-17 17:40:17  \n",
       "4  2016-03-31 00:00:00                 0       60437  2016-04-06 10:17:21  "
      ]
     },
     "execution_count": 5,
     "metadata": {},
     "output_type": "execute_result"
    }
   ],
   "source": [
    "df.head()"
   ]
  },
  {
   "cell_type": "code",
   "execution_count": 7,
   "metadata": {},
   "outputs": [
    {
     "name": "stdout",
     "output_type": "stream",
     "text": [
      "<class 'pandas.core.frame.DataFrame'>\n",
      "RangeIndex: 354369 entries, 0 to 354368\n",
      "Data columns (total 16 columns):\n",
      " #   Column             Non-Null Count   Dtype \n",
      "---  ------             --------------   ----- \n",
      " 0   DateCrawled        354369 non-null  object\n",
      " 1   Price              354369 non-null  int64 \n",
      " 2   VehicleType        316879 non-null  object\n",
      " 3   RegistrationYear   354369 non-null  int64 \n",
      " 4   Gearbox            334536 non-null  object\n",
      " 5   Power              354369 non-null  int64 \n",
      " 6   Model              334664 non-null  object\n",
      " 7   Kilometer          354369 non-null  int64 \n",
      " 8   RegistrationMonth  354369 non-null  int64 \n",
      " 9   FuelType           321474 non-null  object\n",
      " 10  Brand              354369 non-null  object\n",
      " 11  Repaired           283215 non-null  object\n",
      " 12  DateCreated        354369 non-null  object\n",
      " 13  NumberOfPictures   354369 non-null  int64 \n",
      " 14  PostalCode         354369 non-null  int64 \n",
      " 15  LastSeen           354369 non-null  object\n",
      "dtypes: int64(7), object(9)\n",
      "memory usage: 43.3+ MB\n"
     ]
    }
   ],
   "source": [
    "df.info()"
   ]
  },
  {
   "cell_type": "code",
   "execution_count": 9,
   "metadata": {},
   "outputs": [],
   "source": [
    "#profile = ProfileReport(df, title=\"Autos\")\n",
    "#profile.to_widgets()\n",
    "#profile.to_file(\"old_cars.html\")"
   ]
  },
  {
   "cell_type": "markdown",
   "metadata": {},
   "source": [
    "#### Дубликаты\n",
    "\n",
    "Поскольку время публикации объявления указано с точностью до дня, а вряд ли в течение дня будут продаваться абсолютно одинаковые машины, то дубликаты смело удаляем."
   ]
  },
  {
   "cell_type": "code",
   "execution_count": 10,
   "metadata": {},
   "outputs": [
    {
     "data": {
      "text/plain": [
       "4"
      ]
     },
     "execution_count": 10,
     "metadata": {},
     "output_type": "execute_result"
    }
   ],
   "source": [
    "df.duplicated().sum()"
   ]
  },
  {
   "cell_type": "code",
   "execution_count": 11,
   "metadata": {},
   "outputs": [],
   "source": [
    "df = df.drop_duplicates().reset_index(drop=True)"
   ]
  },
  {
   "cell_type": "markdown",
   "metadata": {},
   "source": [
    "#### Пропуски"
   ]
  },
  {
   "cell_type": "code",
   "execution_count": 12,
   "metadata": {},
   "outputs": [
    {
     "name": "stdout",
     "output_type": "stream",
     "text": [
      "VehicleType --- 37490 --- missed\n",
      "Gearbox --- 19833 --- missed\n",
      "Model --- 19705 --- missed\n",
      "FuelType --- 32895 --- missed\n",
      "Repaired --- 71154 --- missed\n"
     ]
    }
   ],
   "source": [
    "for c in df.columns:\n",
    "    if df[c].isna().sum() > 0:\n",
    "        print(c, '---', df[c].isna().sum(), '--- missed')"
   ]
  },
  {
   "cell_type": "markdown",
   "metadata": {},
   "source": [
    "Прежде чем заполнять пропуски посмотрим, каких годов машины продаются"
   ]
  },
  {
   "cell_type": "code",
   "execution_count": 13,
   "metadata": {},
   "outputs": [
    {
     "data": {
      "text/plain": [
       "count    354365.000000\n",
       "mean       2004.234481\n",
       "std          90.228466\n",
       "min        1000.000000\n",
       "25%        1999.000000\n",
       "50%        2003.000000\n",
       "75%        2008.000000\n",
       "max        9999.000000\n",
       "Name: RegistrationYear, dtype: float64"
      ]
     },
     "execution_count": 13,
     "metadata": {},
     "output_type": "execute_result"
    }
   ],
   "source": [
    "df['RegistrationYear'].describe()"
   ]
  },
  {
   "cell_type": "markdown",
   "metadata": {},
   "source": [
    "**Машины в основном середины 2000-х годов, на основании этого, а также исходя из общих соображений предположу, что дефолтная машина, для которой в датасете есть пропуски - это бензиновая машина с механической КПП, не ремонтировавшаяся. И пропуски заполню так:**\n",
    "\n",
    "- VehicleType - 'other'\n",
    "- Gearbox - 'manual'\n",
    "- model - 'no model'\n",
    "- FuelType - 'petrol'\n",
    "- Repaired - 'False'"
   ]
  },
  {
   "cell_type": "code",
   "execution_count": 14,
   "metadata": {},
   "outputs": [],
   "source": [
    "df['VehicleType'] = df['VehicleType'].fillna('other')\n",
    "df['Gearbox'] = df['Gearbox'].fillna('manual')\n",
    "df['Model'] = df['Model'].fillna('no model')\n",
    "df['FuelType'] = df['FuelType'].fillna('petrol')\n",
    "df['Repaired'] = df['Repaired'].fillna('no')"
   ]
  },
  {
   "cell_type": "markdown",
   "metadata": {},
   "source": [
    "#### Неинформативные для обучения модели столбцы\n",
    "\n",
    "- DateCrawled — дата скачивания анкеты из базы\n",
    "- RegistrationMonth — месяц регистрации автомобиля\n",
    "- DateCreated — дата создания анкеты\n",
    "- NumberOfPictures — количество фотографий автомобиля\n",
    "- PostalCode — почтовый индекс владельца анкеты (пользователя)\n",
    "- LastSeen — дата последней активности пользователя\n",
    "\n",
    "будут удалены"
   ]
  },
  {
   "cell_type": "code",
   "execution_count": 15,
   "metadata": {},
   "outputs": [],
   "source": [
    "useless_columns = ['DateCrawled', 'RegistrationMonth', 'DateCreated', 'NumberOfPictures', 'PostalCode', 'LastSeen']\n",
    "df = df.drop(useless_columns, axis=1)"
   ]
  },
  {
   "cell_type": "markdown",
   "metadata": {},
   "source": [
    "#### Аномалии\n",
    "\n",
    "Очевидно, что аномальные значения могут быть только в столбцах с количественными признаками"
   ]
  },
  {
   "cell_type": "code",
   "execution_count": 16,
   "metadata": {
    "scrolled": true
   },
   "outputs": [
    {
     "name": "stdout",
     "output_type": "stream",
     "text": [
      "Price \n",
      "\n",
      "count    354365.000000\n",
      "mean       4416.679830\n",
      "std        4514.176349\n",
      "min           0.000000\n",
      "25%        1050.000000\n",
      "50%        2700.000000\n",
      "75%        6400.000000\n",
      "max       20000.000000\n",
      "Name: Price, dtype: float64 \n",
      "\n",
      "RegistrationYear \n",
      "\n",
      "count    354365.000000\n",
      "mean       2004.234481\n",
      "std          90.228466\n",
      "min        1000.000000\n",
      "25%        1999.000000\n",
      "50%        2003.000000\n",
      "75%        2008.000000\n",
      "max        9999.000000\n",
      "Name: RegistrationYear, dtype: float64 \n",
      "\n",
      "Power \n",
      "\n",
      "count    354365.000000\n",
      "mean        110.093816\n",
      "std         189.851330\n",
      "min           0.000000\n",
      "25%          69.000000\n",
      "50%         105.000000\n",
      "75%         143.000000\n",
      "max       20000.000000\n",
      "Name: Power, dtype: float64 \n",
      "\n",
      "Kilometer \n",
      "\n",
      "count    354365.000000\n",
      "mean     128211.363989\n",
      "std       37905.083858\n",
      "min        5000.000000\n",
      "25%      125000.000000\n",
      "50%      150000.000000\n",
      "75%      150000.000000\n",
      "max      150000.000000\n",
      "Name: Kilometer, dtype: float64 \n",
      "\n"
     ]
    }
   ],
   "source": [
    "numbers = []\n",
    "for c in df.columns:\n",
    "    if df[c].dtypes == 'int64':\n",
    "        print(c, '\\n')\n",
    "        print(df[c].describe(), '\\n')\n",
    "        numbers.append(c)"
   ]
  },
  {
   "cell_type": "markdown",
   "metadata": {},
   "source": [
    "**С аномалиями поступлю следующим образом**\n",
    "\n",
    "- RegistrationYear - оставлю значения в диапазоне от 1983 до 2016 года (год самого свежего объявления)\n",
    "- Power - оставлю значения в диапазоне от 41 (smart) до 730 (какой-то суперкар от mercedes-benz)\n",
    "- Kilometer - не буду трогать. да, значения пробега в 5000 км неправдоподобны, но не невозможны\n",
    "\n",
    "Что делать с ценой пока непонятно, надо смотреть на нее внимательнее"
   ]
  },
  {
   "cell_type": "code",
   "execution_count": 18,
   "metadata": {},
   "outputs": [
    {
     "data": {
      "image/png": "[encoded data removed]",
      "text/plain": [
       "<Figure size 640x480 with 1 Axes>"
      ]
     },
     "metadata": {},
     "output_type": "display_data"
    }
   ],
   "source": [
    "df['Price'].hist(bins=1000)\n",
    "plt.xlim(0, 2500)\n",
    "plt.show()"
   ]
  },
  {
   "cell_type": "markdown",
   "metadata": {},
   "source": [
    "Сильно яснее не стало. Цена = 0 - это явно отбрасывается, а вот что за благотворительный аукцион с тысячами машин, дешевле, чем 1000 евро - пока непонятно. Посмотрим, что именно это за машины"
   ]
  },
  {
   "cell_type": "code",
   "execution_count": 19,
   "metadata": {},
   "outputs": [
    {
     "data": {
      "text/html": [
       "<div>\n",
       "<style scoped>\n",
       "    .dataframe tbody tr th:only-of-type {\n",
       "        vertical-align: middle;\n",
       "    }\n",
       "\n",
       "    .dataframe tbody tr th {\n",
       "        vertical-align: top;\n",
       "    }\n",
       "\n",
       "    .dataframe thead tr th {\n",
       "        text-align: left;\n",
       "    }\n",
       "\n",
       "    .dataframe thead tr:last-of-type th {\n",
       "        text-align: right;\n",
       "    }\n",
       "</style>\n",
       "<table border=\"1\" class=\"dataframe\">\n",
       "  <thead>\n",
       "    <tr>\n",
       "      <th></th>\n",
       "      <th>Price</th>\n",
       "    </tr>\n",
       "    <tr>\n",
       "      <th></th>\n",
       "      <th>median</th>\n",
       "    </tr>\n",
       "    <tr>\n",
       "      <th>VehicleType</th>\n",
       "      <th></th>\n",
       "    </tr>\n",
       "  </thead>\n",
       "  <tbody>\n",
       "    <tr>\n",
       "      <th>bus</th>\n",
       "      <td>4200.0</td>\n",
       "    </tr>\n",
       "    <tr>\n",
       "      <th>convertible</th>\n",
       "      <td>5500.0</td>\n",
       "    </tr>\n",
       "    <tr>\n",
       "      <th>coupe</th>\n",
       "      <td>3950.0</td>\n",
       "    </tr>\n",
       "    <tr>\n",
       "      <th>other</th>\n",
       "      <td>1200.0</td>\n",
       "    </tr>\n",
       "    <tr>\n",
       "      <th>sedan</th>\n",
       "      <td>2999.0</td>\n",
       "    </tr>\n",
       "    <tr>\n",
       "      <th>small</th>\n",
       "      <td>1500.0</td>\n",
       "    </tr>\n",
       "    <tr>\n",
       "      <th>suv</th>\n",
       "      <td>8500.0</td>\n",
       "    </tr>\n",
       "    <tr>\n",
       "      <th>wagon</th>\n",
       "      <td>3200.0</td>\n",
       "    </tr>\n",
       "  </tbody>\n",
       "</table>\n",
       "</div>"
      ],
      "text/plain": [
       "              Price\n",
       "             median\n",
       "VehicleType        \n",
       "bus          4200.0\n",
       "convertible  5500.0\n",
       "coupe        3950.0\n",
       "other        1200.0\n",
       "sedan        2999.0\n",
       "small        1500.0\n",
       "suv          8500.0\n",
       "wagon        3200.0"
      ]
     },
     "execution_count": 19,
     "metadata": {},
     "output_type": "execute_result"
    }
   ],
   "source": [
    "df_grouped = df.groupby('VehicleType').agg({'Price':['median']})\n",
    "df_grouped"
   ]
  },
  {
   "cell_type": "code",
   "execution_count": 20,
   "metadata": {},
   "outputs": [
    {
     "data": {
      "image/png": "[encoded data removed]",
      "text/plain": [
       "<Figure size 900x600 with 1 Axes>"
      ]
     },
     "metadata": {},
     "output_type": "display_data"
    }
   ],
   "source": [
    "for c in df['VehicleType'].unique():\n",
    "    data = df.loc[df['VehicleType'] == c]\n",
    "    data['Price'].plot(figsize=(9,6), kind='hist', bins=500, alpha=.4, label=c, legend=True, xlim=(0,1500))"
   ]
  },
  {
   "cell_type": "markdown",
   "metadata": {},
   "source": [
    "Кроме аномалии \"мусорных объявлений\" с неуказанной категорией машины и нулевой ценой пока выделить какой-то аномальный тип машин не получается"
   ]
  },
  {
   "cell_type": "code",
   "execution_count": 21,
   "metadata": {},
   "outputs": [
    {
     "data": {
      "text/html": [
       "<div>\n",
       "<style scoped>\n",
       "    .dataframe tbody tr th:only-of-type {\n",
       "        vertical-align: middle;\n",
       "    }\n",
       "\n",
       "    .dataframe tbody tr th {\n",
       "        vertical-align: top;\n",
       "    }\n",
       "\n",
       "    .dataframe thead tr th {\n",
       "        text-align: left;\n",
       "    }\n",
       "\n",
       "    .dataframe thead tr:last-of-type th {\n",
       "        text-align: right;\n",
       "    }\n",
       "</style>\n",
       "<table border=\"1\" class=\"dataframe\">\n",
       "  <thead>\n",
       "    <tr>\n",
       "      <th></th>\n",
       "      <th>Price</th>\n",
       "    </tr>\n",
       "    <tr>\n",
       "      <th></th>\n",
       "      <th>median</th>\n",
       "    </tr>\n",
       "    <tr>\n",
       "      <th>Repaired</th>\n",
       "      <th></th>\n",
       "    </tr>\n",
       "  </thead>\n",
       "  <tbody>\n",
       "    <tr>\n",
       "      <th>no</th>\n",
       "      <td>2999.0</td>\n",
       "    </tr>\n",
       "    <tr>\n",
       "      <th>yes</th>\n",
       "      <td>900.0</td>\n",
       "    </tr>\n",
       "  </tbody>\n",
       "</table>\n",
       "</div>"
      ],
      "text/plain": [
       "           Price\n",
       "          median\n",
       "Repaired        \n",
       "no        2999.0\n",
       "yes        900.0"
      ]
     },
     "execution_count": 21,
     "metadata": {},
     "output_type": "execute_result"
    }
   ],
   "source": [
    "df_grouped = df.groupby('Repaired').agg({'Price':['median']})\n",
    "df_grouped"
   ]
  },
  {
   "cell_type": "markdown",
   "metadata": {},
   "source": [
    "Вот тут уже более понятно. Объем и тип ремонта не оговорен, критерия \"машина на ходу\" в датасете нет, так что, предположив, что у нас сервис по продаже машин на ходу, а не доноров запчастей, отбросим строки, где цена меньше 1000 евро. [И вот пример](https://www.autoexpress.co.uk/best-cars/98976/best-cars-for-1000-or-less)"
   ]
  },
  {
   "cell_type": "code",
   "execution_count": 22,
   "metadata": {},
   "outputs": [],
   "source": [
    "df = df.drop(df[(df['Price'] > df['Price'].quantile(.99)) | (df['Price'] < 1000)].index)\n",
    "df = df.drop(df[(df['RegistrationYear'] < 1983) | (df['RegistrationYear'] > 2016)].index)\n",
    "df = df.drop(df[(df['Power'] < 41) | (df['Power'] > 730)].index)"
   ]
  },
  {
   "cell_type": "markdown",
   "metadata": {},
   "source": [
    "#### Деление данных на выборки"
   ]
  },
  {
   "cell_type": "code",
   "execution_count": 23,
   "metadata": {},
   "outputs": [],
   "source": [
    "df_train, df_test = train_test_split(df, test_size=.25, random_state=3105)"
   ]
  },
  {
   "cell_type": "markdown",
   "metadata": {},
   "source": [
    "#### Масштабирование данных"
   ]
  },
  {
   "cell_type": "code",
   "execution_count": 24,
   "metadata": {},
   "outputs": [],
   "source": [
    "numbers.remove('Price')\n",
    "scaler = StandardScaler()\n",
    "scaler.fit(df_train[numbers])\n",
    "df_train.loc[:,numbers] = scaler.transform(df_train[numbers])\n",
    "df_test.loc[:,numbers] = scaler.transform(df_test[numbers])"
   ]
  },
  {
   "cell_type": "markdown",
   "metadata": {},
   "source": [
    "#### Features & Targets"
   ]
  },
  {
   "cell_type": "code",
   "execution_count": 25,
   "metadata": {},
   "outputs": [],
   "source": [
    "target_train = df_train['Price']\n",
    "target_test = df_test['Price']\n",
    "features_train = df_train.drop(['Price'], axis=1)\n",
    "features_test = df_test.drop(['Price'], axis=1)"
   ]
  },
  {
   "cell_type": "markdown",
   "metadata": {},
   "source": [
    "#### Вывод\n",
    "\n",
    "**При первичном анализе данных выявлено:**\n",
    "\n",
    "- В данных практически нет дубликатов\n",
    "- В отдельных категориальных признаках есть пропуски (не более 20% значений)\n",
    "- В данных есть объяснимые положительные корреляции между ценой и годом выпуска машины и ценой и мощностью.\n",
    "\n",
    "**В ходе подготовки данных выполнено:**\n",
    "\n",
    "- удаление дубликатов\n",
    "- заполнение пропусков\n",
    "- удаление неинформативных столбцов\n",
    "- удаление аномалий\n",
    "- деление данных на обучающую и тестовую выборку"
   ]
  },
  {
   "cell_type": "markdown",
   "metadata": {},
   "source": [
    "## Обучение моделей"
   ]
  },
  {
   "cell_type": "markdown",
   "metadata": {},
   "source": [
    "### Выбор моделей\n",
    "\n",
    "**Для исследования выбраны:**\n",
    "\n",
    "- **CatBoost** (варьируемые параметры - скорость обучения (2 варианта), глубина деревьев (5 вариантов), число деревьев (2 варианта)) Для подбора параметров я специально даю ему только df_train, то что по умолчанию он выбирает 20% выборки как тестовую считаю частью кросс-валидации. На тестовой выборке буду проверять только лучшую из выбранных моделей.\n",
    "- **Light GMB** проверены 3 значения скорости обучения и 3 значения количества параметров на листе\n",
    "- **Случайный лес**, для которого будут варьироваться число деревьев, глубина деревьев и число параметров на листе\n",
    "- **И линейная регрессия** (из общих соображений кажется, что цена машины с пробегом зависит в первую очередь от ~~наглости перекупщика~~ от пробега или возраста, а поэтому простая линейная модель может быть уместна"
   ]
  },
  {
   "cell_type": "markdown",
   "metadata": {},
   "source": [
    "### CatBoost"
   ]
  },
  {
   "cell_type": "code",
   "execution_count": 26,
   "metadata": {
    "scrolled": true
   },
   "outputs": [
    {
     "name": "stderr",
     "output_type": "stream",
     "text": [
      "C:\\Users\\MiAir\\anaconda3\\lib\\site-packages\\catboost\\core.py:1411: FutureWarning: iteritems is deprecated and will be removed in a future version. Use .items instead.\n",
      "  self._init_pool(data, label, cat_features, text_features, embedding_features, embedding_features_data, pairs, weight,\n"
     ]
    },
    {
     "data": {
      "application/vnd.jupyter.widget-view+json": {
       "model_id": "a32a874fd5f949bc807d91d1160633ca",
       "version_major": 2,
       "version_minor": 0
      },
      "text/plain": [
       "MetricVisualizer(layout=Layout(align_self='stretch', height='500px'))"
      ]
     },
     "metadata": {},
     "output_type": "display_data"
    },
    {
     "name": "stdout",
     "output_type": "stream",
     "text": [
      "\n",
      "bestTest = 4921.939087\n",
      "bestIteration = 49\n",
      "\n",
      "\n",
      "bestTest = 2195.612674\n",
      "bestIteration = 49\n",
      "\n",
      "\n",
      "bestTest = 3753.643671\n",
      "bestIteration = 99\n",
      "\n",
      "\n",
      "bestTest = 2011.425354\n",
      "bestIteration = 99\n",
      "\n",
      "\n",
      "bestTest = 4799.467807\n",
      "bestIteration = 49\n",
      "\n",
      "\n",
      "bestTest = 1953.991234\n",
      "bestIteration = 49\n",
      "\n",
      "\n",
      "bestTest = 3529.477277\n",
      "bestIteration = 99\n",
      "\n",
      "\n",
      "bestTest = 1829.596873\n",
      "bestIteration = 99\n",
      "\n",
      "\n",
      "bestTest = 4735.074758\n",
      "bestIteration = 49\n",
      "\n",
      "\n",
      "bestTest = 1849.683044\n",
      "bestIteration = 49\n",
      "\n",
      "\n",
      "bestTest = 3419.593052\n",
      "bestIteration = 99\n",
      "\n",
      "\n",
      "bestTest = 1751.441676\n",
      "bestIteration = 99\n",
      "\n",
      "\n",
      "bestTest = 4700.47481\n",
      "bestIteration = 49\n",
      "\n",
      "\n",
      "bestTest = 1777.770453\n",
      "bestIteration = 49\n",
      "\n",
      "\n",
      "bestTest = 3363.104523\n",
      "bestIteration = 99\n",
      "\n",
      "\n",
      "bestTest = 1682.24332\n",
      "bestIteration = 99\n",
      "\n",
      "\n",
      "bestTest = 4679.894365\n",
      "bestIteration = 49\n",
      "\n",
      "\n",
      "bestTest = 1724.014617\n",
      "bestIteration = 49\n",
      "\n",
      "\n",
      "bestTest = 3326.440873\n",
      "bestIteration = 99\n",
      "\n",
      "\n",
      "bestTest = 1638.385602\n",
      "bestIteration = 99\n",
      "\n",
      "Training on fold [0/3]\n",
      "\n",
      "bestTest = 1630.977359\n",
      "bestIteration = 99\n",
      "\n",
      "Training on fold [1/3]\n",
      "\n",
      "bestTest = 1624.213633\n",
      "bestIteration = 99\n",
      "\n",
      "Training on fold [2/3]\n",
      "\n",
      "bestTest = 1632.49734\n",
      "bestIteration = 99\n",
      "\n",
      "{'depth': 10, 'iterations': 100, 'learning_rate': 0.1}\n",
      "SEARCHING TIME --- 202.7932517528534s\n"
     ]
    }
   ],
   "source": [
    "model = CatBoostRegressor(cat_features=[0, 2, 4, 6, 7, 8], verbose=False)\n",
    "\n",
    "grid = {'learning_rate': [0.01, 0.1],\n",
    "        'depth': range (2,11,2),\n",
    "        'n_estimators': range (50,150,50)}\n",
    "start = time.time()\n",
    "grid_search_result = model.grid_search(grid, X=features_train, y=target_train, cv=3, plot=True, verbose=False)\n",
    "stop = time.time()   \n",
    "best_cat = CatBoostRegressor(**grid_search_result['params'], random_state=3105, cat_features=[0, 2, 4, 6, 7, 8], verbose=False)\n",
    "joblib.dump(best_cat, 'best_cat.joblib')\n",
    "print(grid_search_result['params'])\n",
    "print(f'SEARCHING TIME --- {stop - start}s')"
   ]
  },
  {
   "cell_type": "code",
   "execution_count": 27,
   "metadata": {},
   "outputs": [
    {
     "name": "stdout",
     "output_type": "stream",
     "text": [
      "fit time ---14.531579494476318s\n",
      "predict time ---0.9307258129119873s\n"
     ]
    }
   ],
   "source": [
    "model = joblib.load('best_cat.joblib')\n",
    "start = time.time()\n",
    "model.fit(features_train, target_train)\n",
    "stop = time.time()\n",
    "print(f'fit time ---{stop - start}s' )\n",
    "start = time.time()\n",
    "model.predict(features_train)\n",
    "stop = time.time()\n",
    "print(f'predict time ---{stop - start}s' )"
   ]
  },
  {
   "cell_type": "markdown",
   "metadata": {},
   "source": [
    "### LightGBM"
   ]
  },
  {
   "cell_type": "code",
   "execution_count": 28,
   "metadata": {},
   "outputs": [],
   "source": [
    "categ = ['VehicleType', 'Gearbox', 'Model', 'FuelType', 'Brand', 'Repaired']\n",
    "labelencoder = LabelEncoder()\n",
    "l_features_train = features_train.copy()\n",
    "for c in categ:\n",
    "    l_features_train[c] = labelencoder.fit_transform(l_features_train[c])\n",
    "for c in categ:\n",
    "    l_features_train[c] = l_features_train[c].astype('int')"
   ]
  },
  {
   "cell_type": "code",
   "execution_count": 29,
   "metadata": {
    "scrolled": true
   },
   "outputs": [
    {
     "name": "stderr",
     "output_type": "stream",
     "text": [
      "C:\\Users\\MiAir\\anaconda3\\lib\\site-packages\\sklearn\\model_selection\\_split.py:700: UserWarning: The least populated class in y has only 1 members, which is less than n_splits=3.\n",
      "  warnings.warn(\n"
     ]
    },
    {
     "name": "stdout",
     "output_type": "stream",
     "text": [
      "[LightGBM] [Info] Total Bins 598\n",
      "[LightGBM] [Info] Number of data points in the train set: 117484, number of used features: 9\n",
      "[LightGBM] [Info] Total Bins 598\n",
      "[LightGBM] [Info] Number of data points in the train set: 117484, number of used features: 9\n",
      "[LightGBM] [Info] Total Bins 598\n",
      "[LightGBM] [Info] Number of data points in the train set: 117484, number of used features: 9\n",
      "[LightGBM] [Info] Start training from score 5621.038592\n",
      "[LightGBM] [Info] Start training from score 5617.356108\n",
      "[LightGBM] [Info] Start training from score 5617.700393\n"
     ]
    },
    {
     "name": "stderr",
     "output_type": "stream",
     "text": [
      "C:\\Users\\MiAir\\anaconda3\\lib\\site-packages\\sklearn\\model_selection\\_split.py:700: UserWarning: The least populated class in y has only 1 members, which is less than n_splits=3.\n",
      "  warnings.warn(\n"
     ]
    },
    {
     "name": "stdout",
     "output_type": "stream",
     "text": [
      "[LightGBM] [Info] Total Bins 598\n",
      "[LightGBM] [Info] Number of data points in the train set: 117484, number of used features: 9\n",
      "[LightGBM] [Info] Total Bins 598\n",
      "[LightGBM] [Info] Number of data points in the train set: 117484, number of used features: 9\n",
      "[LightGBM] [Info] Total Bins 598\n",
      "[LightGBM] [Info] Number of data points in the train set: 117484, number of used features: 9\n",
      "[LightGBM] [Info] Start training from score 5621.038592\n",
      "[LightGBM] [Info] Start training from score 5617.356108\n",
      "[LightGBM] [Info] Start training from score 5617.700393\n"
     ]
    },
    {
     "name": "stderr",
     "output_type": "stream",
     "text": [
      "C:\\Users\\MiAir\\anaconda3\\lib\\site-packages\\sklearn\\model_selection\\_split.py:700: UserWarning: The least populated class in y has only 1 members, which is less than n_splits=3.\n",
      "  warnings.warn(\n"
     ]
    },
    {
     "name": "stdout",
     "output_type": "stream",
     "text": [
      "[LightGBM] [Info] Total Bins 598\n",
      "[LightGBM] [Info] Number of data points in the train set: 117484, number of used features: 9\n",
      "[LightGBM] [Info] Total Bins 598\n",
      "[LightGBM] [Info] Number of data points in the train set: 117484, number of used features: 9\n",
      "[LightGBM] [Info] Total Bins 598\n",
      "[LightGBM] [Info] Number of data points in the train set: 117484, number of used features: 9\n",
      "[LightGBM] [Info] Start training from score 5621.038592\n",
      "[LightGBM] [Info] Start training from score 5617.356108\n",
      "[LightGBM] [Info] Start training from score 5617.700393\n"
     ]
    },
    {
     "name": "stderr",
     "output_type": "stream",
     "text": [
      "C:\\Users\\MiAir\\anaconda3\\lib\\site-packages\\sklearn\\model_selection\\_split.py:700: UserWarning: The least populated class in y has only 1 members, which is less than n_splits=3.\n",
      "  warnings.warn(\n"
     ]
    },
    {
     "name": "stdout",
     "output_type": "stream",
     "text": [
      "[LightGBM] [Info] Total Bins 598\n",
      "[LightGBM] [Info] Number of data points in the train set: 117484, number of used features: 9\n",
      "[LightGBM] [Info] Total Bins 598\n",
      "[LightGBM] [Info] Number of data points in the train set: 117484, number of used features: 9\n",
      "[LightGBM] [Info] Total Bins 598\n",
      "[LightGBM] [Info] Number of data points in the train set: 117484, number of used features: 9\n",
      "[LightGBM] [Info] Start training from score 5621.038592\n",
      "[LightGBM] [Info] Start training from score 5617.356108\n",
      "[LightGBM] [Info] Start training from score 5617.700393\n"
     ]
    },
    {
     "name": "stderr",
     "output_type": "stream",
     "text": [
      "C:\\Users\\MiAir\\anaconda3\\lib\\site-packages\\sklearn\\model_selection\\_split.py:700: UserWarning: The least populated class in y has only 1 members, which is less than n_splits=3.\n",
      "  warnings.warn(\n"
     ]
    },
    {
     "name": "stdout",
     "output_type": "stream",
     "text": [
      "[LightGBM] [Info] Total Bins 598\n",
      "[LightGBM] [Info] Number of data points in the train set: 117484, number of used features: 9\n",
      "[LightGBM] [Info] Total Bins 598\n",
      "[LightGBM] [Info] Number of data points in the train set: 117484, number of used features: 9\n",
      "[LightGBM] [Info] Total Bins 598\n",
      "[LightGBM] [Info] Number of data points in the train set: 117484, number of used features: 9\n",
      "[LightGBM] [Info] Start training from score 5621.038592\n",
      "[LightGBM] [Info] Start training from score 5617.356108\n",
      "[LightGBM] [Info] Start training from score 5617.700393\n"
     ]
    },
    {
     "name": "stderr",
     "output_type": "stream",
     "text": [
      "C:\\Users\\MiAir\\anaconda3\\lib\\site-packages\\sklearn\\model_selection\\_split.py:700: UserWarning: The least populated class in y has only 1 members, which is less than n_splits=3.\n",
      "  warnings.warn(\n"
     ]
    },
    {
     "name": "stdout",
     "output_type": "stream",
     "text": [
      "[LightGBM] [Info] Total Bins 598\n",
      "[LightGBM] [Info] Number of data points in the train set: 117484, number of used features: 9\n",
      "[LightGBM] [Info] Total Bins 598\n",
      "[LightGBM] [Info] Number of data points in the train set: 117484, number of used features: 9\n",
      "[LightGBM] [Info] Total Bins 598\n",
      "[LightGBM] [Info] Number of data points in the train set: 117484, number of used features: 9\n",
      "[LightGBM] [Info] Start training from score 5621.038592\n",
      "[LightGBM] [Info] Start training from score 5617.356108\n",
      "[LightGBM] [Info] Start training from score 5617.700393\n"
     ]
    },
    {
     "name": "stderr",
     "output_type": "stream",
     "text": [
      "C:\\Users\\MiAir\\anaconda3\\lib\\site-packages\\sklearn\\model_selection\\_split.py:700: UserWarning: The least populated class in y has only 1 members, which is less than n_splits=3.\n",
      "  warnings.warn(\n"
     ]
    },
    {
     "name": "stdout",
     "output_type": "stream",
     "text": [
      "[LightGBM] [Info] Total Bins 598\n",
      "[LightGBM] [Info] Number of data points in the train set: 117484, number of used features: 9\n",
      "[LightGBM] [Info] Total Bins 598\n",
      "[LightGBM] [Info] Number of data points in the train set: 117484, number of used features: 9\n",
      "[LightGBM] [Info] Total Bins 598\n",
      "[LightGBM] [Info] Number of data points in the train set: 117484, number of used features: 9\n",
      "[LightGBM] [Info] Start training from score 5621.038592\n",
      "[LightGBM] [Info] Start training from score 5617.356108\n",
      "[LightGBM] [Info] Start training from score 5617.700393\n"
     ]
    },
    {
     "name": "stderr",
     "output_type": "stream",
     "text": [
      "C:\\Users\\MiAir\\anaconda3\\lib\\site-packages\\sklearn\\model_selection\\_split.py:700: UserWarning: The least populated class in y has only 1 members, which is less than n_splits=3.\n",
      "  warnings.warn(\n"
     ]
    },
    {
     "name": "stdout",
     "output_type": "stream",
     "text": [
      "[LightGBM] [Info] Total Bins 598\n",
      "[LightGBM] [Info] Number of data points in the train set: 117484, number of used features: 9\n",
      "[LightGBM] [Info] Total Bins 598\n",
      "[LightGBM] [Info] Number of data points in the train set: 117484, number of used features: 9\n",
      "[LightGBM] [Info] Total Bins 598\n",
      "[LightGBM] [Info] Number of data points in the train set: 117484, number of used features: 9\n",
      "[LightGBM] [Info] Start training from score 5621.038592\n",
      "[LightGBM] [Info] Start training from score 5617.356108\n",
      "[LightGBM] [Info] Start training from score 5617.700393\n"
     ]
    },
    {
     "name": "stderr",
     "output_type": "stream",
     "text": [
      "C:\\Users\\MiAir\\anaconda3\\lib\\site-packages\\sklearn\\model_selection\\_split.py:700: UserWarning: The least populated class in y has only 1 members, which is less than n_splits=3.\n",
      "  warnings.warn(\n"
     ]
    },
    {
     "name": "stdout",
     "output_type": "stream",
     "text": [
      "[LightGBM] [Info] Total Bins 598\n",
      "[LightGBM] [Info] Number of data points in the train set: 117484, number of used features: 9\n",
      "[LightGBM] [Info] Total Bins 598\n",
      "[LightGBM] [Info] Number of data points in the train set: 117484, number of used features: 9\n",
      "[LightGBM] [Info] Total Bins 598\n",
      "[LightGBM] [Info] Number of data points in the train set: 117484, number of used features: 9\n",
      "[LightGBM] [Info] Start training from score 5621.038592\n",
      "[LightGBM] [Info] Start training from score 5617.356108\n",
      "[LightGBM] [Info] Start training from score 5617.700393\n",
      "BEST RMSE --- 1607.4289066343206\n",
      "SEARCHING TIME --- 33.15071630477905s\n"
     ]
    }
   ],
   "source": [
    "train_data = lgb.Dataset(l_features_train, label=target_train, feature_name=l_features_train.columns.to_list(), \\\n",
    "                         categorical_feature=categ, free_raw_data=False)\n",
    "start = time.time()\n",
    "best_params = {}\n",
    "best_rmse = 1e6\n",
    "\n",
    "for leaf in [5, 10, 12]:\n",
    "    for r in [0.05, 0.1, 0.2]:\n",
    "        params = {'objective': 'regression', 'force_col_wise': True, 'learning_rate': r, 'num_leaves': leaf}\n",
    "        cv_results = lgb.cv(\n",
    "        params,\n",
    "        train_data,\n",
    "        num_boost_round=100,\n",
    "        nfold=3,\n",
    "        metrics='rmse',\n",
    "        return_cvbooster=True\n",
    "        )\n",
    "        if min(cv_results['valid rmse-mean']) < best_rmse:\n",
    "            best_rmse = min(cv_results['valid rmse-mean'])\n",
    "            best_params = params\n",
    "stop = time.time()\n",
    "\n",
    "print('BEST RMSE ---', min(cv_results['valid rmse-mean']))\n",
    "print(f'SEARCHING TIME --- {stop - start}s')"
   ]
  },
  {
   "cell_type": "code",
   "execution_count": 30,
   "metadata": {},
   "outputs": [
    {
     "name": "stdout",
     "output_type": "stream",
     "text": [
      "[LightGBM] [Info] Total Bins 598\n",
      "[LightGBM] [Info] Number of data points in the train set: 176226, number of used features: 9\n",
      "[LightGBM] [Info] Start training from score 5618.698365\n",
      "fit time ---0.7600874900817871s\n",
      "predict time ---0.5799922943115234s\n"
     ]
    }
   ],
   "source": [
    "start = time.time()\n",
    "best_lgb = lgb.train(best_params, train_data, num_boost_round=100)\n",
    "stop = time.time()\n",
    "print(f'fit time ---{stop - start}s' )\n",
    "start = time.time()\n",
    "best_lgb.predict(l_features_train)\n",
    "stop = time.time()\n",
    "print(f'predict time ---{stop - start}s' )"
   ]
  },
  {
   "cell_type": "markdown",
   "metadata": {},
   "source": [
    "### Случайный лес. \n",
    "\n",
    "**Здесь (и для регрессии тоже) сперва придется закодировать категориальные признаки**\n",
    "\n",
    "One-HOT encoder использовать не хочу, поскольку возможных значений категориальных признаков слишком много, а Label Encoder создаст ненужные взаимозависимости в данных. Поэтому в качестве энкодера выбран Target Encoder, использующий среднее значение таргета по данному категориальному признаку. Такой же способ, насколько я знаю, используется и в CatBoost.\n"
   ]
  },
  {
   "cell_type": "code",
   "execution_count": 31,
   "metadata": {},
   "outputs": [],
   "source": [
    "categ = ['VehicleType', 'Gearbox', 'Model', 'FuelType', 'Brand', 'Repaired']\n",
    "r_features_train = features_train.copy()\n",
    "t_encoder = ce.TargetEncoder(return_df=True)\n",
    "\n",
    "for c in categ:\n",
    "    r_features_train[c] = t_encoder.fit_transform(r_features_train[c], target_train)"
   ]
  },
  {
   "cell_type": "code",
   "execution_count": 32,
   "metadata": {},
   "outputs": [
    {
     "data": {
      "text/html": [
       "<div>\n",
       "<style scoped>\n",
       "    .dataframe tbody tr th:only-of-type {\n",
       "        vertical-align: middle;\n",
       "    }\n",
       "\n",
       "    .dataframe tbody tr th {\n",
       "        vertical-align: top;\n",
       "    }\n",
       "\n",
       "    .dataframe thead th {\n",
       "        text-align: right;\n",
       "    }\n",
       "</style>\n",
       "<table border=\"1\" class=\"dataframe\">\n",
       "  <thead>\n",
       "    <tr style=\"text-align: right;\">\n",
       "      <th></th>\n",
       "      <th>VehicleType</th>\n",
       "      <th>RegistrationYear</th>\n",
       "      <th>Gearbox</th>\n",
       "      <th>Power</th>\n",
       "      <th>Model</th>\n",
       "      <th>Kilometer</th>\n",
       "      <th>FuelType</th>\n",
       "      <th>Brand</th>\n",
       "      <th>Repaired</th>\n",
       "    </tr>\n",
       "  </thead>\n",
       "  <tbody>\n",
       "    <tr>\n",
       "      <th>87846</th>\n",
       "      <td>5812.524504</td>\n",
       "      <td>1.471940</td>\n",
       "      <td>7408.826534</td>\n",
       "      <td>0.788144</td>\n",
       "      <td>6026.264325</td>\n",
       "      <td>0.630325</td>\n",
       "      <td>6979.713405</td>\n",
       "      <td>6438.590941</td>\n",
       "      <td>5755.99337</td>\n",
       "    </tr>\n",
       "    <tr>\n",
       "      <th>319426</th>\n",
       "      <td>6757.168419</td>\n",
       "      <td>-3.730504</td>\n",
       "      <td>7408.826534</td>\n",
       "      <td>0.131859</td>\n",
       "      <td>5430.187975</td>\n",
       "      <td>-0.978164</td>\n",
       "      <td>4893.587193</td>\n",
       "      <td>5884.649518</td>\n",
       "      <td>5755.99337</td>\n",
       "    </tr>\n",
       "    <tr>\n",
       "      <th>25135</th>\n",
       "      <td>5812.524504</td>\n",
       "      <td>1.286138</td>\n",
       "      <td>5113.234626</td>\n",
       "      <td>0.600634</td>\n",
       "      <td>5382.847250</td>\n",
       "      <td>-0.710083</td>\n",
       "      <td>4893.587193</td>\n",
       "      <td>5615.089342</td>\n",
       "      <td>5755.99337</td>\n",
       "    </tr>\n",
       "    <tr>\n",
       "      <th>164914</th>\n",
       "      <td>5812.524504</td>\n",
       "      <td>0.728733</td>\n",
       "      <td>5113.234626</td>\n",
       "      <td>-1.030703</td>\n",
       "      <td>3693.589428</td>\n",
       "      <td>-1.246246</td>\n",
       "      <td>4893.587193</td>\n",
       "      <td>4006.648131</td>\n",
       "      <td>5755.99337</td>\n",
       "    </tr>\n",
       "    <tr>\n",
       "      <th>316494</th>\n",
       "      <td>5617.189751</td>\n",
       "      <td>-0.200274</td>\n",
       "      <td>5113.234626</td>\n",
       "      <td>0.225614</td>\n",
       "      <td>5382.847250</td>\n",
       "      <td>0.630325</td>\n",
       "      <td>6979.713405</td>\n",
       "      <td>5615.089342</td>\n",
       "      <td>5755.99337</td>\n",
       "    </tr>\n",
       "  </tbody>\n",
       "</table>\n",
       "</div>"
      ],
      "text/plain": [
       "        VehicleType  RegistrationYear      Gearbox     Power        Model  \\\n",
       "87846   5812.524504          1.471940  7408.826534  0.788144  6026.264325   \n",
       "319426  6757.168419         -3.730504  7408.826534  0.131859  5430.187975   \n",
       "25135   5812.524504          1.286138  5113.234626  0.600634  5382.847250   \n",
       "164914  5812.524504          0.728733  5113.234626 -1.030703  3693.589428   \n",
       "316494  5617.189751         -0.200274  5113.234626  0.225614  5382.847250   \n",
       "\n",
       "        Kilometer     FuelType        Brand    Repaired  \n",
       "87846    0.630325  6979.713405  6438.590941  5755.99337  \n",
       "319426  -0.978164  4893.587193  5884.649518  5755.99337  \n",
       "25135   -0.710083  4893.587193  5615.089342  5755.99337  \n",
       "164914  -1.246246  4893.587193  4006.648131  5755.99337  \n",
       "316494   0.630325  6979.713405  5615.089342  5755.99337  "
      ]
     },
     "execution_count": 32,
     "metadata": {},
     "output_type": "execute_result"
    }
   ],
   "source": [
    "r_features_train.head()"
   ]
  },
  {
   "cell_type": "code",
   "execution_count": 33,
   "metadata": {},
   "outputs": [
    {
     "name": "stdout",
     "output_type": "stream",
     "text": [
      "{'max_depth': 6, 'min_samples_leaf': 2, 'n_estimators': 50}\n",
      "Best RMSE ---  2097.5732580784916\n",
      "SEARCHING TIME --- 185.4390697479248s\n"
     ]
    }
   ],
   "source": [
    "model = RandomForestRegressor()\n",
    "parameters = { 'n_estimators': range(10, 100, 40),\n",
    "              'max_depth': range(2, 10, 4),\n",
    "              'min_samples_leaf': range(1,3)}\n",
    "start = time.time()\n",
    "grid = GridSearchCV(model, parameters, scoring='neg_mean_squared_error', cv=3, n_jobs=-1)\n",
    "grid.fit(r_features_train, target_train)\n",
    "stop = time.time()\n",
    "best_forest_parameters = grid.best_params_\n",
    "best_forest = RandomForestRegressor(**best_forest_parameters, random_state=3105)\n",
    "joblib.dump(best_forest, 'best_forest.joblib')\n",
    "best_score = abs(grid.best_score_)\n",
    "print(best_forest_parameters)\n",
    "print('Best RMSE --- ', best_score ** .5)\n",
    "print(f'SEARCHING TIME --- {stop - start}s')"
   ]
  },
  {
   "cell_type": "code",
   "execution_count": 34,
   "metadata": {},
   "outputs": [
    {
     "name": "stdout",
     "output_type": "stream",
     "text": [
      "fit time ---11.861190557479858s\n",
      "predict time ---0.7131423950195312s\n"
     ]
    }
   ],
   "source": [
    "model = joblib.load('best_forest.joblib')\n",
    "start = time.time()\n",
    "model.fit(r_features_train, target_train)\n",
    "stop = time.time()\n",
    "print(f'fit time ---{stop - start}s' )\n",
    "start = time.time()\n",
    "model.predict(r_features_train)\n",
    "stop = time.time()\n",
    "print(f'predict time ---{stop - start}s' )"
   ]
  },
  {
   "cell_type": "markdown",
   "metadata": {},
   "source": [
    "### Линейная регрессия"
   ]
  },
  {
   "cell_type": "code",
   "execution_count": 35,
   "metadata": {},
   "outputs": [
    {
     "name": "stdout",
     "output_type": "stream",
     "text": [
      "RMSE --- 2522.2820581587566\n",
      "SEARCHING TIME --- 1.2144932746887207s\n"
     ]
    }
   ],
   "source": [
    "start = time.time()\n",
    "result = cross_val_score(LinearRegression(), r_features_train, target_train, \\\n",
    "                         scoring='neg_mean_squared_error', cv=10).mean()\n",
    "stop = time.time()\n",
    "print('RMSE ---', abs(result) ** .5)\n",
    "print(f'SEARCHING TIME --- {stop - start}s')"
   ]
  },
  {
   "cell_type": "code",
   "execution_count": 36,
   "metadata": {},
   "outputs": [
    {
     "name": "stdout",
     "output_type": "stream",
     "text": [
      "fit time ---0.10399699211120605s\n",
      "predict time ---0.008002758026123047s\n"
     ]
    }
   ],
   "source": [
    "model = LinearRegression()\n",
    "start = time.time()\n",
    "model.fit(r_features_train, target_train)\n",
    "stop = time.time()\n",
    "print(f'fit time ---{stop - start}s' )\n",
    "start = time.time()\n",
    "model.predict(r_features_train)\n",
    "stop = time.time()\n",
    "print(f'predict time ---{stop - start}s' )"
   ]
  },
  {
   "cell_type": "markdown",
   "metadata": {},
   "source": [
    "### Сравнение моделей\n",
    "\n",
    "| Модель      | Лучшее значение RMSE | Время обучения, с | Время предсказания, с| Удобство использования |\n",
    "| ----------- | ----------- | ----------- | ----------- |----------- |\n",
    "| CatBoost     |  1632    | 30 |  1,0 | 9/10 |\n",
    "| LightGBM  |     1607   |  1 | 0,8 |  1000 чертей/10 |\n",
    "| Random Forest |   2098 | 17  | 1,0 |  8/10 |  \n",
    "| Линейная регрессия   | 2522   | 0,1  | 0,01 |    10/10    |\n",
    "\n",
    "**Выводы**\n",
    "\n",
    "- Для CatBoost сетка параметров явно была выбрана слишком редкая, о чем говорит вид графика RMSE в ходе подбора параметров. Значение метрики RMSE не превышает целевого\n",
    "- LightGBM по качеству не уступает CatBoost, однако по удобству использования, по необходимости дополнительной предобработки данных уступает CatBoost.\n",
    "- Случайный лес показал себя хуже всех прочих моделей, как по скорости обучения, так и по значению метрики RMSE\n",
    "- Линейная регрессия оказалась неожиданно хороша: при времени обучения в 100 раз меньше, чем у \"больших\" моделей значение RMSE лишь немного выходит а рамки требуемого значения  - 2500\n",
    "\n",
    "**Для дальнейшего использования выбран CatBoost**"
   ]
  },
  {
   "cell_type": "markdown",
   "metadata": {},
   "source": [
    "## Анализ моделей"
   ]
  },
  {
   "cell_type": "markdown",
   "metadata": {},
   "source": [
    "### Проверка лучшей модели на тестовой выборке"
   ]
  },
  {
   "cell_type": "code",
   "execution_count": 39,
   "metadata": {},
   "outputs": [
    {
     "name": "stderr",
     "output_type": "stream",
     "text": [
      "C:\\Users\\MiAir\\anaconda3\\lib\\site-packages\\catboost\\core.py:1411: FutureWarning: iteritems is deprecated and will be removed in a future version. Use .items instead.\n",
      "  self._init_pool(data, label, cat_features, text_features, embedding_features, embedding_features_data, pairs, weight,\n"
     ]
    },
    {
     "name": "stdout",
     "output_type": "stream",
     "text": [
      "fit time ---13.860072612762451s\n",
      "BEST RMSE --- 1605.8018543840897\n",
      "predict time ---0.29000306129455566s\n"
     ]
    }
   ],
   "source": [
    "model = joblib.load('best_cat.joblib')\n",
    "start = time.time()\n",
    "model.fit(features_train, target_train)\n",
    "stop = time.time()\n",
    "print(f'fit time ---{stop - start}s' )\n",
    "start = time.time()\n",
    "predictions = model.predict(features_test)\n",
    "result = mean_squared_error(predictions, target_test)\n",
    "print('BEST RMSE ---', result ** .5)\n",
    "stop = time.time()\n",
    "print(f'predict time ---{stop - start}s' )"
   ]
  },
  {
   "cell_type": "markdown",
   "metadata": {},
   "source": [
    "### Проверка лучшей модели на адекватность\n",
    "\n",
    "В качестве проверочной модели взят dummy regressor, а данные для него подготовим при помощи target encoder"
   ]
  },
  {
   "cell_type": "code",
   "execution_count": 41,
   "metadata": {},
   "outputs": [
    {
     "name": "stdout",
     "output_type": "stream",
     "text": [
      "Dummy RMSE --- 4322.012702042916\n"
     ]
    }
   ],
   "source": [
    "r_features_test = features_test.copy()\n",
    "for c in categ:\n",
    "    r_features_test[c] = t_encoder.fit_transform(r_features_test[c], target_test)\n",
    "\n",
    "dummy_model = DummyRegressor()\n",
    "dummy_model.fit(r_features_train, target_train)\n",
    "predictions = dummy_model.predict(r_features_test)\n",
    "result = mean_squared_error(predictions, target_test)\n",
    "print('Dummy RMSE ---', result ** .5)"
   ]
  },
  {
   "cell_type": "markdown",
   "metadata": {},
   "source": [
    "## Вывод\n",
    "\n",
    "**В проекте выполнены:**\n",
    "\n",
    "- анализ данных\n",
    "- предобработка данных (заполнение пропусков, удаление аномалий, удаление неинформативных для ML столбцов)\n",
    "- деление данных на обучающую и тестовую выборки\n",
    "- проверка нескольких моделей, как градиентного бустинга, так и регрессионных моделей при помощи кросс-валидации\n",
    "- выбор наилучшей из моделей\n",
    "- проверка наилучшей модели на тестовой выбокри и проверка наилучшей модели на адекватность \n",
    "\n",
    "**Основные результаты**\n",
    "\n",
    "- модель градиентного бустинга CatBoost позволила получить значение RMSE на тестовой выборке 1637, что не превыiает требуемого значения 2500\n",
    "- модель линейной регрессии показала себя неожиданно хорошо, и в данном случае в сочетании с кодированием категориальных признаков при помощи target encoder, может быть использована в том случае, если требуется скорость, а точность может быть снижена."
   ]
  }
 ],
 "metadata": {
  "ExecuteTimeLog": [
   {
    "duration": 20935,
    "start_time": "2023-05-31T10:10:42.755Z"
   },
   {
    "duration": 1472,
    "start_time": "2023-05-31T11:43:47.533Z"
   },
   {
    "duration": 30522,
    "start_time": "2023-05-31T11:43:52.114Z"
   },
   {
    "duration": 29411,
    "start_time": "2023-05-31T11:48:09.717Z"
   },
   {
    "duration": 31479,
    "start_time": "2023-05-31T11:51:43.647Z"
   },
   {
    "duration": 7554,
    "start_time": "2023-05-31T11:56:33.241Z"
   },
   {
    "duration": 838,
    "start_time": "2023-05-31T11:56:49.376Z"
   },
   {
    "duration": 27993,
    "start_time": "2023-05-31T11:56:50.818Z"
   },
   {
    "duration": 12150,
    "start_time": "2023-05-31T11:57:47.338Z"
   },
   {
    "duration": 10826,
    "start_time": "2023-05-31T11:58:05.623Z"
   },
   {
    "duration": 31859,
    "start_time": "2023-05-31T11:58:48.254Z"
   },
   {
    "duration": 32095,
    "start_time": "2023-05-31T19:20:01.272Z"
   },
   {
    "duration": 3490,
    "start_time": "2023-05-31T19:21:49.294Z"
   },
   {
    "duration": 77392,
    "start_time": "2023-05-31T19:21:54.360Z"
   },
   {
    "duration": 217,
    "start_time": "2023-05-31T19:33:29.814Z"
   },
   {
    "duration": 523,
    "start_time": "2023-05-31T19:33:37.496Z"
   },
   {
    "duration": 478,
    "start_time": "2023-05-31T19:33:52.294Z"
   },
   {
    "duration": 564,
    "start_time": "2023-05-31T19:45:37.647Z"
   },
   {
    "duration": 17,
    "start_time": "2023-05-31T19:49:15.183Z"
   },
   {
    "duration": 139,
    "start_time": "2023-05-31T19:49:20.882Z"
   },
   {
    "duration": 6,
    "start_time": "2023-05-31T19:55:54.517Z"
   },
   {
    "duration": 218,
    "start_time": "2023-05-31T19:57:15.023Z"
   },
   {
    "duration": 173,
    "start_time": "2023-05-31T19:57:35.981Z"
   },
   {
    "duration": 18,
    "start_time": "2023-05-31T19:59:40.632Z"
   },
   {
    "duration": 754,
    "start_time": "2023-05-31T20:00:10.271Z"
   },
   {
    "duration": 207,
    "start_time": "2023-05-31T20:00:18.038Z"
   },
   {
    "duration": 8321,
    "start_time": "2023-05-31T20:00:24.698Z"
   },
   {
    "duration": 746,
    "start_time": "2023-05-31T20:00:39.441Z"
   },
   {
    "duration": 215,
    "start_time": "2023-05-31T20:00:43.182Z"
   },
   {
    "duration": 18,
    "start_time": "2023-05-31T20:00:51.215Z"
   },
   {
    "duration": 17,
    "start_time": "2023-05-31T20:11:59.474Z"
   },
   {
    "duration": 100,
    "start_time": "2023-05-31T20:12:11.622Z"
   },
   {
    "duration": 114,
    "start_time": "2023-05-31T20:12:29.228Z"
   },
   {
    "duration": 15,
    "start_time": "2023-05-31T20:28:21.682Z"
   },
   {
    "duration": 12,
    "start_time": "2023-05-31T20:28:29.668Z"
   },
   {
    "duration": 5,
    "start_time": "2023-05-31T20:45:43.083Z"
   },
   {
    "duration": 9,
    "start_time": "2023-05-31T20:45:58.139Z"
   },
   {
    "duration": 59,
    "start_time": "2023-05-31T20:47:03.466Z"
   },
   {
    "duration": 68,
    "start_time": "2023-05-31T20:47:22.566Z"
   },
   {
    "duration": 782,
    "start_time": "2023-05-31T20:52:10.189Z"
   },
   {
    "duration": 10,
    "start_time": "2023-05-31T20:52:26.321Z"
   },
   {
    "duration": 11,
    "start_time": "2023-05-31T20:52:42.399Z"
   },
   {
    "duration": 13,
    "start_time": "2023-05-31T20:52:48.375Z"
   },
   {
    "duration": 11,
    "start_time": "2023-05-31T20:52:57.934Z"
   },
   {
    "duration": 61,
    "start_time": "2023-05-31T20:54:15.391Z"
   },
   {
    "duration": 26,
    "start_time": "2023-05-31T21:05:22.561Z"
   },
   {
    "duration": 24,
    "start_time": "2023-05-31T21:06:06.054Z"
   },
   {
    "duration": 10,
    "start_time": "2023-05-31T21:06:25.842Z"
   },
   {
    "duration": 22,
    "start_time": "2023-05-31T21:07:05.873Z"
   },
   {
    "duration": 43,
    "start_time": "2023-05-31T21:07:14.158Z"
   },
   {
    "duration": 117,
    "start_time": "2023-05-31T21:07:32.683Z"
   },
   {
    "duration": 128,
    "start_time": "2023-05-31T21:10:39.628Z"
   },
   {
    "duration": 141,
    "start_time": "2023-05-31T21:11:55.288Z"
   },
   {
    "duration": 4704,
    "start_time": "2023-05-31T21:12:01.429Z"
   },
   {
    "duration": 936,
    "start_time": "2023-05-31T21:12:06.135Z"
   },
   {
    "duration": 68200,
    "start_time": "2023-05-31T21:12:07.073Z"
   },
   {
    "duration": 589,
    "start_time": "2023-05-31T21:13:15.275Z"
   },
   {
    "duration": 178,
    "start_time": "2023-05-31T21:13:15.866Z"
   },
   {
    "duration": 24,
    "start_time": "2023-05-31T21:13:16.045Z"
   },
   {
    "duration": 94,
    "start_time": "2023-05-31T21:13:16.071Z"
   },
   {
    "duration": 34,
    "start_time": "2023-05-31T21:13:16.167Z"
   },
   {
    "duration": 76,
    "start_time": "2023-05-31T21:13:16.203Z"
   },
   {
    "duration": 158,
    "start_time": "2023-05-31T21:17:23.010Z"
   },
   {
    "duration": 47,
    "start_time": "2023-05-31T21:17:31.307Z"
   },
   {
    "duration": 757,
    "start_time": "2023-05-31T21:18:33.215Z"
   },
   {
    "duration": 11,
    "start_time": "2023-05-31T21:18:39.794Z"
   },
   {
    "duration": 10,
    "start_time": "2023-05-31T21:18:43.180Z"
   },
   {
    "duration": 10,
    "start_time": "2023-05-31T21:18:46.315Z"
   },
   {
    "duration": 10,
    "start_time": "2023-05-31T21:18:49.073Z"
   },
   {
    "duration": 4115,
    "start_time": "2023-05-31T21:20:28.910Z"
   },
   {
    "duration": 799,
    "start_time": "2023-05-31T21:20:33.027Z"
   },
   {
    "duration": 64814,
    "start_time": "2023-05-31T21:20:33.828Z"
   },
   {
    "duration": 538,
    "start_time": "2023-05-31T21:21:38.645Z"
   },
   {
    "duration": 174,
    "start_time": "2023-05-31T21:21:39.185Z"
   },
   {
    "duration": 17,
    "start_time": "2023-05-31T21:21:39.361Z"
   },
   {
    "duration": 94,
    "start_time": "2023-05-31T21:21:39.380Z"
   },
   {
    "duration": 27,
    "start_time": "2023-05-31T21:21:39.476Z"
   },
   {
    "duration": 66,
    "start_time": "2023-05-31T21:21:39.504Z"
   },
   {
    "duration": 142,
    "start_time": "2023-05-31T21:21:39.573Z"
   },
   {
    "duration": 50,
    "start_time": "2023-05-31T21:22:40.925Z"
   },
   {
    "duration": 3958,
    "start_time": "2023-05-31T21:30:40.274Z"
   },
   {
    "duration": 66,
    "start_time": "2023-05-31T21:35:05.858Z"
   },
   {
    "duration": 48,
    "start_time": "2023-05-31T21:35:49.498Z"
   },
   {
    "duration": 4,
    "start_time": "2023-05-31T21:36:00.152Z"
   },
   {
    "duration": 150,
    "start_time": "2023-05-31T21:39:27.623Z"
   },
   {
    "duration": 18,
    "start_time": "2023-05-31T21:39:37.150Z"
   },
   {
    "duration": 19,
    "start_time": "2023-05-31T21:39:45.885Z"
   },
   {
    "duration": 22,
    "start_time": "2023-05-31T21:40:17.998Z"
   },
   {
    "duration": 14,
    "start_time": "2023-05-31T21:41:43.504Z"
   },
   {
    "duration": 3903,
    "start_time": "2023-05-31T22:44:40.877Z"
   },
   {
    "duration": 717,
    "start_time": "2023-05-31T22:44:44.783Z"
   },
   {
    "duration": 60584,
    "start_time": "2023-05-31T22:44:45.501Z"
   },
   {
    "duration": 466,
    "start_time": "2023-05-31T22:45:46.087Z"
   },
   {
    "duration": 154,
    "start_time": "2023-05-31T22:45:46.556Z"
   },
   {
    "duration": 19,
    "start_time": "2023-05-31T22:45:46.712Z"
   },
   {
    "duration": 91,
    "start_time": "2023-05-31T22:45:46.733Z"
   },
   {
    "duration": 40,
    "start_time": "2023-05-31T22:45:46.826Z"
   },
   {
    "duration": 53,
    "start_time": "2023-05-31T22:45:46.868Z"
   },
   {
    "duration": 147,
    "start_time": "2023-05-31T22:45:46.923Z"
   },
   {
    "duration": 47,
    "start_time": "2023-05-31T22:45:47.071Z"
   },
   {
    "duration": 156,
    "start_time": "2023-05-31T22:45:47.119Z"
   },
   {
    "duration": 18,
    "start_time": "2023-05-31T22:45:47.277Z"
   },
   {
    "duration": 20,
    "start_time": "2023-05-31T22:46:23.207Z"
   },
   {
    "duration": 35,
    "start_time": "2023-05-31T22:46:37.457Z"
   },
   {
    "duration": 7999,
    "start_time": "2023-05-31T22:47:58.359Z"
   },
   {
    "duration": 3925,
    "start_time": "2023-05-31T22:51:10.478Z"
   },
   {
    "duration": 8,
    "start_time": "2023-05-31T22:53:00.986Z"
   },
   {
    "duration": 6,
    "start_time": "2023-05-31T22:53:07.217Z"
   },
   {
    "duration": 7845,
    "start_time": "2023-05-31T22:53:15.228Z"
   },
   {
    "duration": 1780,
    "start_time": "2023-06-01T03:34:33.476Z"
   },
   {
    "duration": 13,
    "start_time": "2023-06-01T03:35:08.297Z"
   },
   {
    "duration": 11,
    "start_time": "2023-06-01T03:35:47.886Z"
   },
   {
    "duration": 14,
    "start_time": "2023-06-01T03:36:09.577Z"
   },
   {
    "duration": 1662,
    "start_time": "2023-06-01T03:36:16.765Z"
   },
   {
    "duration": 12,
    "start_time": "2023-06-01T03:36:53.179Z"
   },
   {
    "duration": 17540,
    "start_time": "2023-06-01T08:13:15.103Z"
   },
   {
    "duration": 941,
    "start_time": "2023-06-01T08:13:32.645Z"
   },
   {
    "duration": 25164,
    "start_time": "2023-06-01T08:13:33.587Z"
   },
   {
    "duration": 0,
    "start_time": "2023-06-01T08:13:58.753Z"
   },
   {
    "duration": 0,
    "start_time": "2023-06-01T08:13:58.754Z"
   },
   {
    "duration": 0,
    "start_time": "2023-06-01T08:13:58.755Z"
   },
   {
    "duration": 0,
    "start_time": "2023-06-01T08:13:58.756Z"
   },
   {
    "duration": 0,
    "start_time": "2023-06-01T08:13:58.757Z"
   },
   {
    "duration": 0,
    "start_time": "2023-06-01T08:13:58.758Z"
   },
   {
    "duration": 0,
    "start_time": "2023-06-01T08:13:58.759Z"
   },
   {
    "duration": 0,
    "start_time": "2023-06-01T08:13:58.760Z"
   },
   {
    "duration": 0,
    "start_time": "2023-06-01T08:13:58.760Z"
   },
   {
    "duration": 0,
    "start_time": "2023-06-01T08:13:58.761Z"
   },
   {
    "duration": 435,
    "start_time": "2023-06-01T08:16:06.977Z"
   },
   {
    "duration": 154,
    "start_time": "2023-06-01T08:16:08.452Z"
   },
   {
    "duration": 18,
    "start_time": "2023-06-01T08:16:09.852Z"
   },
   {
    "duration": 90,
    "start_time": "2023-06-01T08:16:15.384Z"
   },
   {
    "duration": 28,
    "start_time": "2023-06-01T08:16:19.078Z"
   },
   {
    "duration": 53,
    "start_time": "2023-06-01T08:16:20.666Z"
   },
   {
    "duration": 568,
    "start_time": "2023-06-01T08:17:35.904Z"
   },
   {
    "duration": 1440,
    "start_time": "2023-06-01T08:18:06.613Z"
   },
   {
    "duration": 563,
    "start_time": "2023-06-01T08:18:19.692Z"
   },
   {
    "duration": 696,
    "start_time": "2023-06-01T08:21:25.456Z"
   },
   {
    "duration": 85,
    "start_time": "2023-06-01T08:21:37.093Z"
   },
   {
    "duration": 825,
    "start_time": "2023-06-01T08:21:48.547Z"
   },
   {
    "duration": 16,
    "start_time": "2023-06-01T08:22:09.671Z"
   },
   {
    "duration": 3662,
    "start_time": "2023-06-01T08:22:41.157Z"
   },
   {
    "duration": 580,
    "start_time": "2023-06-01T08:23:53.075Z"
   },
   {
    "duration": 935,
    "start_time": "2023-06-01T08:24:01.074Z"
   },
   {
    "duration": 1007,
    "start_time": "2023-06-01T08:24:09.656Z"
   },
   {
    "duration": 39,
    "start_time": "2023-06-01T08:33:54.107Z"
   },
   {
    "duration": 32,
    "start_time": "2023-06-01T08:34:13.168Z"
   },
   {
    "duration": 42,
    "start_time": "2023-06-01T08:34:43.811Z"
   },
   {
    "duration": 3388,
    "start_time": "2023-06-01T08:39:47.899Z"
   },
   {
    "duration": 38,
    "start_time": "2023-06-01T08:40:21.392Z"
   },
   {
    "duration": 1193,
    "start_time": "2023-06-01T08:40:28.174Z"
   },
   {
    "duration": 1324,
    "start_time": "2023-06-01T08:40:56.044Z"
   },
   {
    "duration": 3532,
    "start_time": "2023-06-01T08:41:26.300Z"
   },
   {
    "duration": 3504,
    "start_time": "2023-06-01T08:41:47.522Z"
   },
   {
    "duration": 3391,
    "start_time": "2023-06-01T08:42:21.475Z"
   },
   {
    "duration": 3506,
    "start_time": "2023-06-01T08:42:54.575Z"
   },
   {
    "duration": 3527,
    "start_time": "2023-06-01T08:43:10.738Z"
   },
   {
    "duration": 12479,
    "start_time": "2023-06-01T08:43:24.103Z"
   },
   {
    "duration": 6295,
    "start_time": "2023-06-01T08:44:03.366Z"
   },
   {
    "duration": 41,
    "start_time": "2023-06-01T08:45:38.738Z"
   },
   {
    "duration": 1247,
    "start_time": "2023-06-01T08:53:27.852Z"
   },
   {
    "duration": 728,
    "start_time": "2023-06-01T08:53:43.400Z"
   },
   {
    "duration": 21,
    "start_time": "2023-06-01T08:53:47.222Z"
   },
   {
    "duration": 22,
    "start_time": "2023-06-01T08:53:54.156Z"
   },
   {
    "duration": 171,
    "start_time": "2023-06-01T08:57:27.709Z"
   },
   {
    "duration": 52,
    "start_time": "2023-06-01T08:57:33.358Z"
   },
   {
    "duration": 137,
    "start_time": "2023-06-01T08:57:34.010Z"
   },
   {
    "duration": 32,
    "start_time": "2023-06-01T08:57:35.823Z"
   },
   {
    "duration": 15852,
    "start_time": "2023-06-01T08:57:40.361Z"
   },
   {
    "duration": 14,
    "start_time": "2023-06-01T08:58:33.227Z"
   },
   {
    "duration": 15582,
    "start_time": "2023-06-01T09:02:39.470Z"
   },
   {
    "duration": 725,
    "start_time": "2023-06-01T09:02:57.752Z"
   },
   {
    "duration": 10,
    "start_time": "2023-06-01T09:02:59.975Z"
   },
   {
    "duration": 9159,
    "start_time": "2023-06-01T09:03:43.987Z"
   },
   {
    "duration": 0,
    "start_time": "2023-06-01T09:03:53.148Z"
   },
   {
    "duration": 0,
    "start_time": "2023-06-01T09:03:53.149Z"
   },
   {
    "duration": 715,
    "start_time": "2023-06-01T09:03:58.718Z"
   },
   {
    "duration": 10,
    "start_time": "2023-06-01T09:04:05.058Z"
   },
   {
    "duration": 451,
    "start_time": "2023-06-01T09:04:06.821Z"
   },
   {
    "duration": 156,
    "start_time": "2023-06-01T09:04:09.586Z"
   },
   {
    "duration": 20,
    "start_time": "2023-06-01T09:04:10.677Z"
   },
   {
    "duration": 93,
    "start_time": "2023-06-01T09:04:11.842Z"
   },
   {
    "duration": 36,
    "start_time": "2023-06-01T09:04:12.618Z"
   },
   {
    "duration": 52,
    "start_time": "2023-06-01T09:04:13.916Z"
   },
   {
    "duration": 1269,
    "start_time": "2023-06-01T09:04:15.216Z"
   },
   {
    "duration": 50,
    "start_time": "2023-06-01T09:04:18.105Z"
   },
   {
    "duration": 6058,
    "start_time": "2023-06-01T09:04:19.116Z"
   },
   {
    "duration": 40,
    "start_time": "2023-06-01T09:04:26.219Z"
   },
   {
    "duration": 115,
    "start_time": "2023-06-01T09:04:30.774Z"
   },
   {
    "duration": 30,
    "start_time": "2023-06-01T09:04:32.087Z"
   },
   {
    "duration": 132,
    "start_time": "2023-06-01T09:04:33.013Z"
   },
   {
    "duration": 15,
    "start_time": "2023-06-01T09:04:36.421Z"
   },
   {
    "duration": 11,
    "start_time": "2023-06-01T09:04:40.471Z"
   },
   {
    "duration": 127924,
    "start_time": "2023-06-01T09:04:53.604Z"
   },
   {
    "duration": 17,
    "start_time": "2023-06-01T09:32:58.108Z"
   },
   {
    "duration": 100623,
    "start_time": "2023-06-01T09:33:06.753Z"
   },
   {
    "duration": 96665,
    "start_time": "2023-06-01T09:37:07.812Z"
   },
   {
    "duration": 8,
    "start_time": "2023-06-01T09:40:14.675Z"
   },
   {
    "duration": 3,
    "start_time": "2023-06-01T09:43:59.429Z"
   },
   {
    "duration": 3,
    "start_time": "2023-06-01T09:44:56.778Z"
   },
   {
    "duration": 100104,
    "start_time": "2023-06-01T09:45:02.754Z"
   },
   {
    "duration": 99934,
    "start_time": "2023-06-01T09:47:40.180Z"
   },
   {
    "duration": 4,
    "start_time": "2023-06-01T10:00:48.155Z"
   },
   {
    "duration": 10,
    "start_time": "2023-06-01T10:01:39.698Z"
   },
   {
    "duration": 2,
    "start_time": "2023-06-01T10:02:14.194Z"
   },
   {
    "duration": 9,
    "start_time": "2023-06-01T10:02:20.256Z"
   },
   {
    "duration": 38,
    "start_time": "2023-06-01T10:02:27.245Z"
   },
   {
    "duration": 2,
    "start_time": "2023-06-01T10:02:31.759Z"
   },
   {
    "duration": 2,
    "start_time": "2023-06-01T10:02:41.454Z"
   },
   {
    "duration": 3,
    "start_time": "2023-06-01T10:02:48.908Z"
   },
   {
    "duration": 38,
    "start_time": "2023-06-01T10:02:58.411Z"
   },
   {
    "duration": 3,
    "start_time": "2023-06-01T10:03:04.882Z"
   },
   {
    "duration": 9,
    "start_time": "2023-06-01T10:03:17.020Z"
   },
   {
    "duration": 3,
    "start_time": "2023-06-01T10:03:24.540Z"
   },
   {
    "duration": 39,
    "start_time": "2023-06-01T10:03:38.015Z"
   },
   {
    "duration": 3,
    "start_time": "2023-06-01T10:03:42.154Z"
   },
   {
    "duration": 6505,
    "start_time": "2023-06-01T10:04:10.260Z"
   },
   {
    "duration": 55,
    "start_time": "2023-06-01T10:04:16.767Z"
   },
   {
    "duration": 0,
    "start_time": "2023-06-01T10:04:16.824Z"
   },
   {
    "duration": 0,
    "start_time": "2023-06-01T10:04:16.825Z"
   },
   {
    "duration": 0,
    "start_time": "2023-06-01T10:04:16.826Z"
   },
   {
    "duration": 0,
    "start_time": "2023-06-01T10:04:16.828Z"
   },
   {
    "duration": 0,
    "start_time": "2023-06-01T10:04:16.829Z"
   },
   {
    "duration": 0,
    "start_time": "2023-06-01T10:04:16.830Z"
   },
   {
    "duration": 0,
    "start_time": "2023-06-01T10:04:16.831Z"
   },
   {
    "duration": 0,
    "start_time": "2023-06-01T10:04:16.833Z"
   },
   {
    "duration": 0,
    "start_time": "2023-06-01T10:04:16.837Z"
   },
   {
    "duration": 0,
    "start_time": "2023-06-01T10:04:16.838Z"
   },
   {
    "duration": 0,
    "start_time": "2023-06-01T10:04:16.840Z"
   },
   {
    "duration": 0,
    "start_time": "2023-06-01T10:04:16.842Z"
   },
   {
    "duration": 0,
    "start_time": "2023-06-01T10:04:16.843Z"
   },
   {
    "duration": 0,
    "start_time": "2023-06-01T10:04:16.844Z"
   },
   {
    "duration": 711,
    "start_time": "2023-06-01T10:04:37.926Z"
   },
   {
    "duration": 10,
    "start_time": "2023-06-01T10:04:40.425Z"
   },
   {
    "duration": 460,
    "start_time": "2023-06-01T10:04:45.012Z"
   },
   {
    "duration": 158,
    "start_time": "2023-06-01T10:04:46.017Z"
   },
   {
    "duration": 16,
    "start_time": "2023-06-01T10:04:49.181Z"
   },
   {
    "duration": 84,
    "start_time": "2023-06-01T10:04:50.152Z"
   },
   {
    "duration": 35,
    "start_time": "2023-06-01T10:04:52.888Z"
   },
   {
    "duration": 51,
    "start_time": "2023-06-01T10:04:53.945Z"
   },
   {
    "duration": 1357,
    "start_time": "2023-06-01T10:04:57.891Z"
   },
   {
    "duration": 37,
    "start_time": "2023-06-01T10:05:02.342Z"
   },
   {
    "duration": 5832,
    "start_time": "2023-06-01T10:05:02.757Z"
   },
   {
    "duration": 39,
    "start_time": "2023-06-01T10:05:08.591Z"
   },
   {
    "duration": 99,
    "start_time": "2023-06-01T10:05:13.034Z"
   },
   {
    "duration": 30,
    "start_time": "2023-06-01T10:05:14.779Z"
   },
   {
    "duration": 108,
    "start_time": "2023-06-01T10:05:15.959Z"
   },
   {
    "duration": 14,
    "start_time": "2023-06-01T10:05:17.247Z"
   },
   {
    "duration": 99236,
    "start_time": "2023-06-01T10:05:22.265Z"
   },
   {
    "duration": 4,
    "start_time": "2023-06-01T11:43:40.393Z"
   },
   {
    "duration": 91,
    "start_time": "2023-06-01T13:19:46.558Z"
   },
   {
    "duration": 16,
    "start_time": "2023-06-01T13:19:57.228Z"
   },
   {
    "duration": 13,
    "start_time": "2023-06-01T13:23:30.526Z"
   },
   {
    "duration": 26,
    "start_time": "2023-06-01T13:24:28.752Z"
   },
   {
    "duration": 89,
    "start_time": "2023-06-01T13:25:16.300Z"
   },
   {
    "duration": 17,
    "start_time": "2023-06-01T13:25:37.869Z"
   },
   {
    "duration": 18,
    "start_time": "2023-06-01T13:26:20.861Z"
   },
   {
    "duration": 18,
    "start_time": "2023-06-01T13:27:25.500Z"
   },
   {
    "duration": 17,
    "start_time": "2023-06-01T13:28:49.608Z"
   },
   {
    "duration": 72,
    "start_time": "2023-06-01T13:30:06.347Z"
   },
   {
    "duration": 79,
    "start_time": "2023-06-01T13:30:17.711Z"
   },
   {
    "duration": 96,
    "start_time": "2023-06-01T13:30:51.714Z"
   },
   {
    "duration": 12,
    "start_time": "2023-06-01T13:30:57.507Z"
   },
   {
    "duration": 78,
    "start_time": "2023-06-01T13:34:59.865Z"
   },
   {
    "duration": 17,
    "start_time": "2023-06-01T13:35:12.656Z"
   },
   {
    "duration": 92999,
    "start_time": "2023-06-01T13:36:02.559Z"
   },
   {
    "duration": 18,
    "start_time": "2023-06-01T13:45:40.400Z"
   },
   {
    "duration": 17,
    "start_time": "2023-06-01T13:46:26.894Z"
   },
   {
    "duration": 18,
    "start_time": "2023-06-01T13:51:10.150Z"
   },
   {
    "duration": 32,
    "start_time": "2023-06-01T13:51:29.307Z"
   },
   {
    "duration": 16,
    "start_time": "2023-06-01T13:53:06.799Z"
   },
   {
    "duration": 15,
    "start_time": "2023-06-01T13:53:42.527Z"
   },
   {
    "duration": 20,
    "start_time": "2023-06-01T13:55:04.637Z"
   },
   {
    "duration": 28,
    "start_time": "2023-06-01T13:56:13.003Z"
   },
   {
    "duration": 27,
    "start_time": "2023-06-01T13:56:55.711Z"
   },
   {
    "duration": 19,
    "start_time": "2023-06-01T14:00:08.539Z"
   },
   {
    "duration": 3,
    "start_time": "2023-06-01T14:01:55.360Z"
   },
   {
    "duration": 12,
    "start_time": "2023-06-01T14:02:04.451Z"
   },
   {
    "duration": 4,
    "start_time": "2023-06-01T14:02:09.905Z"
   },
   {
    "duration": 3,
    "start_time": "2023-06-01T14:02:17.550Z"
   },
   {
    "duration": 18,
    "start_time": "2023-06-01T14:02:27.083Z"
   },
   {
    "duration": 21,
    "start_time": "2023-06-01T14:02:41.551Z"
   },
   {
    "duration": 18,
    "start_time": "2023-06-01T14:10:12.847Z"
   },
   {
    "duration": 218,
    "start_time": "2023-06-01T14:15:20.683Z"
   },
   {
    "duration": 46,
    "start_time": "2023-06-01T14:15:32.516Z"
   },
   {
    "duration": 145614,
    "start_time": "2023-06-01T14:15:50.903Z"
   },
   {
    "duration": 49428,
    "start_time": "2023-06-01T14:18:45.016Z"
   },
   {
    "duration": 199585,
    "start_time": "2023-06-01T14:20:04.370Z"
   },
   {
    "duration": 88,
    "start_time": "2023-06-01T14:26:46.908Z"
   },
   {
    "duration": 418776,
    "start_time": "2023-06-01T14:26:53.854Z"
   },
   {
    "duration": 21581,
    "start_time": "2023-06-01T20:47:51.864Z"
   },
   {
    "duration": 4971,
    "start_time": "2023-06-01T20:48:13.447Z"
   },
   {
    "duration": 1394,
    "start_time": "2023-06-01T20:48:18.420Z"
   },
   {
    "duration": 36287,
    "start_time": "2023-06-01T20:48:19.817Z"
   },
   {
    "duration": 0,
    "start_time": "2023-06-01T20:48:56.107Z"
   },
   {
    "duration": 0,
    "start_time": "2023-06-01T20:48:56.109Z"
   },
   {
    "duration": 0,
    "start_time": "2023-06-01T20:48:56.111Z"
   },
   {
    "duration": 0,
    "start_time": "2023-06-01T20:48:56.112Z"
   },
   {
    "duration": 0,
    "start_time": "2023-06-01T20:48:56.114Z"
   },
   {
    "duration": 0,
    "start_time": "2023-06-01T20:48:56.115Z"
   },
   {
    "duration": 0,
    "start_time": "2023-06-01T20:48:56.117Z"
   },
   {
    "duration": 0,
    "start_time": "2023-06-01T20:48:56.118Z"
   },
   {
    "duration": 0,
    "start_time": "2023-06-01T20:48:56.120Z"
   },
   {
    "duration": 0,
    "start_time": "2023-06-01T20:48:56.121Z"
   },
   {
    "duration": 0,
    "start_time": "2023-06-01T20:48:56.123Z"
   },
   {
    "duration": 0,
    "start_time": "2023-06-01T20:48:56.124Z"
   },
   {
    "duration": 0,
    "start_time": "2023-06-01T20:48:56.126Z"
   },
   {
    "duration": 0,
    "start_time": "2023-06-01T20:48:56.127Z"
   },
   {
    "duration": 0,
    "start_time": "2023-06-01T20:48:56.128Z"
   },
   {
    "duration": 0,
    "start_time": "2023-06-01T20:48:56.129Z"
   },
   {
    "duration": 0,
    "start_time": "2023-06-01T20:48:56.130Z"
   },
   {
    "duration": 60112,
    "start_time": "2023-06-01T20:49:33.033Z"
   },
   {
    "duration": 4539,
    "start_time": "2023-06-01T20:50:33.147Z"
   },
   {
    "duration": 1009,
    "start_time": "2023-06-01T20:50:37.688Z"
   },
   {
    "duration": 79844,
    "start_time": "2023-06-01T20:50:38.699Z"
   },
   {
    "duration": 623,
    "start_time": "2023-06-01T20:51:58.547Z"
   },
   {
    "duration": 282,
    "start_time": "2023-06-01T20:51:59.173Z"
   },
   {
    "duration": 34,
    "start_time": "2023-06-01T20:51:59.456Z"
   },
   {
    "duration": 118,
    "start_time": "2023-06-01T20:51:59.492Z"
   },
   {
    "duration": 27,
    "start_time": "2023-06-01T20:51:59.612Z"
   },
   {
    "duration": 89,
    "start_time": "2023-06-01T20:51:59.641Z"
   },
   {
    "duration": 2000,
    "start_time": "2023-06-01T20:51:59.732Z"
   },
   {
    "duration": 53,
    "start_time": "2023-06-01T20:52:01.735Z"
   },
   {
    "duration": 8796,
    "start_time": "2023-06-01T20:52:01.791Z"
   },
   {
    "duration": 51,
    "start_time": "2023-06-01T20:52:10.591Z"
   },
   {
    "duration": 161,
    "start_time": "2023-06-01T20:52:10.644Z"
   },
   {
    "duration": 44,
    "start_time": "2023-06-01T20:52:10.815Z"
   },
   {
    "duration": 164,
    "start_time": "2023-06-01T20:52:10.860Z"
   },
   {
    "duration": 16,
    "start_time": "2023-06-01T20:52:11.026Z"
   },
   {
    "duration": 123605,
    "start_time": "2023-06-01T20:52:11.044Z"
   },
   {
    "duration": 275,
    "start_time": "2023-06-01T20:54:14.651Z"
   },
   {
    "duration": 4,
    "start_time": "2023-06-01T20:54:14.927Z"
   },
   {
    "duration": 65,
    "start_time": "2023-06-01T20:54:29.443Z"
   },
   {
    "duration": 1037205,
    "start_time": "2023-06-01T20:55:12.614Z"
   },
   {
    "duration": 48850,
    "start_time": "2023-06-01T21:12:43.771Z"
   },
   {
    "duration": 20,
    "start_time": "2023-06-01T21:13:57.029Z"
   },
   {
    "duration": 101,
    "start_time": "2023-06-01T21:14:25.254Z"
   },
   {
    "duration": 14,
    "start_time": "2023-06-01T21:14:38.910Z"
   },
   {
    "duration": 101549,
    "start_time": "2023-06-01T21:14:59.673Z"
   },
   {
    "duration": 12,
    "start_time": "2023-06-01T21:21:30.918Z"
   },
   {
    "duration": 14,
    "start_time": "2023-06-01T21:21:39.872Z"
   },
   {
    "duration": 309382,
    "start_time": "2023-06-01T21:27:09.122Z"
   },
   {
    "duration": 4,
    "start_time": "2023-06-01T21:33:31.406Z"
   },
   {
    "duration": 3,
    "start_time": "2023-06-01T21:33:56.097Z"
   },
   {
    "duration": 19,
    "start_time": "2023-06-01T21:34:33.973Z"
   },
   {
    "duration": 13,
    "start_time": "2023-06-01T21:36:50.608Z"
   },
   {
    "duration": 16081,
    "start_time": "2023-06-01T21:37:59.326Z"
   },
   {
    "duration": 164,
    "start_time": "2023-06-01T21:38:24.201Z"
   },
   {
    "duration": 801,
    "start_time": "2023-06-01T21:38:27.694Z"
   },
   {
    "duration": 69510,
    "start_time": "2023-06-01T21:38:31.311Z"
   },
   {
    "duration": 581,
    "start_time": "2023-06-01T21:40:05.775Z"
   },
   {
    "duration": 248,
    "start_time": "2023-06-01T21:40:07.564Z"
   },
   {
    "duration": 23,
    "start_time": "2023-06-01T21:40:08.980Z"
   },
   {
    "duration": 105,
    "start_time": "2023-06-01T21:40:13.335Z"
   },
   {
    "duration": 28,
    "start_time": "2023-06-01T21:40:16.192Z"
   },
   {
    "duration": 58,
    "start_time": "2023-06-01T21:40:17.592Z"
   },
   {
    "duration": 1896,
    "start_time": "2023-06-01T21:40:20.613Z"
   },
   {
    "duration": 37,
    "start_time": "2023-06-01T21:40:30.291Z"
   },
   {
    "duration": 7972,
    "start_time": "2023-06-01T21:40:32.707Z"
   },
   {
    "duration": 37,
    "start_time": "2023-06-01T21:40:40.693Z"
   },
   {
    "duration": 130,
    "start_time": "2023-06-01T21:40:46.669Z"
   },
   {
    "duration": 49,
    "start_time": "2023-06-01T21:40:48.430Z"
   },
   {
    "duration": 122,
    "start_time": "2023-06-01T21:40:51.392Z"
   },
   {
    "duration": 19,
    "start_time": "2023-06-01T21:40:56.262Z"
   },
   {
    "duration": 107464,
    "start_time": "2023-06-01T21:41:35.909Z"
   },
   {
    "duration": 51,
    "start_time": "2023-06-01T21:43:37.566Z"
   },
   {
    "duration": 45,
    "start_time": "2023-06-01T21:44:10.177Z"
   },
   {
    "duration": 642,
    "start_time": "2023-06-01T21:44:14.834Z"
   },
   {
    "duration": 16,
    "start_time": "2023-06-01T21:45:26.763Z"
   },
   {
    "duration": 86,
    "start_time": "2023-06-01T21:46:21.961Z"
   },
   {
    "duration": 247,
    "start_time": "2023-06-01T21:46:26.377Z"
   },
   {
    "duration": 13,
    "start_time": "2023-06-01T21:46:43.616Z"
   },
   {
    "duration": 15,
    "start_time": "2023-06-01T21:46:49.810Z"
   },
   {
    "duration": 13446,
    "start_time": "2023-06-01T21:48:00.132Z"
   },
   {
    "duration": 17,
    "start_time": "2023-06-01T21:50:50.902Z"
   },
   {
    "duration": 1427,
    "start_time": "2023-06-01T21:51:17.471Z"
   },
   {
    "duration": 14,
    "start_time": "2023-06-01T21:51:32.616Z"
   },
   {
    "duration": 17,
    "start_time": "2023-06-01T21:59:34.509Z"
   },
   {
    "duration": 16,
    "start_time": "2023-06-01T21:59:53.617Z"
   },
   {
    "duration": 12,
    "start_time": "2023-06-01T22:00:12.126Z"
   },
   {
    "duration": 619,
    "start_time": "2023-06-01T22:01:45.057Z"
   },
   {
    "duration": 451,
    "start_time": "2023-06-01T22:02:26.844Z"
   },
   {
    "duration": 1858,
    "start_time": "2023-06-01T22:02:44.045Z"
   },
   {
    "duration": 1997,
    "start_time": "2023-06-01T22:03:25.681Z"
   },
   {
    "duration": 3851,
    "start_time": "2023-06-01T22:03:44.855Z"
   },
   {
    "duration": 1871,
    "start_time": "2023-06-01T22:03:55.531Z"
   },
   {
    "duration": 1875,
    "start_time": "2023-06-01T22:04:44.735Z"
   },
   {
    "duration": 1804,
    "start_time": "2023-06-01T22:04:52.000Z"
   },
   {
    "duration": 31,
    "start_time": "2023-06-01T22:11:53.312Z"
   },
   {
    "duration": 1233,
    "start_time": "2023-06-01T22:13:08.513Z"
   },
   {
    "duration": 11,
    "start_time": "2023-06-01T22:13:20.976Z"
   },
   {
    "duration": 130456,
    "start_time": "2023-06-01T22:16:22.638Z"
   },
   {
    "duration": 17146,
    "start_time": "2023-06-01T22:20:16.080Z"
   },
   {
    "duration": 4006,
    "start_time": "2023-06-01T22:20:33.229Z"
   },
   {
    "duration": 862,
    "start_time": "2023-06-01T22:20:37.237Z"
   },
   {
    "duration": 66047,
    "start_time": "2023-06-01T22:20:38.101Z"
   },
   {
    "duration": 552,
    "start_time": "2023-06-01T22:21:44.150Z"
   },
   {
    "duration": 189,
    "start_time": "2023-06-01T22:21:44.705Z"
   },
   {
    "duration": 18,
    "start_time": "2023-06-01T22:21:44.895Z"
   },
   {
    "duration": 112,
    "start_time": "2023-06-01T22:21:44.914Z"
   },
   {
    "duration": 30,
    "start_time": "2023-06-01T22:21:45.028Z"
   },
   {
    "duration": 70,
    "start_time": "2023-06-01T22:21:45.060Z"
   },
   {
    "duration": 1793,
    "start_time": "2023-06-01T22:21:45.132Z"
   },
   {
    "duration": 34,
    "start_time": "2023-06-01T22:21:46.926Z"
   },
   {
    "duration": 7183,
    "start_time": "2023-06-01T22:21:46.962Z"
   },
   {
    "duration": 40,
    "start_time": "2023-06-01T22:21:54.148Z"
   },
   {
    "duration": 132,
    "start_time": "2023-06-01T22:21:54.190Z"
   },
   {
    "duration": 42,
    "start_time": "2023-06-01T22:21:54.324Z"
   },
   {
    "duration": 121,
    "start_time": "2023-06-01T22:21:54.376Z"
   },
   {
    "duration": 16,
    "start_time": "2023-06-01T22:21:54.498Z"
   },
   {
    "duration": 103253,
    "start_time": "2023-06-01T22:21:54.515Z"
   },
   {
    "duration": 239,
    "start_time": "2023-06-01T22:23:37.770Z"
   },
   {
    "duration": 13766,
    "start_time": "2023-06-01T22:23:38.011Z"
   },
   {
    "duration": 1189,
    "start_time": "2023-06-01T22:23:51.779Z"
   },
   {
    "duration": 17,
    "start_time": "2023-06-01T22:23:52.970Z"
   },
   {
    "duration": 136250,
    "start_time": "2023-06-01T22:23:52.989Z"
   },
   {
    "duration": 1864,
    "start_time": "2023-06-01T22:26:09.240Z"
   },
   {
    "duration": 64975,
    "start_time": "2023-06-01T22:27:55.617Z"
   },
   {
    "duration": 82700,
    "start_time": "2023-06-01T22:37:13.780Z"
   },
   {
    "duration": 3049,
    "start_time": "2023-06-01T23:01:38.702Z"
   },
   {
    "duration": 102064,
    "start_time": "2023-06-01T23:02:48.220Z"
   },
   {
    "duration": 9806,
    "start_time": "2023-06-01T23:04:45.755Z"
   },
   {
    "duration": 15,
    "start_time": "2023-06-01T23:09:25.623Z"
   },
   {
    "duration": 1273,
    "start_time": "2023-06-01T23:09:35.910Z"
   },
   {
    "duration": 14,
    "start_time": "2023-06-01T23:09:39.918Z"
   },
   {
    "duration": 478,
    "start_time": "2023-06-01T23:09:46.475Z"
   },
   {
    "duration": 9187,
    "start_time": "2023-06-01T23:21:18.451Z"
   },
   {
    "duration": 15188,
    "start_time": "2023-06-01T23:22:19.881Z"
   },
   {
    "duration": 4012,
    "start_time": "2023-06-01T23:22:35.071Z"
   },
   {
    "duration": 813,
    "start_time": "2023-06-01T23:22:39.085Z"
   },
   {
    "duration": 64517,
    "start_time": "2023-06-01T23:22:39.900Z"
   },
   {
    "duration": 526,
    "start_time": "2023-06-01T23:23:44.419Z"
   },
   {
    "duration": 190,
    "start_time": "2023-06-01T23:23:44.946Z"
   },
   {
    "duration": 15,
    "start_time": "2023-06-01T23:23:45.138Z"
   },
   {
    "duration": 91,
    "start_time": "2023-06-01T23:23:45.155Z"
   },
   {
    "duration": 37,
    "start_time": "2023-06-01T23:23:45.248Z"
   },
   {
    "duration": 55,
    "start_time": "2023-06-01T23:23:45.287Z"
   },
   {
    "duration": 1737,
    "start_time": "2023-06-01T23:23:45.343Z"
   },
   {
    "duration": 36,
    "start_time": "2023-06-01T23:23:47.082Z"
   },
   {
    "duration": 6778,
    "start_time": "2023-06-01T23:23:47.120Z"
   },
   {
    "duration": 35,
    "start_time": "2023-06-01T23:23:53.901Z"
   },
   {
    "duration": 138,
    "start_time": "2023-06-01T23:23:53.937Z"
   },
   {
    "duration": 43,
    "start_time": "2023-06-01T23:23:54.076Z"
   },
   {
    "duration": 134,
    "start_time": "2023-06-01T23:23:54.120Z"
   },
   {
    "duration": 21,
    "start_time": "2023-06-01T23:23:54.256Z"
   },
   {
    "duration": 98423,
    "start_time": "2023-06-01T23:23:54.278Z"
   },
   {
    "duration": 242,
    "start_time": "2023-06-01T23:25:32.703Z"
   },
   {
    "duration": 77439,
    "start_time": "2023-06-01T23:25:32.946Z"
   },
   {
    "duration": 1155,
    "start_time": "2023-06-01T23:26:50.387Z"
   },
   {
    "duration": 12,
    "start_time": "2023-06-01T23:26:51.544Z"
   },
   {
    "duration": 124009,
    "start_time": "2023-06-01T23:26:51.557Z"
   },
   {
    "duration": 1835,
    "start_time": "2023-06-01T23:28:55.567Z"
   },
   {
    "duration": 9366,
    "start_time": "2023-06-01T23:28:57.403Z"
   },
   {
    "duration": 443,
    "start_time": "2023-06-01T23:29:06.771Z"
   },
   {
    "duration": 49,
    "start_time": "2023-06-02T21:14:37.840Z"
   },
   {
    "duration": 7,
    "start_time": "2023-06-02T21:14:47.099Z"
   },
   {
    "duration": 46572,
    "start_time": "2023-06-02T21:14:54.447Z"
   },
   {
    "duration": 3712,
    "start_time": "2023-06-02T21:15:50.864Z"
   },
   {
    "duration": 3,
    "start_time": "2023-06-02T21:15:58.038Z"
   },
   {
    "duration": 2736,
    "start_time": "2023-06-02T21:16:03.941Z"
   },
   {
    "duration": 60580,
    "start_time": "2023-06-02T21:16:08.834Z"
   },
   {
    "duration": 464,
    "start_time": "2023-06-02T21:17:36.489Z"
   },
   {
    "duration": 150,
    "start_time": "2023-06-02T21:17:38.173Z"
   },
   {
    "duration": 18,
    "start_time": "2023-06-02T21:17:40.276Z"
   },
   {
    "duration": 72,
    "start_time": "2023-06-02T21:17:42.283Z"
   },
   {
    "duration": 20,
    "start_time": "2023-06-02T21:17:45.960Z"
   },
   {
    "duration": 184,
    "start_time": "2023-06-02T21:20:29.449Z"
   },
   {
    "duration": 19,
    "start_time": "2023-06-02T21:20:52.299Z"
   },
   {
    "duration": 12,
    "start_time": "2023-06-02T21:22:06.697Z"
   },
   {
    "duration": 12,
    "start_time": "2023-06-02T21:22:13.439Z"
   },
   {
    "duration": 27,
    "start_time": "2023-06-02T21:23:01.640Z"
   },
   {
    "duration": 52,
    "start_time": "2023-06-02T21:23:03.330Z"
   },
   {
    "duration": 1298,
    "start_time": "2023-06-02T21:23:04.926Z"
   },
   {
    "duration": 40,
    "start_time": "2023-06-02T21:23:07.900Z"
   },
   {
    "duration": 7390,
    "start_time": "2023-06-02T21:23:08.890Z"
   },
   {
    "duration": 41,
    "start_time": "2023-06-02T21:23:17.441Z"
   },
   {
    "duration": 140,
    "start_time": "2023-06-02T21:23:19.510Z"
   },
   {
    "duration": 43,
    "start_time": "2023-06-02T21:23:25.696Z"
   },
   {
    "duration": 103,
    "start_time": "2023-06-02T21:23:28.402Z"
   },
   {
    "duration": 15,
    "start_time": "2023-06-02T21:24:15.073Z"
   },
   {
    "duration": 95630,
    "start_time": "2023-06-02T21:33:01.869Z"
   },
   {
    "duration": 9209,
    "start_time": "2023-06-02T21:35:23.873Z"
   },
   {
    "duration": 226,
    "start_time": "2023-06-02T21:38:16.822Z"
   },
   {
    "duration": 665107,
    "start_time": "2023-06-02T21:38:26.186Z"
   },
   {
    "duration": 30747,
    "start_time": "2023-06-03T06:08:40.093Z"
   },
   {
    "duration": 4830,
    "start_time": "2023-06-03T06:09:10.843Z"
   },
   {
    "duration": 3,
    "start_time": "2023-06-03T06:09:15.674Z"
   },
   {
    "duration": 999,
    "start_time": "2023-06-03T06:09:15.680Z"
   },
   {
    "duration": 67513,
    "start_time": "2023-06-03T06:09:16.681Z"
   },
   {
    "duration": 477,
    "start_time": "2023-06-03T06:10:24.195Z"
   },
   {
    "duration": 230,
    "start_time": "2023-06-03T06:10:24.673Z"
   },
   {
    "duration": 28,
    "start_time": "2023-06-03T06:10:24.905Z"
   },
   {
    "duration": 116,
    "start_time": "2023-06-03T06:10:24.935Z"
   },
   {
    "duration": 24,
    "start_time": "2023-06-03T06:10:25.055Z"
   },
   {
    "duration": 66,
    "start_time": "2023-06-03T06:10:25.081Z"
   },
   {
    "duration": 1621,
    "start_time": "2023-06-03T06:10:25.149Z"
   },
   {
    "duration": 33,
    "start_time": "2023-06-03T06:10:26.772Z"
   },
   {
    "duration": 7419,
    "start_time": "2023-06-03T06:10:26.807Z"
   },
   {
    "duration": 50,
    "start_time": "2023-06-03T06:10:34.228Z"
   },
   {
    "duration": 130,
    "start_time": "2023-06-03T06:10:34.281Z"
   },
   {
    "duration": 45,
    "start_time": "2023-06-03T06:10:34.413Z"
   },
   {
    "duration": 159,
    "start_time": "2023-06-03T06:10:34.460Z"
   },
   {
    "duration": 16,
    "start_time": "2023-06-03T06:10:34.620Z"
   },
   {
    "duration": 94547,
    "start_time": "2023-06-03T06:10:34.637Z"
   },
   {
    "duration": 9409,
    "start_time": "2023-06-03T06:12:09.186Z"
   },
   {
    "duration": 244,
    "start_time": "2023-06-03T06:12:18.597Z"
   },
   {
    "duration": 162330,
    "start_time": "2023-06-03T06:12:18.843Z"
   },
   {
    "duration": 0,
    "start_time": "2023-06-03T06:15:01.175Z"
   },
   {
    "duration": 0,
    "start_time": "2023-06-03T06:15:01.176Z"
   },
   {
    "duration": 0,
    "start_time": "2023-06-03T06:15:01.178Z"
   },
   {
    "duration": 0,
    "start_time": "2023-06-03T06:15:01.179Z"
   },
   {
    "duration": 0,
    "start_time": "2023-06-03T06:15:01.180Z"
   },
   {
    "duration": 0,
    "start_time": "2023-06-03T06:15:01.181Z"
   },
   {
    "duration": 0,
    "start_time": "2023-06-03T06:15:01.182Z"
   },
   {
    "duration": 0,
    "start_time": "2023-06-03T06:15:01.183Z"
   },
   {
    "duration": 1173,
    "start_time": "2023-06-03T06:15:06.222Z"
   },
   {
    "duration": 17,
    "start_time": "2023-06-03T06:15:08.402Z"
   },
   {
    "duration": 119752,
    "start_time": "2023-06-03T06:15:09.286Z"
   },
   {
    "duration": 12983,
    "start_time": "2023-06-03T06:17:09.042Z"
   },
   {
    "duration": 2011,
    "start_time": "2023-06-03T06:18:19.217Z"
   },
   {
    "duration": 53,
    "start_time": "2023-06-03T06:18:28.177Z"
   },
   {
    "duration": 3146344,
    "start_time": "2023-06-03T06:19:24.894Z"
   },
   {
    "duration": 8,
    "start_time": "2023-06-03T15:39:31.268Z"
   },
   {
    "duration": 13,
    "start_time": "2023-06-03T15:42:25.405Z"
   },
   {
    "duration": 31257,
    "start_time": "2023-06-03T15:44:04.088Z"
   },
   {
    "duration": 95127,
    "start_time": "2023-06-03T15:44:59.911Z"
   },
   {
    "duration": 10,
    "start_time": "2023-06-03T15:53:20.763Z"
   },
   {
    "duration": 11,
    "start_time": "2023-06-03T15:53:26.257Z"
   },
   {
    "duration": 10,
    "start_time": "2023-06-03T15:53:43.481Z"
   },
   {
    "duration": 16,
    "start_time": "2023-06-03T15:53:50.304Z"
   },
   {
    "duration": 11,
    "start_time": "2023-06-03T15:54:16.100Z"
   },
   {
    "duration": 13,
    "start_time": "2023-06-03T15:54:20.139Z"
   },
   {
    "duration": 88,
    "start_time": "2023-06-03T15:59:18.961Z"
   },
   {
    "duration": 5,
    "start_time": "2023-06-03T15:59:21.852Z"
   },
   {
    "duration": 26915,
    "start_time": "2023-06-03T16:02:00.636Z"
   },
   {
    "duration": 92114,
    "start_time": "2023-06-03T16:03:26.621Z"
   },
   {
    "duration": 4,
    "start_time": "2023-06-03T16:05:23.410Z"
   },
   {
    "duration": 2830,
    "start_time": "2023-06-03T16:08:09.807Z"
   },
   {
    "duration": 2750,
    "start_time": "2023-06-03T16:08:57.383Z"
   },
   {
    "duration": 3891,
    "start_time": "2023-06-03T16:11:14.642Z"
   },
   {
    "duration": 12,
    "start_time": "2023-06-03T16:15:20.744Z"
   },
   {
    "duration": 15700,
    "start_time": "2023-06-03T16:17:58.967Z"
   },
   {
    "duration": 4128,
    "start_time": "2023-06-03T16:18:14.670Z"
   },
   {
    "duration": 3,
    "start_time": "2023-06-03T16:18:18.800Z"
   },
   {
    "duration": 868,
    "start_time": "2023-06-03T16:18:18.805Z"
   },
   {
    "duration": 64067,
    "start_time": "2023-06-03T16:18:19.675Z"
   },
   {
    "duration": 536,
    "start_time": "2023-06-03T16:19:23.744Z"
   },
   {
    "duration": 194,
    "start_time": "2023-06-03T16:19:24.282Z"
   },
   {
    "duration": 15,
    "start_time": "2023-06-03T16:19:24.477Z"
   },
   {
    "duration": 103,
    "start_time": "2023-06-03T16:19:24.494Z"
   },
   {
    "duration": 41,
    "start_time": "2023-06-03T16:19:24.600Z"
   },
   {
    "duration": 56,
    "start_time": "2023-06-03T16:19:24.643Z"
   },
   {
    "duration": 1207,
    "start_time": "2023-06-03T16:19:24.701Z"
   },
   {
    "duration": 49,
    "start_time": "2023-06-03T16:19:25.909Z"
   },
   {
    "duration": 6858,
    "start_time": "2023-06-03T16:19:25.960Z"
   },
   {
    "duration": 45,
    "start_time": "2023-06-03T16:19:32.819Z"
   },
   {
    "duration": 120,
    "start_time": "2023-06-03T16:19:32.865Z"
   },
   {
    "duration": 52,
    "start_time": "2023-06-03T16:19:32.986Z"
   },
   {
    "duration": 116,
    "start_time": "2023-06-03T16:19:33.040Z"
   },
   {
    "duration": 17,
    "start_time": "2023-06-03T16:19:33.158Z"
   },
   {
    "duration": 97734,
    "start_time": "2023-06-03T16:19:33.177Z"
   },
   {
    "duration": 9573,
    "start_time": "2023-06-03T16:21:10.913Z"
   },
   {
    "duration": 248,
    "start_time": "2023-06-03T16:21:20.488Z"
   },
   {
    "duration": 450393,
    "start_time": "2023-06-03T16:21:20.738Z"
   },
   {
    "duration": 4705,
    "start_time": "2023-06-03T16:28:51.134Z"
   },
   {
    "duration": 1102,
    "start_time": "2023-06-03T16:28:55.841Z"
   },
   {
    "duration": 11,
    "start_time": "2023-06-03T16:28:56.945Z"
   },
   {
    "duration": 117088,
    "start_time": "2023-06-03T16:28:56.958Z"
   },
   {
    "duration": 11740,
    "start_time": "2023-06-03T16:30:54.050Z"
   },
   {
    "duration": 1858,
    "start_time": "2023-06-03T16:31:05.791Z"
   },
   {
    "duration": 204,
    "start_time": "2023-06-03T16:31:07.651Z"
   },
   {
    "duration": 9397,
    "start_time": "2023-06-03T16:31:07.924Z"
   },
   {
    "duration": 422,
    "start_time": "2023-06-03T16:31:17.324Z"
   }
  ],
  "kernelspec": {
   "display_name": "Python 3 (ipykernel)",
   "language": "python",
   "name": "python3"
  },
  "language_info": {
   "codemirror_mode": {
    "name": "ipython",
    "version": 3
   },
   "file_extension": ".py",
   "mimetype": "text/x-python",
   "name": "python",
   "nbconvert_exporter": "python",
   "pygments_lexer": "ipython3",
   "version": "3.10.9"
  },
  "toc": {
   "base_numbering": 1,
   "nav_menu": {
    "height": "18px",
    "width": "160px"
   },
   "number_sections": true,
   "sideBar": true,
   "skip_h1_title": true,
   "title_cell": "Table of Contents",
   "title_sidebar": "Contents",
   "toc_cell": false,
   "toc_position": {
    "height": "calc(100% - 180px)",
    "left": "10px",
    "top": "150px",
    "width": "165px"
   },
   "toc_section_display": true,
   "toc_window_display": true
  },
  "varInspector": {
   "cols": {
    "lenName": 16,
    "lenType": 16,
    "lenVar": 40
   },
   "kernels_config": {
    "python": {
     "delete_cmd_postfix": "",
     "delete_cmd_prefix": "del ",
     "library": "var_list.py",
     "varRefreshCmd": "print(var_dic_list())"
    },
    "r": {
     "delete_cmd_postfix": ") ",
     "delete_cmd_prefix": "rm(",
     "library": "var_list.r",
     "varRefreshCmd": "cat(var_dic_list()) "
    }
   },
   "types_to_exclude": [
    "module",
    "function",
    "builtin_function_or_method",
    "instance",
    "_Feature"
   ],
   "window_display": false
  }
 },
 "nbformat": 4,
 "nbformat_minor": 2
}

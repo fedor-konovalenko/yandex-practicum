{
 "cells": [
  {
   "cell_type": "markdown",
   "metadata": {
    "toc": true
   },
   "source": [
    "<h1>Содержание<span class=\"tocSkip\"></span></h1>\n",
    "<div class=\"toc\"><ul class=\"toc-item\"><li><span><a href=\"#Подготовка\" data-toc-modified-id=\"Подготовка-1\"><span class=\"toc-item-num\">1&nbsp;&nbsp;</span>Подготовка</a></span><ul class=\"toc-item\"><li><span><a href=\"#Установка-пакетов-и-импорт-библиотек\" data-toc-modified-id=\"Установка-пакетов-и-импорт-библиотек-1.1\"><span class=\"toc-item-num\">1.1&nbsp;&nbsp;</span>Установка пакетов и импорт библиотек</a></span></li><li><span><a href=\"#Загрузка-данных\" data-toc-modified-id=\"Загрузка-данных-1.2\"><span class=\"toc-item-num\">1.2&nbsp;&nbsp;</span>Загрузка данных</a></span></li><li><span><a href=\"#Пропуски-в-данных\" data-toc-modified-id=\"Пропуски-в-данных-1.3\"><span class=\"toc-item-num\">1.3&nbsp;&nbsp;</span>Пропуски в данных</a></span></li><li><span><a href=\"#Явные-дубликаты\" data-toc-modified-id=\"Явные-дубликаты-1.4\"><span class=\"toc-item-num\">1.4&nbsp;&nbsp;</span>Явные дубликаты</a></span></li><li><span><a href=\"#Аномалии\" data-toc-modified-id=\"Аномалии-1.5\"><span class=\"toc-item-num\">1.5&nbsp;&nbsp;</span>Аномалии</a></span></li><li><span><a href=\"#Лемматизация-и-очистка-текста\" data-toc-modified-id=\"Лемматизация-и-очистка-текста-1.6\"><span class=\"toc-item-num\">1.6&nbsp;&nbsp;</span>Лемматизация и очистка текста</a></span></li><li><span><a href=\"#Удаление-неинформативного-столбца\" data-toc-modified-id=\"Удаление-неинформативного-столбца-1.7\"><span class=\"toc-item-num\">1.7&nbsp;&nbsp;</span>Удаление неинформативного столбца</a></span></li><li><span><a href=\"#Баланс-значений--таргета\" data-toc-modified-id=\"Баланс-значений--таргета-1.8\"><span class=\"toc-item-num\">1.8&nbsp;&nbsp;</span>Баланс значений  таргета</a></span></li><li><span><a href=\"#Деление-данных-на-выборки\" data-toc-modified-id=\"Деление-данных-на-выборки-1.9\"><span class=\"toc-item-num\">1.9&nbsp;&nbsp;</span>Деление данных на выборки</a></span></li><li><span><a href=\"#Подготовка-признаков\" data-toc-modified-id=\"Подготовка-признаков-1.10\"><span class=\"toc-item-num\">1.10&nbsp;&nbsp;</span>Подготовка признаков</a></span></li><li><span><a href=\"#Выводы-по-предобработке-данных\" data-toc-modified-id=\"Выводы-по-предобработке-данных-1.11\"><span class=\"toc-item-num\">1.11&nbsp;&nbsp;</span>Выводы по предобработке данных</a></span></li></ul></li><li><span><a href=\"#Обучение\" data-toc-modified-id=\"Обучение-2\"><span class=\"toc-item-num\">2&nbsp;&nbsp;</span>Обучение</a></span><ul class=\"toc-item\"><li><span><a href=\"#Функции-для-предсказаний-и-построения-ROC-кривой-(для-модели-и-для-пайплайна)\" data-toc-modified-id=\"Функции-для-предсказаний-и-построения-ROC-кривой-(для-модели-и-для-пайплайна)-2.1\"><span class=\"toc-item-num\">2.1&nbsp;&nbsp;</span>Функции для предсказаний и построения ROC кривой (для модели и для пайплайна)</a></span></li><li><span><a href=\"#Функция-для-работы-с-параметрами-в-pipeline\" data-toc-modified-id=\"Функция-для-работы-с-параметрами-в-pipeline-2.2\"><span class=\"toc-item-num\">2.2&nbsp;&nbsp;</span>Функция для работы с параметрами в pipeline</a></span></li><li><span><a href=\"#Решающее-дерево\" data-toc-modified-id=\"Решающее-дерево-2.3\"><span class=\"toc-item-num\">2.3&nbsp;&nbsp;</span>Решающее дерево</a></span></li><li><span><a href=\"#Логистическая-регрессия\" data-toc-modified-id=\"Логистическая-регрессия-2.4\"><span class=\"toc-item-num\">2.4&nbsp;&nbsp;</span>Логистическая регрессия</a></span></li></ul></li><li><span><a href=\"#Тестирование\" data-toc-modified-id=\"Тестирование-3\"><span class=\"toc-item-num\">3&nbsp;&nbsp;</span>Тестирование</a></span><ul class=\"toc-item\"><li><span><a href=\"#Подготовка-признаков-для-тестовой-выборки\" data-toc-modified-id=\"Подготовка-признаков-для-тестовой-выборки-3.1\"><span class=\"toc-item-num\">3.1&nbsp;&nbsp;</span>Подготовка признаков для тестовой выборки</a></span></li><li><span><a href=\"#Проверка-лучшей-модели---логистической-регрессии-на-тестовой-выборке\" data-toc-modified-id=\"Проверка-лучшей-модели---логистической-регрессии-на-тестовой-выборке-3.2\"><span class=\"toc-item-num\">3.2&nbsp;&nbsp;</span>Проверка лучшей модели - логистической регрессии на тестовой выборке</a></span></li><li><span><a href=\"#Проверка-модели-на-адекватность\" data-toc-modified-id=\"Проверка-модели-на-адекватность-3.3\"><span class=\"toc-item-num\">3.3&nbsp;&nbsp;</span>Проверка модели на адекватность</a></span></li></ul></li><li><span><a href=\"#Выводы\" data-toc-modified-id=\"Выводы-4\"><span class=\"toc-item-num\">4&nbsp;&nbsp;</span>Выводы</a></span></li></ul></div>"
   ]
  },
  {
   "cell_type": "markdown",
   "metadata": {},
   "source": [
    "# Поиск токсичных комментариев"
   ]
  },
  {
   "cell_type": "markdown",
   "metadata": {},
   "source": [
    "В рассматриваемой задаче пользователи интренет-магазина могут редактировать и дополнять описания товаров, как в вики-сообществах. То есть клиенты предлагают свои правки и комментируют изменения других. Магазину нужен инструмент, который будет искать токсичные комментарии и отправлять их на модерацию. \n",
    "\n",
    "Требуется создать модель, способную классифицировать комментарии на позитивные и негативные со значением метрики качества *F1* не меньше 0.75. \n"
   ]
  },
  {
   "cell_type": "markdown",
   "metadata": {},
   "source": [
    "## Подготовка"
   ]
  },
  {
   "cell_type": "markdown",
   "metadata": {},
   "source": [
    "### Установка пакетов и импорт библиотек"
   ]
  },
  {
   "cell_type": "code",
   "execution_count": 1,
   "metadata": {},
   "outputs": [
    {
     "name": "stderr",
     "output_type": "stream",
     "text": [
      "[nltk_data] Downloading package stopwords to\n",
      "[nltk_data]     C:\\Users\\MiAir\\AppData\\Roaming\\nltk_data...\n",
      "[nltk_data]   Package stopwords is already up-to-date!\n",
      "[nltk_data] Downloading package wordnet to\n",
      "[nltk_data]     C:\\Users\\MiAir\\AppData\\Roaming\\nltk_data...\n",
      "[nltk_data]   Package wordnet is already up-to-date!\n",
      "[nltk_data] Downloading package averaged_perceptron_tagger to\n",
      "[nltk_data]     C:\\Users\\MiAir\\AppData\\Roaming\\nltk_data...\n",
      "[nltk_data]   Package averaged_perceptron_tagger is already up-to-\n",
      "[nltk_data]       date!\n",
      "[nltk_data] Downloading package punkt to\n",
      "[nltk_data]     C:\\Users\\MiAir\\AppData\\Roaming\\nltk_data...\n",
      "[nltk_data]   Package punkt is already up-to-date!\n",
      "[nltk_data] Downloading package omw-1.4 to\n",
      "[nltk_data]     C:\\Users\\MiAir\\AppData\\Roaming\\nltk_data...\n",
      "[nltk_data]   Package omw-1.4 is already up-to-date!\n"
     ]
    }
   ],
   "source": [
    "import numpy as np\n",
    "import pandas as pd\n",
    "import os\n",
    "import re\n",
    "import matplotlib.pyplot as plt\n",
    "import nltk\n",
    "import joblib\n",
    "from tqdm import notebook\n",
    "from functools import lru_cache\n",
    "\n",
    "from sklearn.model_selection import cross_val_score\n",
    "from sklearn.model_selection import train_test_split\n",
    "\n",
    "from nltk.corpus import stopwords as nltk_stopwords\n",
    "nltk.download('stopwords')\n",
    "stopwords = set(nltk_stopwords.words('english'))\n",
    "\n",
    "from sklearn.feature_extraction.text import TfidfVectorizer\n",
    "\n",
    "from sklearn.linear_model import LogisticRegression\n",
    "from sklearn.tree import DecisionTreeClassifier\n",
    "\n",
    "from sklearn.utils import shuffle\n",
    "from sklearn.metrics import f1_score\n",
    "from sklearn.pipeline import Pipeline\n",
    "from sklearn.metrics import precision_score\n",
    "from sklearn.metrics import recall_score\n",
    "from sklearn.model_selection import GridSearchCV\n",
    "from sklearn.model_selection import cross_val_score\n",
    "from sklearn.metrics import roc_auc_score\n",
    "from sklearn.metrics import roc_curve\n",
    "from sklearn.dummy import DummyClassifier\n",
    "\n",
    "\n",
    "import nltk\n",
    "nltk.download('wordnet')\n",
    "nltk.download('averaged_perceptron_tagger')\n",
    "nltk.download('punkt')\n",
    "nltk.download('omw-1.4')\n",
    "from nltk.stem import WordNetLemmatizer\n",
    "from nltk.corpus import wordnet\n",
    "\n",
    "import torch\n",
    "import transformers as ppb\n",
    "import warnings\n",
    "warnings.filterwarnings('ignore')"
   ]
  },
  {
   "cell_type": "markdown",
   "metadata": {},
   "source": [
    "### Загрузка данных"
   ]
  },
  {
   "cell_type": "code",
   "execution_count": 2,
   "metadata": {},
   "outputs": [],
   "source": [
    "pth1 = '/datasets/toxic_comments.csv'\n",
    "pth2 = 'C:/Users/MiAir/Documents/practicum/sprint_15/toxic_comments.csv'\n",
    "\n",
    "if os.path.exists(pth1):\n",
    "    df = pd.read_csv(pth1)\n",
    "    df_bert = pd.read_csv(pth1)\n",
    "elif os.path.exists(pth2):\n",
    "    df = pd.read_csv(pth2)\n",
    "    df_bert = pd.read_csv(pth2)\n",
    "else:\n",
    "    print('Something is wrong')"
   ]
  },
  {
   "cell_type": "code",
   "execution_count": 3,
   "metadata": {},
   "outputs": [
    {
     "data": {
      "text/html": [
       "<div>\n",
       "<style scoped>\n",
       "    .dataframe tbody tr th:only-of-type {\n",
       "        vertical-align: middle;\n",
       "    }\n",
       "\n",
       "    .dataframe tbody tr th {\n",
       "        vertical-align: top;\n",
       "    }\n",
       "\n",
       "    .dataframe thead th {\n",
       "        text-align: right;\n",
       "    }\n",
       "</style>\n",
       "<table border=\"1\" class=\"dataframe\">\n",
       "  <thead>\n",
       "    <tr style=\"text-align: right;\">\n",
       "      <th></th>\n",
       "      <th>Unnamed: 0</th>\n",
       "      <th>text</th>\n",
       "      <th>toxic</th>\n",
       "    </tr>\n",
       "  </thead>\n",
       "  <tbody>\n",
       "    <tr>\n",
       "      <th>0</th>\n",
       "      <td>0</td>\n",
       "      <td>Explanation\\nWhy the edits made under my usern...</td>\n",
       "      <td>0</td>\n",
       "    </tr>\n",
       "    <tr>\n",
       "      <th>1</th>\n",
       "      <td>1</td>\n",
       "      <td>D'aww! He matches this background colour I'm s...</td>\n",
       "      <td>0</td>\n",
       "    </tr>\n",
       "    <tr>\n",
       "      <th>2</th>\n",
       "      <td>2</td>\n",
       "      <td>Hey man, I'm really not trying to edit war. It...</td>\n",
       "      <td>0</td>\n",
       "    </tr>\n",
       "    <tr>\n",
       "      <th>3</th>\n",
       "      <td>3</td>\n",
       "      <td>\"\\nMore\\nI can't make any real suggestions on ...</td>\n",
       "      <td>0</td>\n",
       "    </tr>\n",
       "    <tr>\n",
       "      <th>4</th>\n",
       "      <td>4</td>\n",
       "      <td>You, sir, are my hero. Any chance you remember...</td>\n",
       "      <td>0</td>\n",
       "    </tr>\n",
       "  </tbody>\n",
       "</table>\n",
       "</div>"
      ],
      "text/plain": [
       "   Unnamed: 0                                               text  toxic\n",
       "0           0  Explanation\\nWhy the edits made under my usern...      0\n",
       "1           1  D'aww! He matches this background colour I'm s...      0\n",
       "2           2  Hey man, I'm really not trying to edit war. It...      0\n",
       "3           3  \"\\nMore\\nI can't make any real suggestions on ...      0\n",
       "4           4  You, sir, are my hero. Any chance you remember...      0"
      ]
     },
     "execution_count": 3,
     "metadata": {},
     "output_type": "execute_result"
    }
   ],
   "source": [
    "df.head()"
   ]
  },
  {
   "cell_type": "code",
   "execution_count": 4,
   "metadata": {},
   "outputs": [
    {
     "name": "stdout",
     "output_type": "stream",
     "text": [
      "<class 'pandas.core.frame.DataFrame'>\n",
      "RangeIndex: 159292 entries, 0 to 159291\n",
      "Data columns (total 3 columns):\n",
      " #   Column      Non-Null Count   Dtype \n",
      "---  ------      --------------   ----- \n",
      " 0   Unnamed: 0  159292 non-null  int64 \n",
      " 1   text        159292 non-null  object\n",
      " 2   toxic       159292 non-null  int64 \n",
      "dtypes: int64(2), object(1)\n",
      "memory usage: 3.6+ MB\n"
     ]
    }
   ],
   "source": [
    "df.info()"
   ]
  },
  {
   "cell_type": "markdown",
   "metadata": {},
   "source": [
    "### Пропуски в данных"
   ]
  },
  {
   "cell_type": "code",
   "execution_count": 5,
   "metadata": {},
   "outputs": [
    {
     "data": {
      "text/plain": [
       "Unnamed: 0    0\n",
       "text          0\n",
       "toxic         0\n",
       "dtype: int64"
      ]
     },
     "execution_count": 5,
     "metadata": {},
     "output_type": "execute_result"
    }
   ],
   "source": [
    "df.isna().sum()"
   ]
  },
  {
   "cell_type": "markdown",
   "metadata": {},
   "source": [
    "### Явные дубликаты"
   ]
  },
  {
   "cell_type": "code",
   "execution_count": 6,
   "metadata": {},
   "outputs": [
    {
     "data": {
      "text/plain": [
       "0"
      ]
     },
     "execution_count": 6,
     "metadata": {},
     "output_type": "execute_result"
    }
   ],
   "source": [
    "df.duplicated().sum()"
   ]
  },
  {
   "cell_type": "markdown",
   "metadata": {},
   "source": [
    "### Аномалии"
   ]
  },
  {
   "cell_type": "code",
   "execution_count": 7,
   "metadata": {},
   "outputs": [
    {
     "data": {
      "image/png": "[encoded data removed]",
      "text/plain": [
       "<Figure size 640x480 with 1 Axes>"
      ]
     },
     "metadata": {},
     "output_type": "display_data"
    }
   ],
   "source": [
    "df['toxic'].hist(bins=10)\n",
    "plt.xlabel('is toxic')\n",
    "plt.ylabel('frequency')\n",
    "plt.title('toxic comments histogramm')\n",
    "plt.show()"
   ]
  },
  {
   "cell_type": "markdown",
   "metadata": {},
   "source": [
    "### Лемматизация и очистка текста"
   ]
  },
  {
   "cell_type": "code",
   "execution_count": 8,
   "metadata": {},
   "outputs": [],
   "source": [
    "lemmatizer = WordNetLemmatizer()\n",
    "@lru_cache(maxsize=50000)\n",
    "def get_wordnet_pos(word):\n",
    "    \"\"\"Map POS tag to first character lemmatize() accepts\"\"\"\n",
    "    tag = nltk.pos_tag([word])[0][1][0].upper()\n",
    "    tag_dict = {\"J\": wordnet.ADJ,\n",
    "                \"N\": wordnet.NOUN,\n",
    "                \"V\": wordnet.VERB,\n",
    "                \"R\": wordnet.ADV}\n",
    "    return tag_dict.get(tag, wordnet.NOUN)\n",
    "\n",
    "def lemm(txt):\n",
    "    word_list = nltk.word_tokenize(txt)\n",
    "    word_list_t = ' '.join([lemmatizer.lemmatize(re.sub(r'[^a-zA-Z]', '', w), get_wordnet_pos(w)) \\\n",
    "                            for w in word_list]).lower().split()\n",
    "    return ' '.join(word_list_t)"
   ]
  },
  {
   "cell_type": "code",
   "execution_count": 9,
   "metadata": {},
   "outputs": [],
   "source": [
    "df['lemm_text'] = df['text'].apply(lemm)"
   ]
  },
  {
   "cell_type": "code",
   "execution_count": 10,
   "metadata": {},
   "outputs": [
    {
     "data": {
      "text/html": [
       "<div>\n",
       "<style scoped>\n",
       "    .dataframe tbody tr th:only-of-type {\n",
       "        vertical-align: middle;\n",
       "    }\n",
       "\n",
       "    .dataframe tbody tr th {\n",
       "        vertical-align: top;\n",
       "    }\n",
       "\n",
       "    .dataframe thead th {\n",
       "        text-align: right;\n",
       "    }\n",
       "</style>\n",
       "<table border=\"1\" class=\"dataframe\">\n",
       "  <thead>\n",
       "    <tr style=\"text-align: right;\">\n",
       "      <th></th>\n",
       "      <th>Unnamed: 0</th>\n",
       "      <th>text</th>\n",
       "      <th>toxic</th>\n",
       "      <th>lemm_text</th>\n",
       "    </tr>\n",
       "  </thead>\n",
       "  <tbody>\n",
       "    <tr>\n",
       "      <th>0</th>\n",
       "      <td>0</td>\n",
       "      <td>Explanation\\nWhy the edits made under my usern...</td>\n",
       "      <td>0</td>\n",
       "      <td>explanation why the edits make under my userna...</td>\n",
       "    </tr>\n",
       "    <tr>\n",
       "      <th>1</th>\n",
       "      <td>1</td>\n",
       "      <td>D'aww! He matches this background colour I'm s...</td>\n",
       "      <td>0</td>\n",
       "      <td>daww he match this background colour i m seemi...</td>\n",
       "    </tr>\n",
       "    <tr>\n",
       "      <th>2</th>\n",
       "      <td>2</td>\n",
       "      <td>Hey man, I'm really not trying to edit war. It...</td>\n",
       "      <td>0</td>\n",
       "      <td>hey man i m really not try to edit war it s ju...</td>\n",
       "    </tr>\n",
       "    <tr>\n",
       "      <th>3</th>\n",
       "      <td>3</td>\n",
       "      <td>\"\\nMore\\nI can't make any real suggestions on ...</td>\n",
       "      <td>0</td>\n",
       "      <td>more i ca nt make any real suggestion on impro...</td>\n",
       "    </tr>\n",
       "    <tr>\n",
       "      <th>4</th>\n",
       "      <td>4</td>\n",
       "      <td>You, sir, are my hero. Any chance you remember...</td>\n",
       "      <td>0</td>\n",
       "      <td>you sir be my hero any chance you remember wha...</td>\n",
       "    </tr>\n",
       "  </tbody>\n",
       "</table>\n",
       "</div>"
      ],
      "text/plain": [
       "   Unnamed: 0                                               text  toxic  \\\n",
       "0           0  Explanation\\nWhy the edits made under my usern...      0   \n",
       "1           1  D'aww! He matches this background colour I'm s...      0   \n",
       "2           2  Hey man, I'm really not trying to edit war. It...      0   \n",
       "3           3  \"\\nMore\\nI can't make any real suggestions on ...      0   \n",
       "4           4  You, sir, are my hero. Any chance you remember...      0   \n",
       "\n",
       "                                           lemm_text  \n",
       "0  explanation why the edits make under my userna...  \n",
       "1  daww he match this background colour i m seemi...  \n",
       "2  hey man i m really not try to edit war it s ju...  \n",
       "3  more i ca nt make any real suggestion on impro...  \n",
       "4  you sir be my hero any chance you remember wha...  "
      ]
     },
     "execution_count": 10,
     "metadata": {},
     "output_type": "execute_result"
    }
   ],
   "source": [
    "df.head()"
   ]
  },
  {
   "cell_type": "markdown",
   "metadata": {},
   "source": [
    "### Удаление неинформативного столбца"
   ]
  },
  {
   "cell_type": "code",
   "execution_count": 11,
   "metadata": {},
   "outputs": [],
   "source": [
    "df = df.drop('Unnamed: 0', axis=1)"
   ]
  },
  {
   "cell_type": "markdown",
   "metadata": {},
   "source": [
    "### Баланс значений  таргета"
   ]
  },
  {
   "cell_type": "code",
   "execution_count": 12,
   "metadata": {},
   "outputs": [
    {
     "name": "stdout",
     "output_type": "stream",
     "text": [
      "Значение 1 в столбце toxic имеет 10.2% датасета\n",
      "Значение 0 в столбце toxic имеет 89.8% датасета\n"
     ]
    }
   ],
   "source": [
    "print(f\"Значение 1 в столбце toxic имеет {df['toxic'].sum() / df.shape[0]:.1%} датасета\")\n",
    "print(f\"Значение 0 в столбце toxic имеет {1 - df['toxic'].sum() / df.shape[0]:.1%} датасета\")"
   ]
  },
  {
   "cell_type": "markdown",
   "metadata": {},
   "source": [
    "### Деление данных на выборки"
   ]
  },
  {
   "cell_type": "code",
   "execution_count": 13,
   "metadata": {},
   "outputs": [],
   "source": [
    "df_train, df_test = train_test_split(df, test_size=.25, random_state=2606)"
   ]
  },
  {
   "cell_type": "markdown",
   "metadata": {},
   "source": [
    "### Подготовка признаков"
   ]
  },
  {
   "cell_type": "code",
   "execution_count": 14,
   "metadata": {},
   "outputs": [],
   "source": [
    "features_train = df_train['lemm_text']\n",
    "target_train = df_train['toxic']\n",
    "features_test = df_test['lemm_text']\n",
    "target_test = df_test['toxic']"
   ]
  },
  {
   "cell_type": "markdown",
   "metadata": {},
   "source": [
    "### Выводы по предобработке данных\n",
    "\n",
    "- пропусков в даннных нет\n",
    "- явных дубликатов нет\n",
    "- аномалий нет: значение таргета либо 0, либо 1\n",
    "- выполнена лемматизация столбцов с текстом\n",
    "- выполнено деление данных на выборки: train = 75%, test - 25%\n",
    "- при подготовке признаков с помощью tf-idf будут рассматриваться отдельные слова, поскольку кажется, что токсичность комментария можно определить по одному слову\n",
    "- таргет разбалансирован, что нужно будет учесть при обучении моделей"
   ]
  },
  {
   "cell_type": "markdown",
   "metadata": {},
   "source": [
    "## Обучение"
   ]
  },
  {
   "cell_type": "markdown",
   "metadata": {},
   "source": [
    "### Функции для предсказаний и построения ROC кривой (для модели и для пайплайна)"
   ]
  },
  {
   "cell_type": "code",
   "execution_count": 15,
   "metadata": {},
   "outputs": [],
   "source": [
    "def roc(features_train, target_train, features_true, target_true, model):\n",
    "    model.fit(features_train, target_train)\n",
    "    predictions = model.predict(features_true)\n",
    "    probabilities = model.predict_proba(features_true)\n",
    "    probabilities_one = probabilities[:, 1]\n",
    "    print(f'F1 = {round(f1_score(target_true, predictions),2)}')\n",
    "    print(f'precision = {round(precision_score(target_true, predictions),2)}')\n",
    "    print(f'recall = {round(recall_score(target_true, predictions),2)}')\n",
    "    print(f'AUC-ROC = {round(roc_auc_score(target_true, probabilities_one),2)}')\n",
    "    print('\\n')\n",
    "    fpr, tpr, thresholds = roc_curve(target_true, probabilities_one)\n",
    "    plt.plot(fpr, tpr)\n",
    "    plt.xlim(0,1)\n",
    "    plt.ylim(0,1)\n",
    "    plt.xlabel('False Positive Rate')\n",
    "    plt.ylabel('True Positive Rate')\n",
    "    plt.title(model)"
   ]
  },
  {
   "cell_type": "code",
   "execution_count": 16,
   "metadata": {},
   "outputs": [],
   "source": [
    "def roc_p(features_true, target_true, pipe):\n",
    "    predictions = pipe.predict(features_true)\n",
    "    probabilities = pipe.predict_proba(features_true)\n",
    "    probabilities_one = probabilities[:, 1]\n",
    "    print(f'F1 = {round(f1_score(target_true, predictions),2)}')\n",
    "    print(f'precision = {round(precision_score(target_true, predictions),2)}')\n",
    "    print(f'recall = {round(recall_score(target_true, predictions),2)}')\n",
    "    print(f'AUC-ROC = {round(roc_auc_score(target_true, probabilities_one),2)}')\n",
    "    print('\\n')\n",
    "    fpr, tpr, thresholds = roc_curve(target_true, probabilities_one)\n",
    "    plt.plot(fpr, tpr)\n",
    "    plt.xlim(0,1)\n",
    "    plt.ylim(0,1)\n",
    "    plt.xlabel('False Positive Rate')\n",
    "    plt.ylabel('True Positive Rate')\n",
    "    plt.title(pipe)"
   ]
  },
  {
   "cell_type": "markdown",
   "metadata": {},
   "source": [
    "### Функция для работы с параметрами в pipeline"
   ]
  },
  {
   "cell_type": "code",
   "execution_count": 17,
   "metadata": {},
   "outputs": [],
   "source": [
    "def par_dict(d, word):\n",
    "    new_dict = {}\n",
    "    values = list(d.values())\n",
    "    keys = list(d.keys())\n",
    "    for i in range(len(keys)):\n",
    "        new_dict[keys[i].replace(word, '')] = values[i]\n",
    "    return new_dict"
   ]
  },
  {
   "cell_type": "markdown",
   "metadata": {},
   "source": [
    "### Решающее дерево"
   ]
  },
  {
   "cell_type": "code",
   "execution_count": 19,
   "metadata": {},
   "outputs": [
    {
     "name": "stdout",
     "output_type": "stream",
     "text": [
      "BEST PARAMETERS {'class_weight': 'balanced', 'max_depth': 9, 'min_samples_leaf': 4}\n",
      "F1 = 0.45\n"
     ]
    }
   ],
   "source": [
    "counter = TfidfVectorizer()#(stop_words=stopwords)\n",
    "classifier = DecisionTreeClassifier()\n",
    "\n",
    "pipe_tree = Pipeline(steps=[(\"counter\", counter), (\"tree\", classifier)])\n",
    "\n",
    "parameters_tree = {'tree__max_depth': range (9, 11, 2),\n",
    "              'tree__min_samples_leaf': range (2,5,2),\n",
    "             'tree__class_weight': ['balanced']}\n",
    "\n",
    "search = GridSearchCV(estimator=pipe_tree, param_grid=parameters_tree, n_jobs=-1, scoring='f1', cv=3) #, verbose=10)\n",
    "search.fit(features_train, target_train)\n",
    "\n",
    "best_tree_parameters = par_dict(search.best_params_, 'tree__')\n",
    "best_tree = DecisionTreeClassifier(**best_tree_parameters, random_state=2606)\n",
    "joblib.dump(best_tree, 'best_tree.joblib')\n",
    "joblib.dump(search.best_estimator_, 'tree.pkl', compress = 1)\n",
    "print('BEST PARAMETERS', best_tree_parameters)\n",
    "print('F1 =', round(search.best_score_, 2))"
   ]
  },
  {
   "cell_type": "markdown",
   "metadata": {},
   "source": [
    "### Логистическая регрессия"
   ]
  },
  {
   "cell_type": "code",
   "execution_count": 21,
   "metadata": {},
   "outputs": [
    {
     "name": "stdout",
     "output_type": "stream",
     "text": [
      "BEST PARAMETERS {'C': 1, 'class_weight': 'balanced', 'max_iter': 50, 'solver': 'liblinear'}\n",
      "F1 = 0.74\n"
     ]
    }
   ],
   "source": [
    "counter = TfidfVectorizer()#(stop_words=stopwords)\n",
    "classifier = LogisticRegression()\n",
    "\n",
    "pipe_log = Pipeline(steps=[(\"counter\", counter), (\"log\", classifier)])\n",
    "\n",
    "parameters_log = { 'log__solver': ['liblinear'],#, 'lbfgs'],\n",
    "              'log__max_iter': range (50, 100, 50),\n",
    "             'log__class_weight': ['balanced'],\n",
    "                 'log__C': [.25, .5, .75, 1]}\n",
    "\n",
    "search = GridSearchCV(estimator=pipe_log, param_grid=parameters_log, n_jobs=-1, scoring='f1', cv=5)#, verbose=10)\n",
    "search.fit(features_train, target_train)\n",
    "\n",
    "best_log_parameters = par_dict(search.best_params_, 'log__')\n",
    "best_log = LogisticRegression(**best_log_parameters, random_state=2606)\n",
    "joblib.dump(best_log, 'best_log.joblib')\n",
    "joblib.dump(search.best_estimator_, 'log_regr.pkl', compress = 1)\n",
    "print('BEST PARAMETERS', best_log_parameters)\n",
    "print('F1 =', round(search.best_score_, 2))"
   ]
  },
  {
   "cell_type": "markdown",
   "metadata": {},
   "source": [
    "## Тестирование"
   ]
  },
  {
   "cell_type": "markdown",
   "metadata": {},
   "source": [
    "### Подготовка признаков для тестовой выборки"
   ]
  },
  {
   "cell_type": "code",
   "execution_count": 23,
   "metadata": {},
   "outputs": [],
   "source": [
    "counter = TfidfVectorizer()#(stop_words=stopwords)\n",
    "tf_idf_train = counter.fit_transform(df_train['lemm_text'])\n",
    "tf_idf_test = counter.transform(df_test['lemm_text']) \n",
    "features_test = tf_idf_test\n",
    "target_test = df_test['toxic']\n",
    "features_train = tf_idf_train\n",
    "target_train = df_train['toxic']"
   ]
  },
  {
   "cell_type": "markdown",
   "metadata": {},
   "source": [
    "### Проверка лучшей модели - логистической регрессии на тестовой выборке"
   ]
  },
  {
   "cell_type": "code",
   "execution_count": 24,
   "metadata": {},
   "outputs": [
    {
     "name": "stdout",
     "output_type": "stream",
     "text": [
      "F1 = 0.74\n",
      "precision = 0.65\n",
      "recall = 0.87\n",
      "AUC-ROC = 0.97\n",
      "\n",
      "\n"
     ]
    },
    {
     "data": {
      "image/png": "[encoded data removed]",
      "text/plain": [
       "<Figure size 640x480 with 1 Axes>"
      ]
     },
     "metadata": {},
     "output_type": "display_data"
    }
   ],
   "source": [
    "roc(features_train, target_train, features_test, target_test, joblib.load('best_log.joblib'))\n",
    "#roc_p(features_test, target_test, joblib.load('log_regr.pkl'))"
   ]
  },
  {
   "cell_type": "markdown",
   "metadata": {},
   "source": [
    "### Проверка модели на адекватность"
   ]
  },
  {
   "cell_type": "code",
   "execution_count": 25,
   "metadata": {},
   "outputs": [
    {
     "name": "stdout",
     "output_type": "stream",
     "text": [
      "F1 = 0.18\n",
      "precision = 0.1\n",
      "recall = 1.0\n",
      "AUC-ROC = 0.5\n",
      "\n",
      "\n"
     ]
    },
    {
     "data": {
      "image/png": "[encoded data removed]",
      "text/plain": [
       "<Figure size 640x480 with 1 Axes>"
      ]
     },
     "metadata": {},
     "output_type": "display_data"
    }
   ],
   "source": [
    "dummy = DummyClassifier(strategy=\"constant\", constant=1)\n",
    "roc(features_train, target_train, features_test, target_test, dummy)"
   ]
  },
  {
   "cell_type": "markdown",
   "metadata": {},
   "source": [
    "## Выводы"
   ]
  },
  {
   "cell_type": "markdown",
   "metadata": {},
   "source": [
    "\n",
    "\n",
    "- выполнена предобработка данных\n",
    "- данные поделены на выборки\n",
    "- сформированы матрицы признаков пр помощи tf-idf\n",
    "- рассмотрены модели решающего дерева и логистической регрессии, выбрана лучшая модель - логистическая регрессия - со значением метрики F1 = 0.75\n",
    "- на тестовой выборке значение F1 составило 0.74, что удовлетворяет требованиям задания\n",
    "- модель проверена на адекватность"
   ]
  },
  {
   "cell_type": "code",
   "execution_count": null,
   "metadata": {},
   "outputs": [],
   "source": []
  }
 ],
 "metadata": {
  "ExecuteTimeLog": [
   {
    "duration": 451,
    "start_time": "2023-06-20T10:25:49.647Z"
   },
   {
    "duration": 135,
    "start_time": "2023-06-20T10:26:12.791Z"
   },
   {
    "duration": 86,
    "start_time": "2023-06-20T10:26:24.010Z"
   },
   {
    "duration": 3662,
    "start_time": "2023-06-20T10:26:44.006Z"
   },
   {
    "duration": 15,
    "start_time": "2023-06-20T10:26:53.664Z"
   },
   {
    "duration": 1015,
    "start_time": "2023-06-21T22:06:41.943Z"
   },
   {
    "duration": 2458,
    "start_time": "2023-06-21T22:06:51.015Z"
   },
   {
    "duration": 12,
    "start_time": "2023-06-21T22:07:09.511Z"
   },
   {
    "duration": 22,
    "start_time": "2023-06-21T22:07:32.130Z"
   },
   {
    "duration": 239,
    "start_time": "2023-06-21T22:08:32.012Z"
   },
   {
    "duration": 7,
    "start_time": "2023-06-21T22:08:53.671Z"
   },
   {
    "duration": 17,
    "start_time": "2023-06-21T22:09:07.463Z"
   },
   {
    "duration": 112,
    "start_time": "2023-06-21T22:13:32.027Z"
   },
   {
    "duration": 4,
    "start_time": "2023-06-21T22:13:35.880Z"
   },
   {
    "duration": 851,
    "start_time": "2023-06-21T22:13:37.488Z"
   },
   {
    "duration": 7,
    "start_time": "2023-06-21T22:13:40.614Z"
   },
   {
    "duration": 30,
    "start_time": "2023-06-21T22:13:43.179Z"
   },
   {
    "duration": 258,
    "start_time": "2023-06-21T22:13:44.458Z"
   },
   {
    "duration": 1136,
    "start_time": "2023-06-21T22:14:12.974Z"
   },
   {
    "duration": 50,
    "start_time": "2023-06-21T22:14:34.499Z"
   },
   {
    "duration": 181,
    "start_time": "2023-06-21T22:14:49.474Z"
   },
   {
    "duration": 122,
    "start_time": "2023-06-21T22:16:41.453Z"
   },
   {
    "duration": 4,
    "start_time": "2023-06-21T22:23:30.580Z"
   },
   {
    "duration": 11,
    "start_time": "2023-06-21T22:25:22.650Z"
   },
   {
    "duration": 2,
    "start_time": "2023-06-21T22:32:45.075Z"
   },
   {
    "duration": 909,
    "start_time": "2023-06-21T22:33:33.488Z"
   },
   {
    "duration": 3,
    "start_time": "2023-06-21T22:34:08.329Z"
   },
   {
    "duration": 4,
    "start_time": "2023-06-21T22:34:08.970Z"
   },
   {
    "duration": 3,
    "start_time": "2023-06-21T22:34:16.113Z"
   },
   {
    "duration": 3,
    "start_time": "2023-06-21T22:34:17.323Z"
   },
   {
    "duration": 3,
    "start_time": "2023-06-21T22:37:44.743Z"
   },
   {
    "duration": 26,
    "start_time": "2023-06-21T22:37:48.048Z"
   },
   {
    "duration": 25,
    "start_time": "2023-06-21T22:38:18.241Z"
   },
   {
    "duration": 950,
    "start_time": "2023-06-21T22:38:19.194Z"
   },
   {
    "duration": 8,
    "start_time": "2023-06-21T22:38:20.147Z"
   },
   {
    "duration": 30,
    "start_time": "2023-06-21T22:38:20.236Z"
   },
   {
    "duration": 26,
    "start_time": "2023-06-21T22:38:21.521Z"
   },
   {
    "duration": 254,
    "start_time": "2023-06-21T22:38:22.723Z"
   },
   {
    "duration": 134,
    "start_time": "2023-06-21T22:38:24.122Z"
   },
   {
    "duration": 3,
    "start_time": "2023-06-21T22:38:25.712Z"
   },
   {
    "duration": 672,
    "start_time": "2023-06-21T22:38:27.523Z"
   },
   {
    "duration": 160,
    "start_time": "2023-06-21T22:38:52.374Z"
   },
   {
    "duration": 33,
    "start_time": "2023-06-21T22:41:01.168Z"
   },
   {
    "duration": 123,
    "start_time": "2023-06-21T22:41:07.443Z"
   },
   {
    "duration": 130,
    "start_time": "2023-06-21T22:42:33.511Z"
   },
   {
    "duration": 1890,
    "start_time": "2023-06-22T20:16:20.102Z"
   },
   {
    "duration": 4913,
    "start_time": "2023-06-22T20:16:21.995Z"
   },
   {
    "duration": 11,
    "start_time": "2023-06-22T20:16:26.911Z"
   },
   {
    "duration": 35,
    "start_time": "2023-06-22T20:16:26.923Z"
   },
   {
    "duration": 32,
    "start_time": "2023-06-22T20:16:26.960Z"
   },
   {
    "duration": 258,
    "start_time": "2023-06-22T20:16:26.994Z"
   },
   {
    "duration": 191,
    "start_time": "2023-06-22T20:16:27.254Z"
   },
   {
    "duration": 3,
    "start_time": "2023-06-22T20:16:27.447Z"
   },
   {
    "duration": 761,
    "start_time": "2023-06-22T20:16:27.451Z"
   },
   {
    "duration": 6,
    "start_time": "2023-06-22T20:16:28.214Z"
   },
   {
    "duration": 11,
    "start_time": "2023-06-22T20:16:28.222Z"
   },
   {
    "duration": 153,
    "start_time": "2023-06-22T20:16:28.235Z"
   },
   {
    "duration": 104980,
    "start_time": "2023-06-22T20:17:27.696Z"
   },
   {
    "duration": 13,
    "start_time": "2023-06-22T20:19:49.908Z"
   },
   {
    "duration": 3,
    "start_time": "2023-06-22T20:22:34.748Z"
   },
   {
    "duration": 13,
    "start_time": "2023-06-22T20:22:36.699Z"
   },
   {
    "duration": 107025,
    "start_time": "2023-06-22T20:22:38.322Z"
   },
   {
    "duration": 92400,
    "start_time": "2023-06-22T21:13:53.997Z"
   },
   {
    "duration": 11,
    "start_time": "2023-06-22T21:15:26.399Z"
   },
   {
    "duration": 15,
    "start_time": "2023-06-22T21:27:42.427Z"
   },
   {
    "duration": 21,
    "start_time": "2023-06-22T21:27:52.356Z"
   },
   {
    "duration": 29,
    "start_time": "2023-06-22T21:28:06.305Z"
   },
   {
    "duration": 8,
    "start_time": "2023-06-22T21:28:14.119Z"
   },
   {
    "duration": 535,
    "start_time": "2023-06-22T21:30:13.056Z"
   },
   {
    "duration": 1020,
    "start_time": "2023-06-22T21:30:23.513Z"
   },
   {
    "duration": 15,
    "start_time": "2023-06-22T21:30:26.197Z"
   },
   {
    "duration": 38,
    "start_time": "2023-06-22T21:30:28.095Z"
   },
   {
    "duration": 27,
    "start_time": "2023-06-22T21:30:30.110Z"
   },
   {
    "duration": 264,
    "start_time": "2023-06-22T21:30:31.111Z"
   },
   {
    "duration": 176,
    "start_time": "2023-06-22T21:30:32.082Z"
   },
   {
    "duration": 9,
    "start_time": "2023-06-22T21:30:34.792Z"
   },
   {
    "duration": 106372,
    "start_time": "2023-06-22T21:30:35.135Z"
   },
   {
    "duration": 15,
    "start_time": "2023-06-22T21:32:21.514Z"
   },
   {
    "duration": 103,
    "start_time": "2023-06-22T21:36:09.456Z"
   },
   {
    "duration": 81,
    "start_time": "2023-06-22T21:36:11.716Z"
   },
   {
    "duration": 2012,
    "start_time": "2023-06-22T21:38:35.162Z"
   },
   {
    "duration": 5223,
    "start_time": "2023-06-22T21:38:40.103Z"
   },
   {
    "duration": 11,
    "start_time": "2023-06-22T21:38:45.328Z"
   },
   {
    "duration": 38,
    "start_time": "2023-06-22T21:38:47.120Z"
   },
   {
    "duration": 31,
    "start_time": "2023-06-22T21:38:49.441Z"
   },
   {
    "duration": 279,
    "start_time": "2023-06-22T21:38:51.058Z"
   },
   {
    "duration": 188,
    "start_time": "2023-06-22T21:38:53.003Z"
   },
   {
    "duration": 7,
    "start_time": "2023-06-22T21:38:54.896Z"
   },
   {
    "duration": 118128,
    "start_time": "2023-06-22T21:38:56.397Z"
   },
   {
    "duration": 12,
    "start_time": "2023-06-22T21:40:54.528Z"
   },
   {
    "duration": 49,
    "start_time": "2023-06-22T21:41:12.748Z"
   },
   {
    "duration": 7,
    "start_time": "2023-06-22T21:41:13.907Z"
   },
   {
    "duration": 60,
    "start_time": "2023-06-22T21:41:19.423Z"
   },
   {
    "duration": 91,
    "start_time": "2023-06-22T21:53:21.449Z"
   },
   {
    "duration": 2849,
    "start_time": "2023-06-22T21:53:32.823Z"
   },
   {
    "duration": 5870,
    "start_time": "2023-06-22T21:53:35.677Z"
   },
   {
    "duration": 12,
    "start_time": "2023-06-22T21:53:41.549Z"
   },
   {
    "duration": 47,
    "start_time": "2023-06-22T21:53:41.562Z"
   },
   {
    "duration": 40,
    "start_time": "2023-06-22T21:53:41.615Z"
   },
   {
    "duration": 312,
    "start_time": "2023-06-22T21:53:41.657Z"
   },
   {
    "duration": 190,
    "start_time": "2023-06-22T21:53:41.974Z"
   },
   {
    "duration": 10,
    "start_time": "2023-06-22T21:53:42.167Z"
   },
   {
    "duration": 125415,
    "start_time": "2023-06-22T21:53:42.181Z"
   },
   {
    "duration": 19,
    "start_time": "2023-06-22T21:55:47.602Z"
   },
   {
    "duration": 43,
    "start_time": "2023-06-22T21:55:47.626Z"
   },
   {
    "duration": 14,
    "start_time": "2023-06-22T21:55:47.682Z"
   },
   {
    "duration": 65,
    "start_time": "2023-06-22T21:55:47.697Z"
   },
   {
    "duration": 74,
    "start_time": "2023-06-22T21:56:44.570Z"
   },
   {
    "duration": 2071,
    "start_time": "2023-06-22T21:59:58.827Z"
   },
   {
    "duration": 5133,
    "start_time": "2023-06-22T22:00:00.901Z"
   },
   {
    "duration": 13,
    "start_time": "2023-06-22T22:00:06.036Z"
   },
   {
    "duration": 64,
    "start_time": "2023-06-22T22:00:06.050Z"
   },
   {
    "duration": 34,
    "start_time": "2023-06-22T22:00:06.116Z"
   },
   {
    "duration": 293,
    "start_time": "2023-06-22T22:00:06.151Z"
   },
   {
    "duration": 192,
    "start_time": "2023-06-22T22:00:06.445Z"
   },
   {
    "duration": 6,
    "start_time": "2023-06-22T22:00:06.639Z"
   },
   {
    "duration": 2003,
    "start_time": "2023-06-22T22:02:02.894Z"
   },
   {
    "duration": 1075,
    "start_time": "2023-06-22T22:02:06.791Z"
   },
   {
    "duration": 13,
    "start_time": "2023-06-22T22:02:07.868Z"
   },
   {
    "duration": 48,
    "start_time": "2023-06-22T22:02:08.858Z"
   },
   {
    "duration": 62,
    "start_time": "2023-06-22T22:02:09.763Z"
   },
   {
    "duration": 287,
    "start_time": "2023-06-22T22:02:10.658Z"
   },
   {
    "duration": 201,
    "start_time": "2023-06-22T22:02:11.899Z"
   },
   {
    "duration": 9,
    "start_time": "2023-06-22T22:02:12.697Z"
   },
   {
    "duration": 108502,
    "start_time": "2023-06-22T22:02:13.100Z"
   },
   {
    "duration": 15,
    "start_time": "2023-06-22T22:04:37.868Z"
   },
   {
    "duration": 46,
    "start_time": "2023-06-22T22:04:39.196Z"
   },
   {
    "duration": 12,
    "start_time": "2023-06-22T22:04:40.597Z"
   },
   {
    "duration": 50,
    "start_time": "2023-06-22T22:04:41.898Z"
   },
   {
    "duration": 143,
    "start_time": "2023-06-22T22:04:43.638Z"
   },
   {
    "duration": 1978,
    "start_time": "2023-06-22T22:16:47.096Z"
   },
   {
    "duration": 5363,
    "start_time": "2023-06-22T22:16:49.076Z"
   },
   {
    "duration": 12,
    "start_time": "2023-06-22T22:16:54.440Z"
   },
   {
    "duration": 42,
    "start_time": "2023-06-22T22:16:54.453Z"
   },
   {
    "duration": 36,
    "start_time": "2023-06-22T22:16:54.497Z"
   },
   {
    "duration": 285,
    "start_time": "2023-06-22T22:16:54.535Z"
   },
   {
    "duration": 175,
    "start_time": "2023-06-22T22:16:54.827Z"
   },
   {
    "duration": 3,
    "start_time": "2023-06-22T22:16:55.004Z"
   },
   {
    "duration": 110442,
    "start_time": "2023-06-22T22:16:55.009Z"
   },
   {
    "duration": 9,
    "start_time": "2023-06-22T22:18:45.453Z"
   },
   {
    "duration": 63,
    "start_time": "2023-06-22T22:18:45.468Z"
   },
   {
    "duration": 4,
    "start_time": "2023-06-22T22:18:45.533Z"
   },
   {
    "duration": 42,
    "start_time": "2023-06-22T22:18:45.539Z"
   },
   {
    "duration": 115,
    "start_time": "2023-06-22T22:19:25.399Z"
   },
   {
    "duration": 6655,
    "start_time": "2023-06-22T22:19:38.429Z"
   },
   {
    "duration": 155,
    "start_time": "2023-06-22T22:20:10.391Z"
   },
   {
    "duration": 7293,
    "start_time": "2023-06-22T22:23:42.201Z"
   },
   {
    "duration": 2823,
    "start_time": "2023-06-22T22:23:57.689Z"
   },
   {
    "duration": 25,
    "start_time": "2023-06-22T22:35:35.903Z"
   },
   {
    "duration": 1959,
    "start_time": "2023-06-23T09:13:20.129Z"
   },
   {
    "duration": 130,
    "start_time": "2023-06-23T09:16:17.324Z"
   },
   {
    "duration": 9,
    "start_time": "2023-06-23T09:18:37.528Z"
   },
   {
    "duration": 2551,
    "start_time": "2023-06-23T09:18:37.539Z"
   },
   {
    "duration": 11,
    "start_time": "2023-06-23T09:18:40.092Z"
   },
   {
    "duration": 39,
    "start_time": "2023-06-23T09:18:40.105Z"
   },
   {
    "duration": 34,
    "start_time": "2023-06-23T09:18:40.147Z"
   },
   {
    "duration": 273,
    "start_time": "2023-06-23T09:18:40.183Z"
   },
   {
    "duration": 258,
    "start_time": "2023-06-23T09:18:40.458Z"
   },
   {
    "duration": 4,
    "start_time": "2023-06-23T09:18:40.718Z"
   },
   {
    "duration": 112547,
    "start_time": "2023-06-23T09:18:40.723Z"
   },
   {
    "duration": 9,
    "start_time": "2023-06-23T09:20:33.272Z"
   },
   {
    "duration": 56,
    "start_time": "2023-06-23T09:20:33.283Z"
   },
   {
    "duration": 5,
    "start_time": "2023-06-23T09:20:33.341Z"
   },
   {
    "duration": 63,
    "start_time": "2023-06-23T09:20:33.355Z"
   },
   {
    "duration": 4596,
    "start_time": "2023-06-23T09:20:33.421Z"
   },
   {
    "duration": 1563,
    "start_time": "2023-06-23T09:20:38.019Z"
   },
   {
    "duration": 5,
    "start_time": "2023-06-23T09:21:04.849Z"
   },
   {
    "duration": 379280,
    "start_time": "2023-06-23T09:21:11.932Z"
   },
   {
    "duration": 43,
    "start_time": "2023-06-23T09:28:11.920Z"
   },
   {
    "duration": 4359,
    "start_time": "2023-06-23T09:28:12.959Z"
   },
   {
    "duration": 1791,
    "start_time": "2023-06-23T09:28:26.521Z"
   },
   {
    "duration": 5,
    "start_time": "2023-06-23T09:28:31.724Z"
   },
   {
    "duration": 168237,
    "start_time": "2023-06-23T09:28:49.132Z"
   },
   {
    "duration": 7,
    "start_time": "2023-06-23T09:32:19.711Z"
   },
   {
    "duration": 173214,
    "start_time": "2023-06-23T09:33:00.828Z"
   },
   {
    "duration": 5,
    "start_time": "2023-06-23T09:37:17.032Z"
   },
   {
    "duration": 175704,
    "start_time": "2023-06-23T09:38:18.870Z"
   },
   {
    "duration": 241618,
    "start_time": "2023-06-23T09:43:49.569Z"
   },
   {
    "duration": 168009,
    "start_time": "2023-06-23T09:49:24.066Z"
   },
   {
    "duration": 67,
    "start_time": "2023-06-23T09:57:27.916Z"
   },
   {
    "duration": 9,
    "start_time": "2023-06-23T09:57:58.300Z"
   },
   {
    "duration": 23,
    "start_time": "2023-06-23T10:03:00.403Z"
   },
   {
    "duration": 5812,
    "start_time": "2023-06-23T10:04:58.152Z"
   },
   {
    "duration": 3279,
    "start_time": "2023-06-23T10:05:45.720Z"
   },
   {
    "duration": 2330,
    "start_time": "2023-06-23T11:53:57.074Z"
   },
   {
    "duration": 4427,
    "start_time": "2023-06-23T11:53:59.407Z"
   },
   {
    "duration": 25,
    "start_time": "2023-06-23T11:54:03.836Z"
   },
   {
    "duration": 36,
    "start_time": "2023-06-23T11:54:03.864Z"
   },
   {
    "duration": 66,
    "start_time": "2023-06-23T11:54:03.901Z"
   },
   {
    "duration": 252,
    "start_time": "2023-06-23T11:54:03.969Z"
   },
   {
    "duration": 185,
    "start_time": "2023-06-23T11:54:04.223Z"
   },
   {
    "duration": 15,
    "start_time": "2023-06-23T11:54:04.415Z"
   },
   {
    "duration": 122953,
    "start_time": "2023-06-23T11:54:04.438Z"
   },
   {
    "duration": 9,
    "start_time": "2023-06-23T11:56:07.395Z"
   },
   {
    "duration": 62,
    "start_time": "2023-06-23T11:56:07.421Z"
   },
   {
    "duration": 5,
    "start_time": "2023-06-23T11:56:07.484Z"
   },
   {
    "duration": 63,
    "start_time": "2023-06-23T11:56:07.490Z"
   },
   {
    "duration": 173,
    "start_time": "2023-06-23T11:56:07.555Z"
   },
   {
    "duration": 0,
    "start_time": "2023-06-23T11:56:07.730Z"
   },
   {
    "duration": 0,
    "start_time": "2023-06-23T11:56:07.731Z"
   },
   {
    "duration": 0,
    "start_time": "2023-06-23T11:56:07.732Z"
   },
   {
    "duration": 57,
    "start_time": "2023-06-23T11:57:09.158Z"
   },
   {
    "duration": 6929,
    "start_time": "2023-06-23T11:57:11.866Z"
   },
   {
    "duration": 2247,
    "start_time": "2023-06-23T11:57:32.238Z"
   },
   {
    "duration": 4,
    "start_time": "2023-06-23T11:57:37.365Z"
   },
   {
    "duration": 172403,
    "start_time": "2023-06-23T11:58:01.957Z"
   },
   {
    "duration": 121915,
    "start_time": "2023-06-23T12:01:03.540Z"
   },
   {
    "duration": 3657644,
    "start_time": "2023-06-23T12:03:21.343Z"
   },
   {
    "duration": 1851884,
    "start_time": "2023-06-23T13:59:59.458Z"
   },
   {
    "duration": 10,
    "start_time": "2023-06-23T14:30:59.721Z"
   },
   {
    "duration": 213169,
    "start_time": "2023-06-23T14:36:34.391Z"
   },
   {
    "duration": 174735,
    "start_time": "2023-06-23T14:40:18.457Z"
   },
   {
    "duration": 5,
    "start_time": "2023-06-23T14:44:15.002Z"
   },
   {
    "duration": 38,
    "start_time": "2023-06-23T14:44:16.205Z"
   },
   {
    "duration": 228,
    "start_time": "2023-06-23T14:45:08.468Z"
   },
   {
    "duration": 4,
    "start_time": "2023-06-23T14:45:14.403Z"
   },
   {
    "duration": 30,
    "start_time": "2023-06-23T14:45:14.931Z"
   },
   {
    "duration": 5,
    "start_time": "2023-06-23T14:46:58.746Z"
   },
   {
    "duration": 13,
    "start_time": "2023-06-23T14:48:48.311Z"
   },
   {
    "duration": 10,
    "start_time": "2023-06-23T14:49:00.538Z"
   },
   {
    "duration": 22,
    "start_time": "2023-06-23T14:49:11.437Z"
   },
   {
    "duration": 508047,
    "start_time": "2023-06-23T14:52:50.503Z"
   },
   {
    "duration": 723087,
    "start_time": "2023-06-23T15:01:37.005Z"
   },
   {
    "duration": 1796,
    "start_time": "2023-06-23T15:14:26.829Z"
   },
   {
    "duration": 1432,
    "start_time": "2023-06-23T15:14:32.357Z"
   },
   {
    "duration": 59,
    "start_time": "2023-06-23T15:14:47.932Z"
   },
   {
    "duration": 13,
    "start_time": "2023-06-23T15:15:07.834Z"
   },
   {
    "duration": 5,
    "start_time": "2023-06-23T15:15:23.998Z"
   },
   {
    "duration": 4,
    "start_time": "2023-06-23T15:15:31.952Z"
   },
   {
    "duration": 32,
    "start_time": "2023-06-23T15:15:55.909Z"
   },
   {
    "duration": 13505,
    "start_time": "2023-06-23T15:16:00.428Z"
   },
   {
    "duration": 23551,
    "start_time": "2023-06-23T15:19:25.879Z"
   },
   {
    "duration": 12964,
    "start_time": "2023-06-23T15:20:17.729Z"
   },
   {
    "duration": 22873,
    "start_time": "2023-06-23T15:20:33.064Z"
   },
   {
    "duration": 8790,
    "start_time": "2023-06-23T15:21:28.211Z"
   },
   {
    "duration": 1443,
    "start_time": "2023-06-23T15:23:21.965Z"
   },
   {
    "duration": 22,
    "start_time": "2023-06-23T15:24:16.211Z"
   },
   {
    "duration": 5,
    "start_time": "2023-06-23T15:25:00.731Z"
   },
   {
    "duration": 4,
    "start_time": "2023-06-23T15:25:19.175Z"
   },
   {
    "duration": 8,
    "start_time": "2023-06-23T15:27:02.326Z"
   },
   {
    "duration": 65,
    "start_time": "2023-06-23T15:27:17.857Z"
   },
   {
    "duration": 57,
    "start_time": "2023-06-23T15:30:40.525Z"
   },
   {
    "duration": 3,
    "start_time": "2023-06-23T15:32:54.355Z"
   },
   {
    "duration": 7914,
    "start_time": "2023-06-23T15:34:13.120Z"
   },
   {
    "duration": 21943,
    "start_time": "2023-06-23T15:34:54.960Z"
   },
   {
    "duration": 806,
    "start_time": "2023-06-23T15:35:19.059Z"
   },
   {
    "duration": 75,
    "start_time": "2023-06-23T15:35:22.854Z"
   },
   {
    "duration": 55,
    "start_time": "2023-06-23T15:36:15.339Z"
   },
   {
    "duration": 3720,
    "start_time": "2023-06-23T15:36:26.537Z"
   },
   {
    "duration": 144,
    "start_time": "2023-06-23T15:36:36.508Z"
   },
   {
    "duration": 4228,
    "start_time": "2023-06-23T15:36:41.327Z"
   },
   {
    "duration": 33,
    "start_time": "2023-06-23T15:36:48.212Z"
   },
   {
    "duration": 10873,
    "start_time": "2023-06-23T15:36:49.464Z"
   },
   {
    "duration": 23995,
    "start_time": "2023-06-23T15:37:01.830Z"
   },
   {
    "duration": 781,
    "start_time": "2023-06-23T15:37:41.755Z"
   },
   {
    "duration": 3,
    "start_time": "2023-06-23T15:50:34.507Z"
   },
   {
    "duration": 3,
    "start_time": "2023-06-23T15:50:44.608Z"
   },
   {
    "duration": 3,
    "start_time": "2023-06-23T15:51:01.412Z"
   },
   {
    "duration": 3604,
    "start_time": "2023-06-23T15:56:23.361Z"
   },
   {
    "duration": 3977,
    "start_time": "2023-06-23T15:56:26.967Z"
   },
   {
    "duration": 12,
    "start_time": "2023-06-23T15:56:30.946Z"
   },
   {
    "duration": 119,
    "start_time": "2023-06-23T15:56:30.960Z"
   },
   {
    "duration": 104,
    "start_time": "2023-06-23T15:56:31.081Z"
   },
   {
    "duration": 308,
    "start_time": "2023-06-23T15:56:31.187Z"
   },
   {
    "duration": 185,
    "start_time": "2023-06-23T15:56:31.497Z"
   },
   {
    "duration": 4,
    "start_time": "2023-06-23T15:56:31.684Z"
   },
   {
    "duration": 95181,
    "start_time": "2023-06-23T15:56:31.690Z"
   },
   {
    "duration": 8,
    "start_time": "2023-06-23T15:58:06.874Z"
   },
   {
    "duration": 81,
    "start_time": "2023-06-23T15:58:06.884Z"
   },
   {
    "duration": 18,
    "start_time": "2023-06-23T15:58:06.966Z"
   },
   {
    "duration": 44,
    "start_time": "2023-06-23T15:58:06.986Z"
   },
   {
    "duration": 5232,
    "start_time": "2023-06-23T15:58:07.032Z"
   },
   {
    "duration": 1606,
    "start_time": "2023-06-23T15:58:12.265Z"
   },
   {
    "duration": 5,
    "start_time": "2023-06-23T15:58:13.873Z"
   },
   {
    "duration": 198875,
    "start_time": "2023-06-23T15:58:13.880Z"
   },
   {
    "duration": 134344,
    "start_time": "2023-06-23T16:01:32.757Z"
   },
   {
    "duration": 2,
    "start_time": "2023-06-23T16:03:47.103Z"
   },
   {
    "duration": 14,
    "start_time": "2023-06-23T16:03:47.107Z"
   },
   {
    "duration": 22,
    "start_time": "2023-06-23T16:03:47.123Z"
   },
   {
    "duration": 19,
    "start_time": "2023-06-23T16:03:47.147Z"
   },
   {
    "duration": 36,
    "start_time": "2023-06-23T16:03:47.168Z"
   },
   {
    "duration": 31,
    "start_time": "2023-06-23T16:03:47.206Z"
   },
   {
    "duration": 27,
    "start_time": "2023-06-23T16:03:47.239Z"
   },
   {
    "duration": 14059,
    "start_time": "2023-06-23T16:03:47.268Z"
   },
   {
    "duration": 232,
    "start_time": "2023-06-23T16:05:39.755Z"
   },
   {
    "duration": 162,
    "start_time": "2023-06-23T16:05:52.139Z"
   },
   {
    "duration": 196,
    "start_time": "2023-06-23T16:06:02.009Z"
   },
   {
    "duration": 183,
    "start_time": "2023-06-23T16:06:37.532Z"
   },
   {
    "duration": 3438,
    "start_time": "2023-06-23T16:11:19.797Z"
   },
   {
    "duration": 1681,
    "start_time": "2023-06-23T16:11:23.237Z"
   },
   {
    "duration": 18,
    "start_time": "2023-06-23T16:11:24.920Z"
   },
   {
    "duration": 42,
    "start_time": "2023-06-23T16:11:24.939Z"
   },
   {
    "duration": 34,
    "start_time": "2023-06-23T16:11:24.984Z"
   },
   {
    "duration": 248,
    "start_time": "2023-06-23T16:11:25.021Z"
   },
   {
    "duration": 176,
    "start_time": "2023-06-23T16:11:25.271Z"
   },
   {
    "duration": 3,
    "start_time": "2023-06-23T16:11:25.448Z"
   },
   {
    "duration": 103318,
    "start_time": "2023-06-23T16:11:25.453Z"
   },
   {
    "duration": 8,
    "start_time": "2023-06-23T16:13:08.773Z"
   },
   {
    "duration": 55,
    "start_time": "2023-06-23T16:13:08.783Z"
   },
   {
    "duration": 5,
    "start_time": "2023-06-23T16:13:08.840Z"
   },
   {
    "duration": 59,
    "start_time": "2023-06-23T16:13:08.847Z"
   },
   {
    "duration": 5745,
    "start_time": "2023-06-23T16:13:08.909Z"
   },
   {
    "duration": 1876,
    "start_time": "2023-06-23T16:13:14.656Z"
   },
   {
    "duration": 8,
    "start_time": "2023-06-23T16:13:16.534Z"
   },
   {
    "duration": 209069,
    "start_time": "2023-06-23T16:13:16.544Z"
   },
   {
    "duration": 120562,
    "start_time": "2023-06-23T16:16:45.616Z"
   },
   {
    "duration": 2,
    "start_time": "2023-06-23T16:18:46.180Z"
   },
   {
    "duration": 33,
    "start_time": "2023-06-23T16:18:46.184Z"
   },
   {
    "duration": 21,
    "start_time": "2023-06-23T16:18:46.219Z"
   },
   {
    "duration": 12,
    "start_time": "2023-06-23T16:18:46.242Z"
   },
   {
    "duration": 25,
    "start_time": "2023-06-23T16:18:46.256Z"
   },
   {
    "duration": 12,
    "start_time": "2023-06-23T16:18:46.284Z"
   },
   {
    "duration": 15,
    "start_time": "2023-06-23T16:18:46.298Z"
   },
   {
    "duration": 13792,
    "start_time": "2023-06-23T16:18:46.315Z"
   },
   {
    "duration": 191,
    "start_time": "2023-06-23T16:19:00.113Z"
   },
   {
    "duration": 3430,
    "start_time": "2023-06-25T13:52:19.053Z"
   },
   {
    "duration": 4257,
    "start_time": "2023-06-25T13:52:25.184Z"
   },
   {
    "duration": 11,
    "start_time": "2023-06-25T13:52:32.058Z"
   },
   {
    "duration": 35,
    "start_time": "2023-06-25T13:52:33.168Z"
   },
   {
    "duration": 34,
    "start_time": "2023-06-25T13:52:35.166Z"
   },
   {
    "duration": 241,
    "start_time": "2023-06-25T13:52:36.000Z"
   },
   {
    "duration": 161,
    "start_time": "2023-06-25T13:52:38.293Z"
   },
   {
    "duration": 102,
    "start_time": "2023-06-25T14:11:18.670Z"
   },
   {
    "duration": 1448,
    "start_time": "2023-06-25T14:12:41.516Z"
   },
   {
    "duration": 8,
    "start_time": "2023-06-25T14:12:42.966Z"
   },
   {
    "duration": 33,
    "start_time": "2023-06-25T14:12:45.194Z"
   },
   {
    "duration": 28,
    "start_time": "2023-06-25T14:12:45.985Z"
   },
   {
    "duration": 228,
    "start_time": "2023-06-25T14:12:48.028Z"
   },
   {
    "duration": 146,
    "start_time": "2023-06-25T14:12:49.048Z"
   },
   {
    "duration": 3,
    "start_time": "2023-06-25T14:14:19.736Z"
   },
   {
    "duration": 176,
    "start_time": "2023-06-25T14:15:00.922Z"
   },
   {
    "duration": 3,
    "start_time": "2023-06-25T14:15:35.375Z"
   },
   {
    "duration": 1329,
    "start_time": "2023-06-25T14:15:36.640Z"
   },
   {
    "duration": 3,
    "start_time": "2023-06-25T14:16:37.018Z"
   },
   {
    "duration": 4,
    "start_time": "2023-06-25T14:16:38.202Z"
   },
   {
    "duration": 3,
    "start_time": "2023-06-25T14:16:53.403Z"
   },
   {
    "duration": 5,
    "start_time": "2023-06-25T14:16:54.631Z"
   },
   {
    "duration": 4,
    "start_time": "2023-06-25T14:17:02.834Z"
   },
   {
    "duration": 4,
    "start_time": "2023-06-25T14:17:03.346Z"
   },
   {
    "duration": 4,
    "start_time": "2023-06-25T14:17:30.715Z"
   },
   {
    "duration": 5,
    "start_time": "2023-06-25T14:17:31.260Z"
   },
   {
    "duration": 3,
    "start_time": "2023-06-25T14:19:13.047Z"
   },
   {
    "duration": 5,
    "start_time": "2023-06-25T14:19:13.486Z"
   },
   {
    "duration": 3,
    "start_time": "2023-06-25T14:19:18.817Z"
   },
   {
    "duration": 5,
    "start_time": "2023-06-25T14:19:19.240Z"
   },
   {
    "duration": 4,
    "start_time": "2023-06-25T14:19:30.689Z"
   },
   {
    "duration": 5,
    "start_time": "2023-06-25T14:19:31.290Z"
   },
   {
    "duration": 4,
    "start_time": "2023-06-25T14:20:11.495Z"
   },
   {
    "duration": 3,
    "start_time": "2023-06-25T14:20:12.038Z"
   },
   {
    "duration": 4,
    "start_time": "2023-06-25T14:20:46.930Z"
   },
   {
    "duration": 4,
    "start_time": "2023-06-25T14:20:47.707Z"
   },
   {
    "duration": 3,
    "start_time": "2023-06-25T14:21:09.515Z"
   },
   {
    "duration": 4,
    "start_time": "2023-06-25T14:21:09.798Z"
   },
   {
    "duration": 3,
    "start_time": "2023-06-25T14:21:39.835Z"
   },
   {
    "duration": 5,
    "start_time": "2023-06-25T14:21:50.741Z"
   },
   {
    "duration": 3,
    "start_time": "2023-06-25T14:22:24.024Z"
   },
   {
    "duration": 4,
    "start_time": "2023-06-25T14:22:24.346Z"
   },
   {
    "duration": 4,
    "start_time": "2023-06-25T14:22:39.820Z"
   },
   {
    "duration": 4,
    "start_time": "2023-06-25T14:22:40.320Z"
   },
   {
    "duration": 3,
    "start_time": "2023-06-25T14:23:00.100Z"
   },
   {
    "duration": 5,
    "start_time": "2023-06-25T14:23:00.407Z"
   },
   {
    "duration": 4,
    "start_time": "2023-06-25T14:24:39.033Z"
   },
   {
    "duration": 4,
    "start_time": "2023-06-25T14:24:39.569Z"
   },
   {
    "duration": 3,
    "start_time": "2023-06-25T14:25:51.035Z"
   },
   {
    "duration": 5,
    "start_time": "2023-06-25T14:25:52.707Z"
   },
   {
    "duration": 4,
    "start_time": "2023-06-25T14:26:18.808Z"
   },
   {
    "duration": 4,
    "start_time": "2023-06-25T14:26:19.665Z"
   },
   {
    "duration": 4,
    "start_time": "2023-06-25T14:26:25.641Z"
   },
   {
    "duration": 8,
    "start_time": "2023-06-25T14:30:12.929Z"
   },
   {
    "duration": 12,
    "start_time": "2023-06-25T14:31:09.990Z"
   },
   {
    "duration": 4,
    "start_time": "2023-06-25T14:31:13.390Z"
   },
   {
    "duration": 20,
    "start_time": "2023-06-25T14:31:16.688Z"
   },
   {
    "duration": 5,
    "start_time": "2023-06-25T14:32:37.741Z"
   },
   {
    "duration": 19,
    "start_time": "2023-06-25T14:32:39.496Z"
   },
   {
    "duration": 20,
    "start_time": "2023-06-25T14:34:19.928Z"
   },
   {
    "duration": 7,
    "start_time": "2023-06-25T14:35:56.632Z"
   },
   {
    "duration": 15,
    "start_time": "2023-06-25T14:38:32.989Z"
   },
   {
    "duration": 490,
    "start_time": "2023-06-25T14:39:01.132Z"
   },
   {
    "duration": 4,
    "start_time": "2023-06-25T14:39:21.830Z"
   },
   {
    "duration": 104,
    "start_time": "2023-06-25T14:39:22.744Z"
   },
   {
    "duration": 5,
    "start_time": "2023-06-25T14:39:32.708Z"
   },
   {
    "duration": 4,
    "start_time": "2023-06-25T14:40:37.161Z"
   },
   {
    "duration": 6,
    "start_time": "2023-06-25T14:40:38.656Z"
   },
   {
    "duration": 5,
    "start_time": "2023-06-25T14:40:51.966Z"
   },
   {
    "duration": 5,
    "start_time": "2023-06-25T14:41:02.398Z"
   },
   {
    "duration": 1232319,
    "start_time": "2023-06-25T14:41:14.348Z"
   },
   {
    "duration": 11,
    "start_time": "2023-06-25T15:04:16.224Z"
   },
   {
    "duration": 36,
    "start_time": "2023-06-25T15:08:20.107Z"
   },
   {
    "duration": 4,
    "start_time": "2023-06-25T15:08:21.159Z"
   },
   {
    "duration": 45,
    "start_time": "2023-06-25T15:09:44.146Z"
   },
   {
    "duration": 184,
    "start_time": "2023-06-25T15:51:18.628Z"
   },
   {
    "duration": 97,
    "start_time": "2023-06-25T16:01:48.640Z"
   },
   {
    "duration": 166,
    "start_time": "2023-06-25T16:01:55.986Z"
   },
   {
    "duration": 5199,
    "start_time": "2023-06-25T16:02:26.463Z"
   },
   {
    "duration": 13,
    "start_time": "2023-06-25T16:04:24.477Z"
   },
   {
    "duration": 5334,
    "start_time": "2023-06-25T16:04:37.970Z"
   },
   {
    "duration": 4,
    "start_time": "2023-06-25T16:13:44.137Z"
   },
   {
    "duration": 65,
    "start_time": "2023-06-25T16:14:33.904Z"
   },
   {
    "duration": 84,
    "start_time": "2023-06-25T16:15:00.795Z"
   },
   {
    "duration": 46,
    "start_time": "2023-06-25T16:15:53.384Z"
   },
   {
    "duration": 13,
    "start_time": "2023-06-25T16:22:22.328Z"
   },
   {
    "duration": 39,
    "start_time": "2023-06-25T16:22:52.456Z"
   },
   {
    "duration": 40,
    "start_time": "2023-06-25T16:25:26.317Z"
   },
   {
    "duration": 38,
    "start_time": "2023-06-25T16:29:42.720Z"
   },
   {
    "duration": 41,
    "start_time": "2023-06-25T16:33:14.508Z"
   },
   {
    "duration": 210930,
    "start_time": "2023-06-25T16:36:42.424Z"
   },
   {
    "duration": 212589,
    "start_time": "2023-06-25T16:45:00.689Z"
   },
   {
    "duration": 5,
    "start_time": "2023-06-25T17:03:54.128Z"
   },
   {
    "duration": 63,
    "start_time": "2023-06-25T20:24:37.104Z"
   },
   {
    "duration": 11,
    "start_time": "2023-06-25T20:26:55.905Z"
   },
   {
    "duration": 5,
    "start_time": "2023-06-25T20:26:59.534Z"
   },
   {
    "duration": 9,
    "start_time": "2023-06-25T20:27:45.451Z"
   },
   {
    "duration": 10,
    "start_time": "2023-06-25T20:27:54.003Z"
   },
   {
    "duration": 10,
    "start_time": "2023-06-25T20:27:59.133Z"
   },
   {
    "duration": 7,
    "start_time": "2023-06-25T20:29:41.002Z"
   },
   {
    "duration": 14,
    "start_time": "2023-06-25T20:29:53.150Z"
   },
   {
    "duration": 9,
    "start_time": "2023-06-25T20:29:59.451Z"
   },
   {
    "duration": 23,
    "start_time": "2023-06-25T20:30:04.984Z"
   },
   {
    "duration": 32,
    "start_time": "2023-06-25T20:30:12.655Z"
   },
   {
    "duration": 10,
    "start_time": "2023-06-25T20:30:23.775Z"
   },
   {
    "duration": 64,
    "start_time": "2023-06-25T20:30:35.979Z"
   },
   {
    "duration": 4,
    "start_time": "2023-06-25T20:30:42.434Z"
   },
   {
    "duration": 12,
    "start_time": "2023-06-25T20:31:50.849Z"
   },
   {
    "duration": 5,
    "start_time": "2023-06-25T20:32:25.604Z"
   },
   {
    "duration": 87,
    "start_time": "2023-06-25T21:21:42.514Z"
   },
   {
    "duration": 8,
    "start_time": "2023-06-25T21:22:13.259Z"
   },
   {
    "duration": 21,
    "start_time": "2023-06-25T21:22:47.257Z"
   },
   {
    "duration": 6,
    "start_time": "2023-06-25T21:22:57.144Z"
   },
   {
    "duration": 5,
    "start_time": "2023-06-25T21:23:13.297Z"
   },
   {
    "duration": 8,
    "start_time": "2023-06-25T21:23:58.474Z"
   },
   {
    "duration": 8,
    "start_time": "2023-06-25T21:23:59.679Z"
   },
   {
    "duration": 4,
    "start_time": "2023-06-25T21:24:20.497Z"
   },
   {
    "duration": 4,
    "start_time": "2023-06-25T21:24:21.702Z"
   },
   {
    "duration": 4,
    "start_time": "2023-06-25T21:24:39.434Z"
   },
   {
    "duration": 4,
    "start_time": "2023-06-25T21:24:51.705Z"
   },
   {
    "duration": 7,
    "start_time": "2023-06-25T21:27:04.797Z"
   },
   {
    "duration": 5,
    "start_time": "2023-06-25T21:27:09.441Z"
   },
   {
    "duration": 5,
    "start_time": "2023-06-25T21:28:29.734Z"
   },
   {
    "duration": 9,
    "start_time": "2023-06-25T21:45:51.726Z"
   },
   {
    "duration": 4217,
    "start_time": "2023-06-25T21:46:15.004Z"
   },
   {
    "duration": 134,
    "start_time": "2023-06-25T21:46:26.295Z"
   },
   {
    "duration": 5,
    "start_time": "2023-06-25T21:46:35.398Z"
   },
   {
    "duration": 11,
    "start_time": "2023-06-25T21:46:43.507Z"
   },
   {
    "duration": 3269,
    "start_time": "2023-06-25T21:52:14.738Z"
   },
   {
    "duration": 4715,
    "start_time": "2023-06-25T21:52:18.009Z"
   },
   {
    "duration": 11,
    "start_time": "2023-06-25T21:52:22.726Z"
   },
   {
    "duration": 55,
    "start_time": "2023-06-25T21:52:22.739Z"
   },
   {
    "duration": 53,
    "start_time": "2023-06-25T21:52:22.796Z"
   },
   {
    "duration": 262,
    "start_time": "2023-06-25T21:52:22.851Z"
   },
   {
    "duration": 185,
    "start_time": "2023-06-25T21:52:23.116Z"
   },
   {
    "duration": 6,
    "start_time": "2023-06-25T21:52:23.302Z"
   },
   {
    "duration": 1251214,
    "start_time": "2023-06-25T21:52:23.310Z"
   },
   {
    "duration": 8,
    "start_time": "2023-06-25T22:13:14.526Z"
   },
   {
    "duration": 54,
    "start_time": "2023-06-25T22:13:14.535Z"
   },
   {
    "duration": 5,
    "start_time": "2023-06-25T22:13:14.591Z"
   },
   {
    "duration": 43,
    "start_time": "2023-06-25T22:13:14.597Z"
   },
   {
    "duration": 25,
    "start_time": "2023-06-25T22:13:14.643Z"
   },
   {
    "duration": 17,
    "start_time": "2023-06-25T22:13:14.670Z"
   },
   {
    "duration": 11,
    "start_time": "2023-06-25T22:13:14.689Z"
   },
   {
    "duration": 215751,
    "start_time": "2023-06-25T22:13:14.701Z"
   },
   {
    "duration": 186132,
    "start_time": "2023-06-25T22:16:50.453Z"
   },
   {
    "duration": 0,
    "start_time": "2023-06-25T22:19:56.587Z"
   },
   {
    "duration": 0,
    "start_time": "2023-06-25T22:19:56.588Z"
   },
   {
    "duration": 0,
    "start_time": "2023-06-25T22:19:56.589Z"
   },
   {
    "duration": 0,
    "start_time": "2023-06-25T22:19:56.590Z"
   },
   {
    "duration": 0,
    "start_time": "2023-06-25T22:19:56.592Z"
   },
   {
    "duration": 0,
    "start_time": "2023-06-25T22:19:56.593Z"
   },
   {
    "duration": 0,
    "start_time": "2023-06-25T22:19:56.594Z"
   },
   {
    "duration": 0,
    "start_time": "2023-06-25T22:19:56.596Z"
   },
   {
    "duration": 0,
    "start_time": "2023-06-25T22:19:56.597Z"
   },
   {
    "duration": 0,
    "start_time": "2023-06-25T22:19:56.599Z"
   },
   {
    "duration": 4,
    "start_time": "2023-06-25T22:21:47.736Z"
   },
   {
    "duration": 19,
    "start_time": "2023-06-25T22:21:54.304Z"
   },
   {
    "duration": 17,
    "start_time": "2023-06-25T22:22:37.352Z"
   },
   {
    "duration": 8180,
    "start_time": "2023-06-25T22:24:01.200Z"
   },
   {
    "duration": 58,
    "start_time": "2023-06-25T22:24:11.953Z"
   },
   {
    "duration": 6354,
    "start_time": "2023-06-25T22:25:22.482Z"
   },
   {
    "duration": 68,
    "start_time": "2023-06-25T22:25:30.008Z"
   },
   {
    "duration": 6493,
    "start_time": "2023-06-25T22:27:29.508Z"
   },
   {
    "duration": 47,
    "start_time": "2023-06-25T22:27:37.923Z"
   },
   {
    "duration": 6290,
    "start_time": "2023-06-25T22:28:08.061Z"
   },
   {
    "duration": 46,
    "start_time": "2023-06-25T22:28:19.135Z"
   },
   {
    "duration": 7,
    "start_time": "2023-06-25T22:28:36.032Z"
   },
   {
    "duration": 4,
    "start_time": "2023-06-25T22:28:48.525Z"
   },
   {
    "duration": 6562,
    "start_time": "2023-06-25T22:29:59.331Z"
   },
   {
    "duration": 4,
    "start_time": "2023-06-25T22:30:06.943Z"
   },
   {
    "duration": 14532,
    "start_time": "2023-06-25T22:30:13.729Z"
   },
   {
    "duration": 153,
    "start_time": "2023-06-25T22:30:47.381Z"
   },
   {
    "duration": 34,
    "start_time": "2023-06-25T22:32:01.947Z"
   },
   {
    "duration": 262,
    "start_time": "2023-06-25T22:32:24.445Z"
   },
   {
    "duration": 3,
    "start_time": "2023-06-25T22:33:00.422Z"
   },
   {
    "duration": 738434,
    "start_time": "2023-06-25T22:33:07.523Z"
   },
   {
    "duration": 116,
    "start_time": "2023-06-25T23:48:21.091Z"
   },
   {
    "duration": 7190,
    "start_time": "2023-06-25T23:48:25.260Z"
   },
   {
    "duration": 55980,
    "start_time": "2023-06-25T23:48:52.732Z"
   },
   {
    "duration": 381,
    "start_time": "2023-06-25T23:50:45.161Z"
   },
   {
    "duration": 4,
    "start_time": "2023-06-25T23:51:11.677Z"
   },
   {
    "duration": 374923,
    "start_time": "2023-06-25T23:51:20.724Z"
   },
   {
    "duration": 112054,
    "start_time": "2023-06-26T00:07:27.626Z"
   },
   {
    "duration": 112514,
    "start_time": "2023-06-26T00:09:35.170Z"
   },
   {
    "duration": 5,
    "start_time": "2023-06-26T00:13:30.604Z"
   },
   {
    "duration": 2206,
    "start_time": "2023-06-26T00:14:40.923Z"
   },
   {
    "duration": 5,
    "start_time": "2023-06-26T00:14:59.111Z"
   },
   {
    "duration": 3962,
    "start_time": "2023-06-26T00:15:00.018Z"
   },
   {
    "duration": 4,
    "start_time": "2023-06-26T00:15:46.805Z"
   },
   {
    "duration": 3892,
    "start_time": "2023-06-26T00:15:48.453Z"
   },
   {
    "duration": 4,
    "start_time": "2023-06-26T00:18:23.832Z"
   },
   {
    "duration": 6,
    "start_time": "2023-06-26T00:18:36.670Z"
   },
   {
    "duration": 50,
    "start_time": "2023-06-26T00:19:53.449Z"
   },
   {
    "duration": 4,
    "start_time": "2023-06-26T00:19:54.844Z"
   },
   {
    "duration": 5,
    "start_time": "2023-06-26T00:20:02.703Z"
   },
   {
    "duration": 4,
    "start_time": "2023-06-26T00:20:03.109Z"
   },
   {
    "duration": 3,
    "start_time": "2023-06-26T00:20:05.403Z"
   },
   {
    "duration": 113831,
    "start_time": "2023-06-26T00:20:29.797Z"
   },
   {
    "duration": 7102,
    "start_time": "2023-06-26T00:23:46.997Z"
   },
   {
    "duration": 13978,
    "start_time": "2023-06-26T00:23:56.698Z"
   },
   {
    "duration": 2926,
    "start_time": "2023-06-26T00:29:41.303Z"
   },
   {
    "duration": 1591,
    "start_time": "2023-06-26T00:29:44.231Z"
   },
   {
    "duration": 12,
    "start_time": "2023-06-26T00:29:45.823Z"
   },
   {
    "duration": 49,
    "start_time": "2023-06-26T00:29:45.836Z"
   },
   {
    "duration": 31,
    "start_time": "2023-06-26T00:29:45.887Z"
   },
   {
    "duration": 259,
    "start_time": "2023-06-26T00:29:45.920Z"
   },
   {
    "duration": 162,
    "start_time": "2023-06-26T00:29:46.181Z"
   },
   {
    "duration": 20,
    "start_time": "2023-06-26T00:29:46.345Z"
   },
   {
    "duration": 1215426,
    "start_time": "2023-06-26T00:29:46.367Z"
   },
   {
    "duration": 10,
    "start_time": "2023-06-26T00:50:01.795Z"
   },
   {
    "duration": 99,
    "start_time": "2023-06-26T00:50:01.807Z"
   },
   {
    "duration": 57,
    "start_time": "2023-06-26T00:50:01.908Z"
   },
   {
    "duration": 73,
    "start_time": "2023-06-26T00:50:01.967Z"
   },
   {
    "duration": 7,
    "start_time": "2023-06-26T00:50:02.044Z"
   },
   {
    "duration": 29,
    "start_time": "2023-06-26T00:50:02.053Z"
   },
   {
    "duration": 13,
    "start_time": "2023-06-26T00:50:02.084Z"
   },
   {
    "duration": 79,
    "start_time": "2023-06-26T00:50:02.100Z"
   },
   {
    "duration": 208924,
    "start_time": "2023-06-26T00:50:02.182Z"
   },
   {
    "duration": 112379,
    "start_time": "2023-06-26T00:53:31.108Z"
   },
   {
    "duration": 3,
    "start_time": "2023-06-26T00:55:23.489Z"
   },
   {
    "duration": 14,
    "start_time": "2023-06-26T00:55:23.493Z"
   },
   {
    "duration": 4,
    "start_time": "2023-06-26T00:55:23.509Z"
   },
   {
    "duration": 8,
    "start_time": "2023-06-26T00:55:23.514Z"
   },
   {
    "duration": 8,
    "start_time": "2023-06-26T00:55:23.524Z"
   },
   {
    "duration": 6,
    "start_time": "2023-06-26T00:55:23.534Z"
   },
   {
    "duration": 10,
    "start_time": "2023-06-26T00:55:23.542Z"
   },
   {
    "duration": 6555,
    "start_time": "2023-06-26T00:55:23.554Z"
   },
   {
    "duration": 14553,
    "start_time": "2023-06-26T00:55:30.111Z"
   },
   {
    "duration": 173,
    "start_time": "2023-06-26T00:55:44.666Z"
   },
   {
    "duration": 4492,
    "start_time": "2023-06-26T09:18:14.759Z"
   },
   {
    "duration": 3058,
    "start_time": "2023-06-26T09:18:19.254Z"
   },
   {
    "duration": 11,
    "start_time": "2023-06-26T09:18:22.314Z"
   },
   {
    "duration": 69,
    "start_time": "2023-06-26T09:18:22.326Z"
   },
   {
    "duration": 40,
    "start_time": "2023-06-26T09:18:22.397Z"
   },
   {
    "duration": 250,
    "start_time": "2023-06-26T09:18:22.438Z"
   },
   {
    "duration": 155,
    "start_time": "2023-06-26T09:18:22.690Z"
   },
   {
    "duration": 4,
    "start_time": "2023-06-26T09:18:22.846Z"
   },
   {
    "duration": 1237798,
    "start_time": "2023-06-26T09:18:22.852Z"
   },
   {
    "duration": 7,
    "start_time": "2023-06-26T09:39:00.653Z"
   },
   {
    "duration": 82,
    "start_time": "2023-06-26T09:39:00.663Z"
   },
   {
    "duration": 7,
    "start_time": "2023-06-26T09:39:00.748Z"
   },
   {
    "duration": 101,
    "start_time": "2023-06-26T09:39:00.756Z"
   },
   {
    "duration": 43,
    "start_time": "2023-06-26T09:39:00.858Z"
   },
   {
    "duration": 74,
    "start_time": "2023-06-26T09:39:00.903Z"
   },
   {
    "duration": 111,
    "start_time": "2023-06-26T09:39:00.979Z"
   },
   {
    "duration": 134,
    "start_time": "2023-06-26T09:39:01.092Z"
   },
   {
    "duration": 59889,
    "start_time": "2023-06-26T09:39:01.228Z"
   },
   {
    "duration": 339026,
    "start_time": "2023-06-26T09:40:01.119Z"
   },
   {
    "duration": 3,
    "start_time": "2023-06-26T09:45:40.147Z"
   },
   {
    "duration": 35,
    "start_time": "2023-06-26T09:45:40.151Z"
   },
   {
    "duration": 16,
    "start_time": "2023-06-26T09:45:40.187Z"
   },
   {
    "duration": 8,
    "start_time": "2023-06-26T09:45:40.204Z"
   },
   {
    "duration": 15,
    "start_time": "2023-06-26T09:45:40.214Z"
   },
   {
    "duration": 11,
    "start_time": "2023-06-26T09:45:40.230Z"
   },
   {
    "duration": 9,
    "start_time": "2023-06-26T09:45:40.245Z"
   },
   {
    "duration": 6848,
    "start_time": "2023-06-26T09:45:40.256Z"
   },
   {
    "duration": 14279,
    "start_time": "2023-06-26T09:45:47.106Z"
   },
   {
    "duration": 184,
    "start_time": "2023-06-26T09:46:01.387Z"
   }
  ],
  "kernelspec": {
   "display_name": "Python 3 (ipykernel)",
   "language": "python",
   "name": "python3"
  },
  "language_info": {
   "codemirror_mode": {
    "name": "ipython",
    "version": 3
   },
   "file_extension": ".py",
   "mimetype": "text/x-python",
   "name": "python",
   "nbconvert_exporter": "python",
   "pygments_lexer": "ipython3",
   "version": "3.10.9"
  },
  "toc": {
   "base_numbering": 1,
   "nav_menu": {},
   "number_sections": true,
   "sideBar": true,
   "skip_h1_title": true,
   "title_cell": "Содержание",
   "title_sidebar": "Contents",
   "toc_cell": true,
   "toc_position": {
    "height": "calc(100% - 180px)",
    "left": "10px",
    "top": "150px",
    "width": "302.383px"
   },
   "toc_section_display": true,
   "toc_window_display": true
  },
  "varInspector": {
   "cols": {
    "lenName": 16,
    "lenType": 16,
    "lenVar": 40
   },
   "kernels_config": {
    "python": {
     "delete_cmd_postfix": "",
     "delete_cmd_prefix": "del ",
     "library": "var_list.py",
     "varRefreshCmd": "print(var_dic_list())"
    },
    "r": {
     "delete_cmd_postfix": ") ",
     "delete_cmd_prefix": "rm(",
     "library": "var_list.r",
     "varRefreshCmd": "cat(var_dic_list()) "
    }
   },
   "types_to_exclude": [
    "module",
    "function",
    "builtin_function_or_method",
    "instance",
    "_Feature"
   ],
   "window_display": false
  }
 },
 "nbformat": 4,
 "nbformat_minor": 2
}

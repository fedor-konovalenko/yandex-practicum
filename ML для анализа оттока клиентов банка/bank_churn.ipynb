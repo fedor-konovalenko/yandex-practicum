{
 "cells": [
  {
   "cell_type": "markdown",
   "metadata": {
    "toc": true
   },
   "source": [
    "<h1>Содержание<span class=\"tocSkip\"></span></h1>\n",
    "<div class=\"toc\"><ul class=\"toc-item\"><li><span><a href=\"#Подготовка-данных\" data-toc-modified-id=\"Подготовка-данных-1\"><span class=\"toc-item-num\">1&nbsp;&nbsp;</span>Подготовка данных</a></span><ul class=\"toc-item\"><li><span><a href=\"#Первичный-анализ-данных\" data-toc-modified-id=\"Первичный-анализ-данных-1.1\"><span class=\"toc-item-num\">1.1&nbsp;&nbsp;</span>Первичный анализ данных</a></span></li><li><span><a href=\"#Удаление-столбцов,-удаление-пропусков\" data-toc-modified-id=\"Удаление-столбцов,-удаление-пропусков-1.2\"><span class=\"toc-item-num\">1.2&nbsp;&nbsp;</span>Удаление столбцов, удаление пропусков</a></span></li><li><span><a href=\"#Баланс-значений-exited-и-деление-данных-на-выборки\" data-toc-modified-id=\"Баланс-значений-exited-и-деление-данных-на-выборки-1.3\"><span class=\"toc-item-num\">1.3&nbsp;&nbsp;</span>Баланс значений exited и деление данных на выборки</a></span></li><li><span><a href=\"#Кодирование\" data-toc-modified-id=\"Кодирование-1.4\"><span class=\"toc-item-num\">1.4&nbsp;&nbsp;</span>Кодирование</a></span></li><li><span><a href=\"#Что-получилось-в-итоге\" data-toc-modified-id=\"Что-получилось-в-итоге-1.5\"><span class=\"toc-item-num\">1.5&nbsp;&nbsp;</span>Что получилось в итоге</a></span></li><li><span><a href=\"#Features-&amp;-Targets\" data-toc-modified-id=\"Features-&amp;-Targets-1.6\"><span class=\"toc-item-num\">1.6&nbsp;&nbsp;</span>Features &amp; Targets</a></span></li><li><span><a href=\"#Вывод\" data-toc-modified-id=\"Вывод-1.7\"><span class=\"toc-item-num\">1.7&nbsp;&nbsp;</span>Вывод</a></span></li></ul></li><li><span><a href=\"#Исследование-задачи\" data-toc-modified-id=\"Исследование-задачи-2\"><span class=\"toc-item-num\">2&nbsp;&nbsp;</span>Исследование задачи</a></span><ul class=\"toc-item\"><li><span><a href=\"#План-исследования\" data-toc-modified-id=\"План-исследования-2.1\"><span class=\"toc-item-num\">2.1&nbsp;&nbsp;</span>План исследования</a></span></li><li><span><a href=\"#Решающие-деревья\" data-toc-modified-id=\"Решающие-деревья-2.2\"><span class=\"toc-item-num\">2.2&nbsp;&nbsp;</span>Решающие деревья</a></span></li><li><span><a href=\"#Случайный-лес\" data-toc-modified-id=\"Случайный-лес-2.3\"><span class=\"toc-item-num\">2.3&nbsp;&nbsp;</span>Случайный лес</a></span></li><li><span><a href=\"#Логистический-регрессор\" data-toc-modified-id=\"Логистический-регрессор-2.4\"><span class=\"toc-item-num\">2.4&nbsp;&nbsp;</span>Логистический регрессор</a></span></li><li><span><a href=\"#Сравнение-метрик-для-разных-моделей\" data-toc-modified-id=\"Сравнение-метрик-для-разных-моделей-2.5\"><span class=\"toc-item-num\">2.5&nbsp;&nbsp;</span>Сравнение метрик для разных моделей</a></span></li><li><span><a href=\"#Выводы\" data-toc-modified-id=\"Выводы-2.6\"><span class=\"toc-item-num\">2.6&nbsp;&nbsp;</span>Выводы</a></span></li></ul></li><li><span><a href=\"#Борьба-с-дисбалансом\" data-toc-modified-id=\"Борьба-с-дисбалансом-3\"><span class=\"toc-item-num\">3&nbsp;&nbsp;</span>Борьба с дисбалансом</a></span><ul class=\"toc-item\"><li><span><a href=\"#План-исследования\" data-toc-modified-id=\"План-исследования-3.1\"><span class=\"toc-item-num\">3.1&nbsp;&nbsp;</span>План исследования</a></span></li><li><span><a href=\"#Логистический-регрессор\" data-toc-modified-id=\"Логистический-регрессор-3.2\"><span class=\"toc-item-num\">3.2&nbsp;&nbsp;</span>Логистический регрессор</a></span><ul class=\"toc-item\"><li><span><a href=\"#Взвешивание-классов\" data-toc-modified-id=\"Взвешивание-классов-3.2.1\"><span class=\"toc-item-num\">3.2.1&nbsp;&nbsp;</span>Взвешивание классов</a></span></li><li><span><a href=\"#Изменение-порога\" data-toc-modified-id=\"Изменение-порога-3.2.2\"><span class=\"toc-item-num\">3.2.2&nbsp;&nbsp;</span>Изменение порога</a></span></li><li><span><a href=\"#Выводы\" data-toc-modified-id=\"Выводы-3.2.3\"><span class=\"toc-item-num\">3.2.3&nbsp;&nbsp;</span>Выводы</a></span></li></ul></li><li><span><a href=\"#Различные-способы-балансировки-для-лучшей-модели-из-раздела-2\" data-toc-modified-id=\"Различные-способы-балансировки-для-лучшей-модели-из-раздела-2-3.3\"><span class=\"toc-item-num\">3.3&nbsp;&nbsp;</span>Различные способы балансировки для лучшей модели из раздела 2</a></span><ul class=\"toc-item\"><li><span><a href=\"#Взвешивание-классов\" data-toc-modified-id=\"Взвешивание-классов-3.3.1\"><span class=\"toc-item-num\">3.3.1&nbsp;&nbsp;</span>Взвешивание классов</a></span></li><li><span><a href=\"#Увеличение-выборки\" data-toc-modified-id=\"Увеличение-выборки-3.3.2\"><span class=\"toc-item-num\">3.3.2&nbsp;&nbsp;</span>Увеличение выборки</a></span></li><li><span><a href=\"#Уменьшение-выборки\" data-toc-modified-id=\"Уменьшение-выборки-3.3.3\"><span class=\"toc-item-num\">3.3.3&nbsp;&nbsp;</span>Уменьшение выборки</a></span></li><li><span><a href=\"#Вывод\" data-toc-modified-id=\"Вывод-3.3.4\"><span class=\"toc-item-num\">3.3.4&nbsp;&nbsp;</span>Вывод</a></span></li></ul></li><li><span><a href=\"#Вывод\" data-toc-modified-id=\"Вывод-3.4\"><span class=\"toc-item-num\">3.4&nbsp;&nbsp;</span>Вывод</a></span></li></ul></li><li><span><a href=\"#Тестирование-модели\" data-toc-modified-id=\"Тестирование-модели-4\"><span class=\"toc-item-num\">4&nbsp;&nbsp;</span>Тестирование модели</a></span><ul class=\"toc-item\"><li><span><a href=\"#Тестирование\" data-toc-modified-id=\"Тестирование-4.1\"><span class=\"toc-item-num\">4.1&nbsp;&nbsp;</span>Тестирование</a></span></li><li><span><a href=\"#Значимость-признаков\" data-toc-modified-id=\"Значимость-признаков-4.2\"><span class=\"toc-item-num\">4.2&nbsp;&nbsp;</span>Значимость признаков</a></span></li><li><span><a href=\"#Вывод\" data-toc-modified-id=\"Вывод-4.3\"><span class=\"toc-item-num\">4.3&nbsp;&nbsp;</span>Вывод</a></span></li></ul></li><li><span><a href=\"#Вывод-по-проекту\" data-toc-modified-id=\"Вывод-по-проекту-5\"><span class=\"toc-item-num\">5&nbsp;&nbsp;</span>Вывод по проекту</a></span></li></ul></div>"
   ]
  },
  {
   "cell_type": "markdown",
   "metadata": {},
   "source": [
    "# Отток клиентов"
   ]
  },
  {
   "cell_type": "markdown",
   "metadata": {},
   "source": [
    "Задача: спрогнозировать, уйдёт клиент из банка в ближайшее время или нет. Исходные данные -  исторические данные о поведении клиентов и расторжении договоров с банком. \n",
    "\n",
    "Требуется построить модель модель с предельно большим значением *F1*-меры (не менее 0,59)\n",
    "\n",
    "Источник данных: [https://www.kaggle.com/barelydedicated/bank-customer-churn-modeling](https://www.kaggle.com/barelydedicated/bank-customer-churn-modeling)"
   ]
  },
  {
   "cell_type": "markdown",
   "metadata": {},
   "source": [
    "## Подготовка данных"
   ]
  },
  {
   "cell_type": "code",
   "execution_count": 1,
   "metadata": {},
   "outputs": [],
   "source": [
    "import pandas as pd\n",
    "pd.options.mode.chained_assignment = None\n",
    "\n",
    "from sklearn.tree import DecisionTreeClassifier\n",
    "from sklearn.ensemble import RandomForestClassifier\n",
    "from sklearn.linear_model import LogisticRegression\n",
    "import joblib\n",
    "from sklearn.preprocessing import StandardScaler\n",
    "from sklearn.preprocessing import OneHotEncoder\n",
    "from sklearn.model_selection import train_test_split\n",
    "from sklearn.metrics import f1_score\n",
    "from sklearn.metrics import precision_score\n",
    "from sklearn.metrics import recall_score\n",
    "from sklearn.model_selection import GridSearchCV\n",
    "from sklearn.metrics import roc_auc_score\n",
    "from sklearn.metrics import roc_curve\n",
    "from sklearn.utils import shuffle\n",
    "from matplotlib import pyplot as plt\n",
    "import numpy as np"
   ]
  },
  {
   "cell_type": "markdown",
   "metadata": {},
   "source": [
    "### Первичный анализ данных"
   ]
  },
  {
   "cell_type": "code",
   "execution_count": 2,
   "metadata": {},
   "outputs": [],
   "source": [
    "df = pd.read_csv('Churn.csv')"
   ]
  },
  {
   "cell_type": "code",
   "execution_count": 3,
   "metadata": {},
   "outputs": [
    {
     "data": {
      "text/html": [
       "<div>\n",
       "<style scoped>\n",
       "    .dataframe tbody tr th:only-of-type {\n",
       "        vertical-align: middle;\n",
       "    }\n",
       "\n",
       "    .dataframe tbody tr th {\n",
       "        vertical-align: top;\n",
       "    }\n",
       "\n",
       "    .dataframe thead th {\n",
       "        text-align: right;\n",
       "    }\n",
       "</style>\n",
       "<table border=\"1\" class=\"dataframe\">\n",
       "  <thead>\n",
       "    <tr style=\"text-align: right;\">\n",
       "      <th></th>\n",
       "      <th>RowNumber</th>\n",
       "      <th>CustomerId</th>\n",
       "      <th>Surname</th>\n",
       "      <th>CreditScore</th>\n",
       "      <th>Geography</th>\n",
       "      <th>Gender</th>\n",
       "      <th>Age</th>\n",
       "      <th>Tenure</th>\n",
       "      <th>Balance</th>\n",
       "      <th>NumOfProducts</th>\n",
       "      <th>HasCrCard</th>\n",
       "      <th>IsActiveMember</th>\n",
       "      <th>EstimatedSalary</th>\n",
       "      <th>Exited</th>\n",
       "    </tr>\n",
       "  </thead>\n",
       "  <tbody>\n",
       "    <tr>\n",
       "      <th>0</th>\n",
       "      <td>1</td>\n",
       "      <td>15634602</td>\n",
       "      <td>Hargrave</td>\n",
       "      <td>619</td>\n",
       "      <td>France</td>\n",
       "      <td>Female</td>\n",
       "      <td>42</td>\n",
       "      <td>2.0</td>\n",
       "      <td>0.00</td>\n",
       "      <td>1</td>\n",
       "      <td>1</td>\n",
       "      <td>1</td>\n",
       "      <td>101348.88</td>\n",
       "      <td>1</td>\n",
       "    </tr>\n",
       "    <tr>\n",
       "      <th>1</th>\n",
       "      <td>2</td>\n",
       "      <td>15647311</td>\n",
       "      <td>Hill</td>\n",
       "      <td>608</td>\n",
       "      <td>Spain</td>\n",
       "      <td>Female</td>\n",
       "      <td>41</td>\n",
       "      <td>1.0</td>\n",
       "      <td>83807.86</td>\n",
       "      <td>1</td>\n",
       "      <td>0</td>\n",
       "      <td>1</td>\n",
       "      <td>112542.58</td>\n",
       "      <td>0</td>\n",
       "    </tr>\n",
       "    <tr>\n",
       "      <th>2</th>\n",
       "      <td>3</td>\n",
       "      <td>15619304</td>\n",
       "      <td>Onio</td>\n",
       "      <td>502</td>\n",
       "      <td>France</td>\n",
       "      <td>Female</td>\n",
       "      <td>42</td>\n",
       "      <td>8.0</td>\n",
       "      <td>159660.80</td>\n",
       "      <td>3</td>\n",
       "      <td>1</td>\n",
       "      <td>0</td>\n",
       "      <td>113931.57</td>\n",
       "      <td>1</td>\n",
       "    </tr>\n",
       "    <tr>\n",
       "      <th>3</th>\n",
       "      <td>4</td>\n",
       "      <td>15701354</td>\n",
       "      <td>Boni</td>\n",
       "      <td>699</td>\n",
       "      <td>France</td>\n",
       "      <td>Female</td>\n",
       "      <td>39</td>\n",
       "      <td>1.0</td>\n",
       "      <td>0.00</td>\n",
       "      <td>2</td>\n",
       "      <td>0</td>\n",
       "      <td>0</td>\n",
       "      <td>93826.63</td>\n",
       "      <td>0</td>\n",
       "    </tr>\n",
       "    <tr>\n",
       "      <th>4</th>\n",
       "      <td>5</td>\n",
       "      <td>15737888</td>\n",
       "      <td>Mitchell</td>\n",
       "      <td>850</td>\n",
       "      <td>Spain</td>\n",
       "      <td>Female</td>\n",
       "      <td>43</td>\n",
       "      <td>2.0</td>\n",
       "      <td>125510.82</td>\n",
       "      <td>1</td>\n",
       "      <td>1</td>\n",
       "      <td>1</td>\n",
       "      <td>79084.10</td>\n",
       "      <td>0</td>\n",
       "    </tr>\n",
       "    <tr>\n",
       "      <th>5</th>\n",
       "      <td>6</td>\n",
       "      <td>15574012</td>\n",
       "      <td>Chu</td>\n",
       "      <td>645</td>\n",
       "      <td>Spain</td>\n",
       "      <td>Male</td>\n",
       "      <td>44</td>\n",
       "      <td>8.0</td>\n",
       "      <td>113755.78</td>\n",
       "      <td>2</td>\n",
       "      <td>1</td>\n",
       "      <td>0</td>\n",
       "      <td>149756.71</td>\n",
       "      <td>1</td>\n",
       "    </tr>\n",
       "    <tr>\n",
       "      <th>6</th>\n",
       "      <td>7</td>\n",
       "      <td>15592531</td>\n",
       "      <td>Bartlett</td>\n",
       "      <td>822</td>\n",
       "      <td>France</td>\n",
       "      <td>Male</td>\n",
       "      <td>50</td>\n",
       "      <td>7.0</td>\n",
       "      <td>0.00</td>\n",
       "      <td>2</td>\n",
       "      <td>1</td>\n",
       "      <td>1</td>\n",
       "      <td>10062.80</td>\n",
       "      <td>0</td>\n",
       "    </tr>\n",
       "    <tr>\n",
       "      <th>7</th>\n",
       "      <td>8</td>\n",
       "      <td>15656148</td>\n",
       "      <td>Obinna</td>\n",
       "      <td>376</td>\n",
       "      <td>Germany</td>\n",
       "      <td>Female</td>\n",
       "      <td>29</td>\n",
       "      <td>4.0</td>\n",
       "      <td>115046.74</td>\n",
       "      <td>4</td>\n",
       "      <td>1</td>\n",
       "      <td>0</td>\n",
       "      <td>119346.88</td>\n",
       "      <td>1</td>\n",
       "    </tr>\n",
       "    <tr>\n",
       "      <th>8</th>\n",
       "      <td>9</td>\n",
       "      <td>15792365</td>\n",
       "      <td>He</td>\n",
       "      <td>501</td>\n",
       "      <td>France</td>\n",
       "      <td>Male</td>\n",
       "      <td>44</td>\n",
       "      <td>4.0</td>\n",
       "      <td>142051.07</td>\n",
       "      <td>2</td>\n",
       "      <td>0</td>\n",
       "      <td>1</td>\n",
       "      <td>74940.50</td>\n",
       "      <td>0</td>\n",
       "    </tr>\n",
       "    <tr>\n",
       "      <th>9</th>\n",
       "      <td>10</td>\n",
       "      <td>15592389</td>\n",
       "      <td>H?</td>\n",
       "      <td>684</td>\n",
       "      <td>France</td>\n",
       "      <td>Male</td>\n",
       "      <td>27</td>\n",
       "      <td>2.0</td>\n",
       "      <td>134603.88</td>\n",
       "      <td>1</td>\n",
       "      <td>1</td>\n",
       "      <td>1</td>\n",
       "      <td>71725.73</td>\n",
       "      <td>0</td>\n",
       "    </tr>\n",
       "  </tbody>\n",
       "</table>\n",
       "</div>"
      ],
      "text/plain": [
       "   RowNumber  CustomerId   Surname  CreditScore Geography  Gender  Age  \\\n",
       "0          1    15634602  Hargrave          619    France  Female   42   \n",
       "1          2    15647311      Hill          608     Spain  Female   41   \n",
       "2          3    15619304      Onio          502    France  Female   42   \n",
       "3          4    15701354      Boni          699    France  Female   39   \n",
       "4          5    15737888  Mitchell          850     Spain  Female   43   \n",
       "5          6    15574012       Chu          645     Spain    Male   44   \n",
       "6          7    15592531  Bartlett          822    France    Male   50   \n",
       "7          8    15656148    Obinna          376   Germany  Female   29   \n",
       "8          9    15792365        He          501    France    Male   44   \n",
       "9         10    15592389        H?          684    France    Male   27   \n",
       "\n",
       "   Tenure    Balance  NumOfProducts  HasCrCard  IsActiveMember  \\\n",
       "0     2.0       0.00              1          1               1   \n",
       "1     1.0   83807.86              1          0               1   \n",
       "2     8.0  159660.80              3          1               0   \n",
       "3     1.0       0.00              2          0               0   \n",
       "4     2.0  125510.82              1          1               1   \n",
       "5     8.0  113755.78              2          1               0   \n",
       "6     7.0       0.00              2          1               1   \n",
       "7     4.0  115046.74              4          1               0   \n",
       "8     4.0  142051.07              2          0               1   \n",
       "9     2.0  134603.88              1          1               1   \n",
       "\n",
       "   EstimatedSalary  Exited  \n",
       "0        101348.88       1  \n",
       "1        112542.58       0  \n",
       "2        113931.57       1  \n",
       "3         93826.63       0  \n",
       "4         79084.10       0  \n",
       "5        149756.71       1  \n",
       "6         10062.80       0  \n",
       "7        119346.88       1  \n",
       "8         74940.50       0  \n",
       "9         71725.73       0  "
      ]
     },
     "execution_count": 3,
     "metadata": {},
     "output_type": "execute_result"
    }
   ],
   "source": [
    "df.head(10)"
   ]
  },
  {
   "cell_type": "code",
   "execution_count": 4,
   "metadata": {},
   "outputs": [],
   "source": [
    "df.columns = df.columns.str.lower()"
   ]
  },
  {
   "cell_type": "code",
   "execution_count": 5,
   "metadata": {},
   "outputs": [
    {
     "name": "stdout",
     "output_type": "stream",
     "text": [
      "<class 'pandas.core.frame.DataFrame'>\n",
      "RangeIndex: 10000 entries, 0 to 9999\n",
      "Data columns (total 14 columns):\n",
      " #   Column           Non-Null Count  Dtype  \n",
      "---  ------           --------------  -----  \n",
      " 0   rownumber        10000 non-null  int64  \n",
      " 1   customerid       10000 non-null  int64  \n",
      " 2   surname          10000 non-null  object \n",
      " 3   creditscore      10000 non-null  int64  \n",
      " 4   geography        10000 non-null  object \n",
      " 5   gender           10000 non-null  object \n",
      " 6   age              10000 non-null  int64  \n",
      " 7   tenure           9091 non-null   float64\n",
      " 8   balance          10000 non-null  float64\n",
      " 9   numofproducts    10000 non-null  int64  \n",
      " 10  hascrcard        10000 non-null  int64  \n",
      " 11  isactivemember   10000 non-null  int64  \n",
      " 12  estimatedsalary  10000 non-null  float64\n",
      " 13  exited           10000 non-null  int64  \n",
      "dtypes: float64(3), int64(8), object(3)\n",
      "memory usage: 1.1+ MB\n"
     ]
    }
   ],
   "source": [
    "df.info()"
   ]
  },
  {
   "cell_type": "code",
   "execution_count": 6,
   "metadata": {},
   "outputs": [
    {
     "data": {
      "text/plain": [
       "rownumber            0\n",
       "customerid           0\n",
       "surname              0\n",
       "creditscore          0\n",
       "geography            0\n",
       "gender               0\n",
       "age                  0\n",
       "tenure             909\n",
       "balance              0\n",
       "numofproducts        0\n",
       "hascrcard            0\n",
       "isactivemember       0\n",
       "estimatedsalary      0\n",
       "exited               0\n",
       "dtype: int64"
      ]
     },
     "execution_count": 6,
     "metadata": {},
     "output_type": "execute_result"
    }
   ],
   "source": [
    "df.isna().sum()"
   ]
  },
  {
   "cell_type": "code",
   "execution_count": 7,
   "metadata": {},
   "outputs": [
    {
     "data": {
      "text/plain": [
       "0"
      ]
     },
     "execution_count": 7,
     "metadata": {},
     "output_type": "execute_result"
    }
   ],
   "source": [
    "df.duplicated().sum()"
   ]
  },
  {
   "cell_type": "markdown",
   "metadata": {},
   "source": [
    "После предварительного анализа данных видно:\n",
    "- явных дубликатов нет, и это хорошо\n",
    "- первые 3 столбца (surname, rownumber, customerid) для предсказательной модели бесполезны, а может, и вредны, от них нужно избавиться\n",
    "- категориальные признаки geography и gender потребуют кодирования. Планирую использовать OHE кодирование, поскольку уникальных значений для страны и гендера мало (3 и 2 соответственно).\n",
    "- численные значения в столбцах creditscore, age, tenure, numofproducts и (balance, estimatedsalary) различаются в разы, а то и на порядки, поэтому потребуется масштабирование\n",
    "- в предположительно важном для модели столбце tenure около 10% данных пропущено. Похоже, что инструменты scikit-learn адекватно обработать их не смогут ([раз](https://scikit-learn.org/stable/modules/impute.html), [два](https://stackoverflow.com/questions/30317119/classifiers-in-scikit-learn-that-handle-nan-null)). Заполнять пропуски синтетическими данными типа медианного значения для данного региона или чего-то в этом роде считаю неправильным, поэтому с пропусками придется расстаться:("
   ]
  },
  {
   "cell_type": "markdown",
   "metadata": {},
   "source": [
    "### Удаление столбцов, удаление пропусков"
   ]
  },
  {
   "cell_type": "code",
   "execution_count": 8,
   "metadata": {},
   "outputs": [],
   "source": [
    "df = df.drop(['rownumber', 'customerid', 'surname'], axis=1)\n",
    "df = df.dropna()"
   ]
  },
  {
   "cell_type": "markdown",
   "metadata": {},
   "source": [
    "### Баланс значений exited и деление данных на выборки"
   ]
  },
  {
   "cell_type": "code",
   "execution_count": 9,
   "metadata": {},
   "outputs": [
    {
     "name": "stdout",
     "output_type": "stream",
     "text": [
      "Значение 1 в столбце exited имеет 20.4% датасета\n",
      "Значение 0 в столбце exited имеет 79.6% датасета\n"
     ]
    }
   ],
   "source": [
    "print(f\"Значение 1 в столбце exited имеет {df['exited'].sum() / df.shape[0]:.1%} датасета\")\n",
    "print(f\"Значение 0 в столбце exited имеет {1 - df['exited'].sum() / df.shape[0]:.1%} датасета\")"
   ]
  },
  {
   "cell_type": "markdown",
   "metadata": {},
   "source": [
    "**Разбиение данных на выборки**\n",
    "\n",
    "| Выборка      | Доля от общего количества данных, % |\n",
    "| ----------- | ----------- |\n",
    "| Обучающая (train)     | 60       |\n",
    "| Валидационная (valid)   | 20        |\n",
    "| Тестовая (test)   | 20        |\n",
    "\n",
    "Сперва отделим тестовую выборку, потом оставшиеся данные поделим на обучающую и валидационную"
   ]
  },
  {
   "cell_type": "code",
   "execution_count": 10,
   "metadata": {},
   "outputs": [
    {
     "name": "stdout",
     "output_type": "stream",
     "text": [
      "Размер обучающей выборки - 5454 - 60% от первоначального датасета\n",
      "Размер валидационной выборки - 1818 - 20% от первоначального датасета\n",
      "Размер тестовой выборки - 1819 - 20% от первоначального датасета\n"
     ]
    }
   ],
   "source": [
    "df_1, df_test = train_test_split(df, test_size=0.2, random_state=504)\n",
    "df_train, df_valid = train_test_split(df_1, test_size=.25, random_state=504)\n",
    "\n",
    "print(f'Размер обучающей выборки - {df_train.shape[0]} - {df_train.shape[0] / df.shape[0]:.0%} от первоначального датасета')\n",
    "print(f'Размер валидационной выборки - {df_valid.shape[0]} - {df_valid.shape[0] / df.shape[0]:.0%} от первоначального датасета')\n",
    "print(f'Размер тестовой выборки - {df_test.shape[0]} - {df_test.shape[0] / df.shape[0]:.0%} от первоначального датасета')"
   ]
  },
  {
   "cell_type": "code",
   "execution_count": 11,
   "metadata": {},
   "outputs": [],
   "source": [
    "numbers = ['creditscore', 'age', 'tenure', 'balance', 'numofproducts', 'estimatedsalary']\n",
    "scaler = StandardScaler()\n",
    "scaler.fit(df_train[numbers]) \n",
    "df_train.loc[:,numbers] = scaler.transform(df_train[numbers])\n",
    "df_valid.loc[:,numbers] = scaler.transform(df_valid[numbers])\n",
    "df_test.loc[:,numbers] = scaler.transform(df_test[numbers])"
   ]
  },
  {
   "cell_type": "markdown",
   "metadata": {},
   "source": [
    "### Кодирование"
   ]
  },
  {
   "cell_type": "code",
   "execution_count": 12,
   "metadata": {},
   "outputs": [],
   "source": [
    "encoder = OneHotEncoder(drop='first', dtype='int')\n",
    "enc_columns = ['geography', 'gender']\n",
    "encoder.fit(df_train.loc[:,enc_columns])\n",
    "\n",
    "def my_encoder(data, encoder):\n",
    "    enc_array = encoder.transform(data.loc[:,enc_columns]).toarray()\n",
    "    enc_data = pd.DataFrame(enc_array, columns=encoder.get_feature_names_out(enc_columns), index=data.index)\n",
    "    return(pd.concat([data, enc_data], axis=1).drop(enc_columns, axis=1))\n",
    "\n",
    "df_train = my_encoder(df_train, encoder)\n",
    "df_valid = my_encoder(df_valid, encoder)\n",
    "df_test = my_encoder(df_test, encoder)\n",
    "#df_valid.head()"
   ]
  },
  {
   "cell_type": "markdown",
   "metadata": {},
   "source": [
    "### Что получилось в итоге"
   ]
  },
  {
   "cell_type": "code",
   "execution_count": 13,
   "metadata": {},
   "outputs": [
    {
     "data": {
      "text/html": [
       "<div>\n",
       "<style scoped>\n",
       "    .dataframe tbody tr th:only-of-type {\n",
       "        vertical-align: middle;\n",
       "    }\n",
       "\n",
       "    .dataframe tbody tr th {\n",
       "        vertical-align: top;\n",
       "    }\n",
       "\n",
       "    .dataframe thead th {\n",
       "        text-align: right;\n",
       "    }\n",
       "</style>\n",
       "<table border=\"1\" class=\"dataframe\">\n",
       "  <thead>\n",
       "    <tr style=\"text-align: right;\">\n",
       "      <th></th>\n",
       "      <th>creditscore</th>\n",
       "      <th>age</th>\n",
       "      <th>tenure</th>\n",
       "      <th>balance</th>\n",
       "      <th>numofproducts</th>\n",
       "      <th>hascrcard</th>\n",
       "      <th>isactivemember</th>\n",
       "      <th>estimatedsalary</th>\n",
       "      <th>exited</th>\n",
       "      <th>geography_Germany</th>\n",
       "      <th>geography_Spain</th>\n",
       "      <th>gender_Male</th>\n",
       "    </tr>\n",
       "  </thead>\n",
       "  <tbody>\n",
       "    <tr>\n",
       "      <th>9482</th>\n",
       "      <td>0.572942</td>\n",
       "      <td>0.105031</td>\n",
       "      <td>-1.388161</td>\n",
       "      <td>-1.234102</td>\n",
       "      <td>0.805781</td>\n",
       "      <td>1</td>\n",
       "      <td>0</td>\n",
       "      <td>-1.497497</td>\n",
       "      <td>1</td>\n",
       "      <td>0</td>\n",
       "      <td>0</td>\n",
       "      <td>1</td>\n",
       "    </tr>\n",
       "    <tr>\n",
       "      <th>5426</th>\n",
       "      <td>-0.160891</td>\n",
       "      <td>-0.273642</td>\n",
       "      <td>-1.388161</td>\n",
       "      <td>-1.234102</td>\n",
       "      <td>-0.914943</td>\n",
       "      <td>1</td>\n",
       "      <td>0</td>\n",
       "      <td>-0.992684</td>\n",
       "      <td>0</td>\n",
       "      <td>0</td>\n",
       "      <td>1</td>\n",
       "      <td>0</td>\n",
       "    </tr>\n",
       "    <tr>\n",
       "      <th>3740</th>\n",
       "      <td>-0.026527</td>\n",
       "      <td>0.578371</td>\n",
       "      <td>0.683256</td>\n",
       "      <td>-1.234102</td>\n",
       "      <td>0.805781</td>\n",
       "      <td>0</td>\n",
       "      <td>1</td>\n",
       "      <td>-0.435287</td>\n",
       "      <td>0</td>\n",
       "      <td>0</td>\n",
       "      <td>0</td>\n",
       "      <td>1</td>\n",
       "    </tr>\n",
       "    <tr>\n",
       "      <th>6994</th>\n",
       "      <td>-0.977408</td>\n",
       "      <td>-1.409660</td>\n",
       "      <td>-0.352452</td>\n",
       "      <td>-1.234102</td>\n",
       "      <td>-0.914943</td>\n",
       "      <td>0</td>\n",
       "      <td>0</td>\n",
       "      <td>-1.385819</td>\n",
       "      <td>0</td>\n",
       "      <td>0</td>\n",
       "      <td>0</td>\n",
       "      <td>0</td>\n",
       "    </tr>\n",
       "    <tr>\n",
       "      <th>9561</th>\n",
       "      <td>0.273207</td>\n",
       "      <td>-0.273642</td>\n",
       "      <td>0.338020</td>\n",
       "      <td>0.665660</td>\n",
       "      <td>0.805781</td>\n",
       "      <td>1</td>\n",
       "      <td>0</td>\n",
       "      <td>-0.818225</td>\n",
       "      <td>0</td>\n",
       "      <td>1</td>\n",
       "      <td>0</td>\n",
       "      <td>1</td>\n",
       "    </tr>\n",
       "  </tbody>\n",
       "</table>\n",
       "</div>"
      ],
      "text/plain": [
       "      creditscore       age    tenure   balance  numofproducts  hascrcard  \\\n",
       "9482     0.572942  0.105031 -1.388161 -1.234102       0.805781          1   \n",
       "5426    -0.160891 -0.273642 -1.388161 -1.234102      -0.914943          1   \n",
       "3740    -0.026527  0.578371  0.683256 -1.234102       0.805781          0   \n",
       "6994    -0.977408 -1.409660 -0.352452 -1.234102      -0.914943          0   \n",
       "9561     0.273207 -0.273642  0.338020  0.665660       0.805781          1   \n",
       "\n",
       "      isactivemember  estimatedsalary  exited  geography_Germany  \\\n",
       "9482               0        -1.497497       1                  0   \n",
       "5426               0        -0.992684       0                  0   \n",
       "3740               1        -0.435287       0                  0   \n",
       "6994               0        -1.385819       0                  0   \n",
       "9561               0        -0.818225       0                  1   \n",
       "\n",
       "      geography_Spain  gender_Male  \n",
       "9482                0            1  \n",
       "5426                1            0  \n",
       "3740                0            1  \n",
       "6994                0            0  \n",
       "9561                0            1  "
      ]
     },
     "execution_count": 13,
     "metadata": {},
     "output_type": "execute_result"
    }
   ],
   "source": [
    "df_train.head()"
   ]
  },
  {
   "cell_type": "markdown",
   "metadata": {},
   "source": [
    "### Features & Targets"
   ]
  },
  {
   "cell_type": "code",
   "execution_count": 14,
   "metadata": {},
   "outputs": [
    {
     "name": "stdout",
     "output_type": "stream",
     "text": [
      "Значение 1 в столбце exited имеет 19.9% обучающей выборки\n",
      "Значение 1 в столбце exited имеет 20.8% валидационной выборки\n",
      "Значение 1 в столбце exited имеет 21.4% тестовой выборки\n"
     ]
    }
   ],
   "source": [
    "features_train = df_train.drop(['exited'], axis=1)\n",
    "target_train = df_train['exited']\n",
    "\n",
    "features_valid = df_valid.drop(['exited'], axis=1)\n",
    "target_valid = df_valid['exited']\n",
    "\n",
    "features_test = df_test.drop(['exited'], axis=1)\n",
    "target_test = df_test['exited']\n",
    "\n",
    "print(f\"Значение 1 в столбце exited имеет {target_train.sum() / target_train.shape[0]:.1%} обучающей выборки\")\n",
    "print(f\"Значение 1 в столбце exited имеет {target_valid.sum() / target_valid.shape[0]:.1%} валидационной выборки\")\n",
    "print(f\"Значение 1 в столбце exited имеет {target_test.sum() / target_test.shape[0]:.1%} тестовой выборки\")"
   ]
  },
  {
   "cell_type": "markdown",
   "metadata": {},
   "source": [
    "### Вывод\n",
    "\n",
    "**Выполнена подготовка данных:**\n",
    "- удалены лишние данные\n",
    "- удалены пропуски в данных\n",
    "- численные значения отмасштабированы\n",
    "- категориальные признаки закодированы\n",
    "- данные разделены на обучающую, валидационную и тестовую выборку в отношении 3:1:1\n",
    "- целевой признак несбалансирован в отношении приблизительно 1:4"
   ]
  },
  {
   "cell_type": "markdown",
   "metadata": {},
   "source": [
    "## Исследование задачи"
   ]
  },
  {
   "cell_type": "markdown",
   "metadata": {},
   "source": [
    "### План исследования\n",
    "Поскольку поставлена задача предсказания категориального признака (уйдет клиент или нет) то рассматриваться будут модели-классификаторы:\n",
    "- решающее дерево\n",
    "- случайный лес\n",
    "- логистическая регрессия\n",
    "\n",
    "Варьироваться будут следующие параметры:\n",
    "- максимальная глубина дерева (для решающего дерева и случайного леса)\n",
    "- максимальное количество деревьев (для случайного леса)\n",
    "- минимальное количество элементов листа (для решающего дерева и случайного леса)\n",
    "- критерий принятия решения: Джини или энтропийный (для решающего дерева и случайного леса)\n",
    "- количество итераций (для логистического регрессора)\n",
    "\n",
    "**В данном разделе будут исследованы модели для несбалансированного значения целевого признака**"
   ]
  },
  {
   "cell_type": "markdown",
   "metadata": {},
   "source": [
    "**Функция для обучения, предсказаний, построения ROC-кривой и вывода параметров**"
   ]
  },
  {
   "cell_type": "code",
   "execution_count": 15,
   "metadata": {},
   "outputs": [],
   "source": [
    "def roc(features_train, target_train, features_true, target_true, model):\n",
    "    model.fit(features_train, target_train)\n",
    "    predictions = model.predict(features_true)\n",
    "    probabilities = model.predict_proba(features_true)\n",
    "    probabilities_one = probabilities[:, 1]\n",
    "    print(f'F1 = {round(f1_score(target_true, predictions),2)}')\n",
    "    print(f'precision = {round(precision_score(target_true, predictions),2)}')\n",
    "    print(f'recall = {round(recall_score(target_true, predictions),2)}')\n",
    "    print(f'AUC-ROC = {round(roc_auc_score(target_true, probabilities_one),2)}')\n",
    "    print('\\n')\n",
    "    fpr, tpr, thresholds = roc_curve(target_true, probabilities_one)\n",
    "    plt.plot(fpr, tpr)\n",
    "    plt.xlim(0,1)\n",
    "    plt.ylim(0,1)\n",
    "    plt.xlabel('False Positive Rate')\n",
    "    plt.ylabel('True Positive Rate')\n",
    "    plt.title(model)"
   ]
  },
  {
   "cell_type": "markdown",
   "metadata": {},
   "source": [
    "### Решающие деревья"
   ]
  },
  {
   "cell_type": "code",
   "execution_count": 16,
   "metadata": {
    "scrolled": true
   },
   "outputs": [
    {
     "name": "stdout",
     "output_type": "stream",
     "text": [
      "{'criterion': 'gini', 'max_depth': 8, 'min_samples_leaf': 1, 'random_state': 504}\n"
     ]
    }
   ],
   "source": [
    "classifier = DecisionTreeClassifier()\n",
    "parameters = {'max_depth': range (1, 11),\n",
    "              'min_samples_leaf': range (1,5),\n",
    "              'criterion': ['gini', 'entropy'],\n",
    "             'random_state': [504]}\n",
    "grid = GridSearchCV(classifier, parameters, scoring='f1')\n",
    "grid.fit(features_train, target_train)\n",
    "best_tree_unb_parameters = grid.best_params_\n",
    "best_tree_unb = DecisionTreeClassifier(**best_tree_unb_parameters)\n",
    "joblib.dump(best_tree_unb, 'best_tree_unb.joblib')\n",
    "print(best_tree_unb_parameters)"
   ]
  },
  {
   "cell_type": "markdown",
   "metadata": {},
   "source": [
    "### Случайный лес"
   ]
  },
  {
   "cell_type": "code",
   "execution_count": 17,
   "metadata": {},
   "outputs": [
    {
     "name": "stdout",
     "output_type": "stream",
     "text": [
      "{'criterion': 'gini', 'max_depth': 10, 'min_samples_leaf': 4, 'n_estimators': 80, 'random_state': 504}\n"
     ]
    }
   ],
   "source": [
    "classifier = RandomForestClassifier()\n",
    "parameters = { 'n_estimators': range (40, 100, 20),\n",
    "              'max_depth': range (1, 11),\n",
    "              'min_samples_leaf': range (1,5),\n",
    "              'criterion': ['gini', 'entropy'],\n",
    "             'random_state': [504]}\n",
    "grid = GridSearchCV(classifier, parameters, scoring='f1')\n",
    "grid.fit(features_train, target_train)\n",
    "best_forest_unb_parameters = grid.best_params_\n",
    "best_forest_unb = RandomForestClassifier(**best_forest_unb_parameters)\n",
    "joblib.dump(best_forest_unb, 'best_forest_unb.joblib')\n",
    "print(best_forest_unb_parameters)"
   ]
  },
  {
   "cell_type": "markdown",
   "metadata": {},
   "source": [
    "###  Логистический регрессор"
   ]
  },
  {
   "cell_type": "code",
   "execution_count": 18,
   "metadata": {},
   "outputs": [
    {
     "name": "stdout",
     "output_type": "stream",
     "text": [
      "{'max_iter': 100, 'random_state': 504, 'solver': 'liblinear'}\n"
     ]
    }
   ],
   "source": [
    "classifier = LogisticRegression()\n",
    "parameters = { 'solver': ['liblinear'],\n",
    "              'max_iter': range (100, 1000, 100),\n",
    "             'random_state': [504]}\n",
    "grid = GridSearchCV(classifier, parameters, scoring='f1')\n",
    "grid.fit(features_train, target_train)\n",
    "best_log_unb_parameters = grid.best_params_\n",
    "best_log_unb = LogisticRegression(**best_log_unb_parameters)\n",
    "joblib.dump(best_log_unb, 'best_log_unb.joblib')\n",
    "print(best_log_unb_parameters)"
   ]
  },
  {
   "cell_type": "markdown",
   "metadata": {},
   "source": [
    "### Сравнение метрик для разных моделей"
   ]
  },
  {
   "cell_type": "code",
   "execution_count": 19,
   "metadata": {},
   "outputs": [
    {
     "name": "stdout",
     "output_type": "stream",
     "text": [
      "best_tree_unb.joblib\n",
      "F1 = 0.54\n",
      "precision = 0.73\n",
      "recall = 0.43\n",
      "AUC-ROC = 0.83\n",
      "\n",
      "\n",
      "best_forest_unb.joblib\n",
      "F1 = 0.55\n",
      "precision = 0.8\n",
      "recall = 0.42\n",
      "AUC-ROC = 0.87\n",
      "\n",
      "\n",
      "best_log_unb.joblib\n",
      "F1 = 0.28\n",
      "precision = 0.56\n",
      "recall = 0.19\n",
      "AUC-ROC = 0.76\n",
      "\n",
      "\n"
     ]
    },
    {
     "data": {
      "image/png": "[encoded data removed]",
      "text/plain": [
       "<Figure size 640x480 with 1 Axes>"
      ]
     },
     "metadata": {},
     "output_type": "display_data"
    }
   ],
   "source": [
    "model_list=['best_tree_unb.joblib', 'best_forest_unb.joblib', 'best_log_unb.joblib']\n",
    "\n",
    "plt.figure()\n",
    "\n",
    "for s in model_list:\n",
    "    print(s)\n",
    "    roc(features_train, target_train, features_valid, target_valid, joblib.load(s))\n",
    "    \n",
    "plt.legend(model_list)\n",
    "plt.title('')\n",
    "plt.show()    "
   ]
  },
  {
   "cell_type": "markdown",
   "metadata": {},
   "source": [
    "### Выводы\n",
    "**Обучены различные модели на несбалансированных данных**\n",
    "\n",
    "- Лучшие значения метрик показал случайный лес из 80 деревьев\n",
    "- ROC кривые и значение метрики AUC-ROC для всех трех моделей лучше, чем для случайного предсказания\n",
    "- у всех моделей достаточно высокие значения полноты, но проблемы с точностью, что говорит о том, что на несбалансированных данных получается много ложноположительных ответов\n",
    "- **Требуемое значение метрики F1 - не менее 0,59 не достигнуто**"
   ]
  },
  {
   "cell_type": "markdown",
   "metadata": {},
   "source": [
    "## Борьба с дисбалансом"
   ]
  },
  {
   "cell_type": "markdown",
   "metadata": {},
   "source": [
    "### План исследования\n",
    "\n",
    "Сперва попробуем спасти логистический регрессор, применив взвешивание классов или изменив порог классификации\n",
    "\n",
    "Затем планируется взять модель, показавшую себя лучше всего на несбалансированных данных и для нее применить следующие способы бансировки данных:\n",
    "- взвешивание классов\n",
    "- увеличение выборки\n",
    "- уменьшение выборки"
   ]
  },
  {
   "cell_type": "markdown",
   "metadata": {},
   "source": [
    "### Логистический регрессор"
   ]
  },
  {
   "cell_type": "markdown",
   "metadata": {},
   "source": [
    "#### Взвешивание классов"
   ]
  },
  {
   "cell_type": "code",
   "execution_count": 20,
   "metadata": {},
   "outputs": [
    {
     "name": "stdout",
     "output_type": "stream",
     "text": [
      "F1 = 0.5\n",
      "precision = 0.38\n",
      "recall = 0.72\n",
      "AUC-ROC = 0.77\n",
      "\n",
      "\n"
     ]
    },
    {
     "data": {
      "image/png": "[encoded data removed]",
      "text/plain": [
       "<Figure size 640x480 with 1 Axes>"
      ]
     },
     "metadata": {},
     "output_type": "display_data"
    }
   ],
   "source": [
    "plt.figure()\n",
    "roc(features_train, target_train, features_valid, target_valid, \\\n",
    "    LogisticRegression(**best_log_unb_parameters, class_weight='balanced'))\n",
    "plt.show()"
   ]
  },
  {
   "cell_type": "markdown",
   "metadata": {},
   "source": [
    "#### Изменение порога"
   ]
  },
  {
   "cell_type": "code",
   "execution_count": 21,
   "metadata": {},
   "outputs": [
    {
     "name": "stdout",
     "output_type": "stream",
     "text": [
      "treshold = 0.0\n",
      "F1 = 0.34\n",
      "AUC-ROC = 0.5\n",
      "\n",
      "\n",
      "treshold = 0.1\n",
      "F1 = 0.42\n",
      "AUC-ROC = 0.64\n",
      "\n",
      "\n",
      "treshold = 0.2\n",
      "F1 = 0.49\n",
      "AUC-ROC = 0.7\n",
      "\n",
      "\n",
      "treshold = 0.3\n",
      "F1 = 0.46\n",
      "AUC-ROC = 0.66\n",
      "\n",
      "\n",
      "treshold = 0.4\n",
      "F1 = 0.41\n",
      "AUC-ROC = 0.63\n",
      "\n",
      "\n",
      "treshold = 0.5\n",
      "F1 = 0.28\n",
      "AUC-ROC = 0.58\n",
      "\n",
      "\n"
     ]
    },
    {
     "data": {
      "image/png": "[encoded data removed]",
      "text/plain": [
       "<Figure size 640x480 with 1 Axes>"
      ]
     },
     "metadata": {},
     "output_type": "display_data"
    }
   ],
   "source": [
    "model = joblib.load('best_log_unb.joblib')\n",
    "model.fit(features_train, target_train)\n",
    "probabilities_valid = model.predict_proba(features_valid)\n",
    "probabilities_one_valid = probabilities_valid[:, 1]\n",
    "\n",
    "plt.figure()\n",
    "t = []\n",
    "for threshold in np.arange(0, 0.6, 0.1):\n",
    "    predictions = (probabilities_one_valid > threshold).astype(int) \n",
    "    print(f'treshold = {round(threshold,2)}')\n",
    "    t.append(round(threshold,2))\n",
    "    print(f'F1 = {round(f1_score(target_valid, predictions),2)}')\n",
    "    #print(f'precision = {round(precision_score(target_valid, predictions),2)}')\n",
    "    #print(f'recall = {round(recall_score(target_valid, predictions),2)}')\n",
    "    print(f'AUC-ROC = {round(roc_auc_score(target_valid, predictions),2)}')\n",
    "    fpr, tpr, thresholds = roc_curve(target_valid, predictions)\n",
    "    plt.plot(fpr, tpr)\n",
    "    plt.xlim(0,1)\n",
    "    plt.ylim(0,1)\n",
    "    plt.xlabel('False Positive Rate')\n",
    "    plt.ylabel('True Positive Rate')\n",
    "    print('\\n')\n",
    "plt.legend(t)\n",
    "plt.title('LogisticRegression - Tresholds')\n",
    "plt.show()"
   ]
  },
  {
   "cell_type": "markdown",
   "metadata": {},
   "source": [
    "#### Выводы\n",
    "\n",
    "Чтож, с логистическим регрессором не получилось. Значение метрики F1 не достигает требуемого."
   ]
  },
  {
   "cell_type": "markdown",
   "metadata": {},
   "source": [
    "### Различные способы балансировки для лучшей модели из раздела 2"
   ]
  },
  {
   "cell_type": "markdown",
   "metadata": {},
   "source": [
    "#### Взвешивание классов"
   ]
  },
  {
   "cell_type": "code",
   "execution_count": 22,
   "metadata": {},
   "outputs": [
    {
     "name": "stdout",
     "output_type": "stream",
     "text": [
      "F1 = 0.62\n",
      "precision = 0.6\n",
      "recall = 0.65\n",
      "AUC-ROC = 0.87\n",
      "\n",
      "\n"
     ]
    },
    {
     "data": {
      "image/png": "[encoded data removed]",
      "text/plain": [
       "<Figure size 640x480 with 1 Axes>"
      ]
     },
     "metadata": {},
     "output_type": "display_data"
    }
   ],
   "source": [
    "plt.figure()\n",
    "roc(features_train, target_train, features_valid, target_valid, \\\n",
    "    RandomForestClassifier(**best_forest_unb_parameters, class_weight='balanced'))\n",
    "plt.show()"
   ]
  },
  {
   "cell_type": "markdown",
   "metadata": {},
   "source": [
    "#### Увеличение выборки"
   ]
  },
  {
   "cell_type": "code",
   "execution_count": 23,
   "metadata": {},
   "outputs": [],
   "source": [
    "def upsample(features, target, n):\n",
    "    features_0 = features[target == 0]\n",
    "    features_1 = features[target == 1]\n",
    "    target_0 = target[target == 0]\n",
    "    target_1 = target[target == 1]\n",
    "    features_upsampled = pd.concat([features_0] + [features_1] * n)\n",
    "    target_upsampled = pd.concat([target_0] + [target_1] * n)\n",
    "    features_upsampled, target_upsampled = shuffle(features_upsampled, target_upsampled, random_state=504)\n",
    "    return features_upsampled, target_upsampled"
   ]
  },
  {
   "cell_type": "code",
   "execution_count": 24,
   "metadata": {},
   "outputs": [
    {
     "name": "stdout",
     "output_type": "stream",
     "text": [
      "F1 = 0.64\n",
      "precision = 0.58\n",
      "recall = 0.72\n",
      "AUC-ROC = 0.87\n",
      "\n",
      "\n"
     ]
    },
    {
     "data": {
      "image/png": "[encoded data removed]",
      "text/plain": [
       "<Figure size 640x480 with 1 Axes>"
      ]
     },
     "metadata": {},
     "output_type": "display_data"
    }
   ],
   "source": [
    "features_train_up, target_train_up = upsample(features_train, target_train, \\\n",
    "                                             round(int((target_train.count() - target_train.sum()) / target_train.sum()),0))\n",
    "\n",
    "plt.figure()\n",
    "roc(features_train_up, target_train_up, features_valid, target_valid, joblib.load('best_forest_unb.joblib'))\n",
    "plt.show()"
   ]
  },
  {
   "cell_type": "markdown",
   "metadata": {},
   "source": [
    "#### Уменьшение выборки"
   ]
  },
  {
   "cell_type": "code",
   "execution_count": 25,
   "metadata": {},
   "outputs": [],
   "source": [
    "def downsample(features, target, f):\n",
    "    features_0 = features[target == 0]\n",
    "    features_1 = features[target == 1]\n",
    "    target_0 = target[target == 0]\n",
    "    target_1 = target[target == 1]\n",
    "    features_downsampled = pd.concat([features_0.sample(frac=f, random_state=504)] + [features_1])\n",
    "    target_downsampled = pd.concat([target_0.sample(frac=f, random_state=504)] + [target_1])\n",
    "    features_downsampled, target_downsampled = shuffle(features_downsampled, target_downsampled, random_state=504)\n",
    "    return features_downsampled, target_downsampled"
   ]
  },
  {
   "cell_type": "code",
   "execution_count": 26,
   "metadata": {},
   "outputs": [
    {
     "name": "stdout",
     "output_type": "stream",
     "text": [
      "F1 = 0.61\n",
      "precision = 0.5\n",
      "recall = 0.8\n",
      "AUC-ROC = 0.87\n",
      "\n",
      "\n"
     ]
    },
    {
     "data": {
      "image/png": "[encoded data removed]",
      "text/plain": [
       "<Figure size 640x480 with 1 Axes>"
      ]
     },
     "metadata": {},
     "output_type": "display_data"
    }
   ],
   "source": [
    "features_train_down, target_train_down = downsample(features_train, target_train, \\\n",
    "                                                    1 / round(int((target_train.count() - target_train.sum()) \\\n",
    "                                                                  / target_train.sum()),0))\n",
    "\n",
    "plt.figure()\n",
    "roc(features_train_down, target_train_down, features_valid, target_valid, joblib.load('best_forest_unb.joblib'))\n",
    "plt.show()"
   ]
  },
  {
   "cell_type": "markdown",
   "metadata": {},
   "source": [
    "#### Вывод\n",
    "**Исследованы различные способы балансировки классов для лучшей выбранной в разделе 2 модели**\n",
    "- для всех способов достигнуто требуемое значение метрики F1\n",
    "- лучший результат достигнут увеличением выборки "
   ]
  },
  {
   "cell_type": "markdown",
   "metadata": {},
   "source": [
    "### Вывод\n",
    "**Исследованы различные способы балансировки данных, выбрана наилучшая модель: случайный лес, обученный на увеличенной выборке**"
   ]
  },
  {
   "cell_type": "markdown",
   "metadata": {},
   "source": [
    "## Тестирование модели"
   ]
  },
  {
   "cell_type": "markdown",
   "metadata": {},
   "source": [
    "### Тестирование"
   ]
  },
  {
   "cell_type": "code",
   "execution_count": 27,
   "metadata": {},
   "outputs": [
    {
     "name": "stdout",
     "output_type": "stream",
     "text": [
      "F1 = 0.62\n",
      "precision = 0.57\n",
      "recall = 0.67\n",
      "AUC-ROC = 0.86\n",
      "\n",
      "\n"
     ]
    },
    {
     "data": {
      "image/png": "[encoded data removed]",
      "text/plain": [
       "<Figure size 640x480 with 1 Axes>"
      ]
     },
     "metadata": {},
     "output_type": "display_data"
    }
   ],
   "source": [
    "plt.figure()\n",
    "roc(features_train_up, target_train_up, features_test, target_test, joblib.load('best_forest_unb.joblib'))\n",
    "plt.show()"
   ]
  },
  {
   "cell_type": "markdown",
   "metadata": {},
   "source": [
    "### Значимость признаков"
   ]
  },
  {
   "cell_type": "code",
   "execution_count": 28,
   "metadata": {},
   "outputs": [
    {
     "data": {
      "image/png": "[encoded data removed]",
      "text/plain": [
       "<Figure size 640x480 with 1 Axes>"
      ]
     },
     "metadata": {},
     "output_type": "display_data"
    }
   ],
   "source": [
    "feature_names = features_train.columns\n",
    "model = joblib.load('best_forest_unb.joblib')\n",
    "model.fit(features_train_up, target_train_up)\n",
    "importances = model.feature_importances_\n",
    "forest_importances = pd.Series(importances, index=feature_names).sort_values(ascending=False)\n",
    "plt.figure()\n",
    "forest_importances.plot.bar()\n",
    "plt.title(\"Feature importances\")\n",
    "plt.ylabel(\"Mean decrease in impurity\")\n",
    "plt.show()"
   ]
  },
  {
   "cell_type": "markdown",
   "metadata": {},
   "source": [
    "### Вывод\n",
    "\n",
    "**Для выбранной модели (случайный лес, обученный на увеличенной выборке) достигнуто значение F1 = 0,62, что удовлетворяет требованию F1 >= 0,59**\n",
    "\n",
    "**Рассмотрим признаки, которые модель сочла важными, и попытаемся найти этому объяснение**\n",
    "\n",
    "**Важные признаки**\n",
    "- Age — вроде все логично. Кажется, что с возрастом люди менее склонны менять что-либо, в том числе и банк\n",
    "- Balance — Тоже все сходится. Хранишь много денег в банке- меньше вероятность, что уйдешь: это будет не так просто\n",
    "- NumOfProducts — количество продуктов банка, используемых клиентом\n",
    "\n",
    "**Неважные признаки**\n",
    "- Gender — похоже на правду. Кажется, что с полом корреляции быть не должно\n",
    "- HasCrCard — наличие кредитной карты тоже, кажется, не должно влиять на лояльность клиента\n",
    "\n",
    "**Не все так однозначно**\n",
    "- Geography — казалось бы, страна проживания не должна влиять на лояльность, однако с фактом проживания в Германии что-то не то. Думаю, что это либо особенности банковской системы в Германии, либо артефакты в данных или модели\n",
    "- CreditScore — неожиданно слабое влияние. Казалось, бы, высокий кредитный рейтинг означает, что человек активно пользуется продуктами банка. Хотя, конечно, рейтинг не по одному банку составляется.\n",
    "- Tenure — тоже странно. обычно, если человек долго обслуживается, то он и лоялен в силу привычки. Возможно, проблема действительно в банке\n",
    "- IsActiveMember - что понимается под \"активностью\" не вполне понятно, поэтому выводы делать сложно\n",
    "- EstimatedSalary — А вот здесь вроде все сходится. Зарплату можно получать и в другом банке, а значит с балансом и лояльностью она не должна сильно коррелировать."
   ]
  },
  {
   "cell_type": "markdown",
   "metadata": {},
   "source": [
    "## Вывод по проекту\n",
    "\n",
    "**Выполнено:**\n",
    "- Первичный анализ данных\n",
    "- подготовка данных к обучению\n",
    "- формирование выборок\n",
    "- кодирование и масштабирование признаков\n",
    "- исследование различных моделей на несбалансированных данных\n",
    "- исследование различных способов балансировки данных для наиболее удачных моделей\n",
    "- исследование и анализ важности признаков для выбранной модели"
   ]
  }
 ],
 "metadata": {
  "ExecuteTimeLog": [
   {
    "duration": 1144,
    "start_time": "2023-04-05T05:20:18.551Z"
   },
   {
    "duration": 12,
    "start_time": "2023-04-05T05:21:39.606Z"
   },
   {
    "duration": 94,
    "start_time": "2023-04-05T05:22:06.495Z"
   },
   {
    "duration": 52,
    "start_time": "2023-04-05T05:22:18.137Z"
   },
   {
    "duration": 19,
    "start_time": "2023-04-05T05:22:29.599Z"
   },
   {
    "duration": 19,
    "start_time": "2023-04-05T05:22:46.831Z"
   },
   {
    "duration": 6,
    "start_time": "2023-04-05T05:23:07.820Z"
   },
   {
    "duration": 8,
    "start_time": "2023-04-05T05:24:21.886Z"
   },
   {
    "duration": 54,
    "start_time": "2023-04-05T05:24:26.585Z"
   },
   {
    "duration": 13,
    "start_time": "2023-04-05T05:24:31.432Z"
   },
   {
    "duration": 76,
    "start_time": "2023-04-05T05:34:48.946Z"
   },
   {
    "duration": 98,
    "start_time": "2023-04-05T05:35:25.770Z"
   },
   {
    "duration": 82,
    "start_time": "2023-04-05T05:35:41.495Z"
   },
   {
    "duration": 81,
    "start_time": "2023-04-05T05:36:40.140Z"
   },
   {
    "duration": 4,
    "start_time": "2023-04-05T05:37:18.106Z"
   },
   {
    "duration": 4,
    "start_time": "2023-04-05T05:37:23.692Z"
   },
   {
    "duration": 3,
    "start_time": "2023-04-05T05:37:50.495Z"
   },
   {
    "duration": 10,
    "start_time": "2023-04-05T05:37:59.735Z"
   },
   {
    "duration": 13,
    "start_time": "2023-04-05T05:41:10.305Z"
   },
   {
    "duration": 14,
    "start_time": "2023-04-05T05:55:40.674Z"
   },
   {
    "duration": 23,
    "start_time": "2023-04-05T05:55:57.370Z"
   },
   {
    "duration": 15,
    "start_time": "2023-04-05T05:56:27.754Z"
   },
   {
    "duration": 6,
    "start_time": "2023-04-05T06:02:36.799Z"
   },
   {
    "duration": 3,
    "start_time": "2023-04-05T06:07:46.124Z"
   },
   {
    "duration": 23,
    "start_time": "2023-04-05T06:07:53.239Z"
   },
   {
    "duration": 5,
    "start_time": "2023-04-05T06:08:08.426Z"
   },
   {
    "duration": 3,
    "start_time": "2023-04-05T06:08:33.809Z"
   },
   {
    "duration": 13,
    "start_time": "2023-04-05T06:08:36.465Z"
   },
   {
    "duration": 9,
    "start_time": "2023-04-05T06:08:38.391Z"
   },
   {
    "duration": 19,
    "start_time": "2023-04-05T06:08:39.240Z"
   },
   {
    "duration": 14,
    "start_time": "2023-04-05T06:08:42.157Z"
   },
   {
    "duration": 5,
    "start_time": "2023-04-05T06:15:09.099Z"
   },
   {
    "duration": 19,
    "start_time": "2023-04-05T06:17:12.082Z"
   },
   {
    "duration": 9,
    "start_time": "2023-04-05T07:04:07.966Z"
   },
   {
    "duration": 30,
    "start_time": "2023-04-05T07:08:59.431Z"
   },
   {
    "duration": 36,
    "start_time": "2023-04-05T07:09:05.729Z"
   },
   {
    "duration": 18,
    "start_time": "2023-04-05T07:09:28.431Z"
   },
   {
    "duration": 4,
    "start_time": "2023-04-05T07:11:12.864Z"
   },
   {
    "duration": 41,
    "start_time": "2023-04-05T07:11:13.766Z"
   },
   {
    "duration": 14,
    "start_time": "2023-04-05T07:11:14.292Z"
   },
   {
    "duration": 4,
    "start_time": "2023-04-05T07:11:15.274Z"
   },
   {
    "duration": 11,
    "start_time": "2023-04-05T07:11:15.974Z"
   },
   {
    "duration": 10,
    "start_time": "2023-04-05T07:11:16.610Z"
   },
   {
    "duration": 12,
    "start_time": "2023-04-05T07:11:17.100Z"
   },
   {
    "duration": 9,
    "start_time": "2023-04-05T07:11:18.627Z"
   },
   {
    "duration": 209,
    "start_time": "2023-04-05T07:11:23.280Z"
   },
   {
    "duration": 3,
    "start_time": "2023-04-05T07:12:02.482Z"
   },
   {
    "duration": 61,
    "start_time": "2023-04-05T07:12:03.130Z"
   },
   {
    "duration": 24,
    "start_time": "2023-04-05T07:12:03.501Z"
   },
   {
    "duration": 10,
    "start_time": "2023-04-05T07:12:04.070Z"
   },
   {
    "duration": 15,
    "start_time": "2023-04-05T07:12:04.703Z"
   },
   {
    "duration": 10,
    "start_time": "2023-04-05T07:12:05.270Z"
   },
   {
    "duration": 12,
    "start_time": "2023-04-05T07:12:07.417Z"
   },
   {
    "duration": 18,
    "start_time": "2023-04-05T07:12:11.242Z"
   },
   {
    "duration": 32,
    "start_time": "2023-04-05T07:12:13.269Z"
   },
   {
    "duration": 21,
    "start_time": "2023-04-05T07:13:02.692Z"
   },
   {
    "duration": 4,
    "start_time": "2023-04-05T07:13:09.072Z"
   },
   {
    "duration": 43,
    "start_time": "2023-04-05T07:13:10.092Z"
   },
   {
    "duration": 24,
    "start_time": "2023-04-05T07:13:10.429Z"
   },
   {
    "duration": 4,
    "start_time": "2023-04-05T07:13:11.413Z"
   },
   {
    "duration": 16,
    "start_time": "2023-04-05T07:13:12.077Z"
   },
   {
    "duration": 10,
    "start_time": "2023-04-05T07:13:12.906Z"
   },
   {
    "duration": 24,
    "start_time": "2023-04-05T07:13:13.587Z"
   },
   {
    "duration": 11,
    "start_time": "2023-04-05T07:13:16.302Z"
   },
   {
    "duration": 25,
    "start_time": "2023-04-05T07:13:17.808Z"
   },
   {
    "duration": 9,
    "start_time": "2023-04-05T07:13:41.383Z"
   },
   {
    "duration": 10,
    "start_time": "2023-04-05T07:15:31.779Z"
   },
   {
    "duration": 3,
    "start_time": "2023-04-05T07:16:14.537Z"
   },
   {
    "duration": 33,
    "start_time": "2023-04-05T07:22:38.030Z"
   },
   {
    "duration": 60,
    "start_time": "2023-04-05T07:22:47.035Z"
   },
   {
    "duration": 4,
    "start_time": "2023-04-05T07:24:22.011Z"
   },
   {
    "duration": 23,
    "start_time": "2023-04-05T07:24:37.371Z"
   },
   {
    "duration": 14,
    "start_time": "2023-04-05T07:25:01.063Z"
   },
   {
    "duration": 11,
    "start_time": "2023-04-05T07:25:12.620Z"
   },
   {
    "duration": 4,
    "start_time": "2023-04-05T07:25:29.771Z"
   },
   {
    "duration": 12,
    "start_time": "2023-04-05T07:33:17.084Z"
   },
   {
    "duration": 10,
    "start_time": "2023-04-05T07:50:57.429Z"
   },
   {
    "duration": 4,
    "start_time": "2023-04-05T07:51:18.080Z"
   },
   {
    "duration": 6232,
    "start_time": "2023-04-05T07:51:22.807Z"
   },
   {
    "duration": 4,
    "start_time": "2023-04-05T07:51:57.799Z"
   },
   {
    "duration": 6437,
    "start_time": "2023-04-05T07:52:03.239Z"
   },
   {
    "duration": 6260,
    "start_time": "2023-04-05T07:54:41.567Z"
   },
   {
    "duration": 375104,
    "start_time": "2023-04-05T07:56:38.770Z"
   },
   {
    "duration": 267525,
    "start_time": "2023-04-05T08:05:46.671Z"
   },
   {
    "duration": 74,
    "start_time": "2023-04-05T08:11:13.419Z"
   },
   {
    "duration": 1005,
    "start_time": "2023-04-05T08:12:00.418Z"
   },
   {
    "duration": 12,
    "start_time": "2023-04-05T08:12:21.309Z"
   },
   {
    "duration": 13,
    "start_time": "2023-04-05T08:12:37.019Z"
   },
   {
    "duration": 17,
    "start_time": "2023-04-05T08:16:01.494Z"
   },
   {
    "duration": 4256,
    "start_time": "2023-04-05T08:16:15.676Z"
   },
   {
    "duration": 641,
    "start_time": "2023-04-05T08:25:37.839Z"
   },
   {
    "duration": 5,
    "start_time": "2023-04-05T08:25:56.280Z"
   },
   {
    "duration": 581,
    "start_time": "2023-04-05T08:26:09.967Z"
   },
   {
    "duration": 612,
    "start_time": "2023-04-05T08:26:21.933Z"
   },
   {
    "duration": 534,
    "start_time": "2023-04-05T08:26:43.750Z"
   },
   {
    "duration": 609,
    "start_time": "2023-04-05T08:27:03.662Z"
   },
   {
    "duration": 4,
    "start_time": "2023-04-05T08:29:18.419Z"
   },
   {
    "duration": 871,
    "start_time": "2023-04-05T08:31:12.214Z"
   },
   {
    "duration": 4,
    "start_time": "2023-04-05T08:39:12.402Z"
   },
   {
    "duration": 68,
    "start_time": "2023-04-05T08:40:03.796Z"
   },
   {
    "duration": 530,
    "start_time": "2023-04-05T08:40:20.401Z"
   },
   {
    "duration": 1173,
    "start_time": "2023-04-05T08:40:26.864Z"
   },
   {
    "duration": 4,
    "start_time": "2023-04-05T08:48:14.774Z"
   },
   {
    "duration": 1226,
    "start_time": "2023-04-05T08:49:08.423Z"
   },
   {
    "duration": 1098,
    "start_time": "2023-04-05T08:51:00.041Z"
   },
   {
    "duration": 1057,
    "start_time": "2023-04-05T08:52:04.196Z"
   },
   {
    "duration": 1011,
    "start_time": "2023-04-05T08:53:11.624Z"
   },
   {
    "duration": 4484,
    "start_time": "2023-04-05T09:17:11.926Z"
   },
   {
    "duration": 204,
    "start_time": "2023-04-05T09:19:04.080Z"
   },
   {
    "duration": 84,
    "start_time": "2023-04-05T09:19:13.382Z"
   },
   {
    "duration": 331,
    "start_time": "2023-04-05T09:20:52.698Z"
   },
   {
    "duration": 4707,
    "start_time": "2023-04-05T09:23:24.491Z"
   },
   {
    "duration": 7142,
    "start_time": "2023-04-05T09:23:55.833Z"
   },
   {
    "duration": 275199,
    "start_time": "2023-04-05T09:24:08.606Z"
   },
   {
    "duration": 4,
    "start_time": "2023-04-05T09:28:51.698Z"
   },
   {
    "duration": 408,
    "start_time": "2023-04-05T09:29:46.796Z"
   },
   {
    "duration": 394,
    "start_time": "2023-04-05T09:31:55.300Z"
   },
   {
    "duration": 429,
    "start_time": "2023-04-05T09:32:06.075Z"
   },
   {
    "duration": 409,
    "start_time": "2023-04-05T09:32:19.370Z"
   },
   {
    "duration": 411,
    "start_time": "2023-04-05T09:32:38.876Z"
   },
   {
    "duration": 392,
    "start_time": "2023-04-05T09:33:33.893Z"
   },
   {
    "duration": 487,
    "start_time": "2023-04-05T09:34:59.611Z"
   },
   {
    "duration": 416,
    "start_time": "2023-04-05T09:35:22.001Z"
   },
   {
    "duration": 633,
    "start_time": "2023-04-05T09:37:12.826Z"
   },
   {
    "duration": 375,
    "start_time": "2023-04-05T09:37:30.994Z"
   },
   {
    "duration": 12,
    "start_time": "2023-04-05T09:38:43.962Z"
   },
   {
    "duration": 147,
    "start_time": "2023-04-05T09:39:27.619Z"
   },
   {
    "duration": 4,
    "start_time": "2023-04-05T09:40:00.817Z"
   },
   {
    "duration": 426,
    "start_time": "2023-04-05T09:41:22.181Z"
   },
   {
    "duration": 9,
    "start_time": "2023-04-05T09:41:30.666Z"
   },
   {
    "duration": 461,
    "start_time": "2023-04-05T09:45:56.460Z"
   },
   {
    "duration": 741,
    "start_time": "2023-04-05T09:46:56.408Z"
   },
   {
    "duration": 14,
    "start_time": "2023-04-05T09:56:34.366Z"
   },
   {
    "duration": 6,
    "start_time": "2023-04-05T09:56:42.969Z"
   },
   {
    "duration": 19,
    "start_time": "2023-04-05T09:56:44.107Z"
   },
   {
    "duration": 4,
    "start_time": "2023-04-05T09:57:00.996Z"
   },
   {
    "duration": 1054,
    "start_time": "2023-04-05T09:57:06.370Z"
   },
   {
    "duration": 1034,
    "start_time": "2023-04-05T09:57:43.483Z"
   },
   {
    "duration": 926,
    "start_time": "2023-04-05T09:57:55.186Z"
   },
   {
    "duration": 763,
    "start_time": "2023-04-05T09:58:03.439Z"
   },
   {
    "duration": 323,
    "start_time": "2023-04-05T09:58:10.766Z"
   },
   {
    "duration": 5,
    "start_time": "2023-04-05T10:03:19.318Z"
   },
   {
    "duration": 573,
    "start_time": "2023-04-05T10:04:37.210Z"
   },
   {
    "duration": 568,
    "start_time": "2023-04-05T10:04:56.167Z"
   },
   {
    "duration": 1132,
    "start_time": "2023-04-05T10:05:11.329Z"
   },
   {
    "duration": 681,
    "start_time": "2023-04-05T10:05:47.840Z"
   },
   {
    "duration": 486,
    "start_time": "2023-04-05T10:06:32.007Z"
   },
   {
    "duration": 421,
    "start_time": "2023-04-05T10:06:45.074Z"
   },
   {
    "duration": 480,
    "start_time": "2023-04-05T10:13:38.390Z"
   },
   {
    "duration": 508,
    "start_time": "2023-04-05T10:14:50.280Z"
   },
   {
    "duration": 756,
    "start_time": "2023-04-05T10:17:52.234Z"
   },
   {
    "duration": 12,
    "start_time": "2023-04-05T11:16:05.937Z"
   },
   {
    "duration": 58,
    "start_time": "2023-04-05T11:16:05.950Z"
   },
   {
    "duration": 13,
    "start_time": "2023-04-05T11:16:06.010Z"
   },
   {
    "duration": 35,
    "start_time": "2023-04-05T11:16:06.024Z"
   },
   {
    "duration": 27,
    "start_time": "2023-04-05T11:16:06.061Z"
   },
   {
    "duration": 7,
    "start_time": "2023-04-05T11:16:06.090Z"
   },
   {
    "duration": 16,
    "start_time": "2023-04-05T11:16:06.098Z"
   },
   {
    "duration": 7,
    "start_time": "2023-04-05T11:16:06.115Z"
   },
   {
    "duration": 52,
    "start_time": "2023-04-05T11:16:06.124Z"
   },
   {
    "duration": 16,
    "start_time": "2023-04-05T11:16:06.177Z"
   },
   {
    "duration": 28,
    "start_time": "2023-04-05T11:16:06.198Z"
   },
   {
    "duration": 10,
    "start_time": "2023-04-05T11:16:06.227Z"
   },
   {
    "duration": 39,
    "start_time": "2023-04-05T11:16:06.239Z"
   },
   {
    "duration": 6515,
    "start_time": "2023-04-05T11:16:06.288Z"
   },
   {
    "duration": 298661,
    "start_time": "2023-04-05T11:16:12.805Z"
   },
   {
    "duration": 5666,
    "start_time": "2023-04-05T11:21:11.468Z"
   },
   {
    "duration": 1357,
    "start_time": "2023-04-05T11:21:17.140Z"
   },
   {
    "duration": 424,
    "start_time": "2023-04-05T11:21:18.508Z"
   },
   {
    "duration": 704,
    "start_time": "2023-04-05T11:21:18.937Z"
   },
   {
    "duration": 811,
    "start_time": "2023-04-05T11:21:19.646Z"
   },
   {
    "duration": 5,
    "start_time": "2023-04-05T11:21:20.462Z"
   },
   {
    "duration": 1437,
    "start_time": "2023-04-05T11:21:20.472Z"
   },
   {
    "duration": 17,
    "start_time": "2023-04-05T11:21:21.925Z"
   },
   {
    "duration": 681,
    "start_time": "2023-04-05T11:21:21.949Z"
   },
   {
    "duration": 119,
    "start_time": "2023-04-05T11:21:22.632Z"
   },
   {
    "duration": 912,
    "start_time": "2023-04-05T11:21:22.753Z"
   },
   {
    "duration": 72,
    "start_time": "2023-04-06T10:04:27.582Z"
   },
   {
    "duration": 43,
    "start_time": "2023-04-06T10:04:58.922Z"
   },
   {
    "duration": 45,
    "start_time": "2023-04-06T10:10:46.079Z"
   },
   {
    "duration": 5,
    "start_time": "2023-04-06T10:15:52.414Z"
   },
   {
    "duration": 1443,
    "start_time": "2023-04-06T10:16:33.448Z"
   },
   {
    "duration": 78,
    "start_time": "2023-04-06T10:16:34.893Z"
   },
   {
    "duration": 16,
    "start_time": "2023-04-06T10:16:35.193Z"
   },
   {
    "duration": 3,
    "start_time": "2023-04-06T10:16:35.560Z"
   },
   {
    "duration": 13,
    "start_time": "2023-04-06T10:16:39.215Z"
   },
   {
    "duration": 8,
    "start_time": "2023-04-06T10:16:39.925Z"
   },
   {
    "duration": 12,
    "start_time": "2023-04-06T10:16:40.808Z"
   },
   {
    "duration": 8,
    "start_time": "2023-04-06T10:16:43.364Z"
   },
   {
    "duration": 24,
    "start_time": "2023-04-06T10:16:45.415Z"
   },
   {
    "duration": 10,
    "start_time": "2023-04-06T10:16:48.833Z"
   },
   {
    "duration": 12,
    "start_time": "2023-04-06T10:16:49.842Z"
   },
   {
    "duration": 4,
    "start_time": "2023-04-06T10:16:51.192Z"
   },
   {
    "duration": 13,
    "start_time": "2023-04-06T10:16:52.611Z"
   },
   {
    "duration": 4,
    "start_time": "2023-04-06T10:16:56.992Z"
   },
   {
    "duration": 5328,
    "start_time": "2023-04-06T10:18:52.120Z"
   },
   {
    "duration": 223639,
    "start_time": "2023-04-06T10:19:49.706Z"
   },
   {
    "duration": 4778,
    "start_time": "2023-04-06T10:25:48.691Z"
   },
   {
    "duration": 5,
    "start_time": "2023-04-06T10:31:28.009Z"
   },
   {
    "duration": 1578,
    "start_time": "2023-04-06T10:31:55.139Z"
   },
   {
    "duration": 1519,
    "start_time": "2023-04-06T10:32:39.869Z"
   },
   {
    "duration": 6,
    "start_time": "2023-04-06T10:33:28.114Z"
   },
   {
    "duration": 832,
    "start_time": "2023-04-06T10:33:33.399Z"
   },
   {
    "duration": 783,
    "start_time": "2023-04-06T10:33:57.096Z"
   },
   {
    "duration": 72,
    "start_time": "2023-04-06T10:35:42.006Z"
   },
   {
    "duration": 5,
    "start_time": "2023-04-06T10:36:10.944Z"
   },
   {
    "duration": 4,
    "start_time": "2023-04-06T10:36:25.751Z"
   },
   {
    "duration": 4,
    "start_time": "2023-04-06T10:36:52.261Z"
   },
   {
    "duration": 819,
    "start_time": "2023-04-06T10:36:59.061Z"
   },
   {
    "duration": 763,
    "start_time": "2023-04-06T10:37:44.421Z"
   },
   {
    "duration": 280,
    "start_time": "2023-04-06T10:38:08.994Z"
   },
   {
    "duration": 330,
    "start_time": "2023-04-06T10:40:38.004Z"
   },
   {
    "duration": 490,
    "start_time": "2023-04-06T10:43:26.091Z"
   },
   {
    "duration": 4,
    "start_time": "2023-04-06T10:44:54.604Z"
   },
   {
    "duration": 9,
    "start_time": "2023-04-06T10:45:31.012Z"
   },
   {
    "duration": 5,
    "start_time": "2023-04-06T10:47:49.581Z"
   },
   {
    "duration": 8,
    "start_time": "2023-04-06T10:48:17.503Z"
   },
   {
    "duration": 7,
    "start_time": "2023-04-06T10:48:43.893Z"
   },
   {
    "duration": 10,
    "start_time": "2023-04-06T10:48:55.241Z"
   },
   {
    "duration": 4,
    "start_time": "2023-04-06T10:48:59.922Z"
   },
   {
    "duration": 699,
    "start_time": "2023-04-06T10:49:01.996Z"
   },
   {
    "duration": 5,
    "start_time": "2023-04-06T10:49:05.927Z"
   },
   {
    "duration": 15,
    "start_time": "2023-04-06T10:49:26.806Z"
   },
   {
    "duration": 84,
    "start_time": "2023-04-06T10:49:58.128Z"
   },
   {
    "duration": 3,
    "start_time": "2023-04-06T10:51:20.500Z"
   },
   {
    "duration": 4,
    "start_time": "2023-04-06T10:51:30.443Z"
   },
   {
    "duration": 573,
    "start_time": "2023-04-06T10:56:14.967Z"
   },
   {
    "duration": 4,
    "start_time": "2023-04-06T10:57:15.640Z"
   },
   {
    "duration": 4,
    "start_time": "2023-04-06T10:58:02.171Z"
   },
   {
    "duration": 640,
    "start_time": "2023-04-06T10:58:06.009Z"
   },
   {
    "duration": 5,
    "start_time": "2023-04-06T10:58:15.637Z"
   },
   {
    "duration": 515,
    "start_time": "2023-04-06T10:59:16.333Z"
   },
   {
    "duration": 527,
    "start_time": "2023-04-06T10:59:50.258Z"
   },
   {
    "duration": 5,
    "start_time": "2023-04-06T11:01:30.750Z"
   },
   {
    "duration": 823,
    "start_time": "2023-04-06T11:01:40.238Z"
   },
   {
    "duration": 303,
    "start_time": "2023-04-06T11:01:54.936Z"
   },
   {
    "duration": 574,
    "start_time": "2023-04-06T11:02:11.586Z"
   },
   {
    "duration": 669,
    "start_time": "2023-04-06T11:02:36.253Z"
   },
   {
    "duration": 5,
    "start_time": "2023-04-06T11:02:54.695Z"
   },
   {
    "duration": 42,
    "start_time": "2023-04-06T11:03:26.201Z"
   },
   {
    "duration": 11,
    "start_time": "2023-04-06T11:04:48.970Z"
   },
   {
    "duration": 4,
    "start_time": "2023-04-06T11:04:54.194Z"
   },
   {
    "duration": 387,
    "start_time": "2023-04-06T11:04:56.116Z"
   },
   {
    "duration": 10,
    "start_time": "2023-04-06T11:10:17.073Z"
   },
   {
    "duration": 12,
    "start_time": "2023-04-06T11:13:15.428Z"
   },
   {
    "duration": 24,
    "start_time": "2023-04-06T11:15:03.838Z"
   },
   {
    "duration": 9,
    "start_time": "2023-04-06T11:16:19.307Z"
   },
   {
    "duration": 23,
    "start_time": "2023-04-06T11:16:28.719Z"
   },
   {
    "duration": 23,
    "start_time": "2023-04-06T11:16:53.093Z"
   },
   {
    "duration": 12,
    "start_time": "2023-04-06T11:17:45.799Z"
   },
   {
    "duration": 10,
    "start_time": "2023-04-06T11:18:13.826Z"
   },
   {
    "duration": 11,
    "start_time": "2023-04-06T11:18:18.881Z"
   },
   {
    "duration": 22,
    "start_time": "2023-04-06T11:18:45.305Z"
   },
   {
    "duration": 4,
    "start_time": "2023-04-06T11:50:20.888Z"
   },
   {
    "duration": 5,
    "start_time": "2023-04-06T11:51:50.623Z"
   },
   {
    "duration": 36,
    "start_time": "2023-04-06T11:51:51.709Z"
   },
   {
    "duration": 15,
    "start_time": "2023-04-06T11:51:52.083Z"
   },
   {
    "duration": 4,
    "start_time": "2023-04-06T11:51:52.638Z"
   },
   {
    "duration": 14,
    "start_time": "2023-04-06T11:51:53.212Z"
   },
   {
    "duration": 7,
    "start_time": "2023-04-06T11:51:54.303Z"
   },
   {
    "duration": 11,
    "start_time": "2023-04-06T11:51:54.887Z"
   },
   {
    "duration": 8,
    "start_time": "2023-04-06T11:51:57.319Z"
   },
   {
    "duration": 10,
    "start_time": "2023-04-06T11:52:02.309Z"
   },
   {
    "duration": 5,
    "start_time": "2023-04-06T11:52:07.279Z"
   },
   {
    "duration": 10,
    "start_time": "2023-04-06T11:52:11.094Z"
   },
   {
    "duration": 32,
    "start_time": "2023-04-06T11:52:15.954Z"
   },
   {
    "duration": 22,
    "start_time": "2023-04-06T11:52:32.197Z"
   },
   {
    "duration": 13,
    "start_time": "2023-04-06T11:52:33.703Z"
   },
   {
    "duration": 15,
    "start_time": "2023-04-06T11:52:36.583Z"
   },
   {
    "duration": 16,
    "start_time": "2023-04-06T11:53:07.207Z"
   },
   {
    "duration": 12,
    "start_time": "2023-04-06T11:53:12.028Z"
   },
   {
    "duration": 21,
    "start_time": "2023-04-06T11:53:25.994Z"
   },
   {
    "duration": 13,
    "start_time": "2023-04-06T11:53:27.878Z"
   },
   {
    "duration": 18,
    "start_time": "2023-04-06T11:53:31.067Z"
   },
   {
    "duration": 8,
    "start_time": "2023-04-06T11:54:27.616Z"
   },
   {
    "duration": 22,
    "start_time": "2023-04-06T11:54:31.423Z"
   },
   {
    "duration": 9,
    "start_time": "2023-04-06T11:54:33.150Z"
   },
   {
    "duration": 34,
    "start_time": "2023-04-06T11:54:33.772Z"
   },
   {
    "duration": 10,
    "start_time": "2023-04-06T11:54:37.087Z"
   },
   {
    "duration": 19,
    "start_time": "2023-04-06T11:59:31.058Z"
   },
   {
    "duration": 22,
    "start_time": "2023-04-06T11:59:52.658Z"
   },
   {
    "duration": 9,
    "start_time": "2023-04-06T12:02:02.947Z"
   },
   {
    "duration": 26,
    "start_time": "2023-04-06T12:02:08.059Z"
   },
   {
    "duration": 11,
    "start_time": "2023-04-06T12:02:32.793Z"
   },
   {
    "duration": 28,
    "start_time": "2023-04-06T12:03:51.322Z"
   },
   {
    "duration": 10,
    "start_time": "2023-04-06T12:03:53.180Z"
   },
   {
    "duration": 6,
    "start_time": "2023-04-06T12:03:59.378Z"
   },
   {
    "duration": 25,
    "start_time": "2023-04-06T12:04:16.195Z"
   },
   {
    "duration": 4,
    "start_time": "2023-04-06T12:04:29.422Z"
   },
   {
    "duration": 25,
    "start_time": "2023-04-06T12:07:17.206Z"
   },
   {
    "duration": 8,
    "start_time": "2023-04-06T12:07:19.119Z"
   },
   {
    "duration": 14,
    "start_time": "2023-04-06T12:07:24.177Z"
   },
   {
    "duration": 4,
    "start_time": "2023-04-06T12:10:08.771Z"
   },
   {
    "duration": 12,
    "start_time": "2023-04-06T12:11:11.517Z"
   },
   {
    "duration": 5,
    "start_time": "2023-04-06T12:11:12.911Z"
   },
   {
    "duration": 15,
    "start_time": "2023-04-06T12:11:19.299Z"
   },
   {
    "duration": 10,
    "start_time": "2023-04-06T12:11:28.299Z"
   },
   {
    "duration": 25,
    "start_time": "2023-04-06T12:11:43.088Z"
   },
   {
    "duration": 24,
    "start_time": "2023-04-06T12:11:59.907Z"
   },
   {
    "duration": 12,
    "start_time": "2023-04-06T12:12:14.854Z"
   },
   {
    "duration": 29,
    "start_time": "2023-04-06T12:12:27.056Z"
   },
   {
    "duration": 21,
    "start_time": "2023-04-06T12:12:33.891Z"
   },
   {
    "duration": 24,
    "start_time": "2023-04-06T12:12:38.788Z"
   },
   {
    "duration": 27,
    "start_time": "2023-04-06T12:13:31.955Z"
   },
   {
    "duration": 17,
    "start_time": "2023-04-06T12:13:36.950Z"
   },
   {
    "duration": 17,
    "start_time": "2023-04-06T12:13:43.522Z"
   },
   {
    "duration": 18,
    "start_time": "2023-04-06T12:14:28.701Z"
   },
   {
    "duration": 22,
    "start_time": "2023-04-06T12:14:41.556Z"
   },
   {
    "duration": 449,
    "start_time": "2023-04-06T12:14:51.153Z"
   },
   {
    "duration": 11,
    "start_time": "2023-04-06T12:14:54.158Z"
   },
   {
    "duration": 7,
    "start_time": "2023-04-06T12:15:04.642Z"
   },
   {
    "duration": 16,
    "start_time": "2023-04-06T12:15:42.209Z"
   },
   {
    "duration": 9,
    "start_time": "2023-04-06T12:15:42.950Z"
   },
   {
    "duration": 10,
    "start_time": "2023-04-06T12:15:47.975Z"
   },
   {
    "duration": 11,
    "start_time": "2023-04-06T12:15:51.491Z"
   },
   {
    "duration": 4,
    "start_time": "2023-04-06T12:15:55.718Z"
   },
   {
    "duration": 15,
    "start_time": "2023-04-06T12:16:03.514Z"
   },
   {
    "duration": 41,
    "start_time": "2023-04-06T12:16:10.085Z"
   },
   {
    "duration": 25,
    "start_time": "2023-04-06T12:16:10.364Z"
   },
   {
    "duration": 3,
    "start_time": "2023-04-06T12:16:10.708Z"
   },
   {
    "duration": 15,
    "start_time": "2023-04-06T12:16:11.080Z"
   },
   {
    "duration": 9,
    "start_time": "2023-04-06T12:16:11.452Z"
   },
   {
    "duration": 20,
    "start_time": "2023-04-06T12:16:11.798Z"
   },
   {
    "duration": 9,
    "start_time": "2023-04-06T12:16:13.363Z"
   },
   {
    "duration": 12,
    "start_time": "2023-04-06T12:16:16.050Z"
   },
   {
    "duration": 28,
    "start_time": "2023-04-06T12:16:16.990Z"
   },
   {
    "duration": 4,
    "start_time": "2023-04-06T12:16:21.711Z"
   },
   {
    "duration": 12,
    "start_time": "2023-04-06T12:22:51.694Z"
   },
   {
    "duration": 5,
    "start_time": "2023-04-06T12:22:53.158Z"
   },
   {
    "duration": 9,
    "start_time": "2023-04-06T12:22:58.152Z"
   },
   {
    "duration": 11,
    "start_time": "2023-04-06T12:23:02.684Z"
   },
   {
    "duration": 5,
    "start_time": "2023-04-06T12:23:13.379Z"
   },
   {
    "duration": 22,
    "start_time": "2023-04-06T12:40:23.955Z"
   },
   {
    "duration": 4,
    "start_time": "2023-04-06T12:40:25.460Z"
   },
   {
    "duration": 13,
    "start_time": "2023-04-06T12:44:20.679Z"
   },
   {
    "duration": 20,
    "start_time": "2023-04-06T12:46:17.668Z"
   },
   {
    "duration": 16,
    "start_time": "2023-04-06T12:46:57.366Z"
   },
   {
    "duration": 702,
    "start_time": "2023-04-06T12:47:51.084Z"
   },
   {
    "duration": 22,
    "start_time": "2023-04-06T12:48:03.162Z"
   },
   {
    "duration": 21,
    "start_time": "2023-04-06T12:48:08.606Z"
   },
   {
    "duration": 68,
    "start_time": "2023-04-06T12:48:48.786Z"
   },
   {
    "duration": 16,
    "start_time": "2023-04-06T12:48:54.494Z"
   },
   {
    "duration": 36,
    "start_time": "2023-04-06T12:49:16.484Z"
   },
   {
    "duration": 16,
    "start_time": "2023-04-06T12:49:41.679Z"
   },
   {
    "duration": 19,
    "start_time": "2023-04-06T12:51:08.762Z"
   },
   {
    "duration": 16,
    "start_time": "2023-04-06T12:52:24.046Z"
   },
   {
    "duration": 25,
    "start_time": "2023-04-06T12:52:52.450Z"
   },
   {
    "duration": 20,
    "start_time": "2023-04-06T12:53:07.507Z"
   },
   {
    "duration": 15,
    "start_time": "2023-04-06T12:53:28.693Z"
   },
   {
    "duration": 424,
    "start_time": "2023-04-06T12:53:38.802Z"
   },
   {
    "duration": 24,
    "start_time": "2023-04-06T12:53:48.454Z"
   },
   {
    "duration": 16,
    "start_time": "2023-04-06T12:53:54.624Z"
   },
   {
    "duration": 52,
    "start_time": "2023-04-06T12:54:00.789Z"
   },
   {
    "duration": 16,
    "start_time": "2023-04-06T12:54:07.097Z"
   },
   {
    "duration": 19,
    "start_time": "2023-04-06T12:54:14.981Z"
   },
   {
    "duration": 14,
    "start_time": "2023-04-06T12:55:28.935Z"
   },
   {
    "duration": 5,
    "start_time": "2023-04-06T12:56:47.899Z"
   },
   {
    "duration": 14,
    "start_time": "2023-04-06T12:57:13.774Z"
   },
   {
    "duration": 13,
    "start_time": "2023-04-06T12:57:59.218Z"
   },
   {
    "duration": 14,
    "start_time": "2023-04-06T12:58:02.210Z"
   },
   {
    "duration": 15,
    "start_time": "2023-04-06T12:58:45.455Z"
   },
   {
    "duration": 14,
    "start_time": "2023-04-06T12:58:50.191Z"
   },
   {
    "duration": 14,
    "start_time": "2023-04-06T12:59:17.506Z"
   },
   {
    "duration": 107,
    "start_time": "2023-04-06T12:59:56.600Z"
   },
   {
    "duration": 4,
    "start_time": "2023-04-06T13:00:06.301Z"
   },
   {
    "duration": 10,
    "start_time": "2023-04-06T13:00:30.496Z"
   },
   {
    "duration": 4,
    "start_time": "2023-04-06T13:00:32.483Z"
   },
   {
    "duration": 4,
    "start_time": "2023-04-06T13:03:45.407Z"
   },
   {
    "duration": 46,
    "start_time": "2023-04-06T13:03:45.414Z"
   },
   {
    "duration": 15,
    "start_time": "2023-04-06T13:03:45.463Z"
   },
   {
    "duration": 7,
    "start_time": "2023-04-06T13:03:45.480Z"
   },
   {
    "duration": 16,
    "start_time": "2023-04-06T13:03:45.490Z"
   },
   {
    "duration": 7,
    "start_time": "2023-04-06T13:03:45.508Z"
   },
   {
    "duration": 11,
    "start_time": "2023-04-06T13:03:45.517Z"
   },
   {
    "duration": 39,
    "start_time": "2023-04-06T13:03:45.530Z"
   },
   {
    "duration": 11,
    "start_time": "2023-04-06T13:03:45.571Z"
   },
   {
    "duration": 5,
    "start_time": "2023-04-06T13:03:45.584Z"
   },
   {
    "duration": 11,
    "start_time": "2023-04-06T13:03:45.592Z"
   },
   {
    "duration": 27,
    "start_time": "2023-04-06T13:03:45.605Z"
   },
   {
    "duration": 40,
    "start_time": "2023-04-06T13:03:45.633Z"
   },
   {
    "duration": 9,
    "start_time": "2023-04-06T13:03:45.675Z"
   },
   {
    "duration": 8,
    "start_time": "2023-04-06T13:03:45.686Z"
   },
   {
    "duration": 4,
    "start_time": "2023-04-06T13:03:45.696Z"
   },
   {
    "duration": 5462,
    "start_time": "2023-04-06T13:03:45.701Z"
   },
   {
    "duration": 224911,
    "start_time": "2023-04-06T13:03:51.164Z"
   },
   {
    "duration": 4616,
    "start_time": "2023-04-06T13:07:36.076Z"
   },
   {
    "duration": 797,
    "start_time": "2023-04-06T13:07:40.693Z"
   },
   {
    "duration": 298,
    "start_time": "2023-04-06T13:07:41.492Z"
   },
   {
    "duration": 364,
    "start_time": "2023-04-06T13:07:41.792Z"
   },
   {
    "duration": 589,
    "start_time": "2023-04-06T13:07:42.158Z"
   },
   {
    "duration": 4,
    "start_time": "2023-04-06T13:07:42.749Z"
   },
   {
    "duration": 683,
    "start_time": "2023-04-06T13:07:42.767Z"
   },
   {
    "duration": 4,
    "start_time": "2023-04-06T13:07:43.451Z"
   },
   {
    "duration": 391,
    "start_time": "2023-04-06T13:07:43.456Z"
   },
   {
    "duration": 59,
    "start_time": "2023-04-06T13:07:43.849Z"
   },
   {
    "duration": 490,
    "start_time": "2023-04-06T13:07:43.909Z"
   },
   {
    "duration": 3,
    "start_time": "2023-04-06T13:50:00.121Z"
   },
   {
    "duration": 676,
    "start_time": "2023-04-06T13:50:41.457Z"
   },
   {
    "duration": 1826,
    "start_time": "2023-04-06T16:00:46.455Z"
   },
   {
    "duration": 180,
    "start_time": "2023-04-06T16:00:48.283Z"
   },
   {
    "duration": 20,
    "start_time": "2023-04-06T16:00:48.465Z"
   },
   {
    "duration": 3,
    "start_time": "2023-04-06T16:00:48.487Z"
   },
   {
    "duration": 22,
    "start_time": "2023-04-06T16:00:48.493Z"
   },
   {
    "duration": 7,
    "start_time": "2023-04-06T16:00:48.517Z"
   },
   {
    "duration": 26,
    "start_time": "2023-04-06T16:00:48.525Z"
   },
   {
    "duration": 9,
    "start_time": "2023-04-06T16:00:48.553Z"
   },
   {
    "duration": 10,
    "start_time": "2023-04-06T16:00:48.563Z"
   },
   {
    "duration": 6,
    "start_time": "2023-04-06T16:00:48.575Z"
   },
   {
    "duration": 17,
    "start_time": "2023-04-06T16:00:48.582Z"
   },
   {
    "duration": 142,
    "start_time": "2023-04-06T16:00:48.600Z"
   },
   {
    "duration": 0,
    "start_time": "2023-04-06T16:00:48.743Z"
   },
   {
    "duration": 0,
    "start_time": "2023-04-06T16:00:48.745Z"
   },
   {
    "duration": 0,
    "start_time": "2023-04-06T16:00:48.746Z"
   },
   {
    "duration": 0,
    "start_time": "2023-04-06T16:00:48.746Z"
   },
   {
    "duration": 0,
    "start_time": "2023-04-06T16:00:48.747Z"
   },
   {
    "duration": 0,
    "start_time": "2023-04-06T16:00:48.749Z"
   },
   {
    "duration": 0,
    "start_time": "2023-04-06T16:00:48.751Z"
   },
   {
    "duration": 0,
    "start_time": "2023-04-06T16:00:48.752Z"
   },
   {
    "duration": 0,
    "start_time": "2023-04-06T16:00:48.753Z"
   },
   {
    "duration": 0,
    "start_time": "2023-04-06T16:00:48.754Z"
   },
   {
    "duration": 0,
    "start_time": "2023-04-06T16:00:48.755Z"
   },
   {
    "duration": 0,
    "start_time": "2023-04-06T16:00:48.756Z"
   },
   {
    "duration": 0,
    "start_time": "2023-04-06T16:00:48.758Z"
   },
   {
    "duration": 0,
    "start_time": "2023-04-06T16:00:48.759Z"
   },
   {
    "duration": 0,
    "start_time": "2023-04-06T16:00:48.760Z"
   },
   {
    "duration": 0,
    "start_time": "2023-04-06T16:00:48.761Z"
   },
   {
    "duration": 0,
    "start_time": "2023-04-06T16:00:48.762Z"
   },
   {
    "duration": 17,
    "start_time": "2023-04-06T16:01:25.364Z"
   },
   {
    "duration": 9,
    "start_time": "2023-04-06T16:02:14.260Z"
   },
   {
    "duration": 31,
    "start_time": "2023-04-06T16:02:30.581Z"
   },
   {
    "duration": 4,
    "start_time": "2023-04-06T16:47:25.590Z"
   },
   {
    "duration": 41,
    "start_time": "2023-04-06T16:47:27.525Z"
   },
   {
    "duration": 14,
    "start_time": "2023-04-06T16:47:28.189Z"
   },
   {
    "duration": 4,
    "start_time": "2023-04-06T16:47:28.788Z"
   },
   {
    "duration": 15,
    "start_time": "2023-04-06T16:47:29.688Z"
   },
   {
    "duration": 7,
    "start_time": "2023-04-06T16:47:30.308Z"
   },
   {
    "duration": 12,
    "start_time": "2023-04-06T16:47:31.057Z"
   },
   {
    "duration": 9,
    "start_time": "2023-04-06T16:47:33.303Z"
   },
   {
    "duration": 11,
    "start_time": "2023-04-06T16:47:36.888Z"
   },
   {
    "duration": 5,
    "start_time": "2023-04-06T16:47:57.857Z"
   },
   {
    "duration": 10,
    "start_time": "2023-04-06T16:48:04.303Z"
   },
   {
    "duration": 18,
    "start_time": "2023-04-06T16:49:00.095Z"
   },
   {
    "duration": 16,
    "start_time": "2023-04-06T16:49:10.488Z"
   },
   {
    "duration": 16,
    "start_time": "2023-04-06T16:49:13.484Z"
   },
   {
    "duration": 12,
    "start_time": "2023-04-06T16:49:19.827Z"
   },
   {
    "duration": 11,
    "start_time": "2023-04-06T16:49:24.190Z"
   },
   {
    "duration": 22,
    "start_time": "2023-04-06T16:49:46.140Z"
   },
   {
    "duration": 30,
    "start_time": "2023-04-06T16:51:26.569Z"
   },
   {
    "duration": 37,
    "start_time": "2023-04-06T16:52:05.442Z"
   },
   {
    "duration": 5,
    "start_time": "2023-04-06T16:52:17.009Z"
   },
   {
    "duration": 41,
    "start_time": "2023-04-06T16:52:18.395Z"
   },
   {
    "duration": 6,
    "start_time": "2023-04-06T16:52:49.523Z"
   },
   {
    "duration": 45,
    "start_time": "2023-04-06T16:52:51.469Z"
   },
   {
    "duration": 23,
    "start_time": "2023-04-06T16:52:52.138Z"
   },
   {
    "duration": 9,
    "start_time": "2023-04-06T16:52:53.333Z"
   },
   {
    "duration": 22,
    "start_time": "2023-04-06T16:52:54.044Z"
   },
   {
    "duration": 13,
    "start_time": "2023-04-06T16:52:54.825Z"
   },
   {
    "duration": 13,
    "start_time": "2023-04-06T16:52:55.564Z"
   },
   {
    "duration": 10,
    "start_time": "2023-04-06T16:52:59.204Z"
   },
   {
    "duration": 12,
    "start_time": "2023-04-06T16:53:01.765Z"
   },
   {
    "duration": 5,
    "start_time": "2023-04-06T16:53:06.574Z"
   },
   {
    "duration": 10,
    "start_time": "2023-04-06T16:53:10.653Z"
   },
   {
    "duration": 37,
    "start_time": "2023-04-06T16:53:23.196Z"
   },
   {
    "duration": 25,
    "start_time": "2023-04-06T16:54:22.948Z"
   },
   {
    "duration": 24,
    "start_time": "2023-04-06T16:54:50.791Z"
   },
   {
    "duration": 27,
    "start_time": "2023-04-06T16:55:07.260Z"
   },
   {
    "duration": 22,
    "start_time": "2023-04-06T16:55:41.417Z"
   },
   {
    "duration": 13,
    "start_time": "2023-04-06T16:56:06.704Z"
   },
   {
    "duration": 13,
    "start_time": "2023-04-06T16:57:03.747Z"
   },
   {
    "duration": 14,
    "start_time": "2023-04-06T16:57:48.154Z"
   },
   {
    "duration": 18,
    "start_time": "2023-04-06T16:58:07.095Z"
   },
   {
    "duration": 39,
    "start_time": "2023-04-06T16:58:13.104Z"
   },
   {
    "duration": 14,
    "start_time": "2023-04-06T16:58:13.450Z"
   },
   {
    "duration": 3,
    "start_time": "2023-04-06T16:58:13.772Z"
   },
   {
    "duration": 19,
    "start_time": "2023-04-06T16:58:14.565Z"
   },
   {
    "duration": 11,
    "start_time": "2023-04-06T16:58:15.188Z"
   },
   {
    "duration": 11,
    "start_time": "2023-04-06T16:58:16.999Z"
   },
   {
    "duration": 9,
    "start_time": "2023-04-06T16:58:19.026Z"
   },
   {
    "duration": 10,
    "start_time": "2023-04-06T16:58:20.664Z"
   },
   {
    "duration": 5,
    "start_time": "2023-04-06T16:58:23.360Z"
   },
   {
    "duration": 9,
    "start_time": "2023-04-06T16:58:26.492Z"
   },
   {
    "duration": 35,
    "start_time": "2023-04-06T16:58:32.371Z"
   },
   {
    "duration": 31,
    "start_time": "2023-04-06T17:07:56.614Z"
   },
   {
    "duration": 26,
    "start_time": "2023-04-06T17:08:37.603Z"
   },
   {
    "duration": 4,
    "start_time": "2023-04-06T17:11:21.662Z"
   },
   {
    "duration": 41,
    "start_time": "2023-04-06T17:11:23.308Z"
   },
   {
    "duration": 14,
    "start_time": "2023-04-06T17:11:24.015Z"
   },
   {
    "duration": 3,
    "start_time": "2023-04-06T17:11:24.659Z"
   },
   {
    "duration": 15,
    "start_time": "2023-04-06T17:11:25.162Z"
   },
   {
    "duration": 7,
    "start_time": "2023-04-06T17:11:25.634Z"
   },
   {
    "duration": 12,
    "start_time": "2023-04-06T17:11:26.128Z"
   },
   {
    "duration": 11,
    "start_time": "2023-04-06T17:11:27.717Z"
   },
   {
    "duration": 12,
    "start_time": "2023-04-06T17:11:29.973Z"
   },
   {
    "duration": 5,
    "start_time": "2023-04-06T17:11:36.304Z"
   },
   {
    "duration": 9,
    "start_time": "2023-04-06T17:11:37.395Z"
   },
   {
    "duration": 28,
    "start_time": "2023-04-06T17:11:39.372Z"
   },
   {
    "duration": 26,
    "start_time": "2023-04-06T17:12:23.930Z"
   },
   {
    "duration": 26,
    "start_time": "2023-04-06T17:12:49.837Z"
   },
   {
    "duration": 72,
    "start_time": "2023-04-06T17:20:04.691Z"
   },
   {
    "duration": 27,
    "start_time": "2023-04-06T17:20:42.598Z"
   },
   {
    "duration": 12,
    "start_time": "2023-04-06T17:20:45.589Z"
   },
   {
    "duration": 14,
    "start_time": "2023-04-06T17:20:46.343Z"
   },
   {
    "duration": 15,
    "start_time": "2023-04-06T17:20:52.565Z"
   },
   {
    "duration": 5,
    "start_time": "2023-04-06T17:21:44.698Z"
   },
   {
    "duration": 50,
    "start_time": "2023-04-06T17:21:45.999Z"
   },
   {
    "duration": 15,
    "start_time": "2023-04-06T17:21:46.867Z"
   },
   {
    "duration": 4,
    "start_time": "2023-04-06T17:21:47.875Z"
   },
   {
    "duration": 12,
    "start_time": "2023-04-06T17:21:49.044Z"
   },
   {
    "duration": 8,
    "start_time": "2023-04-06T17:21:50.415Z"
   },
   {
    "duration": 11,
    "start_time": "2023-04-06T17:21:50.954Z"
   },
   {
    "duration": 8,
    "start_time": "2023-04-06T17:21:52.906Z"
   },
   {
    "duration": 10,
    "start_time": "2023-04-06T17:21:54.836Z"
   },
   {
    "duration": 7,
    "start_time": "2023-04-06T17:21:57.590Z"
   },
   {
    "duration": 9,
    "start_time": "2023-04-06T17:21:59.168Z"
   },
   {
    "duration": 29,
    "start_time": "2023-04-06T17:22:00.787Z"
   },
   {
    "duration": 14,
    "start_time": "2023-04-06T17:22:04.785Z"
   },
   {
    "duration": 18,
    "start_time": "2023-04-06T17:22:06.196Z"
   },
   {
    "duration": 28,
    "start_time": "2023-04-06T17:22:57.553Z"
   },
   {
    "duration": 11,
    "start_time": "2023-04-06T17:23:01.125Z"
   },
   {
    "duration": 11,
    "start_time": "2023-04-06T17:23:01.914Z"
   },
   {
    "duration": 12,
    "start_time": "2023-04-06T17:23:10.622Z"
   },
   {
    "duration": 12,
    "start_time": "2023-04-06T17:36:51.321Z"
   },
   {
    "duration": 16,
    "start_time": "2023-04-06T17:38:20.675Z"
   },
   {
    "duration": 27,
    "start_time": "2023-04-06T17:38:58.189Z"
   },
   {
    "duration": 15,
    "start_time": "2023-04-06T17:39:24.262Z"
   },
   {
    "duration": 13,
    "start_time": "2023-04-06T17:39:32.386Z"
   },
   {
    "duration": 15,
    "start_time": "2023-04-06T17:39:46.312Z"
   },
   {
    "duration": 17,
    "start_time": "2023-04-06T17:40:23.701Z"
   },
   {
    "duration": 15,
    "start_time": "2023-04-06T17:40:58.523Z"
   },
   {
    "duration": 50,
    "start_time": "2023-04-07T03:10:38.501Z"
   },
   {
    "duration": 7,
    "start_time": "2023-04-07T03:10:38.919Z"
   },
   {
    "duration": 1537,
    "start_time": "2023-04-07T03:10:41.912Z"
   },
   {
    "duration": 177,
    "start_time": "2023-04-07T03:10:45.251Z"
   },
   {
    "duration": 18,
    "start_time": "2023-04-07T03:10:46.463Z"
   },
   {
    "duration": 3,
    "start_time": "2023-04-07T03:10:47.351Z"
   },
   {
    "duration": 12,
    "start_time": "2023-04-07T03:10:47.897Z"
   },
   {
    "duration": 8,
    "start_time": "2023-04-07T03:10:48.817Z"
   },
   {
    "duration": 12,
    "start_time": "2023-04-07T03:10:49.661Z"
   },
   {
    "duration": 9,
    "start_time": "2023-04-07T03:10:52.497Z"
   },
   {
    "duration": 13,
    "start_time": "2023-04-07T03:11:13.960Z"
   },
   {
    "duration": 3,
    "start_time": "2023-04-07T03:11:14.969Z"
   },
   {
    "duration": 4,
    "start_time": "2023-04-07T03:11:20.606Z"
   },
   {
    "duration": 9,
    "start_time": "2023-04-07T03:11:24.539Z"
   },
   {
    "duration": 28,
    "start_time": "2023-04-07T03:11:28.109Z"
   },
   {
    "duration": 5,
    "start_time": "2023-04-07T03:13:33.872Z"
   },
   {
    "duration": 28,
    "start_time": "2023-04-07T03:13:49.727Z"
   },
   {
    "duration": 86,
    "start_time": "2023-04-07T03:20:44.701Z"
   },
   {
    "duration": 4,
    "start_time": "2023-04-07T03:29:14.180Z"
   },
   {
    "duration": 4,
    "start_time": "2023-04-07T03:29:55.710Z"
   },
   {
    "duration": 14,
    "start_time": "2023-04-07T03:30:18.883Z"
   },
   {
    "duration": 25,
    "start_time": "2023-04-07T03:30:24.021Z"
   },
   {
    "duration": 10,
    "start_time": "2023-04-07T03:34:58.451Z"
   },
   {
    "duration": 15,
    "start_time": "2023-04-07T03:35:08.262Z"
   },
   {
    "duration": 15,
    "start_time": "2023-04-07T03:36:06.047Z"
   },
   {
    "duration": 18,
    "start_time": "2023-04-07T03:36:12.150Z"
   },
   {
    "duration": 21,
    "start_time": "2023-04-07T03:36:20.577Z"
   },
   {
    "duration": 27,
    "start_time": "2023-04-07T03:36:30.076Z"
   },
   {
    "duration": 25,
    "start_time": "2023-04-07T03:38:45.514Z"
   },
   {
    "duration": 24,
    "start_time": "2023-04-07T03:39:00.027Z"
   },
   {
    "duration": 20,
    "start_time": "2023-04-07T03:39:14.206Z"
   },
   {
    "duration": 19,
    "start_time": "2023-04-07T03:39:19.834Z"
   },
   {
    "duration": 23,
    "start_time": "2023-04-07T03:39:30.845Z"
   },
   {
    "duration": 24,
    "start_time": "2023-04-07T03:41:15.449Z"
   },
   {
    "duration": 40,
    "start_time": "2023-04-07T03:41:20.740Z"
   },
   {
    "duration": 30,
    "start_time": "2023-04-07T03:42:19.471Z"
   },
   {
    "duration": 46,
    "start_time": "2023-04-07T03:42:41.267Z"
   },
   {
    "duration": 408,
    "start_time": "2023-04-07T03:43:00.127Z"
   },
   {
    "duration": 22,
    "start_time": "2023-04-07T03:44:05.812Z"
   },
   {
    "duration": 42,
    "start_time": "2023-04-07T03:44:12.565Z"
   },
   {
    "duration": 45,
    "start_time": "2023-04-07T03:48:10.976Z"
   },
   {
    "duration": 32,
    "start_time": "2023-04-07T03:48:56.009Z"
   },
   {
    "duration": 37,
    "start_time": "2023-04-07T03:49:17.923Z"
   },
   {
    "duration": 14,
    "start_time": "2023-04-07T03:49:18.740Z"
   },
   {
    "duration": 3,
    "start_time": "2023-04-07T03:49:19.629Z"
   },
   {
    "duration": 11,
    "start_time": "2023-04-07T03:49:20.631Z"
   },
   {
    "duration": 7,
    "start_time": "2023-04-07T03:49:21.255Z"
   },
   {
    "duration": 11,
    "start_time": "2023-04-07T03:49:21.742Z"
   },
   {
    "duration": 9,
    "start_time": "2023-04-07T03:49:24.048Z"
   },
   {
    "duration": 2,
    "start_time": "2023-04-07T03:49:26.777Z"
   },
   {
    "duration": 4,
    "start_time": "2023-04-07T03:49:34.454Z"
   },
   {
    "duration": 8,
    "start_time": "2023-04-07T03:49:35.948Z"
   },
   {
    "duration": 36,
    "start_time": "2023-04-07T03:49:53.868Z"
   },
   {
    "duration": 11,
    "start_time": "2023-04-07T03:50:10.160Z"
   },
   {
    "duration": 15,
    "start_time": "2023-04-07T03:50:20.804Z"
   },
   {
    "duration": 27,
    "start_time": "2023-04-07T03:51:54.709Z"
   },
   {
    "duration": 25,
    "start_time": "2023-04-07T03:52:08.916Z"
   },
   {
    "duration": 19,
    "start_time": "2023-04-07T03:52:22.906Z"
   },
   {
    "duration": 26,
    "start_time": "2023-04-07T03:53:16.113Z"
   },
   {
    "duration": 35,
    "start_time": "2023-04-07T03:54:27.781Z"
   },
   {
    "duration": 33,
    "start_time": "2023-04-07T03:54:53.955Z"
   },
   {
    "duration": 15,
    "start_time": "2023-04-07T03:55:06.009Z"
   },
   {
    "duration": 16,
    "start_time": "2023-04-07T03:55:20.917Z"
   },
   {
    "duration": 16,
    "start_time": "2023-04-07T03:55:36.316Z"
   },
   {
    "duration": 11,
    "start_time": "2023-04-07T03:55:43.783Z"
   },
   {
    "duration": 56,
    "start_time": "2023-04-07T03:55:44.752Z"
   },
   {
    "duration": 16,
    "start_time": "2023-04-07T03:55:45.077Z"
   },
   {
    "duration": 6,
    "start_time": "2023-04-07T03:55:45.396Z"
   },
   {
    "duration": 10,
    "start_time": "2023-04-07T03:55:45.728Z"
   },
   {
    "duration": 7,
    "start_time": "2023-04-07T03:55:46.048Z"
   },
   {
    "duration": 13,
    "start_time": "2023-04-07T03:55:46.378Z"
   },
   {
    "duration": 12,
    "start_time": "2023-04-07T03:55:47.990Z"
   },
   {
    "duration": 2,
    "start_time": "2023-04-07T03:55:48.968Z"
   },
   {
    "duration": 4,
    "start_time": "2023-04-07T03:55:53.256Z"
   },
   {
    "duration": 8,
    "start_time": "2023-04-07T03:55:54.507Z"
   },
   {
    "duration": 26,
    "start_time": "2023-04-07T03:55:55.633Z"
   },
   {
    "duration": 31,
    "start_time": "2023-04-07T03:55:58.662Z"
   },
   {
    "duration": 18,
    "start_time": "2023-04-07T04:12:28.161Z"
   },
   {
    "duration": 15,
    "start_time": "2023-04-07T04:12:42.815Z"
   },
   {
    "duration": 103,
    "start_time": "2023-04-07T04:12:42.847Z"
   },
   {
    "duration": 16,
    "start_time": "2023-04-07T04:12:42.952Z"
   },
   {
    "duration": 5,
    "start_time": "2023-04-07T04:12:42.970Z"
   },
   {
    "duration": 23,
    "start_time": "2023-04-07T04:12:43.275Z"
   },
   {
    "duration": 74,
    "start_time": "2023-04-07T04:12:43.305Z"
   },
   {
    "duration": 76,
    "start_time": "2023-04-07T04:12:43.381Z"
   },
   {
    "duration": 47,
    "start_time": "2023-04-07T04:12:43.459Z"
   },
   {
    "duration": 8,
    "start_time": "2023-04-07T04:12:44.319Z"
   },
   {
    "duration": 42,
    "start_time": "2023-04-07T04:12:44.328Z"
   },
   {
    "duration": 11,
    "start_time": "2023-04-07T04:12:44.767Z"
   },
   {
    "duration": 153,
    "start_time": "2023-04-07T04:12:44.781Z"
   },
   {
    "duration": 33,
    "start_time": "2023-04-07T04:12:52.627Z"
   },
   {
    "duration": 31,
    "start_time": "2023-04-07T04:13:13.420Z"
   },
   {
    "duration": 30,
    "start_time": "2023-04-07T04:13:40.320Z"
   },
   {
    "duration": 17,
    "start_time": "2023-04-07T04:14:33.258Z"
   },
   {
    "duration": 11,
    "start_time": "2023-04-07T04:14:44.913Z"
   },
   {
    "duration": 121,
    "start_time": "2023-04-07T04:14:44.932Z"
   },
   {
    "duration": 95,
    "start_time": "2023-04-07T04:14:45.055Z"
   },
   {
    "duration": 16,
    "start_time": "2023-04-07T04:14:45.153Z"
   },
   {
    "duration": 86,
    "start_time": "2023-04-07T04:14:45.172Z"
   },
   {
    "duration": 27,
    "start_time": "2023-04-07T04:14:45.261Z"
   },
   {
    "duration": 74,
    "start_time": "2023-04-07T04:14:45.294Z"
   },
   {
    "duration": 70,
    "start_time": "2023-04-07T04:14:45.369Z"
   },
   {
    "duration": 16,
    "start_time": "2023-04-07T04:14:45.444Z"
   },
   {
    "duration": 4,
    "start_time": "2023-04-07T04:14:46.544Z"
   },
   {
    "duration": 11,
    "start_time": "2023-04-07T04:14:47.174Z"
   },
   {
    "duration": 87,
    "start_time": "2023-04-07T04:14:47.192Z"
   },
   {
    "duration": 39,
    "start_time": "2023-04-07T04:14:48.456Z"
   },
   {
    "duration": 0,
    "start_time": "2023-04-07T04:14:48.502Z"
   },
   {
    "duration": 0,
    "start_time": "2023-04-07T04:14:48.503Z"
   },
   {
    "duration": 0,
    "start_time": "2023-04-07T04:14:48.506Z"
   },
   {
    "duration": 0,
    "start_time": "2023-04-07T04:14:48.510Z"
   },
   {
    "duration": 20,
    "start_time": "2023-04-07T04:14:49.223Z"
   },
   {
    "duration": 0,
    "start_time": "2023-04-07T04:14:49.245Z"
   },
   {
    "duration": 12,
    "start_time": "2023-04-07T04:14:50.455Z"
   },
   {
    "duration": 0,
    "start_time": "2023-04-07T04:14:50.469Z"
   },
   {
    "duration": 0,
    "start_time": "2023-04-07T04:14:50.471Z"
   },
   {
    "duration": 0,
    "start_time": "2023-04-07T04:14:50.472Z"
   },
   {
    "duration": 0,
    "start_time": "2023-04-07T04:14:50.474Z"
   },
   {
    "duration": 25,
    "start_time": "2023-04-07T04:14:50.810Z"
   },
   {
    "duration": 15,
    "start_time": "2023-04-07T04:14:51.211Z"
   },
   {
    "duration": 0,
    "start_time": "2023-04-07T04:14:51.228Z"
   },
   {
    "duration": 11,
    "start_time": "2023-04-07T04:14:51.552Z"
   },
   {
    "duration": 0,
    "start_time": "2023-04-07T04:14:51.565Z"
   },
   {
    "duration": 0,
    "start_time": "2023-04-07T04:14:51.566Z"
   },
   {
    "duration": 8,
    "start_time": "2023-04-07T04:15:49.835Z"
   },
   {
    "duration": 71,
    "start_time": "2023-04-07T04:15:49.848Z"
   },
   {
    "duration": 24,
    "start_time": "2023-04-07T04:15:49.922Z"
   },
   {
    "duration": 7,
    "start_time": "2023-04-07T04:15:49.959Z"
   },
   {
    "duration": 21,
    "start_time": "2023-04-07T04:15:49.968Z"
   },
   {
    "duration": 78,
    "start_time": "2023-04-07T04:15:49.992Z"
   },
   {
    "duration": 24,
    "start_time": "2023-04-07T04:15:50.072Z"
   },
   {
    "duration": 52,
    "start_time": "2023-04-07T04:15:50.105Z"
   },
   {
    "duration": 3,
    "start_time": "2023-04-07T04:15:50.159Z"
   },
   {
    "duration": 8,
    "start_time": "2023-04-07T04:15:50.164Z"
   },
   {
    "duration": 16,
    "start_time": "2023-04-07T04:15:50.173Z"
   },
   {
    "duration": 28,
    "start_time": "2023-04-07T04:15:50.732Z"
   },
   {
    "duration": 58,
    "start_time": "2023-04-07T04:15:56.632Z"
   },
   {
    "duration": 7,
    "start_time": "2023-04-07T04:16:19.937Z"
   },
   {
    "duration": 68,
    "start_time": "2023-04-07T04:16:20.008Z"
   },
   {
    "duration": 36,
    "start_time": "2023-04-07T04:16:20.079Z"
   },
   {
    "duration": 58,
    "start_time": "2023-04-07T04:16:20.117Z"
   },
   {
    "duration": 97,
    "start_time": "2023-04-07T04:16:20.177Z"
   },
   {
    "duration": 67,
    "start_time": "2023-04-07T04:16:20.277Z"
   },
   {
    "duration": 46,
    "start_time": "2023-04-07T04:16:20.349Z"
   },
   {
    "duration": 74,
    "start_time": "2023-04-07T04:16:20.397Z"
   },
   {
    "duration": 75,
    "start_time": "2023-04-07T04:16:20.473Z"
   },
   {
    "duration": 28,
    "start_time": "2023-04-07T04:16:20.550Z"
   },
   {
    "duration": 94,
    "start_time": "2023-04-07T04:16:20.580Z"
   },
   {
    "duration": 96,
    "start_time": "2023-04-07T04:16:20.676Z"
   },
   {
    "duration": 28,
    "start_time": "2023-04-07T04:16:20.774Z"
   },
   {
    "duration": 63,
    "start_time": "2023-04-07T04:16:20.804Z"
   },
   {
    "duration": 29,
    "start_time": "2023-04-07T04:16:20.869Z"
   },
   {
    "duration": 58,
    "start_time": "2023-04-07T04:16:20.899Z"
   },
   {
    "duration": 88,
    "start_time": "2023-04-07T04:16:20.959Z"
   },
   {
    "duration": 7157,
    "start_time": "2023-04-07T04:16:21.049Z"
   },
   {
    "duration": 284951,
    "start_time": "2023-04-07T04:16:28.208Z"
   },
   {
    "duration": 1,
    "start_time": "2023-04-07T04:21:13.164Z"
   },
   {
    "duration": 0,
    "start_time": "2023-04-07T04:21:13.165Z"
   },
   {
    "duration": 0,
    "start_time": "2023-04-07T04:21:13.166Z"
   },
   {
    "duration": 0,
    "start_time": "2023-04-07T04:21:13.168Z"
   },
   {
    "duration": 0,
    "start_time": "2023-04-07T04:21:13.170Z"
   },
   {
    "duration": 0,
    "start_time": "2023-04-07T04:21:13.171Z"
   },
   {
    "duration": 0,
    "start_time": "2023-04-07T04:21:13.173Z"
   },
   {
    "duration": 0,
    "start_time": "2023-04-07T04:21:13.204Z"
   },
   {
    "duration": 0,
    "start_time": "2023-04-07T04:21:13.205Z"
   },
   {
    "duration": 0,
    "start_time": "2023-04-07T04:21:13.206Z"
   },
   {
    "duration": 0,
    "start_time": "2023-04-07T04:21:13.207Z"
   },
   {
    "duration": 9,
    "start_time": "2023-04-07T04:22:24.233Z"
   },
   {
    "duration": 46,
    "start_time": "2023-04-07T04:22:24.325Z"
   },
   {
    "duration": 33,
    "start_time": "2023-04-07T04:22:24.414Z"
   },
   {
    "duration": 6,
    "start_time": "2023-04-07T04:22:25.436Z"
   },
   {
    "duration": 31,
    "start_time": "2023-04-07T04:22:25.445Z"
   },
   {
    "duration": 69,
    "start_time": "2023-04-07T04:22:25.477Z"
   },
   {
    "duration": 26,
    "start_time": "2023-04-07T04:22:25.548Z"
   },
   {
    "duration": 16,
    "start_time": "2023-04-07T04:22:25.576Z"
   },
   {
    "duration": 51,
    "start_time": "2023-04-07T04:22:25.594Z"
   },
   {
    "duration": 16,
    "start_time": "2023-04-07T04:22:26.918Z"
   },
   {
    "duration": 41,
    "start_time": "2023-04-07T04:22:26.936Z"
   },
   {
    "duration": 83,
    "start_time": "2023-04-07T04:22:26.979Z"
   },
   {
    "duration": 42,
    "start_time": "2023-04-07T04:22:27.607Z"
   },
   {
    "duration": 10,
    "start_time": "2023-04-07T04:22:27.651Z"
   },
   {
    "duration": 43,
    "start_time": "2023-04-07T04:22:27.663Z"
   },
   {
    "duration": 9,
    "start_time": "2023-04-07T04:22:29.040Z"
   },
   {
    "duration": 86,
    "start_time": "2023-04-07T04:22:29.051Z"
   },
   {
    "duration": 7577,
    "start_time": "2023-04-07T04:22:29.140Z"
   },
   {
    "duration": 1466,
    "start_time": "2023-04-07T09:44:10.311Z"
   },
   {
    "duration": 80,
    "start_time": "2023-04-07T09:44:13.577Z"
   },
   {
    "duration": 19,
    "start_time": "2023-04-07T09:44:14.032Z"
   },
   {
    "duration": 4,
    "start_time": "2023-04-07T09:44:14.498Z"
   },
   {
    "duration": 14,
    "start_time": "2023-04-07T09:44:14.913Z"
   },
   {
    "duration": 8,
    "start_time": "2023-04-07T09:44:15.384Z"
   },
   {
    "duration": 11,
    "start_time": "2023-04-07T09:44:15.784Z"
   },
   {
    "duration": 9,
    "start_time": "2023-04-07T09:44:17.946Z"
   },
   {
    "duration": 2,
    "start_time": "2023-04-07T09:44:19.322Z"
   },
   {
    "duration": 4,
    "start_time": "2023-04-07T09:44:24.839Z"
   },
   {
    "duration": 8,
    "start_time": "2023-04-07T09:44:26.014Z"
   },
   {
    "duration": 23,
    "start_time": "2023-04-07T09:44:27.213Z"
   },
   {
    "duration": 25,
    "start_time": "2023-04-07T09:44:29.440Z"
   },
   {
    "duration": 95,
    "start_time": "2023-04-07T09:44:30.858Z"
   },
   {
    "duration": 11,
    "start_time": "2023-04-07T09:44:31.418Z"
   },
   {
    "duration": 10,
    "start_time": "2023-04-07T09:44:46.488Z"
   },
   {
    "duration": 7,
    "start_time": "2023-04-07T09:44:49.284Z"
   },
   {
    "duration": 6,
    "start_time": "2023-04-07T09:44:53.790Z"
   },
   {
    "duration": 5158,
    "start_time": "2023-04-07T09:44:55.054Z"
   },
   {
    "duration": 222567,
    "start_time": "2023-04-07T09:45:04.043Z"
   },
   {
    "duration": 4915,
    "start_time": "2023-04-07T09:56:23.497Z"
   },
   {
    "duration": 1062,
    "start_time": "2023-04-07T09:56:30.287Z"
   },
   {
    "duration": 278,
    "start_time": "2023-04-07T09:56:43.508Z"
   },
   {
    "duration": 426,
    "start_time": "2023-04-07T09:56:47.613Z"
   },
   {
    "duration": 619,
    "start_time": "2023-04-07T09:56:56.284Z"
   },
   {
    "duration": 5,
    "start_time": "2023-04-07T09:57:03.952Z"
   },
   {
    "duration": 723,
    "start_time": "2023-04-07T09:57:09.655Z"
   },
   {
    "duration": 6,
    "start_time": "2023-04-07T09:57:31.167Z"
   },
   {
    "duration": 395,
    "start_time": "2023-04-07T09:57:42.832Z"
   },
   {
    "duration": 2,
    "start_time": "2023-04-07T09:58:03.805Z"
   },
   {
    "duration": 697,
    "start_time": "2023-04-07T09:58:20.225Z"
   },
   {
    "duration": 679,
    "start_time": "2023-04-07T10:00:00.995Z"
   },
   {
    "duration": 784,
    "start_time": "2023-04-07T10:00:11.259Z"
   },
   {
    "duration": 27,
    "start_time": "2023-04-07T10:00:16.427Z"
   },
   {
    "duration": 711,
    "start_time": "2023-04-07T10:00:20.449Z"
   },
   {
    "duration": 5,
    "start_time": "2023-04-07T10:53:43.627Z"
   },
   {
    "duration": 83,
    "start_time": "2023-04-07T10:53:46.419Z"
   },
   {
    "duration": 18,
    "start_time": "2023-04-07T10:53:46.886Z"
   },
   {
    "duration": 4,
    "start_time": "2023-04-07T10:53:47.761Z"
   },
   {
    "duration": 13,
    "start_time": "2023-04-07T10:53:48.340Z"
   },
   {
    "duration": 7,
    "start_time": "2023-04-07T10:53:49.039Z"
   },
   {
    "duration": 10,
    "start_time": "2023-04-07T10:53:49.831Z"
   },
   {
    "duration": 10,
    "start_time": "2023-04-07T10:53:57.982Z"
   },
   {
    "duration": 3,
    "start_time": "2023-04-07T10:54:00.914Z"
   },
   {
    "duration": 4,
    "start_time": "2023-04-07T10:54:33.665Z"
   },
   {
    "duration": 5,
    "start_time": "2023-04-07T10:54:36.668Z"
   },
   {
    "duration": 10,
    "start_time": "2023-04-07T10:54:41.327Z"
   },
   {
    "duration": 30,
    "start_time": "2023-04-07T10:54:51.968Z"
   },
   {
    "duration": 25,
    "start_time": "2023-04-07T10:55:29.623Z"
   },
   {
    "duration": 20,
    "start_time": "2023-04-07T10:55:30.868Z"
   },
   {
    "duration": 9,
    "start_time": "2023-04-07T10:55:47.231Z"
   },
   {
    "duration": 4,
    "start_time": "2023-04-07T10:56:05.025Z"
   },
   {
    "duration": 5984,
    "start_time": "2023-04-07T10:56:10.059Z"
   },
   {
    "duration": 239304,
    "start_time": "2023-04-07T10:56:58.619Z"
   },
   {
    "duration": 5170,
    "start_time": "2023-04-07T11:03:57.587Z"
   },
   {
    "duration": 1099,
    "start_time": "2023-04-07T11:04:09.932Z"
   },
   {
    "duration": 351,
    "start_time": "2023-04-07T11:05:50.348Z"
   },
   {
    "duration": 434,
    "start_time": "2023-04-07T11:05:54.357Z"
   },
   {
    "duration": 605,
    "start_time": "2023-04-07T11:06:16.316Z"
   },
   {
    "duration": 5,
    "start_time": "2023-04-07T11:06:23.015Z"
   },
   {
    "duration": 730,
    "start_time": "2023-04-07T11:06:28.028Z"
   },
   {
    "duration": 6,
    "start_time": "2023-04-07T11:06:43.069Z"
   },
   {
    "duration": 472,
    "start_time": "2023-04-07T11:06:48.445Z"
   },
   {
    "duration": 3,
    "start_time": "2023-04-07T11:07:15.466Z"
   },
   {
    "duration": 714,
    "start_time": "2023-04-07T11:07:30.924Z"
   },
   {
    "duration": 710,
    "start_time": "2023-04-07T11:08:50.412Z"
   },
   {
    "duration": 52,
    "start_time": "2023-04-07T14:58:14.828Z"
   },
   {
    "duration": 8,
    "start_time": "2023-04-07T14:58:18.449Z"
   },
   {
    "duration": 1633,
    "start_time": "2023-04-07T14:58:32.073Z"
   },
   {
    "duration": 164,
    "start_time": "2023-04-07T14:58:33.709Z"
   },
   {
    "duration": 20,
    "start_time": "2023-04-07T14:58:33.875Z"
   },
   {
    "duration": 3,
    "start_time": "2023-04-07T14:58:33.898Z"
   },
   {
    "duration": 17,
    "start_time": "2023-04-07T14:58:33.903Z"
   },
   {
    "duration": 9,
    "start_time": "2023-04-07T14:58:33.922Z"
   },
   {
    "duration": 12,
    "start_time": "2023-04-07T14:58:33.933Z"
   },
   {
    "duration": 44,
    "start_time": "2023-04-07T14:58:33.947Z"
   },
   {
    "duration": 3,
    "start_time": "2023-04-07T14:58:33.993Z"
   },
   {
    "duration": 7,
    "start_time": "2023-04-07T14:58:33.999Z"
   },
   {
    "duration": 11,
    "start_time": "2023-04-07T14:58:34.007Z"
   },
   {
    "duration": 27,
    "start_time": "2023-04-07T14:58:34.020Z"
   },
   {
    "duration": 55,
    "start_time": "2023-04-07T14:58:34.049Z"
   },
   {
    "duration": 11,
    "start_time": "2023-04-07T14:58:34.106Z"
   },
   {
    "duration": 10,
    "start_time": "2023-04-07T14:58:34.119Z"
   },
   {
    "duration": 9,
    "start_time": "2023-04-07T14:58:34.130Z"
   },
   {
    "duration": 6220,
    "start_time": "2023-04-07T14:58:34.140Z"
   },
   {
    "duration": 269581,
    "start_time": "2023-04-07T14:58:40.362Z"
   },
   {
    "duration": 6800,
    "start_time": "2023-04-07T15:03:09.945Z"
   },
   {
    "duration": 989,
    "start_time": "2023-04-07T15:03:16.747Z"
   },
   {
    "duration": 353,
    "start_time": "2023-04-07T15:03:17.738Z"
   },
   {
    "duration": 476,
    "start_time": "2023-04-07T15:03:18.093Z"
   },
   {
    "duration": 634,
    "start_time": "2023-04-07T15:03:18.571Z"
   },
   {
    "duration": 4,
    "start_time": "2023-04-07T15:03:19.207Z"
   },
   {
    "duration": 816,
    "start_time": "2023-04-07T15:03:19.213Z"
   },
   {
    "duration": 4,
    "start_time": "2023-04-07T15:03:20.031Z"
   },
   {
    "duration": 637,
    "start_time": "2023-04-07T15:03:20.036Z"
   },
   {
    "duration": 9,
    "start_time": "2023-04-07T15:03:20.678Z"
   },
   {
    "duration": 826,
    "start_time": "2023-04-07T15:03:20.690Z"
   },
   {
    "duration": 816,
    "start_time": "2023-04-07T15:03:21.517Z"
   },
   {
    "duration": 6,
    "start_time": "2023-04-07T15:03:22.335Z"
   },
   {
    "duration": 5,
    "start_time": "2023-04-07T15:09:48.845Z"
   },
   {
    "duration": 8,
    "start_time": "2023-04-07T15:11:04.516Z"
   },
   {
    "duration": 833,
    "start_time": "2023-04-07T15:11:20.217Z"
   }
  ],
  "kernelspec": {
   "display_name": "Python 3 (ipykernel)",
   "language": "python",
   "name": "python3"
  },
  "language_info": {
   "codemirror_mode": {
    "name": "ipython",
    "version": 3
   },
   "file_extension": ".py",
   "mimetype": "text/x-python",
   "name": "python",
   "nbconvert_exporter": "python",
   "pygments_lexer": "ipython3",
   "version": "3.10.9"
  },
  "toc": {
   "base_numbering": 1,
   "nav_menu": {},
   "number_sections": true,
   "sideBar": true,
   "skip_h1_title": true,
   "title_cell": "Содержание",
   "title_sidebar": "Contents",
   "toc_cell": true,
   "toc_position": {
    "height": "calc(100% - 180px)",
    "left": "10px",
    "top": "150px",
    "width": "321.35px"
   },
   "toc_section_display": true,
   "toc_window_display": true
  },
  "varInspector": {
   "cols": {
    "lenName": 16,
    "lenType": 16,
    "lenVar": 40
   },
   "kernels_config": {
    "python": {
     "delete_cmd_postfix": "",
     "delete_cmd_prefix": "del ",
     "library": "var_list.py",
     "varRefreshCmd": "print(var_dic_list())"
    },
    "r": {
     "delete_cmd_postfix": ") ",
     "delete_cmd_prefix": "rm(",
     "library": "var_list.r",
     "varRefreshCmd": "cat(var_dic_list()) "
    }
   },
   "types_to_exclude": [
    "module",
    "function",
    "builtin_function_or_method",
    "instance",
    "_Feature"
   ],
   "window_display": false
  }
 },
 "nbformat": 4,
 "nbformat_minor": 2
}
